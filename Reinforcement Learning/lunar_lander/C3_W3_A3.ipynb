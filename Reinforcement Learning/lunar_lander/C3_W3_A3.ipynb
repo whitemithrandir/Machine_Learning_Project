{
 "cells": [
  {
   "cell_type": "markdown",
   "metadata": {},
   "source": [
    "# Deep Q-Learning - Lunar Lander\n",
    "\n",
    "In this assignment, you will train an agent to land a lunar lander safely on a landing pad on the surface of the moon.\n",
    "\n",
    "\n",
    "# Outline\n",
    "- [ 1 - Import Packages <img align=\"Right\" src=\"./images/lunar_lander.gif\" width = 60% >](#1)\n",
    "- [ 2 - Hyperparameters](#2)\n",
    "- [ 3 - The Lunar Lander Environment](#3)\n",
    "  - [ 3.1 Action Space](#3.1)\n",
    "  - [ 3.2 Observation Space](#3.2)\n",
    "  - [ 3.3 Rewards](#3.3)\n",
    "  - [ 3.4 Episode Termination](#3.4)\n",
    "- [ 4 - Load the Environment](#4)\n",
    "- [ 5 - Interacting with the Gym Environment](#5)\n",
    "    - [ 5.1 Exploring the Environment's Dynamics](#5.1)\n",
    "- [ 6 - Deep Q-Learning](#6)\n",
    "  - [ 6.1 Target Network](#6.1)\n",
    "    - [ Exercise 1](#ex01)\n",
    "  - [ 6.2 Experience Replay](#6.2)\n",
    "- [ 7 - Deep Q-Learning Algorithm with Experience Replay](#7)\n",
    "  - [ Exercise 2](#ex02)\n",
    "- [ 8 - Update the Network Weights](#8)\n",
    "- [ 9 - Train the Agent](#9)\n",
    "- [ 10 - See the Trained Agent In Action](#10)\n",
    "- [ 11 - Congratulations!](#11)\n",
    "- [ 12 - References](#12)\n"
   ]
  },
  {
   "cell_type": "markdown",
   "metadata": {},
   "source": [
    "<a name=\"1\"></a>\n",
    "## 1 - Import Packages\n",
    "\n",
    "We'll make use of the following packages:\n",
    "- `numpy` is a package for scientific computing in python.\n",
    "- `deque` will be our data structure for our memory buffer.\n",
    "- `namedtuple` will be used to store the experience tuples.\n",
    "- The `gym` toolkit is a collection of environments that can be used to test reinforcement learning algorithms. We should note that in this notebook we are using `gym` version `0.24.0`.\n",
    "- `PIL.Image` and `pyvirtualdisplay` are needed to render the Lunar Lander environment.\n",
    "- We will use several modules from the `tensorflow.keras` framework for building deep learning models.\n",
    "- `utils` is a module that contains helper functions for this assignment. You do not need to modify the code in this file.\n",
    "\n",
    "Run the cell below to import all the necessary packages."
   ]
  },
  {
   "cell_type": "code",
   "execution_count": 1,
   "metadata": {
    "id": "KYbOPKRtfQOr"
   },
   "outputs": [],
   "source": [
    "import time\n",
    "from collections import deque, namedtuple\n",
    "\n",
    "import gym\n",
    "import numpy as np\n",
    "import PIL.Image\n",
    "import tensorflow as tf\n",
    "import utils\n",
    "\n",
    "from pyvirtualdisplay import Display\n",
    "from tensorflow.keras import Sequential\n",
    "from tensorflow.keras.layers import Dense, Input\n",
    "from tensorflow.keras.losses import MSE\n",
    "from tensorflow.keras.optimizers import Adam"
   ]
  },
  {
   "cell_type": "code",
   "execution_count": 2,
   "metadata": {},
   "outputs": [],
   "source": [
    "# Set up a virtual display to render the Lunar Lander environment.\n",
    "# Display(visible=0, size=(840, 480)).start();\n",
    "\n",
    "# Set the random seed for TensorFlow.\n",
    "tf.random.set_seed(utils.SEED)"
   ]
  },
  {
   "cell_type": "markdown",
   "metadata": {},
   "source": [
    "<a name=\"2\"></a>\n",
    "## 2 - Hyperparameters\n",
    "\n",
    "Run the cell below to set the hyperparameters."
   ]
  },
  {
   "cell_type": "code",
   "execution_count": 3,
   "metadata": {},
   "outputs": [],
   "source": [
    "MEMORY_SIZE = 100_000     # size of memory buffer.\n",
    "GAMMA = 0.995             # discount factor.\n",
    "ALPHA = 1e-6              # learning rate.\n",
    "NUM_STEPS_FOR_UPDATE = 4  # perform a learning update every C time steps."
   ]
  },
  {
   "cell_type": "markdown",
   "metadata": {},
   "source": [
    "<a name=\"3\"></a>\n",
    "## 3 - The Lunar Lander Environment\n",
    "\n",
    "In this notebook we will be using [OpenAI's Gym Library](https://www.gymlibrary.dev/). The Gym library provides a wide variety of environments for reinforcement learning. To put it simply, an environment represents a problem or task to be solved. In this notebook, we will try to solve the Lunar Lander environment using reinforcement learning.\n",
    "\n",
    "The goal of the Lunar Lander environment is to land the lunar lander safely on the landing pad on the surface of the moon. The landing pad is designated by two flag poles and it is always at coordinates `(0,0)` but the lander is also allowed to land outside of the landing pad. The lander starts at the top center of the environment with a random initial force applied to its center of mass and has infinite fuel. The environment is considered solved if you get `200` points. \n",
    "\n",
    "<br>\n",
    "<br>\n",
    "<figure>\n",
    "  <img src = \"images/lunar_lander.gif\" width = 40%>\n",
    "      <figcaption style = \"text-align: center; font-style: italic\">Fig 1. Lunar Lander Environment.</figcaption>\n",
    "</figure>\n",
    "\n",
    "\n",
    "\n",
    "<a name=\"3.1\"></a>\n",
    "### 3.1 Action Space\n",
    "\n",
    "The agent has four discrete actions available:\n",
    "\n",
    "* Do nothing.\n",
    "* Fire right engine.\n",
    "* Fire main engine.\n",
    "* Fire left engine.\n",
    "\n",
    "Each action has a corresponding numerical value:\n",
    "\n",
    "```python\n",
    "Do nothing = 0\n",
    "Fire right engine = 1\n",
    "Fire main engine = 2\n",
    "Fire left engine = 3\n",
    "```\n",
    "\n",
    "<a name=\"3.2\"></a>\n",
    "### 3.2 Observation Space\n",
    "\n",
    "The agent's observation space consists of a state vector with 8 variables:\n",
    "\n",
    "* Its $(x,y)$ coordinates. The landing pad is always at coordinates $(0,0)$.\n",
    "* Its linear velocities $(\\dot x,\\dot y)$.\n",
    "* Its angle $\\theta$.\n",
    "* Its angular velocity $\\dot \\theta$.\n",
    "* Two booleans, $l$ and $r$, that represent whether each leg is in contact with the ground or not.\n",
    "\n",
    "<a name=\"3.3\"></a>\n",
    "### 3.3 Rewards\n",
    "\n",
    "The Lunar Lander environment has the following reward system:\n",
    "\n",
    "* Landing on the landing pad and coming to rest is about 100-140 points.\n",
    "* If the lander moves away from the landing pad, it loses reward. \n",
    "* If the lander crashes, it receives -100 points.\n",
    "* If the lander comes to rest, it receives +100 points.\n",
    "* Each leg with ground contact is +10 points.\n",
    "* Firing the main engine is -0.3 points each frame.\n",
    "* Firing the side engine is -0.03 points each frame.\n",
    "\n",
    "<a name=\"3.4\"></a>\n",
    "### 3.4 Episode Termination\n",
    "\n",
    "An episode ends (i.e the environment enters a terminal state) if:\n",
    "\n",
    "* The lunar lander crashes (i.e if the body of the lunar lander comes in contact with the surface of the moon).\n",
    "\n",
    "* The absolute value of the lander's $x$-coordinate is greater than 1 (i.e. it goes beyond the left or right border)\n",
    "\n",
    "You can check out the [Open AI Gym documentation](https://www.gymlibrary.dev/environments/box2d/lunar_lander/) for a full description of the environment. "
   ]
  },
  {
   "cell_type": "markdown",
   "metadata": {},
   "source": [
    "<a name=\"4\"></a>\n",
    "## 4 - Load the Environment\n",
    "\n",
    "We start by loading the `LunarLander-v2` environment from the `gym` library by using the `.make()` method. `LunarLander-v2` is the latest version of the Lunar Lander environment and you can read about its version history in the [Open AI Gym documentation](https://www.gymlibrary.dev/environments/box2d/lunar_lander/#version-history)."
   ]
  },
  {
   "cell_type": "code",
   "execution_count": 4,
   "metadata": {
    "id": "ILVMYKewfR0n"
   },
   "outputs": [],
   "source": [
    "from gym.envs import box2d\n",
    "env = gym.make('LunarLander-v2')"
   ]
  },
  {
   "cell_type": "markdown",
   "metadata": {},
   "source": [
    "Once we load the environment we use the `.reset()` method to reset the environment to the initial state. The lander starts at the top center of the environment and we can render the first frame of the environment by using the `.render()` method."
   ]
  },
  {
   "cell_type": "code",
   "execution_count": 5,
   "metadata": {},
   "outputs": [
    {
     "name": "stderr",
     "output_type": "stream",
     "text": [
      "C:\\Users\\saban.kara.d\\Anaconda3\\lib\\site-packages\\pyglet\\image\\codecs\\wic.py:406: UserWarning: [WinError -2147417850] İş parçacığı modu kurulduktan sonra değiştirilemez\n",
      "  warnings.warn(str(err))\n"
     ]
    },
    {
     "data": {
      "image/png": "[encoded data removed]",
      "text/plain": [
       "<PIL.Image.Image image mode=RGB size=600x400 at 0x14CD23ADD00>"
      ]
     },
     "execution_count": 5,
     "metadata": {},
     "output_type": "execute_result"
    }
   ],
   "source": [
    "env.reset()\n",
    "PIL.Image.fromarray(env.render(mode='rgb_array'))"
   ]
  },
  {
   "cell_type": "markdown",
   "metadata": {},
   "source": [
    "In order to build our neural network later on we need to know the size of the state vector and the number of valid actions. We can get this information from our environment by using the `.observation_space.shape` and `action_space.n` methods, respectively."
   ]
  },
  {
   "cell_type": "code",
   "execution_count": 6,
   "metadata": {
    "id": "x3fdqdG4CUu2"
   },
   "outputs": [
    {
     "name": "stdout",
     "output_type": "stream",
     "text": [
      "State Shape: (8,)\n",
      "Number of actions: 4\n"
     ]
    }
   ],
   "source": [
    "state_size = env.observation_space.shape\n",
    "num_actions = env.action_space.n\n",
    "\n",
    "print('State Shape:', state_size)\n",
    "print('Number of actions:', num_actions)"
   ]
  },
  {
   "cell_type": "markdown",
   "metadata": {},
   "source": [
    "<a name=\"5\"></a>\n",
    "## 5 - Interacting with the Gym Environment\n",
    "\n",
    "The Gym library implements the standard “agent-environment loop” formalism:\n",
    "\n",
    "<br>\n",
    "<center>\n",
    "<video src = \"./videos/rl_formalism.m4v\" width=\"840\" height=\"480\" controls autoplay loop poster=\"./images/rl_formalism.png\"> </video>\n",
    "<figcaption style = \"text-align:center; font-style:italic\">Fig 2. Agent-environment Loop Formalism.</figcaption>\n",
    "</center>\n",
    "<br>\n",
    "\n",
    "In the standard “agent-environment loop” formalism, an agent interacts with the environment in discrete time steps $t=0,1,2,...$. At each time step $t$, the agent uses a policy $\\pi$ to select an action $A_t$ based on its observation of the environment's state $S_t$. The agent receives a numerical reward $R_t$ and on the next time step, moves to a new state $S_{t+1}$.\n",
    "\n",
    "<a name=\"5.1\"></a>\n",
    "### 5.1 Exploring the Environment's Dynamics\n",
    "\n",
    "In Open AI's Gym environments, we use the `.step()` method to run a single time step of the environment's dynamics. In the version of `gym` that we are using the `.step()` method accepts an action and returns four values:\n",
    "\n",
    "* `observation` (**object**): an environment-specific object representing your observation of the environment. In the Lunar Lander environment this corresponds to a numpy array containing the positions and velocities of the lander as described in section [3.2 Observation Space](#3.2).\n",
    "\n",
    "\n",
    "* `reward` (**float**): amount of reward returned as a result of taking the given action. In the Lunar Lander environment this corresponds to a float of type `numpy.float64` as described in section [3.3 Rewards](#3.3).\n",
    "\n",
    "\n",
    "* `done` (**boolean**): When done is `True`, it indicates the episode has terminated and it’s time to reset the environment. \n",
    "\n",
    "\n",
    "* `info` (**dictionary**): diagnostic information useful for debugging. We won't be using this variable in this notebook but it is shown here for completeness.\n",
    "\n",
    "To begin an episode, we need to reset the environment to an initial state. We do this by using the `.reset()` method. "
   ]
  },
  {
   "cell_type": "code",
   "execution_count": 7,
   "metadata": {},
   "outputs": [],
   "source": [
    "# Reset the environment and get the initial state.\n",
    "initial_state = env.reset()"
   ]
  },
  {
   "cell_type": "markdown",
   "metadata": {},
   "source": [
    "Once the environment is reset, the agent can start taking actions in the environment by using the `.step()` method. Note that the agent can only take one action per time step. \n",
    "\n",
    "In the cell below you can select different actions and see how the returned values change depending on the action taken. Remember that in this environment the agent has four discrete actions available and we specify them in code by using their corresponding numerical value:\n",
    "\n",
    "```python\n",
    "Do nothing = 0\n",
    "Fire right engine = 1\n",
    "Fire main engine = 2\n",
    "Fire left engine = 3\n",
    "```"
   ]
  },
  {
   "cell_type": "code",
   "execution_count": 8,
   "metadata": {},
   "outputs": [
    {
     "data": {
      "text/html": [
       "<table class=\"simpletable\">\n",
       "<tr>\n",
       "  <th>Initial State:</th>      <td>[-0.008 1.401 -0.808 -0.450 0.009 0.183 0.000 0.000]</td>\n",
       "</tr>\n",
       "<tr>\n",
       "  <th>Action:</th>                                  <td>Do nothing</td>                     \n",
       "</tr>\n",
       "<tr>\n",
       "  <th>Next State:</th>         <td>[-0.016 1.390 -0.807 -0.475 0.018 0.181 0.000 0.000]</td>\n",
       "</tr>\n",
       "<tr>\n",
       "  <th>Reward Received:</th>                           <td>-1.021</td>                       \n",
       "</tr>\n",
       "<tr>\n",
       "  <th>Episode Terminated:</th>                         <td>False</td>                       \n",
       "</tr>\n",
       "</table>"
      ],
      "text/plain": [
       "<class 'statsmodels.iolib.table.SimpleTable'>"
      ]
     },
     "execution_count": 8,
     "metadata": {},
     "output_type": "execute_result"
    }
   ],
   "source": [
    "# Select an action.\n",
    "action = 0\n",
    "\n",
    "# Run a single time step of the environment's dynamics with the given action.\n",
    "next_state, reward, done, _ = env.step(action)\n",
    "\n",
    "# Display table with values. All values are displayed to 3 decimal places.\n",
    "utils.display_table(initial_state, action, next_state, reward, done)"
   ]
  },
  {
   "cell_type": "markdown",
   "metadata": {},
   "source": [
    "In practice, when we train the agent we use a loop to allow the agent to take many consecutive actions during an episode."
   ]
  },
  {
   "cell_type": "markdown",
   "metadata": {},
   "source": [
    "<a name=\"6\"></a>\n",
    "## 6 - Deep Q-Learning\n",
    "\n",
    "In cases where both the state and action space are discrete we can estimate the action-value function iteratively by using the Bellman equation:\n",
    "\n",
    "$$\n",
    "Q_{i+1}(s,a) = R + \\gamma \\max_{a'}Q_i(s',a')\n",
    "$$\n",
    "\n",
    "This iterative method converges to the optimal action-value function $Q^*(s,a)$ as $i\\to\\infty$. This means that the agent just needs to gradually explore the state-action space and keep updating the estimate of $Q(s,a)$ until it converges to the optimal action-value function $Q^*(s,a)$. However, in cases where the state space is continuous it becomes practically impossible to explore the entire state-action space. Consequently, this also makes it practically impossible to gradually estimate $Q(s,a)$ until it converges to $Q^*(s,a)$.\n",
    "\n",
    "In the Deep $Q$-Learning, we solve this problem by using a neural network to estimate the action-value function $Q(s,a)\\approx Q^*(s,a)$. We call this neural network a $Q$-Network and it can be trained by adjusting its weights at each iteration to minimize the mean-squared error in the Bellman equation.\n",
    "\n",
    "Unfortunately, using neural networks in reinforcement learning to estimate action-value functions has proven to be highly unstable. Luckily, there's a couple of techniques that can be employed to avoid instabilities. These techniques consist of using a ***Target Network*** and ***Experience Replay***. We will explore these two techniques in the following sections."
   ]
  },
  {
   "cell_type": "markdown",
   "metadata": {},
   "source": [
    "<a name=\"6.1\"></a>\n",
    "### 6.1 Target Network\n",
    "\n",
    "We can train the $Q$-Network by adjusting it's weights at each iteration to minimize the mean-squared error in the Bellman equation, where the target values are given by:\n",
    "\n",
    "$$\n",
    "y = R + \\gamma \\max_{a'}Q(s',a';w)\n",
    "$$\n",
    "\n",
    "where $w$ are the weights of the $Q$-Network. This means that we are adjusting the weights $w$ at each iteration to minimize the following error:\n",
    "\n",
    "$$\n",
    "\\overbrace{\\underbrace{R + \\gamma \\max_{a'}Q(s',a'; w)}_{\\rm {y~target}} - Q(s,a;w)}^{\\rm {Error}}\n",
    "$$\n",
    "\n",
    "Notice that this forms a problem because the $y$ target is changing on every iteration. Having a constantly moving target can lead to oscillations and instabilities. To avoid this, we can create\n",
    "a separate neural network for generating the $y$ targets. We call this separate neural network the **target $\\hat Q$-Network** and it will have the same architecture as the original $Q$-Network. By using the target $\\hat Q$-Network, the above error becomes:\n",
    "\n",
    "$$\n",
    "\\overbrace{\\underbrace{R + \\gamma \\max_{a'}\\hat{Q}(s',a'; w^-)}_{\\rm {y~target}} - Q(s,a;w)}^{\\rm {Error}}\n",
    "$$\n",
    "\n",
    "where $w^-$ and $w$ are the weights the target $\\hat Q$-Network and $Q$-Network, respectively.\n",
    "\n",
    "In practice, we will use the following algorithm: every $C$ time steps we will use the $\\hat Q$-Network to generate the $y$ targets and update the weights of the target $\\hat Q$-Network using the weights of the $Q$-Network. We will update the weights $w^-$ of the the target $\\hat Q$-Network using a **soft update**. This means that we will update the weights $w^-$ using the following rule:\n",
    " \n",
    "$$\n",
    "w^-\\leftarrow \\tau w + (1 - \\tau) w^-\n",
    "$$\n",
    "\n",
    "where $\\tau\\ll 1$. By using the soft update, we are ensuring that the target values, $y$, change slowly, which greatly improves the stability of our learning algorithm."
   ]
  },
  {
   "cell_type": "markdown",
   "metadata": {},
   "source": [
    "<a name=\"ex01\"></a>\n",
    "### Exercise 1\n",
    "\n",
    "In this exercise you will create the $Q$ and target $\\hat Q$ networks and set the optimizer. Remember that the Deep $Q$-Network (DQN) is a neural network that approximates the action-value function $Q(s,a)\\approx Q^*(s,a)$. It does this by learning how to map states to $Q$ values.\n",
    "\n",
    "To solve the Lunar Lander environment, we are going to employ a DQN with the following architecture:\n",
    "\n",
    "* An `Input` layer that takes `state_size` as input.\n",
    "\n",
    "* A `Dense` layer with `64` units and a `relu` activation function.\n",
    "\n",
    "* A `Dense` layer with `64` units and a `relu` activation function.\n",
    "\n",
    "* A `Dense` layer with `num_actions` units and a `linear` activation function. This will be the output layer of our network.\n",
    "\n",
    "\n",
    "In the cell below you should create the $Q$-Network and the target $\\hat Q$-Network using the model architecture described above. Remember that both the $Q$-Network and the target $\\hat Q$-Network have the same architecture.\n",
    "\n",
    "Lastly, you should set `Adam` as the optimizer with a learning rate equal to `ALPHA`. Recall that `ALPHA` was defined in the [Hyperparameters](#2) section. We should note that for this exercise you should use the already imported packages:\n",
    "```python\n",
    "from tensorflow.keras.layers import Dense, Input\n",
    "from tensorflow.keras.optimizers import Adam\n",
    "```"
   ]
  },
  {
   "cell_type": "code",
   "execution_count": 9,
   "metadata": {},
   "outputs": [],
   "source": [
    "# UNQ_C1\n",
    "# GRADED CELL\n",
    "\n",
    "# Create the Q-Network.\n",
    "q_network = Sequential([\n",
    "    ### START CODE HERE ### \n",
    "    Input(shape=state_size),                      \n",
    "    Dense(units=64, activation='relu'),            \n",
    "    Dense(units=64, activation='relu'),            \n",
    "    Dense(units=num_actions, activation='linear'),\n",
    "    ### END CODE HERE ### \n",
    "    ])\n",
    "\n",
    "# Create the target Q^-Network.\n",
    "target_q_network = Sequential([\n",
    "    ### START CODE HERE ### \n",
    "    Input(shape=state_size),                      \n",
    "    Dense(units=64, activation='relu'),            \n",
    "    Dense(units=64, activation='relu'),            \n",
    "    Dense(units=num_actions, activation='linear'),\n",
    "    ### END CODE HERE ###\n",
    "    ])\n",
    "\n",
    "### START CODE HERE ### \n",
    "optimizer = Adam(learning_rate=ALPHA)\n",
    "### END CODE HERE ###"
   ]
  },
  {
   "cell_type": "code",
   "execution_count": 10,
   "metadata": {},
   "outputs": [
    {
     "name": "stdout",
     "output_type": "stream",
     "text": [
      "\u001b[92mAll tests passed!\n",
      "\u001b[92mAll tests passed!\n",
      "\u001b[92mAll tests passed!\n"
     ]
    }
   ],
   "source": [
    "# UNIT TEST\n",
    "from public_tests import *\n",
    "\n",
    "test_network(q_network)\n",
    "test_network(target_q_network)\n",
    "test_optimizer(optimizer, ALPHA) "
   ]
  },
  {
   "cell_type": "markdown",
   "metadata": {},
   "source": [
    "<details>\n",
    "  <summary><font size=\"3\" color=\"darkgreen\"><b>Click for hints</b></font></summary>\n",
    "    \n",
    "```python\n",
    "# Create the Q-Network.\n",
    "q_network = Sequential([\n",
    "    Input(shape=state_size),                      \n",
    "    Dense(units=64, activation='relu'),            \n",
    "    Dense(units=64, activation='relu'),            \n",
    "    Dense(units=num_actions, activation='linear'),\n",
    "    ])\n",
    "\n",
    "# Create the target Q^-Network.\n",
    "target_q_network = Sequential([\n",
    "    Input(shape=state_size),                       \n",
    "    Dense(units=64, activation='relu'),            \n",
    "    Dense(units=64, activation='relu'),            \n",
    "    Dense(units=num_actions, activation='linear'), \n",
    "    ])\n",
    "\n",
    "optimizer = Adam(learning_rate=ALPHA)                                  \n",
    "``` "
   ]
  },
  {
   "cell_type": "markdown",
   "metadata": {},
   "source": [
    "<a name=\"6.2\"></a>\n",
    "### 6.2 Experience Replay\n",
    "\n",
    "When an agent interacts with the environment, the states, actions, and rewards the agent experiences are sequential by nature. If the agent tries to learn from these consecutive experiences it can run into problems due to the strong correlations between them. To avoid this, we employ a technique known as **Experience Replay** to generate uncorrelated experiences for training our agent. Experience replay consists of storing the agent's experiences (i.e the states, actions, and rewards the agent receives) in a memory buffer and then sampling a random mini-batch of experiences from the buffer to do the learning. The experience tuples $(S_t, A_t, R_t, S_{t+1})$ will be added to the memory buffer at each time step as the agent interacts with the environment.\n",
    "\n",
    "For convenience, we will store the experiences as named tuples."
   ]
  },
  {
   "cell_type": "code",
   "execution_count": 11,
   "metadata": {},
   "outputs": [],
   "source": [
    "# Store experiences as named tuples.\n",
    "experience = namedtuple(\"Experience\", field_names=[\"state\", \"action\", \"reward\", \"next_state\", \"done\"])"
   ]
  },
  {
   "cell_type": "markdown",
   "metadata": {},
   "source": [
    "By using experience replay we avoid problematic correlations, oscillations and instabilities. In addition, experience replay also allows the agent to potentially use the same experience in multiple weight updates, which increases data efficiency."
   ]
  },
  {
   "cell_type": "markdown",
   "metadata": {},
   "source": [
    "<a name=\"7\"></a>\n",
    "## 7 - Deep Q-Learning Algorithm with Experience Replay\n",
    "\n",
    "Now that we know all the techniques that we are going to use, we can put them together to arrive at the Deep Q-Learning Algorithm With Experience Replay.\n",
    "<br>\n",
    "<br>\n",
    "<figure>\n",
    "  <img src = \"images/deep_q_algorithm.png\" width = 90% style = \"border: thin silver solid; padding: 0px\">\n",
    "      <figcaption style = \"text-align: center; font-style: italic\">Fig 3. Deep Q-Learning with Experience Replay.</figcaption>\n",
    "</figure>"
   ]
  },
  {
   "cell_type": "markdown",
   "metadata": {},
   "source": [
    "<a name=\"ex02\"></a>\n",
    "### Exercise 2\n",
    "\n",
    "In this exercise you will implement line ***12*** of the algorithm outlined in *Fig 3* above and you will also compute the loss between the $y$ targets and the $Q(s,a)$ values. In the cell below, complete the `compute_loss` function by setting the $y$ targets equal to:\n",
    "\n",
    "$$\n",
    "\\begin{equation}\n",
    "    y_j =\n",
    "    \\begin{cases}\n",
    "      R_j & \\text{if episode terminates at step  } j+1\\\\\n",
    "      R_j + \\gamma \\max_{a'}\\hat{Q}(s_{j+1},a') & \\text{otherwise}\\\\\n",
    "    \\end{cases}       \n",
    "\\end{equation}\n",
    "$$\n",
    "\n",
    "Here are a couple of things to note:\n",
    "\n",
    "* The `compute_loss` function takes in a mini-batch of experience tuples. This mini-batch of experience tuples is unpacked to extract the `states`, `actions`, `rewards`, `next_states`, and `done_vals`. You should keep in mind that these variables are *TensorFlow Tensors* whose size will depend on the mini-batch size. For example, if the mini-batch size is `64` then both `rewards` and `done_vals` will be TensorFlow Tensors with `64` elements.\n",
    "\n",
    "\n",
    "* Using `if/else` statements to set the $y$ targets will not work when the variables are tensors with many elements. However, notice that you can use the `done_vals` to implement the above in a single line of code. To do this, recall that the `done` variable is a Boolean variable that takes the value `True` when an episode terminates at step $j+1$ and it is `False` otherwise. Taking into account that a Boolean value of `True` has the numerical value of `1` and a Boolean value of `False` has the numerical value of `0`, you can use the factor `(1 - done_vals)` to implement the above in a single line of code. Here's a hint: notice that `(1 - done_vals)` has a value of `0` when `done_vals` is `True` and a value of `1` when `done_vals` is `False`. \n",
    "\n",
    "Lastly, compute the loss by calculating the Mean-Squared Error (`MSE`) between the `y_targets` and the `q_values`. To calculate the mean-squared error you should use the already imported package `MSE`:\n",
    "```python\n",
    "from tensorflow.keras.losses import MSE\n",
    "```"
   ]
  },
  {
   "cell_type": "code",
   "execution_count": 12,
   "metadata": {},
   "outputs": [],
   "source": [
    "# UNQ_C2\n",
    "# GRADED FUNCTION: calculate_loss\n",
    "\n",
    "def compute_loss(experiences, gamma, q_network, target_q_network):\n",
    "    \"\"\" \n",
    "    Calculates the loss.\n",
    "    \n",
    "    Args:\n",
    "      experiences: (tuple) tuple of [\"state\", \"action\", \"reward\", \"next_state\", \"done\"] namedtuples\n",
    "      gamma: (float) The discount factor.\n",
    "      q_network: (tf.keras.Sequential) Keras model for predicting the q_values\n",
    "      target_q_network: (tf.keras.Sequential) Keras model for predicting the targets\n",
    "          \n",
    "    Returns:\n",
    "      loss: (TensorFlow Tensor(shape=(0,), dtype=int32)) the Mean-Squared Error between\n",
    "            the y targets and the Q(s,a) values.\n",
    "    \"\"\"\n",
    "    \n",
    "    # Unpack the mini-batch of experience tuples.\n",
    "    states, actions, rewards, next_states, done_vals = experiences\n",
    "    \n",
    "    # Compute max Q^(s,a).\n",
    "    max_qsa = tf.reduce_max(target_q_network(next_states), axis=-1)\n",
    "    \n",
    "    # Set y = R if episode terminates, otherwise set y = R + γ max Q^(s,a).\n",
    "    ### START CODE HERE ### \n",
    "    y_targets = rewards + (gamma * max_qsa * (1 - done_vals))\n",
    "    ### END CODE HERE ###\n",
    "    \n",
    "    # Get the q_values.\n",
    "    q_values = q_network(states)\n",
    "    q_values = tf.gather_nd(q_values, tf.stack([tf.range(q_values.shape[0]),\n",
    "                                                tf.cast(actions, tf.int32)], axis=1))\n",
    "        \n",
    "    # Compute the loss.\n",
    "    ### START CODE HERE ### \n",
    "    loss = MSE(y_targets, q_values)\n",
    "    ### END CODE HERE ### \n",
    "    \n",
    "    return loss"
   ]
  },
  {
   "cell_type": "code",
   "execution_count": 13,
   "metadata": {},
   "outputs": [
    {
     "name": "stdout",
     "output_type": "stream",
     "text": [
      "\u001b[92mAll tests passed!\n"
     ]
    }
   ],
   "source": [
    "# UNIT TEST    \n",
    "test_compute_loss(compute_loss)"
   ]
  },
  {
   "cell_type": "markdown",
   "metadata": {},
   "source": [
    "<details>\n",
    "  <summary><font size=\"3\" color=\"darkgreen\"><b>Click for hints</b></font></summary>\n",
    "    \n",
    "```python\n",
    "def compute_loss(experiences, gamma, q_network, target_q_network):\n",
    "    \"\"\" \n",
    "    Calculates the loss.\n",
    "    \n",
    "    Args:\n",
    "      experiences: (tuple) tuple of [\"state\", \"action\", \"reward\", \"next_state\", \"done\"] namedtuples\n",
    "      gamma: (float) The discount factor.\n",
    "      q_network: (tf.keras.Sequential) Keras model for predicting the q_values\n",
    "      target_q_network: (tf.keras.Sequential) Keras model for predicting the targets\n",
    "          \n",
    "    Returns:\n",
    "      loss: (TensorFlow Tensor(shape=(0,), dtype=int32)) the Mean-Squared Error between\n",
    "            the y targets and the Q(s,a) values.\n",
    "    \"\"\"\n",
    "\n",
    "    \n",
    "    # Unpack the mini-batch of experience tuples.\n",
    "    states, actions, rewards, next_states, done_vals = experiences\n",
    "    \n",
    "    # Compute max Q^(s,a).\n",
    "    max_qsa = tf.reduce_max(target_q_network(next_states), axis=-1)\n",
    "    \n",
    "    # Set y = R if episode terminates, otherwise set y = R + γ max Q^(s,a).\n",
    "    y_targets = rewards + (gamma * max_qsa * (1 - done_vals))\n",
    "    \n",
    "    # Get the q_values.\n",
    "    q_values = q_network(states)\n",
    "    q_values = tf.gather_nd(q_values, tf.stack([tf.range(q_values.shape[0]),\n",
    "                                                tf.cast(actions, tf.int32)], axis=1))\n",
    "    \n",
    "    # Calculate the loss.\n",
    "    loss = MSE(y_targets, q_values)\n",
    "    \n",
    "    return loss\n",
    "\n",
    "``` \n",
    "    "
   ]
  },
  {
   "cell_type": "markdown",
   "metadata": {},
   "source": [
    "<a name=\"8\"></a>\n",
    "## 8 - Update the Network Weights\n",
    "\n",
    "We will use the `agent_learn` function below to implement lines ***12 -14*** of the algorithm outlined in [Fig 3](#7). The `agent_learn` function will update the weights of the $Q$ and target $\\hat Q$ networks using a custom training loop. Because we are using a custom training loop we need to retrieve the gradients via a `tf.GradientTape` instance, and then call `optimizer.apply_gradients()` to update the weights of our $Q$-Network. Note that we are also using the `@tf.function` decorator to increase performance. Without this decorator our training will take twice as long. If you would like to know more about how to increase performance with `@tf.function` take a look at the [TensorFlow documentation](https://www.tensorflow.org/guide/function).\n",
    "\n",
    "The last line of this function updates the weights of the target $\\hat Q$-Network using a [soft update](#6.1). If you want to know how this is implemented in code we encourage you to take a look at the `utils.update_target_network` function in the `utils` module."
   ]
  },
  {
   "cell_type": "code",
   "execution_count": 14,
   "metadata": {},
   "outputs": [],
   "source": [
    "@tf.function\n",
    "def agent_learn(experiences, gamma):\n",
    "    \"\"\"\n",
    "    Updates the weights of the Q networks.\n",
    "    \n",
    "    Args:\n",
    "      experiences: (tuple) tuple of [\"state\", \"action\", \"reward\", \"next_state\", \"done\"] namedtuples\n",
    "      gamma: (float) The discount factor.\n",
    "    \n",
    "    \"\"\"\n",
    "    \n",
    "    # Calculate the loss.\n",
    "    with tf.GradientTape() as tape:\n",
    "        loss = compute_loss(experiences, gamma, q_network, target_q_network)\n",
    "\n",
    "    # Get the gradients of the loss with respect to the weights.\n",
    "    gradients = tape.gradient(loss, q_network.trainable_variables)\n",
    "    \n",
    "    # Update the weights of the q_network.\n",
    "    optimizer.apply_gradients(zip(gradients, q_network.trainable_variables))\n",
    "\n",
    "    # update the weights of target q_network.\n",
    "    utils.update_target_network(q_network, target_q_network)"
   ]
  },
  {
   "cell_type": "markdown",
   "metadata": {},
   "source": [
    "<a name=\"9\"></a>\n",
    "## 9 - Train the Agent\n",
    "\n",
    "We are now ready to train our agent to solve the Lunar Lander environment. In the cell below we will implement the algorithm in [Fig 3](#7) line by line (please note that we have included the same algorithm below for easy reference. This will prevent you from scrolling up and down the notebook):\n",
    "\n",
    "* **Line 1**: We initialize the `memory_buffer` with a capacity of $N =$ `MEMORY_SIZE`. Notice that we are using a `deque` as the data structure for our `memory_buffer`.\n",
    "\n",
    "\n",
    "* **Line 2**: We skip this line since we already initialized the `q_network` in [Exercise 1](#ex01).\n",
    "\n",
    "\n",
    "* **Line 3**: We initialize the `target_q_network` by setting its weights to be equal to those of the `q_network`.\n",
    "\n",
    "\n",
    "* **Line 4**: We start the outer loop. Notice that we have set $M =$ `num_episodes = 2000`. This number is reasonable because the agent should be able to solve the Lunar Lander environment in less than `2000` episodes using this notebook's default parameters.\n",
    "\n",
    "\n",
    "* **Line 5**: We use the `.reset()` method to reset the environment to the initial state and get the initial state.\n",
    "\n",
    "\n",
    "* **Line 6**: We start the inner loop. Notice that we have set $T =$ `max_num_timesteps = 1000`. This means that the episode will automatically terminate if the episode hasn't terminated after `1000` time steps.\n",
    "\n",
    "\n",
    "* **Line 7**: The agent observes the current `state` and chooses an `action` using an $\\epsilon$-greedy policy. Our agent starts out using a value of $\\epsilon =$ `epsilon = 1` which yields an $\\epsilon$-greedy policy that is equivalent to the equiprobable random policy. This means that at the beginning of our training, the agent is just going to take random actions regardless of the observed `state`. As training progresses we will decrease the value of $\\epsilon$ slowly towards a minimum value using a given $\\epsilon$-decay rate. We want this minimum value to be close to zero because a value of $\\epsilon = 0$ will yield an $\\epsilon$-greedy policy that is equivalent to the greedy policy. This means that towards the end of training, the agent will lean towards selecting the `action` that it believes (based on its past experiences) will maximize $Q(s,a)$. We will set the minimum $\\epsilon$ value to be `0.01` and not exactly 0 because we always want to keep a little bit of exploration during training. If you want to know how this is implemented in code we encourage you to take a look at the `utils.get_action` function in the `utils` module.\n",
    "\n",
    "\n",
    "* **Line 8**: We use the `.step()` method to take the given `action` in the environment and get the `reward` and the `next_state`. \n",
    "\n",
    "\n",
    "* **Line 9**: We store the `experience(state, action, reward, next_state, done)` tuple in our `memory_buffer`. Notice that we also store the `done` variable so that we can keep track of when an episode terminates. This allowed us to set the $y$ targets in [Exercise 2](#ex02).\n",
    "\n",
    "\n",
    "* **Line 10**: We check if the conditions are met to perform a learning update. We do this by using our custom `utils.check_update_conditions` function. This function checks if $C =$ `NUM_STEPS_FOR_UPDATE = 4` time steps have occured and if our `memory_buffer` has enough experience tuples to fill a mini-batch. For example, if the mini-batch size is `64`, then our `memory_buffer` should have more than `64` experience tuples in order to pass the latter condition. If the conditions are met, then the `utils.check_update_conditions` function will return a value of `True`, otherwise it will return a value of `False`.\n",
    "\n",
    "\n",
    "* **Lines 11 - 14**: If the `update` variable is `True` then we perform a learning update. The learning update consists of sampling a random mini-batch of experience tuples from our `memory_buffer`, setting the $y$ targets, performing gradient descent, and updating the weights of the networks. We will use the `agent_learn` function we defined in [Section 8](#8) to perform the latter 3.\n",
    "\n",
    "\n",
    "* **Line 15**: At the end of each iteration of the inner loop we set `next_state` as our new `state` so that the loop can start again from this new state. In addition, we check if the episode has reached a terminal state (i.e we check if `done = True`). If a terminal state has been reached, then we break out of the inner loop.\n",
    "\n",
    "\n",
    "* **Line 16**: At the end of each iteration of the outer loop we update the value of $\\epsilon$, and check if the environment has been solved. We consider that the environment has been solved if the agent receives an average of `200` points in the last `100` episodes. If the environment has not been solved we continue the outer loop and start a new episode.\n",
    "\n",
    "Finally, we wanted to note that we have included some extra variables to keep track of the total number of points the agent received in each episode. This will help us determine if the agent has solved the environment and it will also allow us to see how our agent performed during training. We also use the `time` module to measure how long the training takes. \n",
    "\n",
    "<br>\n",
    "<br>\n",
    "<figure>\n",
    "  <img src = \"images/deep_q_algorithm.png\" width = 90% style = \"border: thin silver solid; padding: 0px\">\n",
    "      <figcaption style = \"text-align: center; font-style: italic\">Fig 4. Deep Q-Learning with Experience Replay.</figcaption>\n",
    "</figure>\n",
    "<br>\n",
    "\n",
    "**Note:** With this notebook's default parameters, the following cell takes between 10 to 15 minutes to run. "
   ]
  },
  {
   "cell_type": "code",
   "execution_count": 15,
   "metadata": {},
   "outputs": [
    {
     "name": "stdout",
     "output_type": "stream",
     "text": [
      "Episode 100 | Total point average of the last 100 episodes: -295.79\n",
      "Episode 200 | Total point average of the last 100 episodes: -448.24\n",
      "Episode 300 | Total point average of the last 100 episodes: -483.37\n",
      "Episode 400 | Total point average of the last 100 episodes: -363.81\n",
      "Episode 500 | Total point average of the last 100 episodes: -257.91\n",
      "Episode 600 | Total point average of the last 100 episodes: -271.65\n",
      "Episode 700 | Total point average of the last 100 episodes: -265.00\n",
      "Episode 800 | Total point average of the last 100 episodes: -279.09\n",
      "Episode 900 | Total point average of the last 100 episodes: -272.76\n",
      "Episode 1000 | Total point average of the last 100 episodes: -292.40\n",
      "Episode 1100 | Total point average of the last 100 episodes: -273.49\n",
      "Episode 1200 | Total point average of the last 100 episodes: -293.69\n",
      "Episode 1300 | Total point average of the last 100 episodes: -343.02\n",
      "Episode 1400 | Total point average of the last 100 episodes: -406.72\n",
      "Episode 1500 | Total point average of the last 100 episodes: -534.44\n",
      "Episode 1600 | Total point average of the last 100 episodes: -396.92\n",
      "Episode 1700 | Total point average of the last 100 episodes: -261.99\n",
      "Episode 1800 | Total point average of the last 100 episodes: -164.11\n",
      "Episode 1900 | Total point average of the last 100 episodes: -191.61\n",
      "Episode 2000 | Total point average of the last 100 episodes: -203.93\n",
      "\n",
      "Total Runtime: 337.87 s (5.63 min)\n"
     ]
    }
   ],
   "source": [
    "start = time.time()\n",
    "\n",
    "num_episodes = 2000\n",
    "max_num_timesteps = 1000\n",
    "\n",
    "total_point_history = []\n",
    "\n",
    "num_p_av = 100    # number of total points to use for averaging.\n",
    "epsilon = 1.0     # initial ε value for ε-greedy policy.\n",
    "\n",
    "# Create a memory buffer D with capacity N.\n",
    "memory_buffer = deque(maxlen=MEMORY_SIZE)\n",
    "\n",
    "# Set the target network weights equal to the Q-Network weights.\n",
    "target_q_network.set_weights(q_network.get_weights())\n",
    "\n",
    "for i in range(num_episodes):\n",
    "    \n",
    "    # Reset the environment to the initial state and get the initial state.\n",
    "    state = env.reset()\n",
    "    total_points = 0\n",
    "    \n",
    "    for t in range(max_num_timesteps):\n",
    "        \n",
    "        # From the current state S choose an action A using an ε-greedy policy.\n",
    "        state_qn = np.expand_dims(state, axis=0)  # state needs to be the right shape for the q_network.\n",
    "        q_values = q_network(state_qn)\n",
    "        action = utils.get_action(q_values, epsilon)\n",
    "        \n",
    "        # Take action A and receive reward R and the next state S'.\n",
    "        next_state, reward, done, _ = env.step(action)\n",
    "        \n",
    "        # Store experience tuple (S,A,R,S') in the memory buffer.\n",
    "        # We store the done variable as well for convenience.\n",
    "        memory_buffer.append(experience(state, action, reward, next_state, done))\n",
    "        \n",
    "        # Only update the network every NUM_STEPS_FOR_UPDATE time steps.\n",
    "        update = utils.check_update_conditions(t, NUM_STEPS_FOR_UPDATE, memory_buffer)\n",
    "        \n",
    "        if update:\n",
    "            # Sample random mini-batch of experience tuples (S,A,R,S') from D.\n",
    "            experiences = utils.get_experiences(memory_buffer)\n",
    "            \n",
    "            # Set the y targets, perform a gradient descent step,\n",
    "            # and update the network weights.\n",
    "            agent_learn(experiences, GAMMA)\n",
    "        \n",
    "        state = next_state.copy()\n",
    "        total_points += reward\n",
    "        \n",
    "        if done:\n",
    "            break\n",
    "            \n",
    "    total_point_history.append(total_points)\n",
    "    av_latest_points = np.mean(total_point_history[-num_p_av:])\n",
    "    \n",
    "    # Update the ε value.\n",
    "    epsilon = utils.get_new_eps(epsilon)\n",
    "\n",
    "    print(f\"\\rEpisode {i+1} | Total point average of the last {num_p_av} episodes: {av_latest_points:.2f}\", end=\"\")\n",
    "\n",
    "    if (i+1) % num_p_av == 0:\n",
    "        print(f\"\\rEpisode {i+1} | Total point average of the last {num_p_av} episodes: {av_latest_points:.2f}\")\n",
    "\n",
    "    # We will consider that the environment is solved if we get an\n",
    "    # average of 200 points in the last 100 episodes.\n",
    "    if av_latest_points >= 200.0:\n",
    "        print(f\"\\n\\nEnvironment solved in {i+1} episodes!\")\n",
    "        q_network.save('lunar_lander_model.h5')\n",
    "        break\n",
    "        \n",
    "tot_time = time.time() - start\n",
    "\n",
    "print(f\"\\nTotal Runtime: {tot_time:.2f} s ({(tot_time/60):.2f} min)\")"
   ]
  },
  {
   "cell_type": "markdown",
   "metadata": {},
   "source": [
    "We can plot the total point history along with the moving average to see how our agent improved during training. If you want to know about the different plotting options available in the `utils.plot_history` function we encourage you to take a look at the `utils` module."
   ]
  },
  {
   "cell_type": "code",
   "execution_count": 16,
   "metadata": {
    "id": "E_EUXxurfe8m",
    "scrolled": false
   },
   "outputs": [
    {
     "data": {
      "image/png": "[encoded data removed]",
      "text/plain": [
       "<Figure size 720x504 with 1 Axes>"
      ]
     },
     "metadata": {},
     "output_type": "display_data"
    }
   ],
   "source": [
    "# Plot the total point history along with the moving average.\n",
    "utils.plot_history(total_point_history)"
   ]
  },
  {
   "cell_type": "markdown",
   "metadata": {
    "id": "c_xwgaX5MnYt"
   },
   "source": [
    "<a name=\"10\"></a>\n",
    "## 10 - See the Trained Agent In Action\n",
    "\n",
    "Now that we have trained our agent, we can see it in action. We will use the `utils.create_video` function to create a video of our agent interacting with the environment using the trained $Q$-Network. The `utils.create_video` function uses the `imageio` library to create the video. This library produces some warnings that can be distracting, so, to suppress these warnings we run the code below."
   ]
  },
  {
   "cell_type": "code",
   "execution_count": 17,
   "metadata": {},
   "outputs": [],
   "source": [
    "# Suppress warnings from imageio.\n",
    "import logging\n",
    "logging.getLogger().setLevel(logging.ERROR)"
   ]
  },
  {
   "cell_type": "markdown",
   "metadata": {},
   "source": [
    "In the cell below we create a video of our agent interacting with the Lunar Lander environment using the trained `q_network`. The video is saved to the `videos` folder with the given `filename`. We use the `utils.embed_mp4` function to embed the video in the Jupyter Notebook so that we can see it here directly without having to download it.\n",
    "\n",
    "We should note that since the lunar lander starts with a random initial force applied to its center of mass, every time you run the cell below you will see a different video. If the agent was trained properly, it should be able to land the lunar lander in the landing pad every time, regardless of the initial force applied to its center of mass."
   ]
  },
  {
   "cell_type": "code",
   "execution_count": 18,
   "metadata": {
    "id": "3Ttb_zLeJKiG"
   },
   "outputs": [
    {
     "data": {
      "text/html": [
       "\n",
       "    <video width=\"840\" height=\"480\" controls>\n",
       "    <source src=\"data:video/mp4;base64,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\" type=\"video/mp4\">\n",
       "    Your browser does not support the video tag.\n",
       "    </video>"
      ],
      "text/plain": [
       "<IPython.core.display.HTML object>"
      ]
     },
     "execution_count": 18,
     "metadata": {},
     "output_type": "execute_result"
    }
   ],
   "source": [
    "filename = \"./videos/lunar_lander3.mp4\"\n",
    "\n",
    "utils.create_video(filename, env, q_network)\n",
    "utils.embed_mp4(filename)"
   ]
  },
  {
   "cell_type": "markdown",
   "metadata": {},
   "source": [
    "<a name=\"11\"></a>\n",
    "## 11 - Congratulations!\n",
    "\n",
    "You have successfully used Deep Q-Learning with Experience Replay to train an agent to land a lunar lander safely on a landing pad on the surface of the moon. Congratulations!"
   ]
  },
  {
   "cell_type": "markdown",
   "metadata": {},
   "source": [
    "<a name=\"12\"></a>\n",
    "## 12 - References\n",
    "\n",
    "If you would like to learn more about Deep Q-Learning, we recommend you check out the following papers.\n",
    "\n",
    "\n",
    "* Mnih, V., Kavukcuoglu, K., Silver, D. et al. Human-level control through deep reinforcement learning. Nature 518, 529–533 (2015).\n",
    "\n",
    "\n",
    "* Lillicrap, T. P., Hunt, J. J., Pritzel, A., et al. Continuous Control with Deep Reinforcement Learning. ICLR (2016).\n",
    "\n",
    "\n",
    "* Mnih, V., Kavukcuoglu, K., Silver, D. et al. Playing Atari with Deep Reinforcement Learning. arXiv e-prints.  arXiv:1312.5602 (2013)."
   ]
  },
  {
   "cell_type": "code",
   "execution_count": null,
   "metadata": {},
   "outputs": [],
   "source": []
  }
 ],
 "metadata": {
  "accelerator": "GPU",
  "colab": {
   "collapsed_sections": [],
   "name": "TensorFlow - Lunar Lander.ipynb",
   "provenance": []
  },
  "kernelspec": {
   "display_name": "Python 3 (ipykernel)",
   "language": "python",
   "name": "python3"
  },
  "language_info": {
   "codemirror_mode": {
    "name": "ipython",
    "version": 3
   },
   "file_extension": ".py",
   "mimetype": "text/x-python",
   "name": "python",
   "nbconvert_exporter": "python",
   "pygments_lexer": "ipython3",
   "version": "3.9.7"
  }
 },
 "nbformat": 4,
 "nbformat_minor": 1
}
