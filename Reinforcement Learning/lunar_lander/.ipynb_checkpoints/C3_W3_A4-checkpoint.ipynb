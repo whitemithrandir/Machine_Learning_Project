{
 "cells": [
  {
   "cell_type": "markdown",
   "metadata": {},
   "source": [
    "# Deep Q-Learning - Lunar Lander\n",
    "\n",
    "In this assignment, you will train an agent to land a lunar lander safely on a landing pad on the surface of the moon.\n",
    "\n",
    "\n",
    "# Outline\n",
    "- [ 1 - Import Packages <img align=\"Right\" src=\"./images/lunar_lander.gif\" width = 60% >](#1)\n",
    "- [ 2 - Hyperparameters](#2)\n",
    "- [ 3 - The Lunar Lander Environment](#3)\n",
    "  - [ 3.1 Action Space](#3.1)\n",
    "  - [ 3.2 Observation Space](#3.2)\n",
    "  - [ 3.3 Rewards](#3.3)\n",
    "  - [ 3.4 Episode Termination](#3.4)\n",
    "- [ 4 - Load the Environment](#4)\n",
    "- [ 5 - Interacting with the Gym Environment](#5)\n",
    "    - [ 5.1 Exploring the Environment's Dynamics](#5.1)\n",
    "- [ 6 - Deep Q-Learning](#6)\n",
    "  - [ 6.1 Target Network](#6.1)\n",
    "    - [ Exercise 1](#ex01)\n",
    "  - [ 6.2 Experience Replay](#6.2)\n",
    "- [ 7 - Deep Q-Learning Algorithm with Experience Replay](#7)\n",
    "  - [ Exercise 2](#ex02)\n",
    "- [ 8 - Update the Network Weights](#8)\n",
    "- [ 9 - Train the Agent](#9)\n",
    "- [ 10 - See the Trained Agent In Action](#10)\n",
    "- [ 11 - Congratulations!](#11)\n",
    "- [ 12 - References](#12)\n"
   ]
  },
  {
   "cell_type": "markdown",
   "metadata": {},
   "source": [
    "<a name=\"1\"></a>\n",
    "## 1 - Import Packages\n",
    "\n",
    "We'll make use of the following packages:\n",
    "- `numpy` is a package for scientific computing in python.\n",
    "- `deque` will be our data structure for our memory buffer.\n",
    "- `namedtuple` will be used to store the experience tuples.\n",
    "- The `gym` toolkit is a collection of environments that can be used to test reinforcement learning algorithms. We should note that in this notebook we are using `gym` version `0.24.0`.\n",
    "- `PIL.Image` and `pyvirtualdisplay` are needed to render the Lunar Lander environment.\n",
    "- We will use several modules from the `tensorflow.keras` framework for building deep learning models.\n",
    "- `utils` is a module that contains helper functions for this assignment. You do not need to modify the code in this file.\n",
    "\n",
    "Run the cell below to import all the necessary packages."
   ]
  },
  {
   "cell_type": "code",
   "execution_count": 1,
   "metadata": {
    "id": "KYbOPKRtfQOr"
   },
   "outputs": [],
   "source": [
    "import time\n",
    "from collections import deque, namedtuple\n",
    "\n",
    "import gym\n",
    "import numpy as np\n",
    "import PIL.Image\n",
    "import tensorflow as tf\n",
    "import utils\n",
    "\n",
    "from pyvirtualdisplay import Display\n",
    "from tensorflow.keras import Sequential\n",
    "from tensorflow.keras.layers import Dense, Input\n",
    "from tensorflow.keras.losses import MSE\n",
    "from tensorflow.keras.optimizers import Adam"
   ]
  },
  {
   "cell_type": "code",
   "execution_count": 2,
   "metadata": {},
   "outputs": [],
   "source": [
    "# Set up a virtual display to render the Lunar Lander environment.\n",
    "# Display(visible=0, size=(840, 480)).start();\n",
    "\n",
    "# Set the random seed for TensorFlow.\n",
    "tf.random.set_seed(utils.SEED)"
   ]
  },
  {
   "cell_type": "markdown",
   "metadata": {},
   "source": [
    "<a name=\"2\"></a>\n",
    "## 2 - Hyperparameters\n",
    "\n",
    "Run the cell below to set the hyperparameters."
   ]
  },
  {
   "cell_type": "code",
   "execution_count": 3,
   "metadata": {},
   "outputs": [],
   "source": [
    "MEMORY_SIZE = 100_000     # size of memory buffer.\n",
    "GAMMA = 0.995             # discount factor.\n",
    "ALPHA = 1e-3             # learning rate.\n",
    "NUM_STEPS_FOR_UPDATE = 8  # perform a learning update every C time steps."
   ]
  },
  {
   "cell_type": "markdown",
   "metadata": {},
   "source": [
    "<a name=\"3\"></a>\n",
    "## 3 - The Lunar Lander Environment\n",
    "\n",
    "In this notebook we will be using [OpenAI's Gym Library](https://www.gymlibrary.dev/). The Gym library provides a wide variety of environments for reinforcement learning. To put it simply, an environment represents a problem or task to be solved. In this notebook, we will try to solve the Lunar Lander environment using reinforcement learning.\n",
    "\n",
    "The goal of the Lunar Lander environment is to land the lunar lander safely on the landing pad on the surface of the moon. The landing pad is designated by two flag poles and it is always at coordinates `(0,0)` but the lander is also allowed to land outside of the landing pad. The lander starts at the top center of the environment with a random initial force applied to its center of mass and has infinite fuel. The environment is considered solved if you get `200` points. \n",
    "\n",
    "<br>\n",
    "<br>\n",
    "<figure>\n",
    "  <img src = \"images/lunar_lander.gif\" width = 40%>\n",
    "      <figcaption style = \"text-align: center; font-style: italic\">Fig 1. Lunar Lander Environment.</figcaption>\n",
    "</figure>\n",
    "\n",
    "\n",
    "\n",
    "<a name=\"3.1\"></a>\n",
    "### 3.1 Action Space\n",
    "\n",
    "The agent has four discrete actions available:\n",
    "\n",
    "* Do nothing.\n",
    "* Fire right engine.\n",
    "* Fire main engine.\n",
    "* Fire left engine.\n",
    "\n",
    "Each action has a corresponding numerical value:\n",
    "\n",
    "```python\n",
    "Do nothing = 0\n",
    "Fire right engine = 1\n",
    "Fire main engine = 2\n",
    "Fire left engine = 3\n",
    "```\n",
    "\n",
    "<a name=\"3.2\"></a>\n",
    "### 3.2 Observation Space\n",
    "\n",
    "The agent's observation space consists of a state vector with 8 variables:\n",
    "\n",
    "* Its $(x,y)$ coordinates. The landing pad is always at coordinates $(0,0)$.\n",
    "* Its linear velocities $(\\dot x,\\dot y)$.\n",
    "* Its angle $\\theta$.\n",
    "* Its angular velocity $\\dot \\theta$.\n",
    "* Two booleans, $l$ and $r$, that represent whether each leg is in contact with the ground or not.\n",
    "\n",
    "<a name=\"3.3\"></a>\n",
    "### 3.3 Rewards\n",
    "\n",
    "The Lunar Lander environment has the following reward system:\n",
    "\n",
    "* Landing on the landing pad and coming to rest is about 100-140 points.\n",
    "* If the lander moves away from the landing pad, it loses reward. \n",
    "* If the lander crashes, it receives -100 points.\n",
    "* If the lander comes to rest, it receives +100 points.\n",
    "* Each leg with ground contact is +10 points.\n",
    "* Firing the main engine is -0.3 points each frame.\n",
    "* Firing the side engine is -0.03 points each frame.\n",
    "\n",
    "<a name=\"3.4\"></a>\n",
    "### 3.4 Episode Termination\n",
    "\n",
    "An episode ends (i.e the environment enters a terminal state) if:\n",
    "\n",
    "* The lunar lander crashes (i.e if the body of the lunar lander comes in contact with the surface of the moon).\n",
    "\n",
    "* The absolute value of the lander's $x$-coordinate is greater than 1 (i.e. it goes beyond the left or right border)\n",
    "\n",
    "You can check out the [Open AI Gym documentation](https://www.gymlibrary.dev/environments/box2d/lunar_lander/) for a full description of the environment. "
   ]
  },
  {
   "cell_type": "markdown",
   "metadata": {},
   "source": [
    "<a name=\"4\"></a>\n",
    "## 4 - Load the Environment\n",
    "\n",
    "We start by loading the `LunarLander-v2` environment from the `gym` library by using the `.make()` method. `LunarLander-v2` is the latest version of the Lunar Lander environment and you can read about its version history in the [Open AI Gym documentation](https://www.gymlibrary.dev/environments/box2d/lunar_lander/#version-history)."
   ]
  },
  {
   "cell_type": "code",
   "execution_count": 4,
   "metadata": {
    "id": "ILVMYKewfR0n"
   },
   "outputs": [],
   "source": [
    "from gym.envs import box2d\n",
    "env = gym.make('LunarLander-v2')"
   ]
  },
  {
   "cell_type": "markdown",
   "metadata": {},
   "source": [
    "Once we load the environment we use the `.reset()` method to reset the environment to the initial state. The lander starts at the top center of the environment and we can render the first frame of the environment by using the `.render()` method."
   ]
  },
  {
   "cell_type": "code",
   "execution_count": 5,
   "metadata": {},
   "outputs": [
    {
     "name": "stderr",
     "output_type": "stream",
     "text": [
      "C:\\Users\\saban.kara.d\\Anaconda3\\lib\\site-packages\\pyglet\\image\\codecs\\wic.py:406: UserWarning: [WinError -2147417850] İş parçacığı modu kurulduktan sonra değiştirilemez\n",
      "  warnings.warn(str(err))\n"
     ]
    },
    {
     "data": {
      "image/png": "[encoded data removed]",
      "text/plain": [
       "<PIL.Image.Image image mode=RGB size=600x400 at 0x2275A7985E0>"
      ]
     },
     "execution_count": 5,
     "metadata": {},
     "output_type": "execute_result"
    }
   ],
   "source": [
    "env.reset()\n",
    "PIL.Image.fromarray(env.render(mode='rgb_array'))"
   ]
  },
  {
   "cell_type": "markdown",
   "metadata": {},
   "source": [
    "In order to build our neural network later on we need to know the size of the state vector and the number of valid actions. We can get this information from our environment by using the `.observation_space.shape` and `action_space.n` methods, respectively."
   ]
  },
  {
   "cell_type": "code",
   "execution_count": 6,
   "metadata": {
    "id": "x3fdqdG4CUu2"
   },
   "outputs": [
    {
     "name": "stdout",
     "output_type": "stream",
     "text": [
      "State Shape: (8,)\n",
      "Number of actions: 4\n"
     ]
    }
   ],
   "source": [
    "state_size = env.observation_space.shape\n",
    "num_actions = env.action_space.n\n",
    "\n",
    "print('State Shape:', state_size)\n",
    "print('Number of actions:', num_actions)"
   ]
  },
  {
   "cell_type": "markdown",
   "metadata": {},
   "source": [
    "<a name=\"5\"></a>\n",
    "## 5 - Interacting with the Gym Environment\n",
    "\n",
    "The Gym library implements the standard “agent-environment loop” formalism:\n",
    "\n",
    "<br>\n",
    "<center>\n",
    "<video src = \"./videos/rl_formalism.m4v\" width=\"840\" height=\"480\" controls autoplay loop poster=\"./images/rl_formalism.png\"> </video>\n",
    "<figcaption style = \"text-align:center; font-style:italic\">Fig 2. Agent-environment Loop Formalism.</figcaption>\n",
    "</center>\n",
    "<br>\n",
    "\n",
    "In the standard “agent-environment loop” formalism, an agent interacts with the environment in discrete time steps $t=0,1,2,...$. At each time step $t$, the agent uses a policy $\\pi$ to select an action $A_t$ based on its observation of the environment's state $S_t$. The agent receives a numerical reward $R_t$ and on the next time step, moves to a new state $S_{t+1}$.\n",
    "\n",
    "<a name=\"5.1\"></a>\n",
    "### 5.1 Exploring the Environment's Dynamics\n",
    "\n",
    "In Open AI's Gym environments, we use the `.step()` method to run a single time step of the environment's dynamics. In the version of `gym` that we are using the `.step()` method accepts an action and returns four values:\n",
    "\n",
    "* `observation` (**object**): an environment-specific object representing your observation of the environment. In the Lunar Lander environment this corresponds to a numpy array containing the positions and velocities of the lander as described in section [3.2 Observation Space](#3.2).\n",
    "\n",
    "\n",
    "* `reward` (**float**): amount of reward returned as a result of taking the given action. In the Lunar Lander environment this corresponds to a float of type `numpy.float64` as described in section [3.3 Rewards](#3.3).\n",
    "\n",
    "\n",
    "* `done` (**boolean**): When done is `True`, it indicates the episode has terminated and it’s time to reset the environment. \n",
    "\n",
    "\n",
    "* `info` (**dictionary**): diagnostic information useful for debugging. We won't be using this variable in this notebook but it is shown here for completeness.\n",
    "\n",
    "To begin an episode, we need to reset the environment to an initial state. We do this by using the `.reset()` method. "
   ]
  },
  {
   "cell_type": "code",
   "execution_count": 7,
   "metadata": {},
   "outputs": [],
   "source": [
    "# Reset the environment and get the initial state.\n",
    "initial_state = env.reset()"
   ]
  },
  {
   "cell_type": "markdown",
   "metadata": {},
   "source": [
    "Once the environment is reset, the agent can start taking actions in the environment by using the `.step()` method. Note that the agent can only take one action per time step. \n",
    "\n",
    "In the cell below you can select different actions and see how the returned values change depending on the action taken. Remember that in this environment the agent has four discrete actions available and we specify them in code by using their corresponding numerical value:\n",
    "\n",
    "```python\n",
    "Do nothing = 0\n",
    "Fire right engine = 1\n",
    "Fire main engine = 2\n",
    "Fire left engine = 3\n",
    "```"
   ]
  },
  {
   "cell_type": "code",
   "execution_count": 8,
   "metadata": {},
   "outputs": [
    {
     "data": {
      "text/html": [
       "<table class=\"simpletable\">\n",
       "<tr>\n",
       "  <th>Initial State:</th>      <td>[-0.002 1.406 -0.228 -0.201 0.003 0.052 0.000 0.000]</td>\n",
       "</tr>\n",
       "<tr>\n",
       "  <th>Action:</th>                                  <td>Do nothing</td>                     \n",
       "</tr>\n",
       "<tr>\n",
       "  <th>Next State:</th>         <td>[-0.005 1.401 -0.228 -0.227 0.005 0.051 0.000 0.000]</td>\n",
       "</tr>\n",
       "<tr>\n",
       "  <th>Reward Received:</th>                           <td>-1.478</td>                       \n",
       "</tr>\n",
       "<tr>\n",
       "  <th>Episode Terminated:</th>                         <td>False</td>                       \n",
       "</tr>\n",
       "</table>"
      ],
      "text/plain": [
       "<class 'statsmodels.iolib.table.SimpleTable'>"
      ]
     },
     "execution_count": 8,
     "metadata": {},
     "output_type": "execute_result"
    }
   ],
   "source": [
    "# Select an action.\n",
    "action = 0\n",
    "\n",
    "# Run a single time step of the environment's dynamics with the given action.\n",
    "next_state, reward, done, _ = env.step(action)\n",
    "\n",
    "# Display table with values. All values are displayed to 3 decimal places.\n",
    "utils.display_table(initial_state, action, next_state, reward, done)"
   ]
  },
  {
   "cell_type": "markdown",
   "metadata": {},
   "source": [
    "In practice, when we train the agent we use a loop to allow the agent to take many consecutive actions during an episode."
   ]
  },
  {
   "cell_type": "markdown",
   "metadata": {},
   "source": [
    "<a name=\"6\"></a>\n",
    "## 6 - Deep Q-Learning\n",
    "\n",
    "In cases where both the state and action space are discrete we can estimate the action-value function iteratively by using the Bellman equation:\n",
    "\n",
    "$$\n",
    "Q_{i+1}(s,a) = R + \\gamma \\max_{a'}Q_i(s',a')\n",
    "$$\n",
    "\n",
    "This iterative method converges to the optimal action-value function $Q^*(s,a)$ as $i\\to\\infty$. This means that the agent just needs to gradually explore the state-action space and keep updating the estimate of $Q(s,a)$ until it converges to the optimal action-value function $Q^*(s,a)$. However, in cases where the state space is continuous it becomes practically impossible to explore the entire state-action space. Consequently, this also makes it practically impossible to gradually estimate $Q(s,a)$ until it converges to $Q^*(s,a)$.\n",
    "\n",
    "In the Deep $Q$-Learning, we solve this problem by using a neural network to estimate the action-value function $Q(s,a)\\approx Q^*(s,a)$. We call this neural network a $Q$-Network and it can be trained by adjusting its weights at each iteration to minimize the mean-squared error in the Bellman equation.\n",
    "\n",
    "Unfortunately, using neural networks in reinforcement learning to estimate action-value functions has proven to be highly unstable. Luckily, there's a couple of techniques that can be employed to avoid instabilities. These techniques consist of using a ***Target Network*** and ***Experience Replay***. We will explore these two techniques in the following sections."
   ]
  },
  {
   "cell_type": "markdown",
   "metadata": {},
   "source": [
    "<a name=\"6.1\"></a>\n",
    "### 6.1 Target Network\n",
    "\n",
    "We can train the $Q$-Network by adjusting it's weights at each iteration to minimize the mean-squared error in the Bellman equation, where the target values are given by:\n",
    "\n",
    "$$\n",
    "y = R + \\gamma \\max_{a'}Q(s',a';w)\n",
    "$$\n",
    "\n",
    "where $w$ are the weights of the $Q$-Network. This means that we are adjusting the weights $w$ at each iteration to minimize the following error:\n",
    "\n",
    "$$\n",
    "\\overbrace{\\underbrace{R + \\gamma \\max_{a'}Q(s',a'; w)}_{\\rm {y~target}} - Q(s,a;w)}^{\\rm {Error}}\n",
    "$$\n",
    "\n",
    "Notice that this forms a problem because the $y$ target is changing on every iteration. Having a constantly moving target can lead to oscillations and instabilities. To avoid this, we can create\n",
    "a separate neural network for generating the $y$ targets. We call this separate neural network the **target $\\hat Q$-Network** and it will have the same architecture as the original $Q$-Network. By using the target $\\hat Q$-Network, the above error becomes:\n",
    "\n",
    "$$\n",
    "\\overbrace{\\underbrace{R + \\gamma \\max_{a'}\\hat{Q}(s',a'; w^-)}_{\\rm {y~target}} - Q(s,a;w)}^{\\rm {Error}}\n",
    "$$\n",
    "\n",
    "where $w^-$ and $w$ are the weights the target $\\hat Q$-Network and $Q$-Network, respectively.\n",
    "\n",
    "In practice, we will use the following algorithm: every $C$ time steps we will use the $\\hat Q$-Network to generate the $y$ targets and update the weights of the target $\\hat Q$-Network using the weights of the $Q$-Network. We will update the weights $w^-$ of the the target $\\hat Q$-Network using a **soft update**. This means that we will update the weights $w^-$ using the following rule:\n",
    " \n",
    "$$\n",
    "w^-\\leftarrow \\tau w + (1 - \\tau) w^-\n",
    "$$\n",
    "\n",
    "where $\\tau\\ll 1$. By using the soft update, we are ensuring that the target values, $y$, change slowly, which greatly improves the stability of our learning algorithm."
   ]
  },
  {
   "cell_type": "markdown",
   "metadata": {},
   "source": [
    "<a name=\"ex01\"></a>\n",
    "### Exercise 1\n",
    "\n",
    "In this exercise you will create the $Q$ and target $\\hat Q$ networks and set the optimizer. Remember that the Deep $Q$-Network (DQN) is a neural network that approximates the action-value function $Q(s,a)\\approx Q^*(s,a)$. It does this by learning how to map states to $Q$ values.\n",
    "\n",
    "To solve the Lunar Lander environment, we are going to employ a DQN with the following architecture:\n",
    "\n",
    "* An `Input` layer that takes `state_size` as input.\n",
    "\n",
    "* A `Dense` layer with `64` units and a `relu` activation function.\n",
    "\n",
    "* A `Dense` layer with `64` units and a `relu` activation function.\n",
    "\n",
    "* A `Dense` layer with `num_actions` units and a `linear` activation function. This will be the output layer of our network.\n",
    "\n",
    "\n",
    "In the cell below you should create the $Q$-Network and the target $\\hat Q$-Network using the model architecture described above. Remember that both the $Q$-Network and the target $\\hat Q$-Network have the same architecture.\n",
    "\n",
    "Lastly, you should set `Adam` as the optimizer with a learning rate equal to `ALPHA`. Recall that `ALPHA` was defined in the [Hyperparameters](#2) section. We should note that for this exercise you should use the already imported packages:\n",
    "```python\n",
    "from tensorflow.keras.layers import Dense, Input\n",
    "from tensorflow.keras.optimizers import Adam\n",
    "```"
   ]
  },
  {
   "cell_type": "code",
   "execution_count": 9,
   "metadata": {},
   "outputs": [],
   "source": [
    "# UNQ_C1\n",
    "# GRADED CELL\n",
    "\n",
    "# Create the Q-Network.\n",
    "q_network = Sequential([\n",
    "    ### START CODE HERE ### \n",
    "    Input(shape=state_size),                      \n",
    "    Dense(units=64, activation='relu'),            \n",
    "    Dense(units=64, activation='relu'),            \n",
    "    Dense(units=num_actions, activation='linear'),\n",
    "    ### END CODE HERE ### \n",
    "    ])\n",
    "\n",
    "# Create the target Q^-Network.\n",
    "target_q_network = Sequential([\n",
    "    ### START CODE HERE ### \n",
    "    Input(shape=state_size),                      \n",
    "    Dense(units=64, activation='relu'),            \n",
    "    Dense(units=64, activation='relu'),            \n",
    "    Dense(units=num_actions, activation='linear'),\n",
    "    ### END CODE HERE ###\n",
    "    ])\n",
    "\n",
    "### START CODE HERE ### \n",
    "optimizer = Adam(learning_rate=ALPHA)\n",
    "### END CODE HERE ###"
   ]
  },
  {
   "cell_type": "code",
   "execution_count": 10,
   "metadata": {},
   "outputs": [
    {
     "name": "stdout",
     "output_type": "stream",
     "text": [
      "\u001b[92mAll tests passed!\n",
      "\u001b[92mAll tests passed!\n",
      "\u001b[92mAll tests passed!\n"
     ]
    }
   ],
   "source": [
    "# UNIT TEST\n",
    "from public_tests import *\n",
    "\n",
    "test_network(q_network)\n",
    "test_network(target_q_network)\n",
    "test_optimizer(optimizer, ALPHA) "
   ]
  },
  {
   "cell_type": "markdown",
   "metadata": {},
   "source": [
    "<details>\n",
    "  <summary><font size=\"3\" color=\"darkgreen\"><b>Click for hints</b></font></summary>\n",
    "    \n",
    "```python\n",
    "# Create the Q-Network.\n",
    "q_network = Sequential([\n",
    "    Input(shape=state_size),                      \n",
    "    Dense(units=64, activation='relu'),            \n",
    "    Dense(units=64, activation='relu'),            \n",
    "    Dense(units=num_actions, activation='linear'),\n",
    "    ])\n",
    "\n",
    "# Create the target Q^-Network.\n",
    "target_q_network = Sequential([\n",
    "    Input(shape=state_size),                       \n",
    "    Dense(units=64, activation='relu'),            \n",
    "    Dense(units=64, activation='relu'),            \n",
    "    Dense(units=num_actions, activation='linear'), \n",
    "    ])\n",
    "\n",
    "optimizer = Adam(learning_rate=ALPHA)                                  \n",
    "``` "
   ]
  },
  {
   "cell_type": "markdown",
   "metadata": {},
   "source": [
    "<a name=\"6.2\"></a>\n",
    "### 6.2 Experience Replay\n",
    "\n",
    "When an agent interacts with the environment, the states, actions, and rewards the agent experiences are sequential by nature. If the agent tries to learn from these consecutive experiences it can run into problems due to the strong correlations between them. To avoid this, we employ a technique known as **Experience Replay** to generate uncorrelated experiences for training our agent. Experience replay consists of storing the agent's experiences (i.e the states, actions, and rewards the agent receives) in a memory buffer and then sampling a random mini-batch of experiences from the buffer to do the learning. The experience tuples $(S_t, A_t, R_t, S_{t+1})$ will be added to the memory buffer at each time step as the agent interacts with the environment.\n",
    "\n",
    "For convenience, we will store the experiences as named tuples."
   ]
  },
  {
   "cell_type": "code",
   "execution_count": 11,
   "metadata": {},
   "outputs": [],
   "source": [
    "# Store experiences as named tuples.\n",
    "experience = namedtuple(\"Experience\", field_names=[\"state\", \"action\", \"reward\", \"next_state\", \"done\"])"
   ]
  },
  {
   "cell_type": "markdown",
   "metadata": {},
   "source": [
    "By using experience replay we avoid problematic correlations, oscillations and instabilities. In addition, experience replay also allows the agent to potentially use the same experience in multiple weight updates, which increases data efficiency."
   ]
  },
  {
   "cell_type": "markdown",
   "metadata": {},
   "source": [
    "<a name=\"7\"></a>\n",
    "## 7 - Deep Q-Learning Algorithm with Experience Replay\n",
    "\n",
    "Now that we know all the techniques that we are going to use, we can put them together to arrive at the Deep Q-Learning Algorithm With Experience Replay.\n",
    "<br>\n",
    "<br>\n",
    "<figure>\n",
    "  <img src = \"images/deep_q_algorithm.png\" width = 90% style = \"border: thin silver solid; padding: 0px\">\n",
    "      <figcaption style = \"text-align: center; font-style: italic\">Fig 3. Deep Q-Learning with Experience Replay.</figcaption>\n",
    "</figure>"
   ]
  },
  {
   "cell_type": "markdown",
   "metadata": {},
   "source": [
    "<a name=\"ex02\"></a>\n",
    "### Exercise 2\n",
    "\n",
    "In this exercise you will implement line ***12*** of the algorithm outlined in *Fig 3* above and you will also compute the loss between the $y$ targets and the $Q(s,a)$ values. In the cell below, complete the `compute_loss` function by setting the $y$ targets equal to:\n",
    "\n",
    "$$\n",
    "\\begin{equation}\n",
    "    y_j =\n",
    "    \\begin{cases}\n",
    "      R_j & \\text{if episode terminates at step  } j+1\\\\\n",
    "      R_j + \\gamma \\max_{a'}\\hat{Q}(s_{j+1},a') & \\text{otherwise}\\\\\n",
    "    \\end{cases}       \n",
    "\\end{equation}\n",
    "$$\n",
    "\n",
    "Here are a couple of things to note:\n",
    "\n",
    "* The `compute_loss` function takes in a mini-batch of experience tuples. This mini-batch of experience tuples is unpacked to extract the `states`, `actions`, `rewards`, `next_states`, and `done_vals`. You should keep in mind that these variables are *TensorFlow Tensors* whose size will depend on the mini-batch size. For example, if the mini-batch size is `64` then both `rewards` and `done_vals` will be TensorFlow Tensors with `64` elements.\n",
    "\n",
    "\n",
    "* Using `if/else` statements to set the $y$ targets will not work when the variables are tensors with many elements. However, notice that you can use the `done_vals` to implement the above in a single line of code. To do this, recall that the `done` variable is a Boolean variable that takes the value `True` when an episode terminates at step $j+1$ and it is `False` otherwise. Taking into account that a Boolean value of `True` has the numerical value of `1` and a Boolean value of `False` has the numerical value of `0`, you can use the factor `(1 - done_vals)` to implement the above in a single line of code. Here's a hint: notice that `(1 - done_vals)` has a value of `0` when `done_vals` is `True` and a value of `1` when `done_vals` is `False`. \n",
    "\n",
    "Lastly, compute the loss by calculating the Mean-Squared Error (`MSE`) between the `y_targets` and the `q_values`. To calculate the mean-squared error you should use the already imported package `MSE`:\n",
    "```python\n",
    "from tensorflow.keras.losses import MSE\n",
    "```"
   ]
  },
  {
   "cell_type": "code",
   "execution_count": 12,
   "metadata": {},
   "outputs": [],
   "source": [
    "# UNQ_C2\n",
    "# GRADED FUNCTION: calculate_loss\n",
    "\n",
    "def compute_loss(experiences, gamma, q_network, target_q_network):\n",
    "    \"\"\" \n",
    "    Calculates the loss.\n",
    "    \n",
    "    Args:\n",
    "      experiences: (tuple) tuple of [\"state\", \"action\", \"reward\", \"next_state\", \"done\"] namedtuples\n",
    "      gamma: (float) The discount factor.\n",
    "      q_network: (tf.keras.Sequential) Keras model for predicting the q_values\n",
    "      target_q_network: (tf.keras.Sequential) Keras model for predicting the targets\n",
    "          \n",
    "    Returns:\n",
    "      loss: (TensorFlow Tensor(shape=(0,), dtype=int32)) the Mean-Squared Error between\n",
    "            the y targets and the Q(s,a) values.\n",
    "    \"\"\"\n",
    "    \n",
    "    # Unpack the mini-batch of experience tuples.\n",
    "    states, actions, rewards, next_states, done_vals = experiences\n",
    "    \n",
    "    # Compute max Q^(s,a).\n",
    "    max_qsa = tf.reduce_max(target_q_network(next_states), axis=-1)\n",
    "    \n",
    "    # Set y = R if episode terminates, otherwise set y = R + γ max Q^(s,a).\n",
    "    ### START CODE HERE ### \n",
    "    y_targets = rewards + (gamma * max_qsa * (1 - done_vals))\n",
    "    ### END CODE HERE ###\n",
    "    \n",
    "    # Get the q_values.\n",
    "    q_values = q_network(states)\n",
    "    q_values = tf.gather_nd(q_values, tf.stack([tf.range(q_values.shape[0]),\n",
    "                                                tf.cast(actions, tf.int32)], axis=1))\n",
    "        \n",
    "    # Compute the loss.\n",
    "    ### START CODE HERE ### \n",
    "    loss = MSE(y_targets, q_values)\n",
    "    ### END CODE HERE ### \n",
    "    \n",
    "    return loss"
   ]
  },
  {
   "cell_type": "code",
   "execution_count": 13,
   "metadata": {},
   "outputs": [
    {
     "name": "stdout",
     "output_type": "stream",
     "text": [
      "\u001b[92mAll tests passed!\n"
     ]
    }
   ],
   "source": [
    "# UNIT TEST    \n",
    "test_compute_loss(compute_loss)"
   ]
  },
  {
   "cell_type": "markdown",
   "metadata": {},
   "source": [
    "<details>\n",
    "  <summary><font size=\"3\" color=\"darkgreen\"><b>Click for hints</b></font></summary>\n",
    "    \n",
    "```python\n",
    "def compute_loss(experiences, gamma, q_network, target_q_network):\n",
    "    \"\"\" \n",
    "    Calculates the loss.\n",
    "    \n",
    "    Args:\n",
    "      experiences: (tuple) tuple of [\"state\", \"action\", \"reward\", \"next_state\", \"done\"] namedtuples\n",
    "      gamma: (float) The discount factor.\n",
    "      q_network: (tf.keras.Sequential) Keras model for predicting the q_values\n",
    "      target_q_network: (tf.keras.Sequential) Keras model for predicting the targets\n",
    "          \n",
    "    Returns:\n",
    "      loss: (TensorFlow Tensor(shape=(0,), dtype=int32)) the Mean-Squared Error between\n",
    "            the y targets and the Q(s,a) values.\n",
    "    \"\"\"\n",
    "\n",
    "    \n",
    "    # Unpack the mini-batch of experience tuples.\n",
    "    states, actions, rewards, next_states, done_vals = experiences\n",
    "    \n",
    "    # Compute max Q^(s,a).\n",
    "    max_qsa = tf.reduce_max(target_q_network(next_states), axis=-1)\n",
    "    \n",
    "    # Set y = R if episode terminates, otherwise set y = R + γ max Q^(s,a).\n",
    "    y_targets = rewards + (gamma * max_qsa * (1 - done_vals))\n",
    "    \n",
    "    # Get the q_values.\n",
    "    q_values = q_network(states)\n",
    "    q_values = tf.gather_nd(q_values, tf.stack([tf.range(q_values.shape[0]),\n",
    "                                                tf.cast(actions, tf.int32)], axis=1))\n",
    "    \n",
    "    # Calculate the loss.\n",
    "    loss = MSE(y_targets, q_values)\n",
    "    \n",
    "    return loss\n",
    "\n",
    "``` \n",
    "    "
   ]
  },
  {
   "cell_type": "markdown",
   "metadata": {},
   "source": [
    "<a name=\"8\"></a>\n",
    "## 8 - Update the Network Weights\n",
    "\n",
    "We will use the `agent_learn` function below to implement lines ***12 -14*** of the algorithm outlined in [Fig 3](#7). The `agent_learn` function will update the weights of the $Q$ and target $\\hat Q$ networks using a custom training loop. Because we are using a custom training loop we need to retrieve the gradients via a `tf.GradientTape` instance, and then call `optimizer.apply_gradients()` to update the weights of our $Q$-Network. Note that we are also using the `@tf.function` decorator to increase performance. Without this decorator our training will take twice as long. If you would like to know more about how to increase performance with `@tf.function` take a look at the [TensorFlow documentation](https://www.tensorflow.org/guide/function).\n",
    "\n",
    "The last line of this function updates the weights of the target $\\hat Q$-Network using a [soft update](#6.1). If you want to know how this is implemented in code we encourage you to take a look at the `utils.update_target_network` function in the `utils` module."
   ]
  },
  {
   "cell_type": "code",
   "execution_count": 14,
   "metadata": {},
   "outputs": [],
   "source": [
    "@tf.function\n",
    "def agent_learn(experiences, gamma):\n",
    "    \"\"\"\n",
    "    Updates the weights of the Q networks.\n",
    "    \n",
    "    Args:\n",
    "      experiences: (tuple) tuple of [\"state\", \"action\", \"reward\", \"next_state\", \"done\"] namedtuples\n",
    "      gamma: (float) The discount factor.\n",
    "    \n",
    "    \"\"\"\n",
    "    \n",
    "    # Calculate the loss.\n",
    "    with tf.GradientTape() as tape:\n",
    "        loss = compute_loss(experiences, gamma, q_network, target_q_network)\n",
    "\n",
    "    # Get the gradients of the loss with respect to the weights.\n",
    "    gradients = tape.gradient(loss, q_network.trainable_variables)\n",
    "    \n",
    "    # Update the weights of the q_network.\n",
    "    optimizer.apply_gradients(zip(gradients, q_network.trainable_variables))\n",
    "\n",
    "    # update the weights of target q_network.\n",
    "    utils.update_target_network(q_network, target_q_network)"
   ]
  },
  {
   "cell_type": "markdown",
   "metadata": {},
   "source": [
    "<a name=\"9\"></a>\n",
    "## 9 - Train the Agent\n",
    "\n",
    "We are now ready to train our agent to solve the Lunar Lander environment. In the cell below we will implement the algorithm in [Fig 3](#7) line by line (please note that we have included the same algorithm below for easy reference. This will prevent you from scrolling up and down the notebook):\n",
    "\n",
    "* **Line 1**: We initialize the `memory_buffer` with a capacity of $N =$ `MEMORY_SIZE`. Notice that we are using a `deque` as the data structure for our `memory_buffer`.\n",
    "\n",
    "\n",
    "* **Line 2**: We skip this line since we already initialized the `q_network` in [Exercise 1](#ex01).\n",
    "\n",
    "\n",
    "* **Line 3**: We initialize the `target_q_network` by setting its weights to be equal to those of the `q_network`.\n",
    "\n",
    "\n",
    "* **Line 4**: We start the outer loop. Notice that we have set $M =$ `num_episodes = 2000`. This number is reasonable because the agent should be able to solve the Lunar Lander environment in less than `2000` episodes using this notebook's default parameters.\n",
    "\n",
    "\n",
    "* **Line 5**: We use the `.reset()` method to reset the environment to the initial state and get the initial state.\n",
    "\n",
    "\n",
    "* **Line 6**: We start the inner loop. Notice that we have set $T =$ `max_num_timesteps = 1000`. This means that the episode will automatically terminate if the episode hasn't terminated after `1000` time steps.\n",
    "\n",
    "\n",
    "* **Line 7**: The agent observes the current `state` and chooses an `action` using an $\\epsilon$-greedy policy. Our agent starts out using a value of $\\epsilon =$ `epsilon = 1` which yields an $\\epsilon$-greedy policy that is equivalent to the equiprobable random policy. This means that at the beginning of our training, the agent is just going to take random actions regardless of the observed `state`. As training progresses we will decrease the value of $\\epsilon$ slowly towards a minimum value using a given $\\epsilon$-decay rate. We want this minimum value to be close to zero because a value of $\\epsilon = 0$ will yield an $\\epsilon$-greedy policy that is equivalent to the greedy policy. This means that towards the end of training, the agent will lean towards selecting the `action` that it believes (based on its past experiences) will maximize $Q(s,a)$. We will set the minimum $\\epsilon$ value to be `0.01` and not exactly 0 because we always want to keep a little bit of exploration during training. If you want to know how this is implemented in code we encourage you to take a look at the `utils.get_action` function in the `utils` module.\n",
    "\n",
    "\n",
    "* **Line 8**: We use the `.step()` method to take the given `action` in the environment and get the `reward` and the `next_state`. \n",
    "\n",
    "\n",
    "* **Line 9**: We store the `experience(state, action, reward, next_state, done)` tuple in our `memory_buffer`. Notice that we also store the `done` variable so that we can keep track of when an episode terminates. This allowed us to set the $y$ targets in [Exercise 2](#ex02).\n",
    "\n",
    "\n",
    "* **Line 10**: We check if the conditions are met to perform a learning update. We do this by using our custom `utils.check_update_conditions` function. This function checks if $C =$ `NUM_STEPS_FOR_UPDATE = 4` time steps have occured and if our `memory_buffer` has enough experience tuples to fill a mini-batch. For example, if the mini-batch size is `64`, then our `memory_buffer` should have more than `64` experience tuples in order to pass the latter condition. If the conditions are met, then the `utils.check_update_conditions` function will return a value of `True`, otherwise it will return a value of `False`.\n",
    "\n",
    "\n",
    "* **Lines 11 - 14**: If the `update` variable is `True` then we perform a learning update. The learning update consists of sampling a random mini-batch of experience tuples from our `memory_buffer`, setting the $y$ targets, performing gradient descent, and updating the weights of the networks. We will use the `agent_learn` function we defined in [Section 8](#8) to perform the latter 3.\n",
    "\n",
    "\n",
    "* **Line 15**: At the end of each iteration of the inner loop we set `next_state` as our new `state` so that the loop can start again from this new state. In addition, we check if the episode has reached a terminal state (i.e we check if `done = True`). If a terminal state has been reached, then we break out of the inner loop.\n",
    "\n",
    "\n",
    "* **Line 16**: At the end of each iteration of the outer loop we update the value of $\\epsilon$, and check if the environment has been solved. We consider that the environment has been solved if the agent receives an average of `200` points in the last `100` episodes. If the environment has not been solved we continue the outer loop and start a new episode.\n",
    "\n",
    "Finally, we wanted to note that we have included some extra variables to keep track of the total number of points the agent received in each episode. This will help us determine if the agent has solved the environment and it will also allow us to see how our agent performed during training. We also use the `time` module to measure how long the training takes. \n",
    "\n",
    "<br>\n",
    "<br>\n",
    "<figure>\n",
    "  <img src = \"images/deep_q_algorithm.png\" width = 90% style = \"border: thin silver solid; padding: 0px\">\n",
    "      <figcaption style = \"text-align: center; font-style: italic\">Fig 4. Deep Q-Learning with Experience Replay.</figcaption>\n",
    "</figure>\n",
    "<br>\n",
    "\n",
    "**Note:** With this notebook's default parameters, the following cell takes between 10 to 15 minutes to run. "
   ]
  },
  {
   "cell_type": "code",
   "execution_count": 15,
   "metadata": {},
   "outputs": [
    {
     "name": "stdout",
     "output_type": "stream",
     "text": [
      "Episode 100 | Total point average of the last 100 episodes: -149.31\n",
      "\n",
      "Total Runtime: 18.65 s (0.31 min)\n"
     ]
    }
   ],
   "source": [
    "start = time.time()\n",
    "\n",
    "num_episodes = 100\n",
    "max_num_timesteps = 1000\n",
    "\n",
    "total_point_history = []\n",
    "\n",
    "num_p_av = 100    # number of total points to use for averaging.\n",
    "epsilon = 1.0     # initial ε value for ε-greedy policy.\n",
    "\n",
    "# Create a memory buffer D with capacity N.\n",
    "memory_buffer = deque(maxlen=MEMORY_SIZE)\n",
    "\n",
    "# Set the target network weights equal to the Q-Network weights.\n",
    "target_q_network.set_weights(q_network.get_weights())\n",
    "\n",
    "for i in range(num_episodes):\n",
    "    \n",
    "    # Reset the environment to the initial state and get the initial state.\n",
    "    state = env.reset()\n",
    "    total_points = 0\n",
    "    \n",
    "    for t in range(max_num_timesteps):\n",
    "        \n",
    "        # From the current state S choose an action A using an ε-greedy policy.\n",
    "        state_qn = np.expand_dims(state, axis=0)  # state needs to be the right shape for the q_network.\n",
    "        q_values = q_network(state_qn)\n",
    "        action = utils.get_action(q_values, epsilon)\n",
    "        \n",
    "        # Take action A and receive reward R and the next state S'.\n",
    "        next_state, reward, done, _ = env.step(action)\n",
    "        \n",
    "        # Store experience tuple (S,A,R,S') in the memory buffer.\n",
    "        # We store the done variable as well for convenience.\n",
    "        memory_buffer.append(experience(state, action, reward, next_state, done))\n",
    "        \n",
    "        # Only update the network every NUM_STEPS_FOR_UPDATE time steps.\n",
    "        update = utils.check_update_conditions(t, NUM_STEPS_FOR_UPDATE, memory_buffer)\n",
    "        \n",
    "        if update:\n",
    "            # Sample random mini-batch of experience tuples (S,A,R,S') from D.\n",
    "            experiences = utils.get_experiences(memory_buffer)\n",
    "            \n",
    "            # Set the y targets, perform a gradient descent step,\n",
    "            # and update the network weights.\n",
    "            agent_learn(experiences, GAMMA)\n",
    "        \n",
    "        state = next_state.copy()\n",
    "        total_points += reward\n",
    "        \n",
    "        if done:\n",
    "            break\n",
    "            \n",
    "    total_point_history.append(total_points)\n",
    "    av_latest_points = np.mean(total_point_history[-num_p_av:])\n",
    "    \n",
    "    # Update the ε value.\n",
    "    epsilon = utils.get_new_eps(epsilon)\n",
    "\n",
    "    print(f\"\\rEpisode {i+1} | Total point average of the last {num_p_av} episodes: {av_latest_points:.2f}\", end=\"\")\n",
    "\n",
    "    if (i+1) % num_p_av == 0:\n",
    "        print(f\"\\rEpisode {i+1} | Total point average of the last {num_p_av} episodes: {av_latest_points:.2f}\")\n",
    "\n",
    "    # We will consider that the environment is solved if we get an\n",
    "    # average of 200 points in the last 100 episodes.\n",
    "    if av_latest_points >= 200.0:\n",
    "        print(f\"\\n\\nEnvironment solved in {i+1} episodes!\")\n",
    "        q_network.save('lunar_lander_model.h5')\n",
    "        break\n",
    "        \n",
    "tot_time = time.time() - start\n",
    "\n",
    "print(f\"\\nTotal Runtime: {tot_time:.2f} s ({(tot_time/60):.2f} min)\")"
   ]
  },
  {
   "cell_type": "markdown",
   "metadata": {},
   "source": [
    "We can plot the total point history along with the moving average to see how our agent improved during training. If you want to know about the different plotting options available in the `utils.plot_history` function we encourage you to take a look at the `utils` module."
   ]
  },
  {
   "cell_type": "code",
   "execution_count": 16,
   "metadata": {
    "id": "E_EUXxurfe8m",
    "scrolled": false
   },
   "outputs": [
    {
     "data": {
      "image/png": "[encoded data removed]",
      "text/plain": [
       "<Figure size 720x504 with 1 Axes>"
      ]
     },
     "metadata": {},
     "output_type": "display_data"
    }
   ],
   "source": [
    "# Plot the total point history along with the moving average.\n",
    "utils.plot_history(total_point_history)"
   ]
  },
  {
   "cell_type": "markdown",
   "metadata": {
    "id": "c_xwgaX5MnYt"
   },
   "source": [
    "<a name=\"10\"></a>\n",
    "## 10 - See the Trained Agent In Action\n",
    "\n",
    "Now that we have trained our agent, we can see it in action. We will use the `utils.create_video` function to create a video of our agent interacting with the environment using the trained $Q$-Network. The `utils.create_video` function uses the `imageio` library to create the video. This library produces some warnings that can be distracting, so, to suppress these warnings we run the code below."
   ]
  },
  {
   "cell_type": "code",
   "execution_count": 17,
   "metadata": {},
   "outputs": [],
   "source": [
    "# Suppress warnings from imageio.\n",
    "import logging\n",
    "logging.getLogger().setLevel(logging.ERROR)"
   ]
  },
  {
   "cell_type": "markdown",
   "metadata": {},
   "source": [
    "In the cell below we create a video of our agent interacting with the Lunar Lander environment using the trained `q_network`. The video is saved to the `videos` folder with the given `filename`. We use the `utils.embed_mp4` function to embed the video in the Jupyter Notebook so that we can see it here directly without having to download it.\n",
    "\n",
    "We should note that since the lunar lander starts with a random initial force applied to its center of mass, every time you run the cell below you will see a different video. If the agent was trained properly, it should be able to land the lunar lander in the landing pad every time, regardless of the initial force applied to its center of mass."
   ]
  },
  {
   "cell_type": "code",
   "execution_count": 18,
   "metadata": {
    "id": "3Ttb_zLeJKiG"
   },
   "outputs": [
    {
     "data": {
      "text/html": [
       "\n",
       "    <video width=\"840\" height=\"480\" controls>\n",
       "    <source src=\"data:video/mp4;base64,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\" type=\"video/mp4\">\n",
       "    Your browser does not support the video tag.\n",
       "    </video>"
      ],
      "text/plain": [
       "<IPython.core.display.HTML object>"
      ]
     },
     "execution_count": 18,
     "metadata": {},
     "output_type": "execute_result"
    }
   ],
   "source": [
    "filename = \"./videos/lunar_lander4.mp4\"\n",
    "\n",
    "utils.create_video(filename, env, q_network)\n",
    "utils.embed_mp4(filename)"
   ]
  },
  {
   "cell_type": "markdown",
   "metadata": {},
   "source": [
    "<a name=\"11\"></a>\n",
    "## 11 - Congratulations!\n",
    "\n",
    "You have successfully used Deep Q-Learning with Experience Replay to train an agent to land a lunar lander safely on a landing pad on the surface of the moon. Congratulations!"
   ]
  },
  {
   "cell_type": "markdown",
   "metadata": {},
   "source": [
    "<a name=\"12\"></a>\n",
    "## 12 - References\n",
    "\n",
    "If you would like to learn more about Deep Q-Learning, we recommend you check out the following papers.\n",
    "\n",
    "\n",
    "* Mnih, V., Kavukcuoglu, K., Silver, D. et al. Human-level control through deep reinforcement learning. Nature 518, 529–533 (2015).\n",
    "\n",
    "\n",
    "* Lillicrap, T. P., Hunt, J. J., Pritzel, A., et al. Continuous Control with Deep Reinforcement Learning. ICLR (2016).\n",
    "\n",
    "\n",
    "* Mnih, V., Kavukcuoglu, K., Silver, D. et al. Playing Atari with Deep Reinforcement Learning. arXiv e-prints.  arXiv:1312.5602 (2013)."
   ]
  },
  {
   "cell_type": "code",
   "execution_count": null,
   "metadata": {},
   "outputs": [],
   "source": []
  }
 ],
 "metadata": {
  "accelerator": "GPU",
  "colab": {
   "collapsed_sections": [],
   "name": "TensorFlow - Lunar Lander.ipynb",
   "provenance": []
  },
  "kernelspec": {
   "display_name": "Python 3 (ipykernel)",
   "language": "python",
   "name": "python3"
  },
  "language_info": {
   "codemirror_mode": {
    "name": "ipython",
    "version": 3
   },
   "file_extension": ".py",
   "mimetype": "text/x-python",
   "name": "python",
   "nbconvert_exporter": "python",
   "pygments_lexer": "ipython3",
   "version": "3.9.7"
  }
 },
 "nbformat": 4,
 "nbformat_minor": 1
}
