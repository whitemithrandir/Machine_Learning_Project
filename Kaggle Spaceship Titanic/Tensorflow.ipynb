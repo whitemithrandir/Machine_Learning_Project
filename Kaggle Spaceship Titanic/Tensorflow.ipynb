{
 "cells": [
  {
   "cell_type": "code",
   "execution_count": 50,
   "metadata": {
    "_cell_guid": "b1076dfc-b9ad-4769-8c92-a6c4dae69d19",
    "_uuid": "8f2839f25d086af736a60e9eeb907d3b93b6e0e5",
    "execution": {
     "iopub.execute_input": "2022-11-11T13:07:35.515927Z",
     "iopub.status.busy": "2022-11-11T13:07:35.514984Z",
     "iopub.status.idle": "2022-11-11T13:07:35.597522Z",
     "shell.execute_reply": "2022-11-11T13:07:35.596271Z",
     "shell.execute_reply.started": "2022-11-11T13:07:35.515804Z"
    }
   },
   "outputs": [],
   "source": [
    "# This Python 3 environment comes with many helpful analytics libraries installed\n",
    "# It is defined by the kaggle/python Docker image: https://github.com/kaggle/docker-python\n",
    "# For example, here's several helpful packages to load\n",
    "\n",
    "import numpy as np # linear algebra\n",
    "import pandas as pd # data processing, CSV file I/O (e.g. pd.read_csv)\n",
    "\n",
    "# Input data files are available in the read-only \"../input/\" directory\n",
    "# For example, running this (by clicking run or pressing Shift+Enter) will list all files under the input directory\n",
    "\n",
    "import os\n",
    "for dirname, _, filenames in os.walk('/kaggle/input'):\n",
    "    for filename in filenames:\n",
    "        print(os.path.join(dirname, filename))\n",
    "\n",
    "# You can write up to 20GB to the current directory (/kaggle/working/) that gets preserved as output when you create a version using \"Save & Run All\" \n",
    "# You can also write temporary files to /kaggle/temp/, but they won't be saved outside of the current session"
   ]
  },
  {
   "cell_type": "markdown",
   "metadata": {},
   "source": [
    "**Loading and Understanding the Data**"
   ]
  },
  {
   "cell_type": "code",
   "execution_count": 51,
   "metadata": {
    "execution": {
     "iopub.execute_input": "2022-11-11T13:07:35.600291Z",
     "iopub.status.busy": "2022-11-11T13:07:35.599939Z",
     "iopub.status.idle": "2022-11-11T13:07:35.756533Z",
     "shell.execute_reply": "2022-11-11T13:07:35.755526Z",
     "shell.execute_reply.started": "2022-11-11T13:07:35.600255Z"
    }
   },
   "outputs": [],
   "source": [
    "train_data = pd.read_csv(\"train.csv\")\n",
    "test_data = pd.read_csv(\"test.csv\")"
   ]
  },
  {
   "cell_type": "code",
   "execution_count": 52,
   "metadata": {
    "execution": {
     "iopub.execute_input": "2022-11-11T13:07:35.758861Z",
     "iopub.status.busy": "2022-11-11T13:07:35.758171Z",
     "iopub.status.idle": "2022-11-11T13:07:35.764925Z",
     "shell.execute_reply": "2022-11-11T13:07:35.763680Z",
     "shell.execute_reply.started": "2022-11-11T13:07:35.758823Z"
    }
   },
   "outputs": [
    {
     "name": "stdout",
     "output_type": "stream",
     "text": [
      "Train data shape: (8693, 14)\n",
      "Test data shape: (4277, 13)\n"
     ]
    }
   ],
   "source": [
    "print(\"Train data shape:\", train_data.shape)\n",
    "print(\"Test data shape:\", test_data.shape)"
   ]
  },
  {
   "cell_type": "code",
   "execution_count": 53,
   "metadata": {
    "execution": {
     "iopub.execute_input": "2022-11-11T13:07:35.770988Z",
     "iopub.status.busy": "2022-11-11T13:07:35.769459Z",
     "iopub.status.idle": "2022-11-11T13:07:35.822504Z",
     "shell.execute_reply": "2022-11-11T13:07:35.821272Z",
     "shell.execute_reply.started": "2022-11-11T13:07:35.770817Z"
    }
   },
   "outputs": [
    {
     "data": {
      "text/html": [
       "<div>\n",
       "<style scoped>\n",
       "    .dataframe tbody tr th:only-of-type {\n",
       "        vertical-align: middle;\n",
       "    }\n",
       "\n",
       "    .dataframe tbody tr th {\n",
       "        vertical-align: top;\n",
       "    }\n",
       "\n",
       "    .dataframe thead th {\n",
       "        text-align: right;\n",
       "    }\n",
       "</style>\n",
       "<table border=\"1\" class=\"dataframe\">\n",
       "  <thead>\n",
       "    <tr style=\"text-align: right;\">\n",
       "      <th></th>\n",
       "      <th>PassengerId</th>\n",
       "      <th>HomePlanet</th>\n",
       "      <th>CryoSleep</th>\n",
       "      <th>Cabin</th>\n",
       "      <th>Destination</th>\n",
       "      <th>Age</th>\n",
       "      <th>VIP</th>\n",
       "      <th>RoomService</th>\n",
       "      <th>FoodCourt</th>\n",
       "      <th>ShoppingMall</th>\n",
       "      <th>Spa</th>\n",
       "      <th>VRDeck</th>\n",
       "      <th>Name</th>\n",
       "      <th>Transported</th>\n",
       "    </tr>\n",
       "  </thead>\n",
       "  <tbody>\n",
       "    <tr>\n",
       "      <th>0</th>\n",
       "      <td>0001_01</td>\n",
       "      <td>Europa</td>\n",
       "      <td>False</td>\n",
       "      <td>B/0/P</td>\n",
       "      <td>TRAPPIST-1e</td>\n",
       "      <td>39.0</td>\n",
       "      <td>False</td>\n",
       "      <td>0.0</td>\n",
       "      <td>0.0</td>\n",
       "      <td>0.0</td>\n",
       "      <td>0.0</td>\n",
       "      <td>0.0</td>\n",
       "      <td>Maham Ofracculy</td>\n",
       "      <td>False</td>\n",
       "    </tr>\n",
       "    <tr>\n",
       "      <th>1</th>\n",
       "      <td>0002_01</td>\n",
       "      <td>Earth</td>\n",
       "      <td>False</td>\n",
       "      <td>F/0/S</td>\n",
       "      <td>TRAPPIST-1e</td>\n",
       "      <td>24.0</td>\n",
       "      <td>False</td>\n",
       "      <td>109.0</td>\n",
       "      <td>9.0</td>\n",
       "      <td>25.0</td>\n",
       "      <td>549.0</td>\n",
       "      <td>44.0</td>\n",
       "      <td>Juanna Vines</td>\n",
       "      <td>True</td>\n",
       "    </tr>\n",
       "    <tr>\n",
       "      <th>2</th>\n",
       "      <td>0003_01</td>\n",
       "      <td>Europa</td>\n",
       "      <td>False</td>\n",
       "      <td>A/0/S</td>\n",
       "      <td>TRAPPIST-1e</td>\n",
       "      <td>58.0</td>\n",
       "      <td>True</td>\n",
       "      <td>43.0</td>\n",
       "      <td>3576.0</td>\n",
       "      <td>0.0</td>\n",
       "      <td>6715.0</td>\n",
       "      <td>49.0</td>\n",
       "      <td>Altark Susent</td>\n",
       "      <td>False</td>\n",
       "    </tr>\n",
       "    <tr>\n",
       "      <th>3</th>\n",
       "      <td>0003_02</td>\n",
       "      <td>Europa</td>\n",
       "      <td>False</td>\n",
       "      <td>A/0/S</td>\n",
       "      <td>TRAPPIST-1e</td>\n",
       "      <td>33.0</td>\n",
       "      <td>False</td>\n",
       "      <td>0.0</td>\n",
       "      <td>1283.0</td>\n",
       "      <td>371.0</td>\n",
       "      <td>3329.0</td>\n",
       "      <td>193.0</td>\n",
       "      <td>Solam Susent</td>\n",
       "      <td>False</td>\n",
       "    </tr>\n",
       "    <tr>\n",
       "      <th>4</th>\n",
       "      <td>0004_01</td>\n",
       "      <td>Earth</td>\n",
       "      <td>False</td>\n",
       "      <td>F/1/S</td>\n",
       "      <td>TRAPPIST-1e</td>\n",
       "      <td>16.0</td>\n",
       "      <td>False</td>\n",
       "      <td>303.0</td>\n",
       "      <td>70.0</td>\n",
       "      <td>151.0</td>\n",
       "      <td>565.0</td>\n",
       "      <td>2.0</td>\n",
       "      <td>Willy Santantines</td>\n",
       "      <td>True</td>\n",
       "    </tr>\n",
       "  </tbody>\n",
       "</table>\n",
       "</div>"
      ],
      "text/plain": [
       "  PassengerId HomePlanet CryoSleep  Cabin  Destination   Age    VIP  \\\n",
       "0     0001_01     Europa     False  B/0/P  TRAPPIST-1e  39.0  False   \n",
       "1     0002_01      Earth     False  F/0/S  TRAPPIST-1e  24.0  False   \n",
       "2     0003_01     Europa     False  A/0/S  TRAPPIST-1e  58.0   True   \n",
       "3     0003_02     Europa     False  A/0/S  TRAPPIST-1e  33.0  False   \n",
       "4     0004_01      Earth     False  F/1/S  TRAPPIST-1e  16.0  False   \n",
       "\n",
       "   RoomService  FoodCourt  ShoppingMall     Spa  VRDeck               Name  \\\n",
       "0          0.0        0.0           0.0     0.0     0.0    Maham Ofracculy   \n",
       "1        109.0        9.0          25.0   549.0    44.0       Juanna Vines   \n",
       "2         43.0     3576.0           0.0  6715.0    49.0      Altark Susent   \n",
       "3          0.0     1283.0         371.0  3329.0   193.0       Solam Susent   \n",
       "4        303.0       70.0         151.0   565.0     2.0  Willy Santantines   \n",
       "\n",
       "   Transported  \n",
       "0        False  \n",
       "1         True  \n",
       "2        False  \n",
       "3        False  \n",
       "4         True  "
      ]
     },
     "execution_count": 53,
     "metadata": {},
     "output_type": "execute_result"
    }
   ],
   "source": [
    "# First 5 rows in train dataset\n",
    "train_data.head()"
   ]
  },
  {
   "cell_type": "code",
   "execution_count": 54,
   "metadata": {
    "execution": {
     "iopub.execute_input": "2022-11-11T13:07:35.831324Z",
     "iopub.status.busy": "2022-11-11T13:07:35.827796Z",
     "iopub.status.idle": "2022-11-11T13:07:35.912586Z",
     "shell.execute_reply": "2022-11-11T13:07:35.911542Z",
     "shell.execute_reply.started": "2022-11-11T13:07:35.831283Z"
    }
   },
   "outputs": [
    {
     "data": {
      "text/html": [
       "<div>\n",
       "<style scoped>\n",
       "    .dataframe tbody tr th:only-of-type {\n",
       "        vertical-align: middle;\n",
       "    }\n",
       "\n",
       "    .dataframe tbody tr th {\n",
       "        vertical-align: top;\n",
       "    }\n",
       "\n",
       "    .dataframe thead th {\n",
       "        text-align: right;\n",
       "    }\n",
       "</style>\n",
       "<table border=\"1\" class=\"dataframe\">\n",
       "  <thead>\n",
       "    <tr style=\"text-align: right;\">\n",
       "      <th></th>\n",
       "      <th>count</th>\n",
       "      <th>mean</th>\n",
       "      <th>std</th>\n",
       "      <th>min</th>\n",
       "      <th>25%</th>\n",
       "      <th>50%</th>\n",
       "      <th>75%</th>\n",
       "      <th>max</th>\n",
       "    </tr>\n",
       "  </thead>\n",
       "  <tbody>\n",
       "    <tr>\n",
       "      <th>Age</th>\n",
       "      <td>8514.0</td>\n",
       "      <td>28.827930</td>\n",
       "      <td>14.489021</td>\n",
       "      <td>0.0</td>\n",
       "      <td>19.0</td>\n",
       "      <td>27.0</td>\n",
       "      <td>38.0</td>\n",
       "      <td>79.0</td>\n",
       "    </tr>\n",
       "    <tr>\n",
       "      <th>RoomService</th>\n",
       "      <td>8512.0</td>\n",
       "      <td>224.687617</td>\n",
       "      <td>666.717663</td>\n",
       "      <td>0.0</td>\n",
       "      <td>0.0</td>\n",
       "      <td>0.0</td>\n",
       "      <td>47.0</td>\n",
       "      <td>14327.0</td>\n",
       "    </tr>\n",
       "    <tr>\n",
       "      <th>FoodCourt</th>\n",
       "      <td>8510.0</td>\n",
       "      <td>458.077203</td>\n",
       "      <td>1611.489240</td>\n",
       "      <td>0.0</td>\n",
       "      <td>0.0</td>\n",
       "      <td>0.0</td>\n",
       "      <td>76.0</td>\n",
       "      <td>29813.0</td>\n",
       "    </tr>\n",
       "    <tr>\n",
       "      <th>ShoppingMall</th>\n",
       "      <td>8485.0</td>\n",
       "      <td>173.729169</td>\n",
       "      <td>604.696458</td>\n",
       "      <td>0.0</td>\n",
       "      <td>0.0</td>\n",
       "      <td>0.0</td>\n",
       "      <td>27.0</td>\n",
       "      <td>23492.0</td>\n",
       "    </tr>\n",
       "    <tr>\n",
       "      <th>Spa</th>\n",
       "      <td>8510.0</td>\n",
       "      <td>311.138778</td>\n",
       "      <td>1136.705535</td>\n",
       "      <td>0.0</td>\n",
       "      <td>0.0</td>\n",
       "      <td>0.0</td>\n",
       "      <td>59.0</td>\n",
       "      <td>22408.0</td>\n",
       "    </tr>\n",
       "    <tr>\n",
       "      <th>VRDeck</th>\n",
       "      <td>8505.0</td>\n",
       "      <td>304.854791</td>\n",
       "      <td>1145.717189</td>\n",
       "      <td>0.0</td>\n",
       "      <td>0.0</td>\n",
       "      <td>0.0</td>\n",
       "      <td>46.0</td>\n",
       "      <td>24133.0</td>\n",
       "    </tr>\n",
       "  </tbody>\n",
       "</table>\n",
       "</div>"
      ],
      "text/plain": [
       "               count        mean          std  min   25%   50%   75%      max\n",
       "Age           8514.0   28.827930    14.489021  0.0  19.0  27.0  38.0     79.0\n",
       "RoomService   8512.0  224.687617   666.717663  0.0   0.0   0.0  47.0  14327.0\n",
       "FoodCourt     8510.0  458.077203  1611.489240  0.0   0.0   0.0  76.0  29813.0\n",
       "ShoppingMall  8485.0  173.729169   604.696458  0.0   0.0   0.0  27.0  23492.0\n",
       "Spa           8510.0  311.138778  1136.705535  0.0   0.0   0.0  59.0  22408.0\n",
       "VRDeck        8505.0  304.854791  1145.717189  0.0   0.0   0.0  46.0  24133.0"
      ]
     },
     "execution_count": 54,
     "metadata": {},
     "output_type": "execute_result"
    }
   ],
   "source": [
    "train_data.describe().T"
   ]
  },
  {
   "cell_type": "code",
   "execution_count": 55,
   "metadata": {
    "execution": {
     "iopub.execute_input": "2022-11-11T13:07:35.921462Z",
     "iopub.status.busy": "2022-11-11T13:07:35.917844Z",
     "iopub.status.idle": "2022-11-11T13:07:35.955080Z",
     "shell.execute_reply": "2022-11-11T13:07:35.953915Z",
     "shell.execute_reply.started": "2022-11-11T13:07:35.921416Z"
    }
   },
   "outputs": [
    {
     "name": "stdout",
     "output_type": "stream",
     "text": [
      "<class 'pandas.core.frame.DataFrame'>\n",
      "RangeIndex: 8693 entries, 0 to 8692\n",
      "Data columns (total 14 columns):\n",
      " #   Column        Non-Null Count  Dtype  \n",
      "---  ------        --------------  -----  \n",
      " 0   PassengerId   8693 non-null   object \n",
      " 1   HomePlanet    8492 non-null   object \n",
      " 2   CryoSleep     8476 non-null   object \n",
      " 3   Cabin         8494 non-null   object \n",
      " 4   Destination   8511 non-null   object \n",
      " 5   Age           8514 non-null   float64\n",
      " 6   VIP           8490 non-null   object \n",
      " 7   RoomService   8512 non-null   float64\n",
      " 8   FoodCourt     8510 non-null   float64\n",
      " 9   ShoppingMall  8485 non-null   float64\n",
      " 10  Spa           8510 non-null   float64\n",
      " 11  VRDeck        8505 non-null   float64\n",
      " 12  Name          8493 non-null   object \n",
      " 13  Transported   8693 non-null   bool   \n",
      "dtypes: bool(1), float64(6), object(7)\n",
      "memory usage: 891.5+ KB\n"
     ]
    }
   ],
   "source": [
    "train_data.info()"
   ]
  },
  {
   "cell_type": "code",
   "execution_count": 56,
   "metadata": {
    "execution": {
     "iopub.execute_input": "2022-11-11T13:07:35.966563Z",
     "iopub.status.busy": "2022-11-11T13:07:35.964108Z",
     "iopub.status.idle": "2022-11-11T13:07:35.974735Z",
     "shell.execute_reply": "2022-11-11T13:07:35.971677Z",
     "shell.execute_reply.started": "2022-11-11T13:07:35.966517Z"
    }
   },
   "outputs": [],
   "source": [
    "# How many duplicated rows our data set?\n",
    "#train_data.duplicated().sum()"
   ]
  },
  {
   "cell_type": "code",
   "execution_count": 57,
   "metadata": {
    "execution": {
     "iopub.execute_input": "2022-11-11T13:07:35.980313Z",
     "iopub.status.busy": "2022-11-11T13:07:35.979910Z",
     "iopub.status.idle": "2022-11-11T13:07:36.000725Z",
     "shell.execute_reply": "2022-11-11T13:07:35.996850Z",
     "shell.execute_reply.started": "2022-11-11T13:07:35.980274Z"
    }
   },
   "outputs": [],
   "source": [
    "# PassengerId column should not be in dataset as a column, but index\n",
    "train_data.set_index(\"PassengerId\", inplace=True)\n",
    "\n",
    "# Drop Name column which we don't need\n",
    "train_data.drop(\"Name\", axis=1, inplace=True)"
   ]
  },
  {
   "cell_type": "code",
   "execution_count": 58,
   "metadata": {
    "execution": {
     "iopub.execute_input": "2022-11-11T13:07:36.003115Z",
     "iopub.status.busy": "2022-11-11T13:07:36.002443Z",
     "iopub.status.idle": "2022-11-11T13:07:36.031475Z",
     "shell.execute_reply": "2022-11-11T13:07:36.026046Z",
     "shell.execute_reply.started": "2022-11-11T13:07:36.003078Z"
    }
   },
   "outputs": [
    {
     "name": "stdout",
     "output_type": "stream",
     "text": [
      "Boolean to integer process starting ...\n",
      "Process for VIP column finished.\n",
      "Process for CryoSleep column finished.\n",
      "Process for Transported column finished.\n",
      "All process completed.\n"
     ]
    }
   ],
   "source": [
    "# VIP, CryoSleep and Transported columns are boolean.\n",
    "# Lets convert boolean to integer.\n",
    "def convert_bool_to_int(data, columns):\n",
    "    print(\"Boolean to integer process starting ...\")\n",
    "    for col in columns:\n",
    "        data[col] = [0 if x == False else 1 for x in data[col]]\n",
    "        \n",
    "        print(f\"Process for {col} column finished.\")\n",
    "    print(\"All process completed.\")\n",
    "    return data\n",
    "train_data = convert_bool_to_int(train_data, [\"VIP\", \"CryoSleep\", \"Transported\"])"
   ]
  },
  {
   "cell_type": "code",
   "execution_count": 59,
   "metadata": {
    "execution": {
     "iopub.execute_input": "2022-11-11T13:07:36.038920Z",
     "iopub.status.busy": "2022-11-11T13:07:36.038591Z",
     "iopub.status.idle": "2022-11-11T13:07:36.069138Z",
     "shell.execute_reply": "2022-11-11T13:07:36.068150Z",
     "shell.execute_reply.started": "2022-11-11T13:07:36.038891Z"
    }
   },
   "outputs": [
    {
     "name": "stdout",
     "output_type": "stream",
     "text": [
      "Deck, Number and Side columns created from Cabin column.\n",
      "Cabin column dropped.\n"
     ]
    }
   ],
   "source": [
    "# Cabin column have 3 values each rows: deck, number, side. \n",
    "# We now split the values\n",
    "def split_cabin_col(data):\n",
    "    cabin_split = data['Cabin'].str.split(pat = \"/\", expand = True)\n",
    "    data[[\"Deck\", \"Number\", \"Side\"]] = cabin_split\n",
    "    print(\"Deck, Number and Side columns created from Cabin column.\")\n",
    "    data.drop(\"Cabin\", axis=1, inplace=True)\n",
    "    print(\"Cabin column dropped.\")\n",
    "    return data\n",
    "\n",
    "train_data = split_cabin_col(train_data)"
   ]
  },
  {
   "cell_type": "code",
   "execution_count": 60,
   "metadata": {
    "execution": {
     "iopub.execute_input": "2022-11-11T13:07:36.072405Z",
     "iopub.status.busy": "2022-11-11T13:07:36.071662Z",
     "iopub.status.idle": "2022-11-11T13:07:36.095062Z",
     "shell.execute_reply": "2022-11-11T13:07:36.093677Z",
     "shell.execute_reply.started": "2022-11-11T13:07:36.072360Z"
    }
   },
   "outputs": [
    {
     "data": {
      "text/html": [
       "<div>\n",
       "<style scoped>\n",
       "    .dataframe tbody tr th:only-of-type {\n",
       "        vertical-align: middle;\n",
       "    }\n",
       "\n",
       "    .dataframe tbody tr th {\n",
       "        vertical-align: top;\n",
       "    }\n",
       "\n",
       "    .dataframe thead th {\n",
       "        text-align: right;\n",
       "    }\n",
       "</style>\n",
       "<table border=\"1\" class=\"dataframe\">\n",
       "  <thead>\n",
       "    <tr style=\"text-align: right;\">\n",
       "      <th></th>\n",
       "      <th>HomePlanet</th>\n",
       "      <th>CryoSleep</th>\n",
       "      <th>Destination</th>\n",
       "      <th>Age</th>\n",
       "      <th>VIP</th>\n",
       "      <th>RoomService</th>\n",
       "      <th>FoodCourt</th>\n",
       "      <th>ShoppingMall</th>\n",
       "      <th>Spa</th>\n",
       "      <th>VRDeck</th>\n",
       "      <th>Transported</th>\n",
       "      <th>Deck</th>\n",
       "      <th>Number</th>\n",
       "      <th>Side</th>\n",
       "    </tr>\n",
       "    <tr>\n",
       "      <th>PassengerId</th>\n",
       "      <th></th>\n",
       "      <th></th>\n",
       "      <th></th>\n",
       "      <th></th>\n",
       "      <th></th>\n",
       "      <th></th>\n",
       "      <th></th>\n",
       "      <th></th>\n",
       "      <th></th>\n",
       "      <th></th>\n",
       "      <th></th>\n",
       "      <th></th>\n",
       "      <th></th>\n",
       "      <th></th>\n",
       "    </tr>\n",
       "  </thead>\n",
       "  <tbody>\n",
       "    <tr>\n",
       "      <th>0001_01</th>\n",
       "      <td>Europa</td>\n",
       "      <td>0</td>\n",
       "      <td>TRAPPIST-1e</td>\n",
       "      <td>39.0</td>\n",
       "      <td>0</td>\n",
       "      <td>0.0</td>\n",
       "      <td>0.0</td>\n",
       "      <td>0.0</td>\n",
       "      <td>0.0</td>\n",
       "      <td>0.0</td>\n",
       "      <td>0</td>\n",
       "      <td>B</td>\n",
       "      <td>0</td>\n",
       "      <td>P</td>\n",
       "    </tr>\n",
       "    <tr>\n",
       "      <th>0002_01</th>\n",
       "      <td>Earth</td>\n",
       "      <td>0</td>\n",
       "      <td>TRAPPIST-1e</td>\n",
       "      <td>24.0</td>\n",
       "      <td>0</td>\n",
       "      <td>109.0</td>\n",
       "      <td>9.0</td>\n",
       "      <td>25.0</td>\n",
       "      <td>549.0</td>\n",
       "      <td>44.0</td>\n",
       "      <td>1</td>\n",
       "      <td>F</td>\n",
       "      <td>0</td>\n",
       "      <td>S</td>\n",
       "    </tr>\n",
       "    <tr>\n",
       "      <th>0003_01</th>\n",
       "      <td>Europa</td>\n",
       "      <td>0</td>\n",
       "      <td>TRAPPIST-1e</td>\n",
       "      <td>58.0</td>\n",
       "      <td>1</td>\n",
       "      <td>43.0</td>\n",
       "      <td>3576.0</td>\n",
       "      <td>0.0</td>\n",
       "      <td>6715.0</td>\n",
       "      <td>49.0</td>\n",
       "      <td>0</td>\n",
       "      <td>A</td>\n",
       "      <td>0</td>\n",
       "      <td>S</td>\n",
       "    </tr>\n",
       "    <tr>\n",
       "      <th>0003_02</th>\n",
       "      <td>Europa</td>\n",
       "      <td>0</td>\n",
       "      <td>TRAPPIST-1e</td>\n",
       "      <td>33.0</td>\n",
       "      <td>0</td>\n",
       "      <td>0.0</td>\n",
       "      <td>1283.0</td>\n",
       "      <td>371.0</td>\n",
       "      <td>3329.0</td>\n",
       "      <td>193.0</td>\n",
       "      <td>0</td>\n",
       "      <td>A</td>\n",
       "      <td>0</td>\n",
       "      <td>S</td>\n",
       "    </tr>\n",
       "    <tr>\n",
       "      <th>0004_01</th>\n",
       "      <td>Earth</td>\n",
       "      <td>0</td>\n",
       "      <td>TRAPPIST-1e</td>\n",
       "      <td>16.0</td>\n",
       "      <td>0</td>\n",
       "      <td>303.0</td>\n",
       "      <td>70.0</td>\n",
       "      <td>151.0</td>\n",
       "      <td>565.0</td>\n",
       "      <td>2.0</td>\n",
       "      <td>1</td>\n",
       "      <td>F</td>\n",
       "      <td>1</td>\n",
       "      <td>S</td>\n",
       "    </tr>\n",
       "  </tbody>\n",
       "</table>\n",
       "</div>"
      ],
      "text/plain": [
       "            HomePlanet  CryoSleep  Destination   Age  VIP  RoomService  \\\n",
       "PassengerId                                                              \n",
       "0001_01         Europa          0  TRAPPIST-1e  39.0    0          0.0   \n",
       "0002_01          Earth          0  TRAPPIST-1e  24.0    0        109.0   \n",
       "0003_01         Europa          0  TRAPPIST-1e  58.0    1         43.0   \n",
       "0003_02         Europa          0  TRAPPIST-1e  33.0    0          0.0   \n",
       "0004_01          Earth          0  TRAPPIST-1e  16.0    0        303.0   \n",
       "\n",
       "             FoodCourt  ShoppingMall     Spa  VRDeck  Transported Deck Number  \\\n",
       "PassengerId                                                                     \n",
       "0001_01            0.0           0.0     0.0     0.0            0    B      0   \n",
       "0002_01            9.0          25.0   549.0    44.0            1    F      0   \n",
       "0003_01         3576.0           0.0  6715.0    49.0            0    A      0   \n",
       "0003_02         1283.0         371.0  3329.0   193.0            0    A      0   \n",
       "0004_01           70.0         151.0   565.0     2.0            1    F      1   \n",
       "\n",
       "            Side  \n",
       "PassengerId       \n",
       "0001_01        P  \n",
       "0002_01        S  \n",
       "0003_01        S  \n",
       "0003_02        S  \n",
       "0004_01        S  "
      ]
     },
     "execution_count": 60,
     "metadata": {},
     "output_type": "execute_result"
    }
   ],
   "source": [
    "# See now how our dataset is\n",
    "train_data.head()"
   ]
  },
  {
   "cell_type": "code",
   "execution_count": 61,
   "metadata": {
    "execution": {
     "iopub.execute_input": "2022-11-11T13:07:36.098820Z",
     "iopub.status.busy": "2022-11-11T13:07:36.098450Z",
     "iopub.status.idle": "2022-11-11T13:07:37.464514Z",
     "shell.execute_reply": "2022-11-11T13:07:37.463536Z",
     "shell.execute_reply.started": "2022-11-11T13:07:36.098788Z"
    }
   },
   "outputs": [
    {
     "data": {
      "image/png": "[encoded data removed]",
      "text/plain": [
       "<Figure size 1800x720 with 2 Axes>"
      ]
     },
     "metadata": {
      "needs_background": "light"
     },
     "output_type": "display_data"
    }
   ],
   "source": [
    "# Lets see missing value in matrix format\n",
    "import missingno as msgn\n",
    "\n",
    "msgn.matrix(train_data);"
   ]
  },
  {
   "cell_type": "code",
   "execution_count": 62,
   "metadata": {
    "execution": {
     "iopub.execute_input": "2022-11-11T13:07:37.467024Z",
     "iopub.status.busy": "2022-11-11T13:07:37.466298Z",
     "iopub.status.idle": "2022-11-11T13:07:37.484609Z",
     "shell.execute_reply": "2022-11-11T13:07:37.483289Z",
     "shell.execute_reply.started": "2022-11-11T13:07:37.466985Z"
    }
   },
   "outputs": [
    {
     "name": "stdout",
     "output_type": "stream",
     "text": [
      "for VIP=0:\n",
      "193\n",
      "\n",
      "for VIP=1:\n",
      "8\n"
     ]
    },
    {
     "name": "stderr",
     "output_type": "stream",
     "text": [
      "C:\\Users\\SABANK~1.D\\AppData\\Local\\Temp/ipykernel_7780/671845525.py:2: UserWarning: Boolean Series key will be reindexed to match DataFrame index.\n",
      "  print(train_data[train_data[\"HomePlanet\"].isnull()][train_data[\"VIP\"]==0].shape[0])\n",
      "C:\\Users\\SABANK~1.D\\AppData\\Local\\Temp/ipykernel_7780/671845525.py:4: UserWarning: Boolean Series key will be reindexed to match DataFrame index.\n",
      "  print(train_data[train_data[\"HomePlanet\"].isnull()][train_data[\"VIP\"]==1].shape[0])\n"
     ]
    }
   ],
   "source": [
    "print(\"for VIP=0:\")\n",
    "print(train_data[train_data[\"HomePlanet\"].isnull()][train_data[\"VIP\"]==0].shape[0])\n",
    "print(\"\\nfor VIP=1:\")\n",
    "print(train_data[train_data[\"HomePlanet\"].isnull()][train_data[\"VIP\"]==1].shape[0])"
   ]
  },
  {
   "cell_type": "code",
   "execution_count": 63,
   "metadata": {
    "execution": {
     "iopub.execute_input": "2022-11-11T13:07:37.486990Z",
     "iopub.status.busy": "2022-11-11T13:07:37.486318Z",
     "iopub.status.idle": "2022-11-11T13:07:37.499162Z",
     "shell.execute_reply": "2022-11-11T13:07:37.497946Z",
     "shell.execute_reply.started": "2022-11-11T13:07:37.486951Z"
    }
   },
   "outputs": [
    {
     "data": {
      "text/plain": [
       "TRAPPIST-1e      2163\n",
       "55 Cancri e       459\n",
       "PSO J318.5-22     330\n",
       "Name: Destination, dtype: int64"
      ]
     },
     "execution_count": 63,
     "metadata": {},
     "output_type": "execute_result"
    }
   ],
   "source": [
    "train_data[\"Destination\"][(train_data[\"CryoSleep\"]==0) & (train_data[\"VIP\"]==0) & (train_data[\"HomePlanet\"]==\"Earth\")].value_counts()"
   ]
  },
  {
   "cell_type": "code",
   "execution_count": 64,
   "metadata": {
    "execution": {
     "iopub.execute_input": "2022-11-11T13:07:37.501561Z",
     "iopub.status.busy": "2022-11-11T13:07:37.501145Z",
     "iopub.status.idle": "2022-11-11T13:07:37.517601Z",
     "shell.execute_reply": "2022-11-11T13:07:37.516304Z",
     "shell.execute_reply.started": "2022-11-11T13:07:37.501525Z"
    }
   },
   "outputs": [
    {
     "name": "stdout",
     "output_type": "stream",
     "text": [
      "Mean age: 27.75217013888889\n"
     ]
    }
   ],
   "source": [
    "train_data[\"Destination\"].fillna(\"TRAPPIST-1e\", axis=0, inplace=True)\n",
    "train_data[\"HomePlanet\"].fillna(\"Earth\", axis=0, inplace=True)\n",
    "mean_age_of_nan = train_data[\"Age\"][(train_data[\"CryoSleep\"]==0) & (train_data[\"VIP\"]==0) & (train_data[\"HomePlanet\"]==\"Earth\") & (train_data[\"Destination\"]==\"TRAPPIST-1e\")].mean()\n",
    "print(\"Mean age:\", mean_age_of_nan)\n",
    "train_data[\"Age\"].fillna(int(mean_age_of_nan), axis=0, inplace=True)"
   ]
  },
  {
   "cell_type": "code",
   "execution_count": 65,
   "metadata": {
    "execution": {
     "iopub.execute_input": "2022-11-11T13:07:37.521336Z",
     "iopub.status.busy": "2022-11-11T13:07:37.520998Z",
     "iopub.status.idle": "2022-11-11T13:07:37.536692Z",
     "shell.execute_reply": "2022-11-11T13:07:37.535357Z",
     "shell.execute_reply.started": "2022-11-11T13:07:37.521308Z"
    }
   },
   "outputs": [
    {
     "data": {
      "text/plain": [
       "Series([], Name: Destination, dtype: int64)"
      ]
     },
     "execution_count": 65,
     "metadata": {},
     "output_type": "execute_result"
    }
   ],
   "source": [
    "train_data[\"Destination\"][(train_data[\"CryoSleep\"]==0) & (train_data[\"VIP\"]==0) & (train_data[\"HomePlanet\"]==\"Earth\") & (train_data[\"Age\"].isnull())].value_counts()"
   ]
  },
  {
   "cell_type": "code",
   "execution_count": 66,
   "metadata": {
    "execution": {
     "iopub.execute_input": "2022-11-11T13:07:37.539034Z",
     "iopub.status.busy": "2022-11-11T13:07:37.538452Z",
     "iopub.status.idle": "2022-11-11T13:07:37.556586Z",
     "shell.execute_reply": "2022-11-11T13:07:37.555543Z",
     "shell.execute_reply.started": "2022-11-11T13:07:37.538992Z"
    }
   },
   "outputs": [],
   "source": [
    "# Fill missing value with average of some columns values\n",
    "fill_as_mean_cols = [\"RoomService\", \"FoodCourt\", \"ShoppingMall\", \"Spa\", \"VRDeck\"]\n",
    "\n",
    "def fillna_mean(data, columns):\n",
    "    for col in columns:\n",
    "        data[col].fillna(data[col].mean(), axis=0, inplace=True)\n",
    "    return data\n",
    "\n",
    "train_data = fillna_mean(train_data, fill_as_mean_cols)\n",
    "#Remove others\n",
    "train_data.dropna(axis=0, inplace=True)"
   ]
  },
  {
   "cell_type": "code",
   "execution_count": 67,
   "metadata": {
    "execution": {
     "iopub.execute_input": "2022-11-11T13:07:37.560530Z",
     "iopub.status.busy": "2022-11-11T13:07:37.560233Z",
     "iopub.status.idle": "2022-11-11T13:07:37.575166Z",
     "shell.execute_reply": "2022-11-11T13:07:37.572672Z",
     "shell.execute_reply.started": "2022-11-11T13:07:37.560502Z"
    }
   },
   "outputs": [
    {
     "data": {
      "text/plain": [
       "HomePlanet      0\n",
       "CryoSleep       0\n",
       "Destination     0\n",
       "Age             0\n",
       "VIP             0\n",
       "RoomService     0\n",
       "FoodCourt       0\n",
       "ShoppingMall    0\n",
       "Spa             0\n",
       "VRDeck          0\n",
       "Transported     0\n",
       "Deck            0\n",
       "Number          0\n",
       "Side            0\n",
       "dtype: int64"
      ]
     },
     "execution_count": 67,
     "metadata": {},
     "output_type": "execute_result"
    }
   ],
   "source": [
    "train_data.isnull().sum()"
   ]
  },
  {
   "cell_type": "markdown",
   "metadata": {},
   "source": [
    "# ****One Hot Encoder****"
   ]
  },
  {
   "cell_type": "code",
   "execution_count": 68,
   "metadata": {
    "execution": {
     "iopub.execute_input": "2022-11-11T13:07:37.578471Z",
     "iopub.status.busy": "2022-11-11T13:07:37.577969Z",
     "iopub.status.idle": "2022-11-11T13:07:37.601403Z",
     "shell.execute_reply": "2022-11-11T13:07:37.600377Z",
     "shell.execute_reply.started": "2022-11-11T13:07:37.578430Z"
    }
   },
   "outputs": [],
   "source": [
    "cols_for_dummies = [\"HomePlanet\", \"Destination\", \"Deck\", \"Side\"]\n",
    "def data_dummies(data, columns):\n",
    "    data_dummied = pd.get_dummies(data, columns=columns)\n",
    "    return data_dummied\n",
    "\n",
    "train_data = data_dummies(train_data, cols_for_dummies)\n",
    "train_data = train_data.astype(\"float64\")"
   ]
  },
  {
   "cell_type": "markdown",
   "metadata": {},
   "source": [
    "# Outlier Process"
   ]
  },
  {
   "cell_type": "code",
   "execution_count": 69,
   "metadata": {
    "execution": {
     "iopub.execute_input": "2022-11-11T13:07:37.603695Z",
     "iopub.status.busy": "2022-11-11T13:07:37.602900Z",
     "iopub.status.idle": "2022-11-11T13:07:37.616229Z",
     "shell.execute_reply": "2022-11-11T13:07:37.614806Z",
     "shell.execute_reply.started": "2022-11-11T13:07:37.603653Z"
    }
   },
   "outputs": [],
   "source": [
    "columns_for_outlier = train_data.columns\n",
    "import matplotlib.pyplot as plt\n",
    "import seaborn as sns\n",
    "def outlier_process(data, feature, type=\"reporting\"):\n",
    "    Q1 = data[feature].quantile(0.25)\n",
    "    Q3 = data[feature].quantile(0.75)\n",
    "    IQR = Q3 - Q1\n",
    "    \n",
    "    low_outlier_gate = Q1 - IQR*1.5\n",
    "    upp_outlier_gate = Q3 + IQR*1.5\n",
    "    outlier_number = len(data[feature][data[feature] < low_outlier_gate]) + len(data[feature][data[feature] > upp_outlier_gate])\n",
    "\n",
    "    if type == \"visualizing\": # Visualize outlier values with boxplot\n",
    "        sns.boxplot(data=data, x=feature)\n",
    "        plt.title(feature.upper())\n",
    "        plt.show() \n",
    "\n",
    "        print(\"As we can see in the figure above;\")\n",
    "        print(f\"Outlier number of '{feature.upper()}' feature:\", outlier_number)\n",
    "        print(f\"-\"*32)\n",
    "\n",
    "    elif type == \"reporting\": # Give report about outlier in dataset\n",
    "\n",
    "        if outlier_number == 0:\n",
    "            print(f\"'{feature.upper()}' feature has no any outlier\")\n",
    "        else:\n",
    "            print(f\"'{feature.upper()}' feature has some outliers:\", outlier_number)\n",
    "\n",
    "    elif type == \"pressing\": # Press outlier values\n",
    "\n",
    "        data[feature] = [low_outlier_gate if i < low_outlier_gate else upp_outlier_gate if i > upp_outlier_gate else i for i in data[feature]]\n",
    "\n",
    "    return data"
   ]
  },
  {
   "cell_type": "code",
   "execution_count": 70,
   "metadata": {
    "execution": {
     "iopub.execute_input": "2022-11-11T13:07:37.618561Z",
     "iopub.status.busy": "2022-11-11T13:07:37.618090Z",
     "iopub.status.idle": "2022-11-11T13:07:42.706701Z",
     "shell.execute_reply": "2022-11-11T13:07:42.705678Z",
     "shell.execute_reply.started": "2022-11-11T13:07:37.618516Z"
    }
   },
   "outputs": [
    {
     "data": {
      "image/png": "[encoded data removed]",
      "text/plain": [
       "<Figure size 432x288 with 1 Axes>"
      ]
     },
     "metadata": {
      "needs_background": "light"
     },
     "output_type": "display_data"
    },
    {
     "name": "stdout",
     "output_type": "stream",
     "text": [
      "As we can see in the figure above;\n",
      "Outlier number of 'CRYOSLEEP' feature: 0\n",
      "--------------------------------\n"
     ]
    },
    {
     "data": {
      "image/png": "[encoded data removed]",
      "text/plain": [
       "<Figure size 432x288 with 1 Axes>"
      ]
     },
     "metadata": {
      "needs_background": "light"
     },
     "output_type": "display_data"
    },
    {
     "name": "stdout",
     "output_type": "stream",
     "text": [
      "As we can see in the figure above;\n",
      "Outlier number of 'AGE' feature: 156\n",
      "--------------------------------\n"
     ]
    },
    {
     "data": {
      "image/png": "[encoded data removed]",
      "text/plain": [
       "<Figure size 432x288 with 1 Axes>"
      ]
     },
     "metadata": {
      "needs_background": "light"
     },
     "output_type": "display_data"
    },
    {
     "name": "stdout",
     "output_type": "stream",
     "text": [
      "As we can see in the figure above;\n",
      "Outlier number of 'VIP' feature: 390\n",
      "--------------------------------\n"
     ]
    },
    {
     "data": {
      "image/png": "[encoded data removed]",
      "text/plain": [
       "<Figure size 432x288 with 1 Axes>"
      ]
     },
     "metadata": {
      "needs_background": "light"
     },
     "output_type": "display_data"
    },
    {
     "name": "stdout",
     "output_type": "stream",
     "text": [
      "As we can see in the figure above;\n",
      "Outlier number of 'ROOMSERVICE' feature: 1789\n",
      "--------------------------------\n"
     ]
    },
    {
     "data": {
      "image/png": "[encoded data removed]",
      "text/plain": [
       "<Figure size 432x288 with 1 Axes>"
      ]
     },
     "metadata": {
      "needs_background": "light"
     },
     "output_type": "display_data"
    },
    {
     "name": "stdout",
     "output_type": "stream",
     "text": [
      "As we can see in the figure above;\n",
      "Outlier number of 'FOODCOURT' feature: 1777\n",
      "--------------------------------\n"
     ]
    },
    {
     "data": {
      "image/png": "[encoded data removed]",
      "text/plain": [
       "<Figure size 432x288 with 1 Axes>"
      ]
     },
     "metadata": {
      "needs_background": "light"
     },
     "output_type": "display_data"
    },
    {
     "name": "stdout",
     "output_type": "stream",
     "text": [
      "As we can see in the figure above;\n",
      "Outlier number of 'SHOPPINGMALL' feature: 1820\n",
      "--------------------------------\n"
     ]
    },
    {
     "data": {
      "image/png": "[encoded data removed]",
      "text/plain": [
       "<Figure size 432x288 with 1 Axes>"
      ]
     },
     "metadata": {
      "needs_background": "light"
     },
     "output_type": "display_data"
    },
    {
     "name": "stdout",
     "output_type": "stream",
     "text": [
      "As we can see in the figure above;\n",
      "Outlier number of 'SPA' feature: 1744\n",
      "--------------------------------\n"
     ]
    },
    {
     "data": {
      "image/png": "[encoded data removed]",
      "text/plain": [
       "<Figure size 432x288 with 1 Axes>"
      ]
     },
     "metadata": {
      "needs_background": "light"
     },
     "output_type": "display_data"
    },
    {
     "name": "stdout",
     "output_type": "stream",
     "text": [
      "As we can see in the figure above;\n",
      "Outlier number of 'VRDECK' feature: 1796\n",
      "--------------------------------\n"
     ]
    },
    {
     "data": {
      "image/png": "[encoded data removed]",
      "text/plain": [
       "<Figure size 432x288 with 1 Axes>"
      ]
     },
     "metadata": {
      "needs_background": "light"
     },
     "output_type": "display_data"
    },
    {
     "name": "stdout",
     "output_type": "stream",
     "text": [
      "As we can see in the figure above;\n",
      "Outlier number of 'TRANSPORTED' feature: 0\n",
      "--------------------------------\n"
     ]
    },
    {
     "data": {
      "image/png": "[encoded data removed]",
      "text/plain": [
       "<Figure size 432x288 with 1 Axes>"
      ]
     },
     "metadata": {
      "needs_background": "light"
     },
     "output_type": "display_data"
    },
    {
     "name": "stdout",
     "output_type": "stream",
     "text": [
      "As we can see in the figure above;\n",
      "Outlier number of 'NUMBER' feature: 0\n",
      "--------------------------------\n"
     ]
    },
    {
     "data": {
      "image/png": "[encoded data removed]",
      "text/plain": [
       "<Figure size 432x288 with 1 Axes>"
      ]
     },
     "metadata": {
      "needs_background": "light"
     },
     "output_type": "display_data"
    },
    {
     "name": "stdout",
     "output_type": "stream",
     "text": [
      "As we can see in the figure above;\n",
      "Outlier number of 'HOMEPLANET_EARTH' feature: 0\n",
      "--------------------------------\n"
     ]
    },
    {
     "data": {
      "image/png": "[encoded data removed]",
      "text/plain": [
       "<Figure size 432x288 with 1 Axes>"
      ]
     },
     "metadata": {
      "needs_background": "light"
     },
     "output_type": "display_data"
    },
    {
     "name": "stdout",
     "output_type": "stream",
     "text": [
      "As we can see in the figure above;\n",
      "Outlier number of 'HOMEPLANET_EUROPA' feature: 2070\n",
      "--------------------------------\n"
     ]
    },
    {
     "data": {
      "image/png": "[encoded data removed]",
      "text/plain": [
       "<Figure size 432x288 with 1 Axes>"
      ]
     },
     "metadata": {
      "needs_background": "light"
     },
     "output_type": "display_data"
    },
    {
     "name": "stdout",
     "output_type": "stream",
     "text": [
      "As we can see in the figure above;\n",
      "Outlier number of 'HOMEPLANET_MARS' feature: 1722\n",
      "--------------------------------\n"
     ]
    },
    {
     "data": {
      "image/png": "[encoded data removed]",
      "text/plain": [
       "<Figure size 432x288 with 1 Axes>"
      ]
     },
     "metadata": {
      "needs_background": "light"
     },
     "output_type": "display_data"
    },
    {
     "name": "stdout",
     "output_type": "stream",
     "text": [
      "As we can see in the figure above;\n",
      "Outlier number of 'DESTINATION_55 CANCRI E' feature: 1750\n",
      "--------------------------------\n"
     ]
    },
    {
     "data": {
      "image/png": "[encoded data removed]",
      "text/plain": [
       "<Figure size 432x288 with 1 Axes>"
      ]
     },
     "metadata": {
      "needs_background": "light"
     },
     "output_type": "display_data"
    },
    {
     "name": "stdout",
     "output_type": "stream",
     "text": [
      "As we can see in the figure above;\n",
      "Outlier number of 'DESTINATION_PSO J318.5-22' feature: 778\n",
      "--------------------------------\n"
     ]
    },
    {
     "data": {
      "image/png": "[encoded data removed]",
      "text/plain": [
       "<Figure size 432x288 with 1 Axes>"
      ]
     },
     "metadata": {
      "needs_background": "light"
     },
     "output_type": "display_data"
    },
    {
     "name": "stdout",
     "output_type": "stream",
     "text": [
      "As we can see in the figure above;\n",
      "Outlier number of 'DESTINATION_TRAPPIST-1E' feature: 0\n",
      "--------------------------------\n"
     ]
    },
    {
     "data": {
      "image/png": "[encoded data removed]",
      "text/plain": [
       "<Figure size 432x288 with 1 Axes>"
      ]
     },
     "metadata": {
      "needs_background": "light"
     },
     "output_type": "display_data"
    },
    {
     "name": "stdout",
     "output_type": "stream",
     "text": [
      "As we can see in the figure above;\n",
      "Outlier number of 'DECK_A' feature: 256\n",
      "--------------------------------\n"
     ]
    },
    {
     "data": {
      "image/png": "[encoded data removed]",
      "text/plain": [
       "<Figure size 432x288 with 1 Axes>"
      ]
     },
     "metadata": {
      "needs_background": "light"
     },
     "output_type": "display_data"
    },
    {
     "name": "stdout",
     "output_type": "stream",
     "text": [
      "As we can see in the figure above;\n",
      "Outlier number of 'DECK_B' feature: 779\n",
      "--------------------------------\n"
     ]
    },
    {
     "data": {
      "image/png": "[encoded data removed]",
      "text/plain": [
       "<Figure size 432x288 with 1 Axes>"
      ]
     },
     "metadata": {
      "needs_background": "light"
     },
     "output_type": "display_data"
    },
    {
     "name": "stdout",
     "output_type": "stream",
     "text": [
      "As we can see in the figure above;\n",
      "Outlier number of 'DECK_C' feature: 747\n",
      "--------------------------------\n"
     ]
    },
    {
     "data": {
      "image/png": "[encoded data removed]",
      "text/plain": [
       "<Figure size 432x288 with 1 Axes>"
      ]
     },
     "metadata": {
      "needs_background": "light"
     },
     "output_type": "display_data"
    },
    {
     "name": "stdout",
     "output_type": "stream",
     "text": [
      "As we can see in the figure above;\n",
      "Outlier number of 'DECK_D' feature: 478\n",
      "--------------------------------\n"
     ]
    },
    {
     "data": {
      "image/png": "[encoded data removed]",
      "text/plain": [
       "<Figure size 432x288 with 1 Axes>"
      ]
     },
     "metadata": {
      "needs_background": "light"
     },
     "output_type": "display_data"
    },
    {
     "name": "stdout",
     "output_type": "stream",
     "text": [
      "As we can see in the figure above;\n",
      "Outlier number of 'DECK_E' feature: 876\n",
      "--------------------------------\n"
     ]
    },
    {
     "data": {
      "image/png": "[encoded data removed]",
      "text/plain": [
       "<Figure size 432x288 with 1 Axes>"
      ]
     },
     "metadata": {
      "needs_background": "light"
     },
     "output_type": "display_data"
    },
    {
     "name": "stdout",
     "output_type": "stream",
     "text": [
      "As we can see in the figure above;\n",
      "Outlier number of 'DECK_F' feature: 0\n",
      "--------------------------------\n"
     ]
    },
    {
     "data": {
      "image/png": "[encoded data removed]",
      "text/plain": [
       "<Figure size 432x288 with 1 Axes>"
      ]
     },
     "metadata": {
      "needs_background": "light"
     },
     "output_type": "display_data"
    },
    {
     "name": "stdout",
     "output_type": "stream",
     "text": [
      "As we can see in the figure above;\n",
      "Outlier number of 'DECK_G' feature: 0\n",
      "--------------------------------\n"
     ]
    },
    {
     "data": {
      "image/png": "[encoded data removed]",
      "text/plain": [
       "<Figure size 432x288 with 1 Axes>"
      ]
     },
     "metadata": {
      "needs_background": "light"
     },
     "output_type": "display_data"
    },
    {
     "name": "stdout",
     "output_type": "stream",
     "text": [
      "As we can see in the figure above;\n",
      "Outlier number of 'DECK_T' feature: 5\n",
      "--------------------------------\n"
     ]
    },
    {
     "data": {
      "image/png": "[encoded data removed]",
      "text/plain": [
       "<Figure size 432x288 with 1 Axes>"
      ]
     },
     "metadata": {
      "needs_background": "light"
     },
     "output_type": "display_data"
    },
    {
     "name": "stdout",
     "output_type": "stream",
     "text": [
      "As we can see in the figure above;\n",
      "Outlier number of 'SIDE_P' feature: 0\n",
      "--------------------------------\n"
     ]
    },
    {
     "data": {
      "image/png": "[encoded data removed]",
      "text/plain": [
       "<Figure size 432x288 with 1 Axes>"
      ]
     },
     "metadata": {
      "needs_background": "light"
     },
     "output_type": "display_data"
    },
    {
     "name": "stdout",
     "output_type": "stream",
     "text": [
      "As we can see in the figure above;\n",
      "Outlier number of 'SIDE_S' feature: 0\n",
      "--------------------------------\n"
     ]
    }
   ],
   "source": [
    "#Visualize outlier with boxplot\n",
    "for feature in columns_for_outlier:\n",
    "    outlier_process(train_data, feature, \"visualizing\")"
   ]
  },
  {
   "cell_type": "code",
   "execution_count": 71,
   "metadata": {
    "execution": {
     "iopub.execute_input": "2022-11-11T13:07:42.715209Z",
     "iopub.status.busy": "2022-11-11T13:07:42.711968Z",
     "iopub.status.idle": "2022-11-11T13:07:42.980838Z",
     "shell.execute_reply": "2022-11-11T13:07:42.979760Z",
     "shell.execute_reply.started": "2022-11-11T13:07:42.715166Z"
    }
   },
   "outputs": [],
   "source": [
    "# Pressing outlier values\n",
    "for feature in columns_for_outlier:\n",
    "    train_data = outlier_process(train_data, feature, \"pressing\")"
   ]
  },
  {
   "cell_type": "code",
   "execution_count": 72,
   "metadata": {
    "execution": {
     "iopub.execute_input": "2022-11-11T13:07:42.989478Z",
     "iopub.status.busy": "2022-11-11T13:07:42.986531Z",
     "iopub.status.idle": "2022-11-11T13:07:43.100375Z",
     "shell.execute_reply": "2022-11-11T13:07:43.099273Z",
     "shell.execute_reply.started": "2022-11-11T13:07:42.989428Z"
    }
   },
   "outputs": [
    {
     "name": "stdout",
     "output_type": "stream",
     "text": [
      "'CRYOSLEEP' feature has no any outlier\n",
      "'AGE' feature has no any outlier\n",
      "'VIP' feature has no any outlier\n",
      "'ROOMSERVICE' feature has no any outlier\n",
      "'FOODCOURT' feature has no any outlier\n",
      "'SHOPPINGMALL' feature has no any outlier\n",
      "'SPA' feature has no any outlier\n",
      "'VRDECK' feature has no any outlier\n",
      "'TRANSPORTED' feature has no any outlier\n",
      "'NUMBER' feature has no any outlier\n",
      "'HOMEPLANET_EARTH' feature has no any outlier\n",
      "'HOMEPLANET_EUROPA' feature has no any outlier\n",
      "'HOMEPLANET_MARS' feature has no any outlier\n",
      "'DESTINATION_55 CANCRI E' feature has no any outlier\n",
      "'DESTINATION_PSO J318.5-22' feature has no any outlier\n",
      "'DESTINATION_TRAPPIST-1E' feature has no any outlier\n",
      "'DECK_A' feature has no any outlier\n",
      "'DECK_B' feature has no any outlier\n",
      "'DECK_C' feature has no any outlier\n",
      "'DECK_D' feature has no any outlier\n",
      "'DECK_E' feature has no any outlier\n",
      "'DECK_F' feature has no any outlier\n",
      "'DECK_G' feature has no any outlier\n",
      "'DECK_T' feature has no any outlier\n",
      "'SIDE_P' feature has no any outlier\n",
      "'SIDE_S' feature has no any outlier\n"
     ]
    }
   ],
   "source": [
    "# Report last situation\n",
    "for feature in columns_for_outlier:\n",
    "    outlier_process(train_data, feature, \"reporting\")"
   ]
  },
  {
   "cell_type": "code",
   "execution_count": 73,
   "metadata": {
    "execution": {
     "iopub.execute_input": "2022-11-11T13:07:43.106884Z",
     "iopub.status.busy": "2022-11-11T13:07:43.101864Z",
     "iopub.status.idle": "2022-11-11T13:07:43.180218Z",
     "shell.execute_reply": "2022-11-11T13:07:43.179206Z",
     "shell.execute_reply.started": "2022-11-11T13:07:43.106838Z"
    }
   },
   "outputs": [
    {
     "data": {
      "text/html": [
       "<div>\n",
       "<style scoped>\n",
       "    .dataframe tbody tr th:only-of-type {\n",
       "        vertical-align: middle;\n",
       "    }\n",
       "\n",
       "    .dataframe tbody tr th {\n",
       "        vertical-align: top;\n",
       "    }\n",
       "\n",
       "    .dataframe thead th {\n",
       "        text-align: right;\n",
       "    }\n",
       "</style>\n",
       "<table border=\"1\" class=\"dataframe\">\n",
       "  <thead>\n",
       "    <tr style=\"text-align: right;\">\n",
       "      <th></th>\n",
       "      <th>CryoSleep</th>\n",
       "      <th>Age</th>\n",
       "      <th>VIP</th>\n",
       "      <th>RoomService</th>\n",
       "      <th>FoodCourt</th>\n",
       "      <th>ShoppingMall</th>\n",
       "      <th>Spa</th>\n",
       "      <th>VRDeck</th>\n",
       "      <th>Transported</th>\n",
       "      <th>Number</th>\n",
       "      <th>...</th>\n",
       "      <th>Deck_A</th>\n",
       "      <th>Deck_B</th>\n",
       "      <th>Deck_C</th>\n",
       "      <th>Deck_D</th>\n",
       "      <th>Deck_E</th>\n",
       "      <th>Deck_F</th>\n",
       "      <th>Deck_G</th>\n",
       "      <th>Deck_T</th>\n",
       "      <th>Side_P</th>\n",
       "      <th>Side_S</th>\n",
       "    </tr>\n",
       "    <tr>\n",
       "      <th>PassengerId</th>\n",
       "      <th></th>\n",
       "      <th></th>\n",
       "      <th></th>\n",
       "      <th></th>\n",
       "      <th></th>\n",
       "      <th></th>\n",
       "      <th></th>\n",
       "      <th></th>\n",
       "      <th></th>\n",
       "      <th></th>\n",
       "      <th></th>\n",
       "      <th></th>\n",
       "      <th></th>\n",
       "      <th></th>\n",
       "      <th></th>\n",
       "      <th></th>\n",
       "      <th></th>\n",
       "      <th></th>\n",
       "      <th></th>\n",
       "      <th></th>\n",
       "      <th></th>\n",
       "    </tr>\n",
       "  </thead>\n",
       "  <tbody>\n",
       "    <tr>\n",
       "      <th>0001_01</th>\n",
       "      <td>0.0</td>\n",
       "      <td>39.0</td>\n",
       "      <td>0.0</td>\n",
       "      <td>0.000</td>\n",
       "      <td>0.000</td>\n",
       "      <td>0.0</td>\n",
       "      <td>0.0</td>\n",
       "      <td>0.0</td>\n",
       "      <td>0.0</td>\n",
       "      <td>0.0</td>\n",
       "      <td>...</td>\n",
       "      <td>0.0</td>\n",
       "      <td>0.0</td>\n",
       "      <td>0.0</td>\n",
       "      <td>0.0</td>\n",
       "      <td>0.0</td>\n",
       "      <td>0.0</td>\n",
       "      <td>0.0</td>\n",
       "      <td>0.0</td>\n",
       "      <td>1.0</td>\n",
       "      <td>0.0</td>\n",
       "    </tr>\n",
       "    <tr>\n",
       "      <th>0002_01</th>\n",
       "      <td>0.0</td>\n",
       "      <td>24.0</td>\n",
       "      <td>0.0</td>\n",
       "      <td>109.000</td>\n",
       "      <td>9.000</td>\n",
       "      <td>25.0</td>\n",
       "      <td>222.5</td>\n",
       "      <td>44.0</td>\n",
       "      <td>1.0</td>\n",
       "      <td>0.0</td>\n",
       "      <td>...</td>\n",
       "      <td>0.0</td>\n",
       "      <td>0.0</td>\n",
       "      <td>0.0</td>\n",
       "      <td>0.0</td>\n",
       "      <td>0.0</td>\n",
       "      <td>1.0</td>\n",
       "      <td>0.0</td>\n",
       "      <td>0.0</td>\n",
       "      <td>0.0</td>\n",
       "      <td>1.0</td>\n",
       "    </tr>\n",
       "    <tr>\n",
       "      <th>0003_01</th>\n",
       "      <td>0.0</td>\n",
       "      <td>58.0</td>\n",
       "      <td>0.0</td>\n",
       "      <td>43.000</td>\n",
       "      <td>304.375</td>\n",
       "      <td>0.0</td>\n",
       "      <td>222.5</td>\n",
       "      <td>49.0</td>\n",
       "      <td>0.0</td>\n",
       "      <td>0.0</td>\n",
       "      <td>...</td>\n",
       "      <td>0.0</td>\n",
       "      <td>0.0</td>\n",
       "      <td>0.0</td>\n",
       "      <td>0.0</td>\n",
       "      <td>0.0</td>\n",
       "      <td>0.0</td>\n",
       "      <td>0.0</td>\n",
       "      <td>0.0</td>\n",
       "      <td>0.0</td>\n",
       "      <td>1.0</td>\n",
       "    </tr>\n",
       "    <tr>\n",
       "      <th>0003_02</th>\n",
       "      <td>0.0</td>\n",
       "      <td>33.0</td>\n",
       "      <td>0.0</td>\n",
       "      <td>0.000</td>\n",
       "      <td>304.375</td>\n",
       "      <td>115.0</td>\n",
       "      <td>222.5</td>\n",
       "      <td>177.5</td>\n",
       "      <td>0.0</td>\n",
       "      <td>0.0</td>\n",
       "      <td>...</td>\n",
       "      <td>0.0</td>\n",
       "      <td>0.0</td>\n",
       "      <td>0.0</td>\n",
       "      <td>0.0</td>\n",
       "      <td>0.0</td>\n",
       "      <td>0.0</td>\n",
       "      <td>0.0</td>\n",
       "      <td>0.0</td>\n",
       "      <td>0.0</td>\n",
       "      <td>1.0</td>\n",
       "    </tr>\n",
       "    <tr>\n",
       "      <th>0004_01</th>\n",
       "      <td>0.0</td>\n",
       "      <td>16.0</td>\n",
       "      <td>0.0</td>\n",
       "      <td>201.875</td>\n",
       "      <td>70.000</td>\n",
       "      <td>115.0</td>\n",
       "      <td>222.5</td>\n",
       "      <td>2.0</td>\n",
       "      <td>1.0</td>\n",
       "      <td>1.0</td>\n",
       "      <td>...</td>\n",
       "      <td>0.0</td>\n",
       "      <td>0.0</td>\n",
       "      <td>0.0</td>\n",
       "      <td>0.0</td>\n",
       "      <td>0.0</td>\n",
       "      <td>1.0</td>\n",
       "      <td>0.0</td>\n",
       "      <td>0.0</td>\n",
       "      <td>0.0</td>\n",
       "      <td>1.0</td>\n",
       "    </tr>\n",
       "    <tr>\n",
       "      <th>...</th>\n",
       "      <td>...</td>\n",
       "      <td>...</td>\n",
       "      <td>...</td>\n",
       "      <td>...</td>\n",
       "      <td>...</td>\n",
       "      <td>...</td>\n",
       "      <td>...</td>\n",
       "      <td>...</td>\n",
       "      <td>...</td>\n",
       "      <td>...</td>\n",
       "      <td>...</td>\n",
       "      <td>...</td>\n",
       "      <td>...</td>\n",
       "      <td>...</td>\n",
       "      <td>...</td>\n",
       "      <td>...</td>\n",
       "      <td>...</td>\n",
       "      <td>...</td>\n",
       "      <td>...</td>\n",
       "      <td>...</td>\n",
       "      <td>...</td>\n",
       "    </tr>\n",
       "    <tr>\n",
       "      <th>9276_01</th>\n",
       "      <td>0.0</td>\n",
       "      <td>41.0</td>\n",
       "      <td>0.0</td>\n",
       "      <td>0.000</td>\n",
       "      <td>304.375</td>\n",
       "      <td>0.0</td>\n",
       "      <td>222.5</td>\n",
       "      <td>74.0</td>\n",
       "      <td>0.0</td>\n",
       "      <td>98.0</td>\n",
       "      <td>...</td>\n",
       "      <td>0.0</td>\n",
       "      <td>0.0</td>\n",
       "      <td>0.0</td>\n",
       "      <td>0.0</td>\n",
       "      <td>0.0</td>\n",
       "      <td>0.0</td>\n",
       "      <td>0.0</td>\n",
       "      <td>0.0</td>\n",
       "      <td>1.0</td>\n",
       "      <td>0.0</td>\n",
       "    </tr>\n",
       "    <tr>\n",
       "      <th>9278_01</th>\n",
       "      <td>1.0</td>\n",
       "      <td>18.0</td>\n",
       "      <td>0.0</td>\n",
       "      <td>0.000</td>\n",
       "      <td>0.000</td>\n",
       "      <td>0.0</td>\n",
       "      <td>0.0</td>\n",
       "      <td>0.0</td>\n",
       "      <td>0.0</td>\n",
       "      <td>1499.0</td>\n",
       "      <td>...</td>\n",
       "      <td>0.0</td>\n",
       "      <td>0.0</td>\n",
       "      <td>0.0</td>\n",
       "      <td>0.0</td>\n",
       "      <td>0.0</td>\n",
       "      <td>0.0</td>\n",
       "      <td>1.0</td>\n",
       "      <td>0.0</td>\n",
       "      <td>0.0</td>\n",
       "      <td>1.0</td>\n",
       "    </tr>\n",
       "    <tr>\n",
       "      <th>9279_01</th>\n",
       "      <td>0.0</td>\n",
       "      <td>26.0</td>\n",
       "      <td>0.0</td>\n",
       "      <td>0.000</td>\n",
       "      <td>0.000</td>\n",
       "      <td>115.0</td>\n",
       "      <td>1.0</td>\n",
       "      <td>0.0</td>\n",
       "      <td>1.0</td>\n",
       "      <td>1500.0</td>\n",
       "      <td>...</td>\n",
       "      <td>0.0</td>\n",
       "      <td>0.0</td>\n",
       "      <td>0.0</td>\n",
       "      <td>0.0</td>\n",
       "      <td>0.0</td>\n",
       "      <td>0.0</td>\n",
       "      <td>1.0</td>\n",
       "      <td>0.0</td>\n",
       "      <td>0.0</td>\n",
       "      <td>1.0</td>\n",
       "    </tr>\n",
       "    <tr>\n",
       "      <th>9280_01</th>\n",
       "      <td>0.0</td>\n",
       "      <td>32.0</td>\n",
       "      <td>0.0</td>\n",
       "      <td>0.000</td>\n",
       "      <td>304.375</td>\n",
       "      <td>0.0</td>\n",
       "      <td>222.5</td>\n",
       "      <td>177.5</td>\n",
       "      <td>0.0</td>\n",
       "      <td>608.0</td>\n",
       "      <td>...</td>\n",
       "      <td>0.0</td>\n",
       "      <td>0.0</td>\n",
       "      <td>0.0</td>\n",
       "      <td>0.0</td>\n",
       "      <td>0.0</td>\n",
       "      <td>0.0</td>\n",
       "      <td>0.0</td>\n",
       "      <td>0.0</td>\n",
       "      <td>0.0</td>\n",
       "      <td>1.0</td>\n",
       "    </tr>\n",
       "    <tr>\n",
       "      <th>9280_02</th>\n",
       "      <td>0.0</td>\n",
       "      <td>44.0</td>\n",
       "      <td>0.0</td>\n",
       "      <td>126.000</td>\n",
       "      <td>304.375</td>\n",
       "      <td>0.0</td>\n",
       "      <td>0.0</td>\n",
       "      <td>12.0</td>\n",
       "      <td>1.0</td>\n",
       "      <td>608.0</td>\n",
       "      <td>...</td>\n",
       "      <td>0.0</td>\n",
       "      <td>0.0</td>\n",
       "      <td>0.0</td>\n",
       "      <td>0.0</td>\n",
       "      <td>0.0</td>\n",
       "      <td>0.0</td>\n",
       "      <td>0.0</td>\n",
       "      <td>0.0</td>\n",
       "      <td>0.0</td>\n",
       "      <td>1.0</td>\n",
       "    </tr>\n",
       "  </tbody>\n",
       "</table>\n",
       "<p>8494 rows × 26 columns</p>\n",
       "</div>"
      ],
      "text/plain": [
       "             CryoSleep   Age  VIP  RoomService  FoodCourt  ShoppingMall  \\\n",
       "PassengerId                                                               \n",
       "0001_01            0.0  39.0  0.0        0.000      0.000           0.0   \n",
       "0002_01            0.0  24.0  0.0      109.000      9.000          25.0   \n",
       "0003_01            0.0  58.0  0.0       43.000    304.375           0.0   \n",
       "0003_02            0.0  33.0  0.0        0.000    304.375         115.0   \n",
       "0004_01            0.0  16.0  0.0      201.875     70.000         115.0   \n",
       "...                ...   ...  ...          ...        ...           ...   \n",
       "9276_01            0.0  41.0  0.0        0.000    304.375           0.0   \n",
       "9278_01            1.0  18.0  0.0        0.000      0.000           0.0   \n",
       "9279_01            0.0  26.0  0.0        0.000      0.000         115.0   \n",
       "9280_01            0.0  32.0  0.0        0.000    304.375           0.0   \n",
       "9280_02            0.0  44.0  0.0      126.000    304.375           0.0   \n",
       "\n",
       "               Spa  VRDeck  Transported  Number  ...  Deck_A  Deck_B  Deck_C  \\\n",
       "PassengerId                                      ...                           \n",
       "0001_01        0.0     0.0          0.0     0.0  ...     0.0     0.0     0.0   \n",
       "0002_01      222.5    44.0          1.0     0.0  ...     0.0     0.0     0.0   \n",
       "0003_01      222.5    49.0          0.0     0.0  ...     0.0     0.0     0.0   \n",
       "0003_02      222.5   177.5          0.0     0.0  ...     0.0     0.0     0.0   \n",
       "0004_01      222.5     2.0          1.0     1.0  ...     0.0     0.0     0.0   \n",
       "...            ...     ...          ...     ...  ...     ...     ...     ...   \n",
       "9276_01      222.5    74.0          0.0    98.0  ...     0.0     0.0     0.0   \n",
       "9278_01        0.0     0.0          0.0  1499.0  ...     0.0     0.0     0.0   \n",
       "9279_01        1.0     0.0          1.0  1500.0  ...     0.0     0.0     0.0   \n",
       "9280_01      222.5   177.5          0.0   608.0  ...     0.0     0.0     0.0   \n",
       "9280_02        0.0    12.0          1.0   608.0  ...     0.0     0.0     0.0   \n",
       "\n",
       "             Deck_D  Deck_E  Deck_F  Deck_G  Deck_T  Side_P  Side_S  \n",
       "PassengerId                                                          \n",
       "0001_01         0.0     0.0     0.0     0.0     0.0     1.0     0.0  \n",
       "0002_01         0.0     0.0     1.0     0.0     0.0     0.0     1.0  \n",
       "0003_01         0.0     0.0     0.0     0.0     0.0     0.0     1.0  \n",
       "0003_02         0.0     0.0     0.0     0.0     0.0     0.0     1.0  \n",
       "0004_01         0.0     0.0     1.0     0.0     0.0     0.0     1.0  \n",
       "...             ...     ...     ...     ...     ...     ...     ...  \n",
       "9276_01         0.0     0.0     0.0     0.0     0.0     1.0     0.0  \n",
       "9278_01         0.0     0.0     0.0     1.0     0.0     0.0     1.0  \n",
       "9279_01         0.0     0.0     0.0     1.0     0.0     0.0     1.0  \n",
       "9280_01         0.0     0.0     0.0     0.0     0.0     0.0     1.0  \n",
       "9280_02         0.0     0.0     0.0     0.0     0.0     0.0     1.0  \n",
       "\n",
       "[8494 rows x 26 columns]"
      ]
     },
     "execution_count": 73,
     "metadata": {},
     "output_type": "execute_result"
    }
   ],
   "source": [
    "train_data"
   ]
  },
  {
   "cell_type": "code",
   "execution_count": 74,
   "metadata": {
    "execution": {
     "iopub.execute_input": "2022-11-11T13:07:43.187265Z",
     "iopub.status.busy": "2022-11-11T13:07:43.184736Z",
     "iopub.status.idle": "2022-11-11T13:07:43.198953Z",
     "shell.execute_reply": "2022-11-11T13:07:43.197463Z",
     "shell.execute_reply.started": "2022-11-11T13:07:43.187224Z"
    }
   },
   "outputs": [],
   "source": [
    "# Time to split train dataset into X_data including data and y_data including targets\n",
    "X_data = train_data.drop(\"Transported\", axis=1).values\n",
    "y_data = train_data[\"Transported\"].values.reshape(-1,1)"
   ]
  },
  {
   "cell_type": "code",
   "execution_count": 75,
   "metadata": {
    "execution": {
     "iopub.execute_input": "2022-11-11T13:07:43.208750Z",
     "iopub.status.busy": "2022-11-11T13:07:43.205348Z",
     "iopub.status.idle": "2022-11-11T13:07:43.419298Z",
     "shell.execute_reply": "2022-11-11T13:07:43.418257Z",
     "shell.execute_reply.started": "2022-11-11T13:07:43.208706Z"
    }
   },
   "outputs": [
    {
     "name": "stdout",
     "output_type": "stream",
     "text": [
      "for train dataset:\n",
      "X_train shape: (6795, 25)\n",
      "y_train shape: (6795, 1)\n",
      "\n",
      "for validation dataset:\n",
      "X_val shape: (1699, 25)\n",
      "y_val shape: (1699, 1)\n"
     ]
    }
   ],
   "source": [
    "# Split train dataset into train dataset which model will be trained,\n",
    "# and validation dataset which model performance will be validated\n",
    "\n",
    "from sklearn.model_selection import train_test_split\n",
    "X_train, X_val, y_train, y_val = train_test_split(X_data, y_data,\n",
    "                                                 test_size=0.2,\n",
    "                                                 random_state=42)\n",
    "print(\"for train dataset:\")\n",
    "print(\"X_train shape:\", X_train.shape)\n",
    "print(\"y_train shape:\", y_train.shape)\n",
    "print(\"\\nfor validation dataset:\")\n",
    "print(\"X_val shape:\", X_val.shape)\n",
    "print(\"y_val shape:\", y_val.shape)"
   ]
  },
  {
   "cell_type": "code",
   "execution_count": 76,
   "metadata": {
    "execution": {
     "iopub.execute_input": "2022-11-11T13:07:43.421816Z",
     "iopub.status.busy": "2022-11-11T13:07:43.421090Z",
     "iopub.status.idle": "2022-11-11T13:07:43.652020Z",
     "shell.execute_reply": "2022-11-11T13:07:43.650894Z",
     "shell.execute_reply.started": "2022-11-11T13:07:43.421776Z"
    }
   },
   "outputs": [],
   "source": [
    "# We will set Pipeline to use several libraries together. \n",
    "from sklearn.preprocessing import MinMaxScaler\n",
    "from sklearn.impute import SimpleImputer\n",
    "from sklearn.pipeline import Pipeline\n",
    "pipeline = Pipeline([\n",
    "    (\"imputer\", SimpleImputer(strategy=\"mean\")),\n",
    "    (\"min_max\", MinMaxScaler(feature_range=(0,1)))\n",
    "])\n",
    "X_train = pipeline.fit_transform(X_train)\n",
    "X_val = pipeline.transform(X_val)"
   ]
  },
  {
   "cell_type": "markdown",
   "metadata": {},
   "source": [
    "# Modelling"
   ]
  },
  {
   "cell_type": "code",
   "execution_count": 77,
   "metadata": {
    "execution": {
     "iopub.execute_input": "2022-11-11T13:07:43.666364Z",
     "iopub.status.busy": "2022-11-11T13:07:43.662772Z",
     "iopub.status.idle": "2022-11-11T13:07:43.673851Z",
     "shell.execute_reply": "2022-11-11T13:07:43.672577Z",
     "shell.execute_reply.started": "2022-11-11T13:07:43.666309Z"
    }
   },
   "outputs": [],
   "source": [
    "# Setting some parameters\n",
    "input_shape = X_train.shape[1]\n",
    "saved_model_dir=\"best_weights.h5\"\n",
    "batch_size=64\n",
    "epoch=150\n",
    "verbose=1"
   ]
  },
  {
   "cell_type": "code",
   "execution_count": 78,
   "metadata": {
    "execution": {
     "iopub.execute_input": "2022-11-11T13:07:43.677300Z",
     "iopub.status.busy": "2022-11-11T13:07:43.676327Z",
     "iopub.status.idle": "2022-11-11T13:07:54.507710Z",
     "shell.execute_reply": "2022-11-11T13:07:54.506640Z",
     "shell.execute_reply.started": "2022-11-11T13:07:43.677244Z"
    }
   },
   "outputs": [],
   "source": [
    "# Building DNN model\n",
    "from tensorflow.keras import models as m, layers as l, optimizers as opt, callbacks as cb\n",
    "import tensorflow as tf"
   ]
  },
  {
   "cell_type": "code",
   "execution_count": 79,
   "metadata": {
    "execution": {
     "iopub.execute_input": "2022-11-11T13:09:37.826381Z",
     "iopub.status.busy": "2022-11-11T13:09:37.825512Z",
     "iopub.status.idle": "2022-11-11T13:09:38.035885Z",
     "shell.execute_reply": "2022-11-11T13:09:38.034933Z",
     "shell.execute_reply.started": "2022-11-11T13:09:37.826341Z"
    }
   },
   "outputs": [],
   "source": [
    "\n",
    "\n",
    "def create_uncompiled_model(input_shape):\n",
    "    model = m.Sequential([\n",
    "                        l.Flatten(input_shape=[input_shape]),\n",
    "                        l.BatchNormalization(),\n",
    "        \n",
    "                        l.Dense(1024, kernel_initializer=\"he_normal\"),\n",
    "                        l.BatchNormalization(),\n",
    "                        l.Activation(\"relu\"),\n",
    "                        l.Dropout(0.2),\n",
    "        \n",
    "                        l.Dense(512, kernel_initializer=\"he_normal\"),\n",
    "                        l.BatchNormalization(),\n",
    "                        l.Activation(\"relu\"),\n",
    "                        l.Dropout(0.2),\n",
    "\n",
    "                        l.Dense(256, kernel_initializer=\"he_normal\"),\n",
    "                        l.BatchNormalization(),\n",
    "                        l.Activation(\"relu\"),\n",
    "                        l.Dropout(0.3),\n",
    "        \n",
    "                        l.Dense(128, kernel_initializer=\"he_normal\"),\n",
    "                        l.BatchNormalization(),\n",
    "                        l.Activation(\"relu\"),\n",
    "                        l.Dropout(0.2),\n",
    "\n",
    "                        l.Dense(64, kernel_initializer=\"he_normal\"),\n",
    "                        l.BatchNormalization(),\n",
    "                        l.Activation(\"relu\"),\n",
    "                        l.Dropout(0.3),\n",
    "        \n",
    "                        l.Dense(32, kernel_initializer=\"he_normal\"),\n",
    "                        l.BatchNormalization(),\n",
    "                        l.Activation(\"relu\"),\n",
    "                        l.Dropout(0.3),\n",
    "                        \n",
    "                        l.Dense(16, kernel_initializer=\"he_normal\"),\n",
    "                        l.BatchNormalization(),\n",
    "                        l.Activation(\"relu\"),\n",
    "                        l.Dropout(0.2),\n",
    "\n",
    "                        l.Dense(1, activation=\"sigmoid\")    \n",
    "                        ])\n",
    "\n",
    "    return model\n",
    "\n",
    "model = create_uncompiled_model(input_shape)\n",
    "\n",
    "model.compile(loss=\"binary_crossentropy\",\n",
    "             optimizer=opt.Adam(0.0001),\n",
    "             metrics=[\"accuracy\"])"
   ]
  },
  {
   "cell_type": "code",
   "execution_count": 80,
   "metadata": {
    "execution": {
     "iopub.execute_input": "2022-11-11T13:08:00.769991Z",
     "iopub.status.busy": "2022-11-11T13:08:00.769130Z",
     "iopub.status.idle": "2022-11-11T13:08:00.776688Z",
     "shell.execute_reply": "2022-11-11T13:08:00.774367Z",
     "shell.execute_reply.started": "2022-11-11T13:08:00.769953Z"
    }
   },
   "outputs": [],
   "source": [
    "# Best weights will be loaded to model after model trains\n",
    "checkpoint = cb.ModelCheckpoint(saved_model_dir,\n",
    "                               save_best_only = True)"
   ]
  },
  {
   "cell_type": "code",
   "execution_count": 81,
   "metadata": {},
   "outputs": [],
   "source": [
    "# def adjust_learning_rate():\n",
    "#     model = create_uncompiled_model(input_shape)\n",
    "#     lr_schedule = tf.keras.callbacks.LearningRateScheduler(lambda epoch: 1e-6 *10**(epoch / 20))\n",
    "#     ### START CODE HERE\n",
    "#     # Select your optimizer\n",
    "#     optimizer = tf.keras.optimizers.Adam()\n",
    "#     # Compile the model passing in the appropriate loss\n",
    "#     model.compile(loss=\"binary_crossentropy\",\n",
    "#     optimizer=optimizer,\n",
    "#     metrics=[\"accuracy\"])\n",
    "#     ### END CODE HERE\n",
    "#     history = model.fit(X_train, y_train, batch_size=batch_size,\n",
    "#                  epochs=epoch,\n",
    "#                  verbose=verbose,\n",
    "#                  validation_data=(X_val, y_val),\n",
    "#                  callbacks=[checkpoint,lr_schedule])\n",
    "#     return history\n",
    "# lr_history = adjust_learning_rate()\n",
    "# # Plot the loss for every LR\n",
    "# plt.semilogx(lr_history.history[\"lr\"], lr_history.history[\"loss\"])\n",
    "# plt.axis([1e-6, 1, 0, 30])"
   ]
  },
  {
   "cell_type": "code",
   "execution_count": 82,
   "metadata": {
    "execution": {
     "iopub.execute_input": "2022-11-11T13:09:48.272797Z",
     "iopub.status.busy": "2022-11-11T13:09:48.272376Z",
     "iopub.status.idle": "2022-11-11T13:18:39.675147Z",
     "shell.execute_reply": "2022-11-11T13:18:39.673831Z",
     "shell.execute_reply.started": "2022-11-11T13:09:48.272752Z"
    }
   },
   "outputs": [
    {
     "name": "stdout",
     "output_type": "stream",
     "text": [
      "Epoch 1/100\n",
      "107/107 [==============================] - 3s 13ms/step - loss: 0.7148 - accuracy: 0.5657 - val_loss: 0.6291 - val_accuracy: 0.6839\n",
      "Epoch 2/100\n",
      "107/107 [==============================] - 1s 12ms/step - loss: 0.6546 - accuracy: 0.6313 - val_loss: 0.5734 - val_accuracy: 0.7416\n",
      "Epoch 3/100\n",
      "107/107 [==============================] - 1s 12ms/step - loss: 0.6116 - accuracy: 0.6650 - val_loss: 0.5339 - val_accuracy: 0.7663\n",
      "Epoch 4/100\n",
      "107/107 [==============================] - 1s 12ms/step - loss: 0.6016 - accuracy: 0.6767 - val_loss: 0.5130 - val_accuracy: 0.7769\n",
      "Epoch 5/100\n",
      "107/107 [==============================] - 1s 12ms/step - loss: 0.5772 - accuracy: 0.6979 - val_loss: 0.5038 - val_accuracy: 0.7816\n",
      "Epoch 6/100\n",
      "107/107 [==============================] - 1s 13ms/step - loss: 0.5690 - accuracy: 0.7096 - val_loss: 0.4978 - val_accuracy: 0.7875\n",
      "Epoch 7/100\n",
      "107/107 [==============================] - 1s 13ms/step - loss: 0.5575 - accuracy: 0.7124 - val_loss: 0.4928 - val_accuracy: 0.7893\n",
      "Epoch 8/100\n",
      "107/107 [==============================] - 1s 13ms/step - loss: 0.5541 - accuracy: 0.7255 - val_loss: 0.4886 - val_accuracy: 0.7875\n",
      "Epoch 9/100\n",
      "107/107 [==============================] - 1s 13ms/step - loss: 0.5434 - accuracy: 0.7251 - val_loss: 0.4854 - val_accuracy: 0.7858\n",
      "Epoch 10/100\n",
      "107/107 [==============================] - 1s 12ms/step - loss: 0.5411 - accuracy: 0.7301 - val_loss: 0.4844 - val_accuracy: 0.7810\n",
      "Epoch 11/100\n",
      "107/107 [==============================] - 1s 12ms/step - loss: 0.5366 - accuracy: 0.7376 - val_loss: 0.4841 - val_accuracy: 0.7822\n",
      "Epoch 12/100\n",
      "107/107 [==============================] - 1s 11ms/step - loss: 0.5333 - accuracy: 0.7386 - val_loss: 0.4807 - val_accuracy: 0.7810\n",
      "Epoch 13/100\n",
      "107/107 [==============================] - 1s 13ms/step - loss: 0.5346 - accuracy: 0.7400 - val_loss: 0.4770 - val_accuracy: 0.7840\n",
      "Epoch 14/100\n",
      "107/107 [==============================] - 1s 14ms/step - loss: 0.5312 - accuracy: 0.7363 - val_loss: 0.4758 - val_accuracy: 0.7834\n",
      "Epoch 15/100\n",
      "107/107 [==============================] - 1s 12ms/step - loss: 0.5238 - accuracy: 0.7407 - val_loss: 0.4769 - val_accuracy: 0.7834\n",
      "Epoch 16/100\n",
      "107/107 [==============================] - 1s 12ms/step - loss: 0.5162 - accuracy: 0.7481 - val_loss: 0.4737 - val_accuracy: 0.7822\n",
      "Epoch 17/100\n",
      "107/107 [==============================] - 1s 12ms/step - loss: 0.5196 - accuracy: 0.7472 - val_loss: 0.4720 - val_accuracy: 0.7810\n",
      "Epoch 18/100\n",
      "107/107 [==============================] - 1s 12ms/step - loss: 0.5128 - accuracy: 0.7545 - val_loss: 0.4695 - val_accuracy: 0.7810\n",
      "Epoch 19/100\n",
      "107/107 [==============================] - 1s 12ms/step - loss: 0.5145 - accuracy: 0.7591 - val_loss: 0.4698 - val_accuracy: 0.7805\n",
      "Epoch 20/100\n",
      "107/107 [==============================] - 1s 12ms/step - loss: 0.5140 - accuracy: 0.7548 - val_loss: 0.4672 - val_accuracy: 0.7799\n",
      "Epoch 21/100\n",
      "107/107 [==============================] - 1s 12ms/step - loss: 0.5086 - accuracy: 0.7556 - val_loss: 0.4663 - val_accuracy: 0.7787\n",
      "Epoch 22/100\n",
      "107/107 [==============================] - 1s 12ms/step - loss: 0.5075 - accuracy: 0.7579 - val_loss: 0.4663 - val_accuracy: 0.7799\n",
      "Epoch 23/100\n",
      "107/107 [==============================] - 1s 11ms/step - loss: 0.5059 - accuracy: 0.7598 - val_loss: 0.4655 - val_accuracy: 0.7799\n",
      "Epoch 24/100\n",
      "107/107 [==============================] - 1s 12ms/step - loss: 0.5074 - accuracy: 0.7536 - val_loss: 0.4653 - val_accuracy: 0.7787\n",
      "Epoch 25/100\n",
      "107/107 [==============================] - 1s 12ms/step - loss: 0.5043 - accuracy: 0.7634 - val_loss: 0.4607 - val_accuracy: 0.7828\n",
      "Epoch 26/100\n",
      "107/107 [==============================] - 1s 12ms/step - loss: 0.5029 - accuracy: 0.7594 - val_loss: 0.4624 - val_accuracy: 0.7781\n",
      "Epoch 27/100\n",
      "107/107 [==============================] - 1s 12ms/step - loss: 0.5016 - accuracy: 0.7653 - val_loss: 0.4611 - val_accuracy: 0.7787\n",
      "Epoch 28/100\n",
      "107/107 [==============================] - 1s 12ms/step - loss: 0.5021 - accuracy: 0.7625 - val_loss: 0.4619 - val_accuracy: 0.7793\n",
      "Epoch 29/100\n",
      "107/107 [==============================] - 1s 12ms/step - loss: 0.4957 - accuracy: 0.7634 - val_loss: 0.4599 - val_accuracy: 0.7763\n",
      "Epoch 30/100\n",
      "107/107 [==============================] - 1s 11ms/step - loss: 0.4977 - accuracy: 0.7617 - val_loss: 0.4601 - val_accuracy: 0.7816\n",
      "Epoch 31/100\n",
      "107/107 [==============================] - 1s 11ms/step - loss: 0.4986 - accuracy: 0.7642 - val_loss: 0.4599 - val_accuracy: 0.7799\n",
      "Epoch 32/100\n",
      "107/107 [==============================] - 1s 12ms/step - loss: 0.4994 - accuracy: 0.7622 - val_loss: 0.4594 - val_accuracy: 0.7828\n",
      "Epoch 33/100\n",
      "107/107 [==============================] - 1s 11ms/step - loss: 0.4934 - accuracy: 0.7678 - val_loss: 0.4599 - val_accuracy: 0.7793\n",
      "Epoch 34/100\n",
      "107/107 [==============================] - 1s 11ms/step - loss: 0.4923 - accuracy: 0.7663 - val_loss: 0.4604 - val_accuracy: 0.7775\n",
      "Epoch 35/100\n",
      "107/107 [==============================] - 1s 12ms/step - loss: 0.4955 - accuracy: 0.7678 - val_loss: 0.4596 - val_accuracy: 0.7810\n",
      "Epoch 36/100\n",
      "107/107 [==============================] - 1s 11ms/step - loss: 0.4940 - accuracy: 0.7682 - val_loss: 0.4600 - val_accuracy: 0.7805\n",
      "Epoch 37/100\n",
      "107/107 [==============================] - 1s 12ms/step - loss: 0.4928 - accuracy: 0.7662 - val_loss: 0.4592 - val_accuracy: 0.7810\n",
      "Epoch 38/100\n",
      "107/107 [==============================] - 1s 12ms/step - loss: 0.4891 - accuracy: 0.7682 - val_loss: 0.4567 - val_accuracy: 0.7775\n",
      "Epoch 39/100\n",
      "107/107 [==============================] - 1s 12ms/step - loss: 0.4938 - accuracy: 0.7656 - val_loss: 0.4546 - val_accuracy: 0.7810\n",
      "Epoch 40/100\n",
      "107/107 [==============================] - 1s 11ms/step - loss: 0.4859 - accuracy: 0.7685 - val_loss: 0.4561 - val_accuracy: 0.7805\n",
      "Epoch 41/100\n",
      "107/107 [==============================] - 1s 12ms/step - loss: 0.4875 - accuracy: 0.7682 - val_loss: 0.4539 - val_accuracy: 0.7822\n",
      "Epoch 42/100\n",
      "107/107 [==============================] - 1s 11ms/step - loss: 0.4846 - accuracy: 0.7731 - val_loss: 0.4562 - val_accuracy: 0.7828\n",
      "Epoch 43/100\n",
      "107/107 [==============================] - 1s 12ms/step - loss: 0.4807 - accuracy: 0.7735 - val_loss: 0.4552 - val_accuracy: 0.7846\n",
      "Epoch 44/100\n",
      "107/107 [==============================] - 1s 11ms/step - loss: 0.4808 - accuracy: 0.7748 - val_loss: 0.4547 - val_accuracy: 0.7852\n",
      "Epoch 45/100\n",
      "107/107 [==============================] - 1s 11ms/step - loss: 0.4809 - accuracy: 0.7707 - val_loss: 0.4545 - val_accuracy: 0.7875\n",
      "Epoch 46/100\n",
      "107/107 [==============================] - 1s 12ms/step - loss: 0.4817 - accuracy: 0.7722 - val_loss: 0.4540 - val_accuracy: 0.7822\n",
      "Epoch 47/100\n",
      "107/107 [==============================] - 1s 12ms/step - loss: 0.4847 - accuracy: 0.7759 - val_loss: 0.4538 - val_accuracy: 0.7799\n",
      "Epoch 48/100\n",
      "107/107 [==============================] - 1s 12ms/step - loss: 0.4782 - accuracy: 0.7669 - val_loss: 0.4534 - val_accuracy: 0.7810\n",
      "Epoch 49/100\n",
      "107/107 [==============================] - 1s 12ms/step - loss: 0.4783 - accuracy: 0.7745 - val_loss: 0.4531 - val_accuracy: 0.7810\n",
      "Epoch 50/100\n",
      "107/107 [==============================] - 1s 11ms/step - loss: 0.4742 - accuracy: 0.7692 - val_loss: 0.4535 - val_accuracy: 0.7810\n",
      "Epoch 51/100\n",
      "107/107 [==============================] - 1s 11ms/step - loss: 0.4794 - accuracy: 0.7729 - val_loss: 0.4548 - val_accuracy: 0.7822\n",
      "Epoch 52/100\n",
      "107/107 [==============================] - 1s 12ms/step - loss: 0.4756 - accuracy: 0.7747 - val_loss: 0.4512 - val_accuracy: 0.7822\n",
      "Epoch 53/100\n",
      "107/107 [==============================] - 1s 11ms/step - loss: 0.4776 - accuracy: 0.7734 - val_loss: 0.4503 - val_accuracy: 0.7810\n",
      "Epoch 54/100\n",
      "107/107 [==============================] - 1s 11ms/step - loss: 0.4699 - accuracy: 0.7726 - val_loss: 0.4521 - val_accuracy: 0.7828\n",
      "Epoch 55/100\n",
      "107/107 [==============================] - 1s 11ms/step - loss: 0.4790 - accuracy: 0.7687 - val_loss: 0.4503 - val_accuracy: 0.7787\n",
      "Epoch 56/100\n",
      "107/107 [==============================] - 1s 11ms/step - loss: 0.4707 - accuracy: 0.7747 - val_loss: 0.4513 - val_accuracy: 0.7805\n",
      "Epoch 57/100\n"
     ]
    },
    {
     "name": "stdout",
     "output_type": "stream",
     "text": [
      "107/107 [==============================] - 1s 11ms/step - loss: 0.4696 - accuracy: 0.7731 - val_loss: 0.4518 - val_accuracy: 0.7828\n",
      "Epoch 58/100\n",
      "107/107 [==============================] - 1s 11ms/step - loss: 0.4734 - accuracy: 0.7760 - val_loss: 0.4518 - val_accuracy: 0.7810\n",
      "Epoch 59/100\n",
      "107/107 [==============================] - 1s 12ms/step - loss: 0.4745 - accuracy: 0.7726 - val_loss: 0.4500 - val_accuracy: 0.7810\n",
      "Epoch 60/100\n",
      "107/107 [==============================] - 1s 13ms/step - loss: 0.4694 - accuracy: 0.7728 - val_loss: 0.4501 - val_accuracy: 0.7822\n",
      "Epoch 61/100\n",
      "107/107 [==============================] - 2s 14ms/step - loss: 0.4768 - accuracy: 0.7660 - val_loss: 0.4487 - val_accuracy: 0.7863\n",
      "Epoch 62/100\n",
      "107/107 [==============================] - 2s 14ms/step - loss: 0.4727 - accuracy: 0.7792 - val_loss: 0.4478 - val_accuracy: 0.7863\n",
      "Epoch 63/100\n",
      "107/107 [==============================] - 1s 12ms/step - loss: 0.4712 - accuracy: 0.7710 - val_loss: 0.4488 - val_accuracy: 0.7863\n",
      "Epoch 64/100\n",
      "107/107 [==============================] - 1s 13ms/step - loss: 0.4714 - accuracy: 0.7779 - val_loss: 0.4469 - val_accuracy: 0.7881\n",
      "Epoch 65/100\n",
      "107/107 [==============================] - 1s 14ms/step - loss: 0.4692 - accuracy: 0.7740 - val_loss: 0.4465 - val_accuracy: 0.7887\n",
      "Epoch 66/100\n",
      "107/107 [==============================] - 1s 12ms/step - loss: 0.4682 - accuracy: 0.7712 - val_loss: 0.4471 - val_accuracy: 0.7881\n",
      "Epoch 67/100\n",
      "107/107 [==============================] - 1s 11ms/step - loss: 0.4662 - accuracy: 0.7794 - val_loss: 0.4475 - val_accuracy: 0.7863\n",
      "Epoch 68/100\n",
      "107/107 [==============================] - 1s 11ms/step - loss: 0.4643 - accuracy: 0.7782 - val_loss: 0.4475 - val_accuracy: 0.7869\n",
      "Epoch 69/100\n",
      "107/107 [==============================] - 1s 11ms/step - loss: 0.4649 - accuracy: 0.7722 - val_loss: 0.4476 - val_accuracy: 0.7875\n",
      "Epoch 70/100\n",
      "107/107 [==============================] - 1s 12ms/step - loss: 0.4681 - accuracy: 0.7716 - val_loss: 0.4465 - val_accuracy: 0.7922\n",
      "Epoch 71/100\n",
      "107/107 [==============================] - 1s 11ms/step - loss: 0.4692 - accuracy: 0.7779 - val_loss: 0.4499 - val_accuracy: 0.7899\n",
      "Epoch 72/100\n",
      "107/107 [==============================] - 1s 12ms/step - loss: 0.4673 - accuracy: 0.7790 - val_loss: 0.4480 - val_accuracy: 0.7911\n",
      "Epoch 73/100\n",
      "107/107 [==============================] - 1s 11ms/step - loss: 0.4620 - accuracy: 0.7844 - val_loss: 0.4480 - val_accuracy: 0.7911\n",
      "Epoch 74/100\n",
      "107/107 [==============================] - 1s 12ms/step - loss: 0.4603 - accuracy: 0.7770 - val_loss: 0.4468 - val_accuracy: 0.7922\n",
      "Epoch 75/100\n",
      "107/107 [==============================] - 1s 11ms/step - loss: 0.4634 - accuracy: 0.7738 - val_loss: 0.4472 - val_accuracy: 0.7881\n",
      "Epoch 76/100\n",
      "107/107 [==============================] - 1s 11ms/step - loss: 0.4649 - accuracy: 0.7763 - val_loss: 0.4475 - val_accuracy: 0.7905\n",
      "Epoch 77/100\n",
      "107/107 [==============================] - 1s 12ms/step - loss: 0.4655 - accuracy: 0.7769 - val_loss: 0.4464 - val_accuracy: 0.7911\n",
      "Epoch 78/100\n",
      "107/107 [==============================] - 1s 12ms/step - loss: 0.4624 - accuracy: 0.7776 - val_loss: 0.4463 - val_accuracy: 0.7940\n",
      "Epoch 79/100\n",
      "107/107 [==============================] - 1s 12ms/step - loss: 0.4580 - accuracy: 0.7779 - val_loss: 0.4446 - val_accuracy: 0.7899\n",
      "Epoch 80/100\n",
      "107/107 [==============================] - 1s 11ms/step - loss: 0.4649 - accuracy: 0.7735 - val_loss: 0.4455 - val_accuracy: 0.7905\n",
      "Epoch 81/100\n",
      "107/107 [==============================] - 1s 11ms/step - loss: 0.4597 - accuracy: 0.7806 - val_loss: 0.4467 - val_accuracy: 0.7834\n",
      "Epoch 82/100\n",
      "107/107 [==============================] - 1s 11ms/step - loss: 0.4563 - accuracy: 0.7766 - val_loss: 0.4464 - val_accuracy: 0.7893\n",
      "Epoch 83/100\n",
      "107/107 [==============================] - 1s 11ms/step - loss: 0.4596 - accuracy: 0.7781 - val_loss: 0.4459 - val_accuracy: 0.7858\n",
      "Epoch 84/100\n",
      "107/107 [==============================] - 1s 13ms/step - loss: 0.4650 - accuracy: 0.7790 - val_loss: 0.4441 - val_accuracy: 0.7875\n",
      "Epoch 85/100\n",
      "107/107 [==============================] - 1s 12ms/step - loss: 0.4536 - accuracy: 0.7784 - val_loss: 0.4447 - val_accuracy: 0.7875\n",
      "Epoch 86/100\n",
      "107/107 [==============================] - 1s 13ms/step - loss: 0.4578 - accuracy: 0.7813 - val_loss: 0.4444 - val_accuracy: 0.7887\n",
      "Epoch 87/100\n",
      "107/107 [==============================] - 1s 12ms/step - loss: 0.4578 - accuracy: 0.7794 - val_loss: 0.4445 - val_accuracy: 0.7887\n",
      "Epoch 88/100\n",
      "107/107 [==============================] - 1s 13ms/step - loss: 0.4558 - accuracy: 0.7828 - val_loss: 0.4441 - val_accuracy: 0.7893\n",
      "Epoch 89/100\n",
      "107/107 [==============================] - 1s 14ms/step - loss: 0.4607 - accuracy: 0.7787 - val_loss: 0.4453 - val_accuracy: 0.7869\n",
      "Epoch 90/100\n",
      "107/107 [==============================] - 1s 13ms/step - loss: 0.4544 - accuracy: 0.7844 - val_loss: 0.4441 - val_accuracy: 0.7887\n",
      "Epoch 91/100\n",
      "107/107 [==============================] - 1s 13ms/step - loss: 0.4547 - accuracy: 0.7841 - val_loss: 0.4448 - val_accuracy: 0.7858\n",
      "Epoch 92/100\n",
      "107/107 [==============================] - 1s 12ms/step - loss: 0.4577 - accuracy: 0.7851 - val_loss: 0.4464 - val_accuracy: 0.7858\n",
      "Epoch 93/100\n",
      "107/107 [==============================] - 1s 13ms/step - loss: 0.4576 - accuracy: 0.7822 - val_loss: 0.4454 - val_accuracy: 0.7875\n",
      "Epoch 94/100\n",
      "107/107 [==============================] - 2s 14ms/step - loss: 0.4542 - accuracy: 0.7820 - val_loss: 0.4416 - val_accuracy: 0.7881\n",
      "Epoch 95/100\n",
      "107/107 [==============================] - 1s 12ms/step - loss: 0.4582 - accuracy: 0.7779 - val_loss: 0.4421 - val_accuracy: 0.7846\n",
      "Epoch 96/100\n",
      "107/107 [==============================] - 1s 12ms/step - loss: 0.4507 - accuracy: 0.7818 - val_loss: 0.4418 - val_accuracy: 0.7840\n",
      "Epoch 97/100\n",
      "107/107 [==============================] - 1s 12ms/step - loss: 0.4524 - accuracy: 0.7826 - val_loss: 0.4436 - val_accuracy: 0.7834\n",
      "Epoch 98/100\n",
      "107/107 [==============================] - 1s 12ms/step - loss: 0.4584 - accuracy: 0.7788 - val_loss: 0.4443 - val_accuracy: 0.7852\n",
      "Epoch 99/100\n",
      "107/107 [==============================] - 1s 11ms/step - loss: 0.4513 - accuracy: 0.7841 - val_loss: 0.4437 - val_accuracy: 0.7887\n",
      "Epoch 100/100\n",
      "107/107 [==============================] - 1s 11ms/step - loss: 0.4550 - accuracy: 0.7813 - val_loss: 0.4444 - val_accuracy: 0.7810\n",
      "Best weights loading ...\n",
      "Completed.\n"
     ]
    }
   ],
   "source": [
    "# Model training\n",
    "hist = model.fit(X_train, y_train, batch_size=batch_size,\n",
    "                 epochs=100,\n",
    "                 verbose=verbose,\n",
    "                 validation_data=(X_val, y_val),\n",
    "                 callbacks=[checkpoint])\n",
    "\n",
    "print(\"Best weights loading ...\")\n",
    "model.load_weights(saved_model_dir)\n",
    "print(\"Completed.\")"
   ]
  },
  {
   "cell_type": "code",
   "execution_count": 83,
   "metadata": {
    "execution": {
     "iopub.status.busy": "2022-11-11T13:08:36.023332Z",
     "iopub.status.idle": "2022-11-11T13:08:36.024150Z",
     "shell.execute_reply": "2022-11-11T13:08:36.023897Z",
     "shell.execute_reply.started": "2022-11-11T13:08:36.023868Z"
    }
   },
   "outputs": [
    {
     "ename": "NameError",
     "evalue": "name 'lr_history' is not defined",
     "output_type": "error",
     "traceback": [
      "\u001b[1;31m---------------------------------------------------------------------------\u001b[0m",
      "\u001b[1;31mNameError\u001b[0m                                 Traceback (most recent call last)",
      "\u001b[1;32mC:\\Users\\SABANK~1.D\\AppData\\Local\\Temp/ipykernel_7780/2667676974.py\u001b[0m in \u001b[0;36m<module>\u001b[1;34m\u001b[0m\n\u001b[0;32m      1\u001b[0m \u001b[1;31m# Plot the loss for every LR\u001b[0m\u001b[1;33m\u001b[0m\u001b[1;33m\u001b[0m\u001b[0m\n\u001b[1;32m----> 2\u001b[1;33m \u001b[0mplt\u001b[0m\u001b[1;33m.\u001b[0m\u001b[0msemilogx\u001b[0m\u001b[1;33m(\u001b[0m\u001b[0mlr_history\u001b[0m\u001b[1;33m.\u001b[0m\u001b[0mhistory\u001b[0m\u001b[1;33m[\u001b[0m\u001b[1;34m\"lr\"\u001b[0m\u001b[1;33m]\u001b[0m\u001b[1;33m,\u001b[0m \u001b[0mlr_history\u001b[0m\u001b[1;33m.\u001b[0m\u001b[0mhistory\u001b[0m\u001b[1;33m[\u001b[0m\u001b[1;34m\"loss\"\u001b[0m\u001b[1;33m]\u001b[0m\u001b[1;33m)\u001b[0m\u001b[1;33m\u001b[0m\u001b[1;33m\u001b[0m\u001b[0m\n\u001b[0m\u001b[0;32m      3\u001b[0m \u001b[0mplt\u001b[0m\u001b[1;33m.\u001b[0m\u001b[0maxis\u001b[0m\u001b[1;33m(\u001b[0m\u001b[1;33m[\u001b[0m\u001b[1;36m1e-6\u001b[0m\u001b[1;33m,\u001b[0m \u001b[1;36m1\u001b[0m\u001b[1;33m,\u001b[0m \u001b[1;36m0\u001b[0m\u001b[1;33m,\u001b[0m \u001b[1;36m30\u001b[0m\u001b[1;33m]\u001b[0m\u001b[1;33m)\u001b[0m\u001b[1;33m\u001b[0m\u001b[1;33m\u001b[0m\u001b[0m\n",
      "\u001b[1;31mNameError\u001b[0m: name 'lr_history' is not defined"
     ]
    }
   ],
   "source": [
    "# Plot the loss for every LR\n",
    "plt.semilogx(lr_history.history[\"lr\"], lr_history.history[\"loss\"])\n",
    "plt.axis([1e-6, 1, 0, 30])"
   ]
  },
  {
   "cell_type": "code",
   "execution_count": null,
   "metadata": {
    "execution": {
     "iopub.status.busy": "2022-11-11T13:08:36.025544Z",
     "iopub.status.idle": "2022-11-11T13:08:36.026313Z",
     "shell.execute_reply": "2022-11-11T13:08:36.026069Z",
     "shell.execute_reply.started": "2022-11-11T13:08:36.026043Z"
    }
   },
   "outputs": [],
   "source": [
    "# Plot the results\n",
    "def plot_result(metrics):\n",
    "    plt.plot(hist.history[metrics], \"r\", label=f\"Train {metrics.title()}\")\n",
    "    plt.plot(hist.history[f\"val_{metrics}\"], \"b\", label=f\"Validation {metrics.title()}\")\n",
    "    plt.legend()\n",
    "    plt.xlabel(\"Epoch\")\n",
    "    plt.ylabel(metrics.title())\n",
    "    plt.grid(True)\n",
    "\n",
    "plt.figure(figsize=(10,5))\n",
    "plt.subplot(1,2,1)\n",
    "plot_result(\"accuracy\")\n",
    "plt.subplot(1,2,2)\n",
    "plot_result(\"loss\") "
   ]
  },
  {
   "cell_type": "code",
   "execution_count": null,
   "metadata": {
    "execution": {
     "iopub.execute_input": "2022-11-11T13:19:41.466250Z",
     "iopub.status.busy": "2022-11-11T13:19:41.465382Z",
     "iopub.status.idle": "2022-11-11T13:19:41.744081Z",
     "shell.execute_reply": "2022-11-11T13:19:41.735408Z",
     "shell.execute_reply.started": "2022-11-11T13:19:41.466196Z"
    }
   },
   "outputs": [],
   "source": [
    "# It is time to touch to test dataset\n",
    "# Lets make preprocess on the test dataset\n",
    "test_data_model = test_data.copy()\n",
    "test_data_model.set_index(\"PassengerId\", inplace=True)\n",
    "test_data_model.drop(\"Name\", axis=1, inplace=True)\n",
    "test_data_model = convert_bool_to_int(test_data_model, [\"VIP\", \"CryoSleep\"])\n",
    "test_data_model = split_cabin_col(test_data_model)\n",
    "test_data_model = data_dummies(test_data_model, cols_for_dummies)\n",
    "test_data_model = test_data_model.astype(\"float64\")\n",
    "for feature in test_data_model.columns:\n",
    "    test_data_model = outlier_process(test_data_model, feature, \"pressing\")\n",
    "X_test = pipeline.transform(test_data_model)"
   ]
  },
  {
   "cell_type": "code",
   "execution_count": null,
   "metadata": {},
   "outputs": [],
   "source": [
    "#model.load_weights(saved_model_dir)"
   ]
  },
  {
   "cell_type": "code",
   "execution_count": null,
   "metadata": {
    "execution": {
     "iopub.execute_input": "2022-11-11T13:19:58.632408Z",
     "iopub.status.busy": "2022-11-11T13:19:58.632027Z",
     "iopub.status.idle": "2022-11-11T13:19:59.218396Z",
     "shell.execute_reply": "2022-11-11T13:19:59.217144Z",
     "shell.execute_reply.started": "2022-11-11T13:19:58.632376Z"
    }
   },
   "outputs": [],
   "source": [
    "# Prediction test data and submit the results\n",
    "pred = model.predict(X_test)\n",
    "y_pred = np.round(pred)\n",
    "submission_data = pd.DataFrame(columns=[\"PassengerId\", \"Transported\"])\n",
    "submission_data[\"PassengerId\"]=test_data_model.index\n",
    "submission_data[\"Transported\"]= [True if x==1. else False for x in y_pred]\n",
    "\n",
    "submission_data.to_csv('submission.csv', index=False)\n",
    "submission_data.to_csv('Submission.csv', index=False)\n",
    "print('Submitted!')"
   ]
  },
  {
   "cell_type": "code",
   "execution_count": null,
   "metadata": {
    "execution": {
     "iopub.execute_input": "2022-11-11T13:41:01.359168Z",
     "iopub.status.busy": "2022-11-11T13:41:01.358552Z",
     "iopub.status.idle": "2022-11-11T13:41:01.371056Z",
     "shell.execute_reply": "2022-11-11T13:41:01.370103Z",
     "shell.execute_reply.started": "2022-11-11T13:41:01.359120Z"
    }
   },
   "outputs": [],
   "source": [
    "submission_data"
   ]
  }
 ],
 "metadata": {
  "kernelspec": {
   "display_name": "Python 3 (ipykernel)",
   "language": "python",
   "name": "python3"
  },
  "language_info": {
   "codemirror_mode": {
    "name": "ipython",
    "version": 3
   },
   "file_extension": ".py",
   "mimetype": "text/x-python",
   "name": "python",
   "nbconvert_exporter": "python",
   "pygments_lexer": "ipython3",
   "version": "3.9.7"
  }
 },
 "nbformat": 4,
 "nbformat_minor": 4
}
