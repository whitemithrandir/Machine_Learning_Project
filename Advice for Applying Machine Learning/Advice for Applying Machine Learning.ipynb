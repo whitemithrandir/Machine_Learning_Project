{
 "cells": [
  {
   "cell_type": "code",
   "execution_count": 13,
   "id": "e2fa21ed",
   "metadata": {},
   "outputs": [],
   "source": [
    "\"\"\"\n",
    "Created 3/11/2022\n",
    "\n",
    "@author: Mithrandir - Şaban Kara\n",
    "\"\"\"\n",
    "import copy\n",
    "import math\n",
    "import numpy as np\n",
    "import matplotlib.pyplot as plt\n",
    "import matplotlib as mpl\n",
    "\n",
    "from sklearn.linear_model import LinearRegression, Ridge\n",
    "from sklearn.preprocessing import StandardScaler, PolynomialFeatures\n",
    "from sklearn.metrics import mean_squared_error\n",
    "from sklearn.model_selection import train_test_split\n",
    "from sklearn.datasets import make_blobs\n",
    "\n",
    "import tensorflow as tf\n",
    "from tensorflow.keras.models import Sequential\n",
    "from tensorflow.keras.layers import Dense\n",
    "from tensorflow.keras.activations import relu,linear\n",
    "from tensorflow.keras.losses import SparseCategoricalCrossentropy\n",
    "from tensorflow.keras.optimizers import Adam"
   ]
  },
  {
   "cell_type": "code",
   "execution_count": 3,
   "id": "4d79d266",
   "metadata": {},
   "outputs": [],
   "source": [
    "def gen_data(m, seed=1, scale=0.7):\n",
    "    \"\"\" generate a data set based on a x^2 with added noise \"\"\"\n",
    "    c = 0\n",
    "    x_train = np.linspace(0,49,m)\n",
    "    np.random.seed(seed)\n",
    "    y_ideal = x_train**2 + c\n",
    "    y_train = y_ideal + scale * y_ideal*(np.random.sample((m,))-0.5)\n",
    "    x_ideal = x_train #for redraw when new data included in X\n",
    "    return x_train, y_train, x_ideal, y_ideal"
   ]
  },
  {
   "cell_type": "code",
   "execution_count": 4,
   "id": "a33e98ec",
   "metadata": {},
   "outputs": [
    {
     "name": "stdout",
     "output_type": "stream",
     "text": [
      "X.shape (18,) y.shape (18,)\n",
      "X_train.shape (12,) y_train.shape (12,)\n",
      "X_test.shape (6,) y_test.shape (6,)\n"
     ]
    }
   ],
   "source": [
    "# Generate some data\n",
    "X,y,x_ideal,y_ideal = gen_data(18, 2, 0.7)\n",
    "print(\"X.shape\", X.shape, \"y.shape\", y.shape)\n",
    "\n",
    "#split the data using sklearn routine \n",
    "X_train, X_test, y_train, y_test = train_test_split(X,y,test_size=0.33, random_state=1)\n",
    "print(\"X_train.shape\", X_train.shape, \"y_train.shape\", y_train.shape)\n",
    "print(\"X_test.shape\", X_test.shape, \"y_test.shape\", y_test.shape)"
   ]
  },
  {
   "cell_type": "code",
   "execution_count": 8,
   "id": "03d8170d",
   "metadata": {},
   "outputs": [
    {
     "data": {
      "image/png": "[encoded data removed]",
      "text/plain": [
       "<Figure size 720x360 with 1 Axes>"
      ]
     },
     "metadata": {
      "needs_background": "light"
     },
     "output_type": "display_data"
    }
   ],
   "source": [
    "fig, ax = plt.subplots(1,1,figsize=(10,5))\n",
    "ax.plot(x_ideal, y_ideal, \"--\", color = \"orangered\", label=\"y_ideal\", lw=1)\n",
    "ax.set_title(\"Training, Test\",fontsize = 14)\n",
    "ax.set_xlabel(\"x\")\n",
    "ax.set_ylabel(\"y\")\n",
    "\n",
    "ax.scatter(X_train, y_train, color = \"red\",    label=\"train\")\n",
    "ax.scatter(X_test, y_test,   color = \"blue\",   label=\"test\")\n",
    "ax.legend(loc='upper left')\n",
    "plt.show()"
   ]
  },
  {
   "cell_type": "code",
   "execution_count": 10,
   "id": "c760d944",
   "metadata": {},
   "outputs": [
    {
     "name": "stdout",
     "output_type": "stream",
     "text": [
      "error:  0.0050000000000000305\n"
     ]
    },
    {
     "data": {
      "text/plain": [
       "0.0050000000000000305"
      ]
     },
     "execution_count": 10,
     "metadata": {},
     "output_type": "execute_result"
    }
   ],
   "source": [
    "def eval_mse(y, yhat):\n",
    "    \"\"\" \n",
    "    Calculate the mean squared error on a data set.\n",
    "    doğrusal bir regresyon modeli için bir veri kümesindeki\n",
    "    hatayı.\n",
    "    \"\"\"\n",
    "    m = len(y)\n",
    "    err = 0.0\n",
    "    for i in range(m):\n",
    "\n",
    "        err= err + (y[i]-yhat[i])**2  \n",
    " \n",
    "    err= err/(2*m)\n",
    "    print(\"error: \", err)\n",
    "    return(err)\n",
    "\n",
    "y_hat = np.array([2.4, 4.2])\n",
    "y_tmp = np.array([2.3, 4.1])\n",
    "eval_mse(y_hat, y_tmp)"
   ]
  },
  {
   "cell_type": "code",
   "execution_count": 14,
   "id": "f5ce7683",
   "metadata": {},
   "outputs": [],
   "source": [
    "class lin_model:\n",
    "    def __init__(self, degree, regularization = False, lambda_=0):\n",
    "        if regularization:\n",
    "            self.linear_model = Ridge(alpha=lambda_)\n",
    "        else:\n",
    "            self.linear_model = LinearRegression()\n",
    "        self.poly = PolynomialFeatures(degree, include_bias=False)\n",
    "        self.scaler = StandardScaler()\n",
    "        \n",
    "    def fit(self, X_train,y_train):\n",
    "        ''' just fits the data. mapping and scaling are not repeated '''\n",
    "        X_train_mapped = self.poly.fit_transform(X_train.reshape(-1,1))\n",
    "        X_train_mapped_scaled = self.scaler.fit_transform(X_train_mapped)\n",
    "        self.linear_model.fit(X_train_mapped_scaled, y_train )\n",
    "\n",
    "    def predict(self, X):\n",
    "        X_mapped = self.poly.transform(X.reshape(-1,1))\n",
    "        X_mapped_scaled = self.scaler.transform(X_mapped)\n",
    "        yhat = self.linear_model.predict(X_mapped_scaled)\n",
    "        return(yhat)\n",
    "    \n",
    "    def mse(self, y, yhat):\n",
    "        err = mean_squared_error(y,yhat)/2   #sklean doesn't have div by 2\n",
    "        return (err)\n",
    "    \n",
    "    \n",
    "# create a model in sklearn, train on training data\n",
    "degree = 10\n",
    "lmodel = lin_model(degree)\n",
    "lmodel.fit(X_train, y_train)\n",
    "\n",
    "# predict on training data, find training error\n",
    "yhat = lmodel.predict(X_train)\n",
    "err_train = lmodel.mse(y_train, yhat)\n",
    "\n",
    "# predict on test data, find error\n",
    "yhat = lmodel.predict(X_test)\n",
    "err_test = lmodel.mse(y_test, yhat)"
   ]
  },
  {
   "cell_type": "code",
   "execution_count": 15,
   "id": "2710e8b8",
   "metadata": {},
   "outputs": [],
   "source": [
    "# yukarıdaki fit etme fonksiyonlarına çalış"
   ]
  },
  {
   "cell_type": "code",
   "execution_count": null,
   "id": "2ad63a49",
   "metadata": {},
   "outputs": [],
   "source": []
  }
 ],
 "metadata": {
  "kernelspec": {
   "display_name": "Python 3 (ipykernel)",
   "language": "python",
   "name": "python3"
  },
  "language_info": {
   "codemirror_mode": {
    "name": "ipython",
    "version": 3
   },
   "file_extension": ".py",
   "mimetype": "text/x-python",
   "name": "python",
   "nbconvert_exporter": "python",
   "pygments_lexer": "ipython3",
   "version": "3.9.7"
  }
 },
 "nbformat": 4,
 "nbformat_minor": 5
}
