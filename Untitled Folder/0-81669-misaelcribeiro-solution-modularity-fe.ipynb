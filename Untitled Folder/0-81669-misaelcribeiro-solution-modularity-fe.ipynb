{
 "cells": [
  {
   "cell_type": "markdown",
   "id": "2b7d8af0",
   "metadata": {
    "papermill": {
     "duration": 0.00893,
     "end_time": "2022-10-26T03:09:14.256664",
     "exception": false,
     "start_time": "2022-10-26T03:09:14.247734",
     "status": "completed"
    },
    "tags": []
   },
   "source": [
    "### The notebook is a follow-up work by an impressive solution from misaelcribeiro. We're just applying a novelty method of features engineering into the original pipeline.\n",
    "\n",
    "### Thanks for misaelcribeiro's effort and please upvote their notebook."
   ]
  },
  {
   "cell_type": "code",
   "execution_count": 9,
   "id": "4d119d03",
   "metadata": {
    "execution": {
     "iopub.execute_input": "2022-10-26T03:09:14.279000Z",
     "iopub.status.busy": "2022-10-26T03:09:14.275237Z",
     "iopub.status.idle": "2022-10-26T03:09:15.813355Z",
     "shell.execute_reply": "2022-10-26T03:09:15.812392Z"
    },
    "papermill": {
     "duration": 1.549755,
     "end_time": "2022-10-26T03:09:15.815629",
     "exception": false,
     "start_time": "2022-10-26T03:09:14.265874",
     "status": "completed"
    },
    "tags": []
   },
   "outputs": [],
   "source": [
    "# This Python 3 environment comes with many helpful analytics libraries installed\n",
    "# It is defined by the kaggle/python Docker image: https://github.com/kaggle/docker-python\n",
    "# For example, here's several helpful packages to load\n",
    "\n",
    "import numpy as np # linear algebra\n",
    "import pandas as pd # data processing, CSV file I/O (e.g. pd.read_csv)\n",
    "\n",
    "\n",
    "\n",
    "\n",
    "# Input data files are available in the read-only \"../input/\" directory\n",
    "# For example, running this (by clicking run or pressing Shift+Enter) will list all files under the input directory\n",
    "\n",
    "import os\n",
    "for dirname, _, filenames in os.walk('/kaggle/input'):\n",
    "    for filename in filenames:\n",
    "        print(os.path.join(dirname, filename))\n",
    "\n",
    "# You can write up to 20GB to the current directory (/kaggle/working/) that gets preserved as output when you create a version using \"Save & Run All\" \n",
    "# You can also write temporary files to /kaggle/temp/, but they won't be saved outside of the current session"
   ]
  },
  {
   "cell_type": "markdown",
   "id": "fd0e1231",
   "metadata": {
    "papermill": {
     "duration": 0.007099,
     "end_time": "2022-10-26T03:09:15.830344",
     "exception": false,
     "start_time": "2022-10-26T03:09:15.823245",
     "status": "completed"
    },
    "tags": []
   },
   "source": [
    "<h3 style=\"text-align: center;\">Loading the data</h3>"
   ]
  },
  {
   "cell_type": "code",
   "execution_count": 10,
   "id": "cc1b0919",
   "metadata": {
    "execution": {
     "iopub.execute_input": "2022-10-26T03:09:15.847219Z",
     "iopub.status.busy": "2022-10-26T03:09:15.846537Z",
     "iopub.status.idle": "2022-10-26T03:09:15.949693Z",
     "shell.execute_reply": "2022-10-26T03:09:15.948500Z"
    },
    "papermill": {
     "duration": 0.114694,
     "end_time": "2022-10-26T03:09:15.952355",
     "exception": false,
     "start_time": "2022-10-26T03:09:15.837661",
     "status": "completed"
    },
    "tags": []
   },
   "outputs": [],
   "source": [
    "train_df = pd.read_csv('train.csv', index_col='PassengerId')\n",
    "test_df = pd.read_csv('test.csv', index_col='PassengerId')"
   ]
  },
  {
   "cell_type": "markdown",
   "id": "6c0b2e0d",
   "metadata": {
    "papermill": {
     "duration": 0.007733,
     "end_time": "2022-10-26T03:09:15.967590",
     "exception": false,
     "start_time": "2022-10-26T03:09:15.959857",
     "status": "completed"
    },
    "tags": []
   },
   "source": [
    "<h3 style=\"text-align: center;\">Some feature engineering</h3>"
   ]
  },
  {
   "cell_type": "code",
   "execution_count": 11,
   "id": "a657a129",
   "metadata": {
    "execution": {
     "iopub.execute_input": "2022-10-26T03:09:15.984243Z",
     "iopub.status.busy": "2022-10-26T03:09:15.983840Z",
     "iopub.status.idle": "2022-10-26T03:09:15.996018Z",
     "shell.execute_reply": "2022-10-26T03:09:15.994974Z"
    },
    "papermill": {
     "duration": 0.023632,
     "end_time": "2022-10-26T03:09:15.998666",
     "exception": false,
     "start_time": "2022-10-26T03:09:15.975034",
     "status": "completed"
    },
    "tags": []
   },
   "outputs": [],
   "source": [
    "train_df.drop('Name', axis=1, inplace=True)\n",
    "test_df.drop('Name', axis=1, inplace=True)"
   ]
  },
  {
   "cell_type": "code",
   "execution_count": 12,
   "id": "f390f1d9",
   "metadata": {
    "execution": {
     "iopub.execute_input": "2022-10-26T03:09:16.016422Z",
     "iopub.status.busy": "2022-10-26T03:09:16.015838Z",
     "iopub.status.idle": "2022-10-26T03:09:16.027141Z",
     "shell.execute_reply": "2022-10-26T03:09:16.026333Z"
    },
    "papermill": {
     "duration": 0.022684,
     "end_time": "2022-10-26T03:09:16.029533",
     "exception": false,
     "start_time": "2022-10-26T03:09:16.006849",
     "status": "completed"
    },
    "tags": []
   },
   "outputs": [],
   "source": [
    "train_df['Transported'].replace(False, 0, inplace=True)\n",
    "train_df['Transported'].replace(True, 1, inplace=True)"
   ]
  },
  {
   "cell_type": "markdown",
   "id": "995d0242",
   "metadata": {
    "papermill": {
     "duration": 0.006942,
     "end_time": "2022-10-26T03:09:16.043769",
     "exception": false,
     "start_time": "2022-10-26T03:09:16.036827",
     "status": "completed"
    },
    "tags": []
   },
   "source": [
    "<h3 style=\"text-align: center;\">Let's separate the cabin columns in three new features</h3>"
   ]
  },
  {
   "cell_type": "code",
   "execution_count": 13,
   "id": "d1d5b4f6",
   "metadata": {
    "execution": {
     "iopub.execute_input": "2022-10-26T03:09:16.060337Z",
     "iopub.status.busy": "2022-10-26T03:09:16.059678Z",
     "iopub.status.idle": "2022-10-26T03:09:16.093999Z",
     "shell.execute_reply": "2022-10-26T03:09:16.093155Z"
    },
    "papermill": {
     "duration": 0.045585,
     "end_time": "2022-10-26T03:09:16.096409",
     "exception": false,
     "start_time": "2022-10-26T03:09:16.050824",
     "status": "completed"
    },
    "tags": []
   },
   "outputs": [],
   "source": [
    "train_df[['deck','num', 'side']] = train_df['Cabin'].str.split('/', expand=True)\n",
    "test_df[['deck','num', 'side']] = test_df['Cabin'].str.split('/', expand=True)\n",
    "\n",
    "train_df.drop('Cabin', axis=1, inplace=True)\n",
    "test_df.drop('Cabin', axis=1, inplace=True)"
   ]
  },
  {
   "cell_type": "code",
   "execution_count": 14,
   "id": "97a2870b",
   "metadata": {
    "execution": {
     "iopub.execute_input": "2022-10-26T03:09:16.113695Z",
     "iopub.status.busy": "2022-10-26T03:09:16.113247Z",
     "iopub.status.idle": "2022-10-26T03:09:16.121134Z",
     "shell.execute_reply": "2022-10-26T03:09:16.120020Z"
    },
    "papermill": {
     "duration": 0.020425,
     "end_time": "2022-10-26T03:09:16.124897",
     "exception": false,
     "start_time": "2022-10-26T03:09:16.104472",
     "status": "completed"
    },
    "tags": []
   },
   "outputs": [
    {
     "name": "stdout",
     "output_type": "stream",
     "text": [
      "Object cols -- ['HomePlanet', 'CryoSleep', 'Destination', 'VIP', 'deck', 'num', 'side']\n",
      "Numeric cols -- ['Age', 'RoomService', 'FoodCourt', 'ShoppingMall', 'Spa', 'VRDeck']\n"
     ]
    }
   ],
   "source": [
    "object_cols = [col for col in train_df.columns if train_df[col].dtype == 'object' or train_df[col].dtype.name == 'category']\n",
    "numeric_cols = [col for col in train_df.columns if train_df[col].dtype == 'float64']\n",
    "\n",
    "print(f'Object cols -- {object_cols}')\n",
    "print(f'Numeric cols -- {numeric_cols}')"
   ]
  },
  {
   "cell_type": "markdown",
   "id": "bff12721",
   "metadata": {
    "papermill": {
     "duration": 0.00704,
     "end_time": "2022-10-26T03:09:16.140486",
     "exception": false,
     "start_time": "2022-10-26T03:09:16.133446",
     "status": "completed"
    },
    "tags": []
   },
   "source": [
    "<h3 style=\"text-align: center;\">Sum of spent value by passenger, creating a new feature</h3>"
   ]
  },
  {
   "cell_type": "code",
   "execution_count": 15,
   "id": "31ef3ff1",
   "metadata": {
    "execution": {
     "iopub.execute_input": "2022-10-26T03:09:16.156485Z",
     "iopub.status.busy": "2022-10-26T03:09:16.156060Z",
     "iopub.status.idle": "2022-10-26T03:09:16.166109Z",
     "shell.execute_reply": "2022-10-26T03:09:16.165198Z"
    },
    "papermill": {
     "duration": 0.020725,
     "end_time": "2022-10-26T03:09:16.168399",
     "exception": false,
     "start_time": "2022-10-26T03:09:16.147674",
     "status": "completed"
    },
    "tags": []
   },
   "outputs": [],
   "source": [
    "col_to_sum = ['RoomService', 'FoodCourt', 'ShoppingMall', 'Spa', 'VRDeck']\n",
    "\n",
    "train_df['SumSpends'] = train_df[col_to_sum].sum(axis=1)\n",
    "test_df['SumSpends'] = test_df[col_to_sum].sum(axis=1)"
   ]
  },
  {
   "cell_type": "markdown",
   "id": "b56332ad",
   "metadata": {
    "papermill": {
     "duration": 0.007095,
     "end_time": "2022-10-26T03:09:16.183028",
     "exception": false,
     "start_time": "2022-10-26T03:09:16.175933",
     "status": "completed"
    },
    "tags": []
   },
   "source": [
    "<h3 style=\"text-align: center;\">Checking null and object columns</h3>"
   ]
  },
  {
   "cell_type": "code",
   "execution_count": 16,
   "id": "fc8e8d68",
   "metadata": {
    "execution": {
     "iopub.execute_input": "2022-10-26T03:09:16.200592Z",
     "iopub.status.busy": "2022-10-26T03:09:16.199432Z",
     "iopub.status.idle": "2022-10-26T03:09:16.214969Z",
     "shell.execute_reply": "2022-10-26T03:09:16.213311Z"
    },
    "papermill": {
     "duration": 0.027256,
     "end_time": "2022-10-26T03:09:16.217626",
     "exception": false,
     "start_time": "2022-10-26T03:09:16.190370",
     "status": "completed"
    },
    "tags": []
   },
   "outputs": [
    {
     "data": {
      "text/plain": [
       "['CryoSleep',\n",
       " 'ShoppingMall',\n",
       " 'VIP',\n",
       " 'HomePlanet',\n",
       " 'deck',\n",
       " 'num',\n",
       " 'side',\n",
       " 'VRDeck',\n",
       " 'FoodCourt',\n",
       " 'Spa',\n",
       " 'Destination',\n",
       " 'RoomService',\n",
       " 'Age']"
      ]
     },
     "execution_count": 16,
     "metadata": {},
     "output_type": "execute_result"
    }
   ],
   "source": [
    "null_cols = train_df.isnull().sum().sort_values(ascending=False)\n",
    "null_cols = list(null_cols[null_cols>1].index)\n",
    "null_cols"
   ]
  },
  {
   "cell_type": "code",
   "execution_count": 17,
   "id": "2f1e8b23",
   "metadata": {
    "execution": {
     "iopub.execute_input": "2022-10-26T03:09:16.235489Z",
     "iopub.status.busy": "2022-10-26T03:09:16.234271Z",
     "iopub.status.idle": "2022-10-26T03:09:16.268233Z",
     "shell.execute_reply": "2022-10-26T03:09:16.267072Z"
    },
    "papermill": {
     "duration": 0.046081,
     "end_time": "2022-10-26T03:09:16.271315",
     "exception": false,
     "start_time": "2022-10-26T03:09:16.225234",
     "status": "completed"
    },
    "tags": []
   },
   "outputs": [],
   "source": [
    "train_df[object_cols] = train_df[object_cols].astype('category')\n",
    "test_df[object_cols] = test_df[object_cols].astype('category')"
   ]
  },
  {
   "cell_type": "code",
   "execution_count": 18,
   "id": "044136f2",
   "metadata": {
    "execution": {
     "iopub.execute_input": "2022-10-26T03:09:16.289042Z",
     "iopub.status.busy": "2022-10-26T03:09:16.288484Z",
     "iopub.status.idle": "2022-10-26T03:09:16.294037Z",
     "shell.execute_reply": "2022-10-26T03:09:16.292977Z"
    },
    "papermill": {
     "duration": 0.018614,
     "end_time": "2022-10-26T03:09:16.297670",
     "exception": false,
     "start_time": "2022-10-26T03:09:16.279056",
     "status": "completed"
    },
    "tags": []
   },
   "outputs": [
    {
     "name": "stdout",
     "output_type": "stream",
     "text": [
      "Train DF shape: (8693, 15)\n",
      "Test DF shape: (4277, 14)\n"
     ]
    }
   ],
   "source": [
    "print(f'Train DF shape: {train_df.shape}')\n",
    "print(f'Test DF shape: {test_df.shape}')"
   ]
  },
  {
   "cell_type": "markdown",
   "id": "d5eb0c2e",
   "metadata": {
    "papermill": {
     "duration": 0.007157,
     "end_time": "2022-10-26T03:09:16.313369",
     "exception": false,
     "start_time": "2022-10-26T03:09:16.306212",
     "status": "completed"
    },
    "tags": []
   },
   "source": [
    "<h3 style=\"text-align: center;\">Encoding the categorical variables</h3>"
   ]
  },
  {
   "cell_type": "code",
   "execution_count": 19,
   "id": "297155ee",
   "metadata": {
    "execution": {
     "iopub.execute_input": "2022-10-26T03:09:16.330402Z",
     "iopub.status.busy": "2022-10-26T03:09:16.329391Z",
     "iopub.status.idle": "2022-10-26T03:09:16.398387Z",
     "shell.execute_reply": "2022-10-26T03:09:16.397227Z"
    },
    "papermill": {
     "duration": 0.080404,
     "end_time": "2022-10-26T03:09:16.401175",
     "exception": false,
     "start_time": "2022-10-26T03:09:16.320771",
     "status": "completed"
    },
    "tags": []
   },
   "outputs": [
    {
     "ename": "ValueError",
     "evalue": "Input contains NaN",
     "output_type": "error",
     "traceback": [
      "\u001b[1;31m---------------------------------------------------------------------------\u001b[0m",
      "\u001b[1;31mValueError\u001b[0m                                Traceback (most recent call last)",
      "\u001b[1;32mC:\\Users\\SABANK~1.D\\AppData\\Local\\Temp/ipykernel_15092/123813803.py\u001b[0m in \u001b[0;36m<module>\u001b[1;34m\u001b[0m\n\u001b[0;32m      7\u001b[0m \u001b[0mdf_for_encode\u001b[0m\u001b[1;33m[\u001b[0m\u001b[0mobject_cols\u001b[0m\u001b[1;33m]\u001b[0m \u001b[1;33m=\u001b[0m \u001b[0mdf_for_encode\u001b[0m\u001b[1;33m[\u001b[0m\u001b[0mobject_cols\u001b[0m\u001b[1;33m]\u001b[0m\u001b[1;33m.\u001b[0m\u001b[0mastype\u001b[0m\u001b[1;33m(\u001b[0m\u001b[1;34m'category'\u001b[0m\u001b[1;33m)\u001b[0m\u001b[1;33m\u001b[0m\u001b[1;33m\u001b[0m\u001b[0m\n\u001b[0;32m      8\u001b[0m \u001b[1;33m\u001b[0m\u001b[0m\n\u001b[1;32m----> 9\u001b[1;33m \u001b[0mdf_for_encode\u001b[0m\u001b[1;33m[\u001b[0m\u001b[0mobject_cols\u001b[0m\u001b[1;33m]\u001b[0m \u001b[1;33m=\u001b[0m \u001b[0moc\u001b[0m\u001b[1;33m.\u001b[0m\u001b[0mfit_transform\u001b[0m\u001b[1;33m(\u001b[0m\u001b[0mdf_for_encode\u001b[0m\u001b[1;33m[\u001b[0m\u001b[0mobject_cols\u001b[0m\u001b[1;33m]\u001b[0m\u001b[1;33m)\u001b[0m\u001b[1;33m\u001b[0m\u001b[1;33m\u001b[0m\u001b[0m\n\u001b[0m\u001b[0;32m     10\u001b[0m \u001b[1;33m\u001b[0m\u001b[0m\n\u001b[0;32m     11\u001b[0m \u001b[1;32mdel\u001b[0m \u001b[0mtrain_df\u001b[0m\u001b[1;33m,\u001b[0m \u001b[0mtest_df\u001b[0m\u001b[1;33m\u001b[0m\u001b[1;33m\u001b[0m\u001b[0m\n",
      "\u001b[1;32m~\\Anaconda3\\lib\\site-packages\\sklearn\\base.py\u001b[0m in \u001b[0;36mfit_transform\u001b[1;34m(self, X, y, **fit_params)\u001b[0m\n\u001b[0;32m    697\u001b[0m         \u001b[1;32mif\u001b[0m \u001b[0my\u001b[0m \u001b[1;32mis\u001b[0m \u001b[1;32mNone\u001b[0m\u001b[1;33m:\u001b[0m\u001b[1;33m\u001b[0m\u001b[1;33m\u001b[0m\u001b[0m\n\u001b[0;32m    698\u001b[0m             \u001b[1;31m# fit method of arity 1 (unsupervised transformation)\u001b[0m\u001b[1;33m\u001b[0m\u001b[1;33m\u001b[0m\u001b[0m\n\u001b[1;32m--> 699\u001b[1;33m             \u001b[1;32mreturn\u001b[0m \u001b[0mself\u001b[0m\u001b[1;33m.\u001b[0m\u001b[0mfit\u001b[0m\u001b[1;33m(\u001b[0m\u001b[0mX\u001b[0m\u001b[1;33m,\u001b[0m \u001b[1;33m**\u001b[0m\u001b[0mfit_params\u001b[0m\u001b[1;33m)\u001b[0m\u001b[1;33m.\u001b[0m\u001b[0mtransform\u001b[0m\u001b[1;33m(\u001b[0m\u001b[0mX\u001b[0m\u001b[1;33m)\u001b[0m\u001b[1;33m\u001b[0m\u001b[1;33m\u001b[0m\u001b[0m\n\u001b[0m\u001b[0;32m    700\u001b[0m         \u001b[1;32melse\u001b[0m\u001b[1;33m:\u001b[0m\u001b[1;33m\u001b[0m\u001b[1;33m\u001b[0m\u001b[0m\n\u001b[0;32m    701\u001b[0m             \u001b[1;31m# fit method of arity 2 (supervised transformation)\u001b[0m\u001b[1;33m\u001b[0m\u001b[1;33m\u001b[0m\u001b[0m\n",
      "\u001b[1;32m~\\Anaconda3\\lib\\site-packages\\sklearn\\preprocessing\\_encoders.py\u001b[0m in \u001b[0;36mfit\u001b[1;34m(self, X, y)\u001b[0m\n\u001b[0;32m    777\u001b[0m                             f\"got {self.unknown_value}.\")\n\u001b[0;32m    778\u001b[0m \u001b[1;33m\u001b[0m\u001b[0m\n\u001b[1;32m--> 779\u001b[1;33m         \u001b[0mself\u001b[0m\u001b[1;33m.\u001b[0m\u001b[0m_fit\u001b[0m\u001b[1;33m(\u001b[0m\u001b[0mX\u001b[0m\u001b[1;33m)\u001b[0m\u001b[1;33m\u001b[0m\u001b[1;33m\u001b[0m\u001b[0m\n\u001b[0m\u001b[0;32m    780\u001b[0m \u001b[1;33m\u001b[0m\u001b[0m\n\u001b[0;32m    781\u001b[0m         \u001b[1;32mif\u001b[0m \u001b[0mself\u001b[0m\u001b[1;33m.\u001b[0m\u001b[0mhandle_unknown\u001b[0m \u001b[1;33m==\u001b[0m \u001b[1;34m'use_encoded_value'\u001b[0m\u001b[1;33m:\u001b[0m\u001b[1;33m\u001b[0m\u001b[1;33m\u001b[0m\u001b[0m\n",
      "\u001b[1;32m~\\Anaconda3\\lib\\site-packages\\sklearn\\preprocessing\\_encoders.py\u001b[0m in \u001b[0;36m_fit\u001b[1;34m(self, X, handle_unknown, force_all_finite)\u001b[0m\n\u001b[0;32m     75\u001b[0m \u001b[1;33m\u001b[0m\u001b[0m\n\u001b[0;32m     76\u001b[0m     \u001b[1;32mdef\u001b[0m \u001b[0m_fit\u001b[0m\u001b[1;33m(\u001b[0m\u001b[0mself\u001b[0m\u001b[1;33m,\u001b[0m \u001b[0mX\u001b[0m\u001b[1;33m,\u001b[0m \u001b[0mhandle_unknown\u001b[0m\u001b[1;33m=\u001b[0m\u001b[1;34m'error'\u001b[0m\u001b[1;33m,\u001b[0m \u001b[0mforce_all_finite\u001b[0m\u001b[1;33m=\u001b[0m\u001b[1;32mTrue\u001b[0m\u001b[1;33m)\u001b[0m\u001b[1;33m:\u001b[0m\u001b[1;33m\u001b[0m\u001b[1;33m\u001b[0m\u001b[0m\n\u001b[1;32m---> 77\u001b[1;33m         X_list, n_samples, n_features = self._check_X(\n\u001b[0m\u001b[0;32m     78\u001b[0m             X, force_all_finite=force_all_finite)\n\u001b[0;32m     79\u001b[0m \u001b[1;33m\u001b[0m\u001b[0m\n",
      "\u001b[1;32m~\\Anaconda3\\lib\\site-packages\\sklearn\\preprocessing\\_encoders.py\u001b[0m in \u001b[0;36m_check_X\u001b[1;34m(self, X, force_all_finite)\u001b[0m\n\u001b[0;32m     61\u001b[0m         \u001b[1;32mfor\u001b[0m \u001b[0mi\u001b[0m \u001b[1;32min\u001b[0m \u001b[0mrange\u001b[0m\u001b[1;33m(\u001b[0m\u001b[0mn_features\u001b[0m\u001b[1;33m)\u001b[0m\u001b[1;33m:\u001b[0m\u001b[1;33m\u001b[0m\u001b[1;33m\u001b[0m\u001b[0m\n\u001b[0;32m     62\u001b[0m             \u001b[0mXi\u001b[0m \u001b[1;33m=\u001b[0m \u001b[0mself\u001b[0m\u001b[1;33m.\u001b[0m\u001b[0m_get_feature\u001b[0m\u001b[1;33m(\u001b[0m\u001b[0mX\u001b[0m\u001b[1;33m,\u001b[0m \u001b[0mfeature_idx\u001b[0m\u001b[1;33m=\u001b[0m\u001b[0mi\u001b[0m\u001b[1;33m)\u001b[0m\u001b[1;33m\u001b[0m\u001b[1;33m\u001b[0m\u001b[0m\n\u001b[1;32m---> 63\u001b[1;33m             Xi = check_array(Xi, ensure_2d=False, dtype=None,\n\u001b[0m\u001b[0;32m     64\u001b[0m                              force_all_finite=needs_validation)\n\u001b[0;32m     65\u001b[0m             \u001b[0mX_columns\u001b[0m\u001b[1;33m.\u001b[0m\u001b[0mappend\u001b[0m\u001b[1;33m(\u001b[0m\u001b[0mXi\u001b[0m\u001b[1;33m)\u001b[0m\u001b[1;33m\u001b[0m\u001b[1;33m\u001b[0m\u001b[0m\n",
      "\u001b[1;32m~\\Anaconda3\\lib\\site-packages\\sklearn\\utils\\validation.py\u001b[0m in \u001b[0;36minner_f\u001b[1;34m(*args, **kwargs)\u001b[0m\n\u001b[0;32m     61\u001b[0m             \u001b[0mextra_args\u001b[0m \u001b[1;33m=\u001b[0m \u001b[0mlen\u001b[0m\u001b[1;33m(\u001b[0m\u001b[0margs\u001b[0m\u001b[1;33m)\u001b[0m \u001b[1;33m-\u001b[0m \u001b[0mlen\u001b[0m\u001b[1;33m(\u001b[0m\u001b[0mall_args\u001b[0m\u001b[1;33m)\u001b[0m\u001b[1;33m\u001b[0m\u001b[1;33m\u001b[0m\u001b[0m\n\u001b[0;32m     62\u001b[0m             \u001b[1;32mif\u001b[0m \u001b[0mextra_args\u001b[0m \u001b[1;33m<=\u001b[0m \u001b[1;36m0\u001b[0m\u001b[1;33m:\u001b[0m\u001b[1;33m\u001b[0m\u001b[1;33m\u001b[0m\u001b[0m\n\u001b[1;32m---> 63\u001b[1;33m                 \u001b[1;32mreturn\u001b[0m \u001b[0mf\u001b[0m\u001b[1;33m(\u001b[0m\u001b[1;33m*\u001b[0m\u001b[0margs\u001b[0m\u001b[1;33m,\u001b[0m \u001b[1;33m**\u001b[0m\u001b[0mkwargs\u001b[0m\u001b[1;33m)\u001b[0m\u001b[1;33m\u001b[0m\u001b[1;33m\u001b[0m\u001b[0m\n\u001b[0m\u001b[0;32m     64\u001b[0m \u001b[1;33m\u001b[0m\u001b[0m\n\u001b[0;32m     65\u001b[0m             \u001b[1;31m# extra_args > 0\u001b[0m\u001b[1;33m\u001b[0m\u001b[1;33m\u001b[0m\u001b[0m\n",
      "\u001b[1;32m~\\Anaconda3\\lib\\site-packages\\sklearn\\utils\\validation.py\u001b[0m in \u001b[0;36mcheck_array\u001b[1;34m(array, accept_sparse, accept_large_sparse, dtype, order, copy, force_all_finite, ensure_2d, allow_nd, ensure_min_samples, ensure_min_features, estimator)\u001b[0m\n\u001b[0;32m    718\u001b[0m \u001b[1;33m\u001b[0m\u001b[0m\n\u001b[0;32m    719\u001b[0m         \u001b[1;32mif\u001b[0m \u001b[0mforce_all_finite\u001b[0m\u001b[1;33m:\u001b[0m\u001b[1;33m\u001b[0m\u001b[1;33m\u001b[0m\u001b[0m\n\u001b[1;32m--> 720\u001b[1;33m             _assert_all_finite(array,\n\u001b[0m\u001b[0;32m    721\u001b[0m                                allow_nan=force_all_finite == 'allow-nan')\n\u001b[0;32m    722\u001b[0m \u001b[1;33m\u001b[0m\u001b[0m\n",
      "\u001b[1;32m~\\Anaconda3\\lib\\site-packages\\sklearn\\utils\\validation.py\u001b[0m in \u001b[0;36m_assert_all_finite\u001b[1;34m(X, allow_nan, msg_dtype)\u001b[0m\n\u001b[0;32m    109\u001b[0m     \u001b[1;32melif\u001b[0m \u001b[0mX\u001b[0m\u001b[1;33m.\u001b[0m\u001b[0mdtype\u001b[0m \u001b[1;33m==\u001b[0m \u001b[0mnp\u001b[0m\u001b[1;33m.\u001b[0m\u001b[0mdtype\u001b[0m\u001b[1;33m(\u001b[0m\u001b[1;34m'object'\u001b[0m\u001b[1;33m)\u001b[0m \u001b[1;32mand\u001b[0m \u001b[1;32mnot\u001b[0m \u001b[0mallow_nan\u001b[0m\u001b[1;33m:\u001b[0m\u001b[1;33m\u001b[0m\u001b[1;33m\u001b[0m\u001b[0m\n\u001b[0;32m    110\u001b[0m         \u001b[1;32mif\u001b[0m \u001b[0m_object_dtype_isnan\u001b[0m\u001b[1;33m(\u001b[0m\u001b[0mX\u001b[0m\u001b[1;33m)\u001b[0m\u001b[1;33m.\u001b[0m\u001b[0many\u001b[0m\u001b[1;33m(\u001b[0m\u001b[1;33m)\u001b[0m\u001b[1;33m:\u001b[0m\u001b[1;33m\u001b[0m\u001b[1;33m\u001b[0m\u001b[0m\n\u001b[1;32m--> 111\u001b[1;33m             \u001b[1;32mraise\u001b[0m \u001b[0mValueError\u001b[0m\u001b[1;33m(\u001b[0m\u001b[1;34m\"Input contains NaN\"\u001b[0m\u001b[1;33m)\u001b[0m\u001b[1;33m\u001b[0m\u001b[1;33m\u001b[0m\u001b[0m\n\u001b[0m\u001b[0;32m    112\u001b[0m \u001b[1;33m\u001b[0m\u001b[0m\n\u001b[0;32m    113\u001b[0m \u001b[1;33m\u001b[0m\u001b[0m\n",
      "\u001b[1;31mValueError\u001b[0m: Input contains NaN"
     ]
    }
   ],
   "source": [
    "from sklearn.preprocessing import OrdinalEncoder\n",
    "\n",
    "oc = OrdinalEncoder()\n",
    "\n",
    "df_for_encode = pd.concat([train_df, test_df])\n",
    "\n",
    "df_for_encode[object_cols] = df_for_encode[object_cols].astype('category')\n",
    "\n",
    "df_for_encode[object_cols] = oc.fit_transform(df_for_encode[object_cols])\n",
    "\n",
    "del train_df, test_df\n",
    "\n",
    "train_df = df_for_encode.iloc[:8693, :]\n",
    "test_df = df_for_encode.iloc[8693: , :]\n",
    "\n",
    "del df_for_encode\n",
    "\n",
    "test_df.drop('Transported', inplace=True, axis=1)"
   ]
  },
  {
   "cell_type": "code",
   "execution_count": null,
   "id": "87f2b74f",
   "metadata": {
    "execution": {
     "iopub.execute_input": "2022-10-26T03:09:16.417714Z",
     "iopub.status.busy": "2022-10-26T03:09:16.417297Z",
     "iopub.status.idle": "2022-10-26T03:09:16.422976Z",
     "shell.execute_reply": "2022-10-26T03:09:16.421897Z"
    },
    "papermill": {
     "duration": 0.016783,
     "end_time": "2022-10-26T03:09:16.425490",
     "exception": false,
     "start_time": "2022-10-26T03:09:16.408707",
     "status": "completed"
    },
    "tags": []
   },
   "outputs": [],
   "source": [
    "print(f'Train DF shape: {train_df.shape}')\n",
    "print(f'Test DF shape: {test_df.shape}')"
   ]
  },
  {
   "cell_type": "code",
   "execution_count": null,
   "id": "22d97d5a",
   "metadata": {
    "execution": {
     "iopub.execute_input": "2022-10-26T03:09:16.442962Z",
     "iopub.status.busy": "2022-10-26T03:09:16.442071Z",
     "iopub.status.idle": "2022-10-26T03:09:16.600926Z",
     "shell.execute_reply": "2022-10-26T03:09:16.599698Z"
    },
    "papermill": {
     "duration": 0.170508,
     "end_time": "2022-10-26T03:09:16.603716",
     "exception": false,
     "start_time": "2022-10-26T03:09:16.433208",
     "status": "completed"
    },
    "tags": []
   },
   "outputs": [],
   "source": [
    "from sklearn.impute import SimpleImputer\n",
    "from sklearn.compose import ColumnTransformer\n",
    "\n",
    "\n",
    "ct = ColumnTransformer([(\"imp\", SimpleImputer(strategy='mean'), null_cols)])\n",
    "    \n",
    "train_df[null_cols] = ct.fit_transform(train_df[null_cols])\n",
    "test_df[null_cols] = ct.fit_transform(test_df[null_cols])\n",
    "\n"
   ]
  },
  {
   "cell_type": "markdown",
   "id": "bf5e6f79",
   "metadata": {
    "papermill": {
     "duration": 0.007233,
     "end_time": "2022-10-26T03:09:16.618648",
     "exception": false,
     "start_time": "2022-10-26T03:09:16.611415",
     "status": "completed"
    },
    "tags": []
   },
   "source": [
    "<h3 style=\"text-align: center;\">Prearing the dataset for modeling</h3>"
   ]
  },
  {
   "cell_type": "code",
   "execution_count": null,
   "id": "02d34709",
   "metadata": {
    "execution": {
     "iopub.execute_input": "2022-10-26T03:09:16.636138Z",
     "iopub.status.busy": "2022-10-26T03:09:16.635399Z",
     "iopub.status.idle": "2022-10-26T03:09:16.640882Z",
     "shell.execute_reply": "2022-10-26T03:09:16.639838Z"
    },
    "papermill": {
     "duration": 0.016746,
     "end_time": "2022-10-26T03:09:16.643008",
     "exception": false,
     "start_time": "2022-10-26T03:09:16.626262",
     "status": "completed"
    },
    "tags": []
   },
   "outputs": [],
   "source": [
    "X = train_df.copy()\n",
    "y = X.pop('Transported')\n"
   ]
  },
  {
   "cell_type": "markdown",
   "id": "91852f04",
   "metadata": {
    "papermill": {
     "duration": 0.007304,
     "end_time": "2022-10-26T03:09:16.657772",
     "exception": false,
     "start_time": "2022-10-26T03:09:16.650468",
     "status": "completed"
    },
    "tags": []
   },
   "source": [
    "<h3 style=\"text-align: center;\">A free tool of modularity in features engineering</h3>"
   ]
  },
  {
   "cell_type": "code",
   "execution_count": null,
   "id": "22ec7931",
   "metadata": {
    "execution": {
     "iopub.execute_input": "2022-10-26T03:09:16.674977Z",
     "iopub.status.busy": "2022-10-26T03:09:16.673984Z",
     "iopub.status.idle": "2022-10-26T03:10:20.063581Z",
     "shell.execute_reply": "2022-10-26T03:10:20.062390Z"
    },
    "papermill": {
     "duration": 63.401625,
     "end_time": "2022-10-26T03:10:20.066888",
     "exception": false,
     "start_time": "2022-10-26T03:09:16.665263",
     "status": "completed"
    },
    "tags": []
   },
   "outputs": [],
   "source": [
    "!pip install headjackai-sdk\n",
    "!pip install pandas --upgrade"
   ]
  },
  {
   "cell_type": "markdown",
   "id": "8f5dd3d9",
   "metadata": {
    "papermill": {
     "duration": 0.015332,
     "end_time": "2022-10-26T03:10:20.098331",
     "exception": false,
     "start_time": "2022-10-26T03:10:20.082999",
     "status": "completed"
    },
    "tags": []
   },
   "source": [
    "#### This account has been created for show on the kaggle fourm, \n",
    "#### and you can create a another free one on headjackai.com\n",
    "#### if you try to test it on other tasks or create a new features engineering model yourself."
   ]
  },
  {
   "cell_type": "code",
   "execution_count": null,
   "id": "3880bd80",
   "metadata": {
    "execution": {
     "iopub.execute_input": "2022-10-26T03:10:20.131796Z",
     "iopub.status.busy": "2022-10-26T03:10:20.131351Z",
     "iopub.status.idle": "2022-10-26T03:10:21.019765Z",
     "shell.execute_reply": "2022-10-26T03:10:21.018679Z"
    },
    "papermill": {
     "duration": 0.908059,
     "end_time": "2022-10-26T03:10:21.022184",
     "exception": false,
     "start_time": "2022-10-26T03:10:20.114125",
     "status": "completed"
    },
    "tags": []
   },
   "outputs": [],
   "source": [
    "from headjackai.headjackai_hub import headjackai_hub\n",
    "\n",
    "#host setting\n",
    "hj_hub = headjackai_hub('http://www.headjackai.com:9000')\n",
    "hj_hub.login(username='jimliu_kaggle', pwd='12345678')"
   ]
  },
  {
   "cell_type": "code",
   "execution_count": null,
   "id": "6cde486e",
   "metadata": {
    "execution": {
     "iopub.execute_input": "2022-10-26T03:10:21.055949Z",
     "iopub.status.busy": "2022-10-26T03:10:21.055566Z",
     "iopub.status.idle": "2022-10-26T03:10:21.869079Z",
     "shell.execute_reply": "2022-10-26T03:10:21.867827Z"
    },
    "papermill": {
     "duration": 0.833403,
     "end_time": "2022-10-26T03:10:21.871529",
     "exception": false,
     "start_time": "2022-10-26T03:10:21.038126",
     "status": "completed"
    },
    "tags": []
   },
   "outputs": [],
   "source": [
    "#show the all public knowledge (features engineering model)\n",
    "hj_hub.knowledgepool_check(public_pool=True)"
   ]
  },
  {
   "cell_type": "code",
   "execution_count": null,
   "id": "d2b68f7c",
   "metadata": {
    "execution": {
     "iopub.execute_input": "2022-10-26T03:10:21.909483Z",
     "iopub.status.busy": "2022-10-26T03:10:21.909068Z",
     "iopub.status.idle": "2022-10-26T03:10:27.534541Z",
     "shell.execute_reply": "2022-10-26T03:10:27.533352Z"
    },
    "papermill": {
     "duration": 5.648533,
     "end_time": "2022-10-26T03:10:27.537218",
     "exception": false,
     "start_time": "2022-10-26T03:10:21.888685",
     "status": "completed"
    },
    "tags": []
   },
   "outputs": [],
   "source": [
    "#in this case, we select drug_type as our features engineering function and the features from misaelcribeiro picked. \n",
    "source = 'drug_type'\n",
    "\n",
    "\n",
    "best_features = [\n",
    " 'Spaceship-Titanic-CryoSleep',\n",
    " 'Spaceship-Titanic-RoomService',\n",
    " 'Spaceship-Titanic-Spa',\n",
    " 'Spaceship-Titanic-VRDeck',\n",
    " 'Spaceship-Titanic-deck',\n",
    " 'Spaceship-Titanic-side',\n",
    " 'Spaceship-Titanic-SumSpends',\n",
    " 'drug_type-Sex']\n",
    "\n",
    "\n",
    "#run features engineering on hj \n",
    "hj_X = hj_hub.knowledge_transform(data=X, target_domain='Spaceship-Titanic', \n",
    "                                  source_domain=source,\n",
    "                                  label='')\n",
    "\n",
    "hj_ts_X = hj_hub.knowledge_transform(data=test_df, target_domain='Spaceship-Titanic', \n",
    "                                  source_domain=source,\n",
    "                                  label='') \n"
   ]
  },
  {
   "cell_type": "code",
   "execution_count": null,
   "id": "053df5a3",
   "metadata": {
    "execution": {
     "iopub.execute_input": "2022-10-26T03:10:27.571326Z",
     "iopub.status.busy": "2022-10-26T03:10:27.570883Z",
     "iopub.status.idle": "2022-10-26T03:10:27.577186Z",
     "shell.execute_reply": "2022-10-26T03:10:27.575938Z"
    },
    "papermill": {
     "duration": 0.026284,
     "end_time": "2022-10-26T03:10:27.579682",
     "exception": false,
     "start_time": "2022-10-26T03:10:27.553398",
     "status": "completed"
    },
    "tags": []
   },
   "outputs": [],
   "source": [
    "print(f'Train DF shape: {X.shape}')\n",
    "print(f'Train DF shape after hj features engineering: {hj_X.shape}')"
   ]
  },
  {
   "cell_type": "code",
   "execution_count": null,
   "id": "b7ef3cc7",
   "metadata": {
    "execution": {
     "iopub.execute_input": "2022-10-26T03:10:27.614155Z",
     "iopub.status.busy": "2022-10-26T03:10:27.613752Z",
     "iopub.status.idle": "2022-10-26T03:10:27.649055Z",
     "shell.execute_reply": "2022-10-26T03:10:27.647774Z"
    },
    "papermill": {
     "duration": 0.055859,
     "end_time": "2022-10-26T03:10:27.651649",
     "exception": false,
     "start_time": "2022-10-26T03:10:27.595790",
     "status": "completed"
    },
    "tags": []
   },
   "outputs": [],
   "source": [
    "hj_X.head(10)"
   ]
  },
  {
   "cell_type": "code",
   "execution_count": null,
   "id": "a927f9f8",
   "metadata": {
    "execution": {
     "iopub.execute_input": "2022-10-26T03:10:27.686815Z",
     "iopub.status.busy": "2022-10-26T03:10:27.686383Z",
     "iopub.status.idle": "2022-10-26T03:10:32.213124Z",
     "shell.execute_reply": "2022-10-26T03:10:32.211796Z"
    },
    "papermill": {
     "duration": 4.547483,
     "end_time": "2022-10-26T03:10:32.215928",
     "exception": false,
     "start_time": "2022-10-26T03:10:27.668445",
     "status": "completed"
    },
    "tags": []
   },
   "outputs": [],
   "source": [
    "\n",
    "model = CatBoostClassifier(verbose=False, eval_metric='Accuracy',random_seed=2222)\n",
    "\n",
    "model.fit(hj_X[best_features], y)\n",
    "prediction = model.predict(hj_ts_X[best_features])\n"
   ]
  },
  {
   "cell_type": "code",
   "execution_count": null,
   "id": "c11c731a",
   "metadata": {
    "execution": {
     "iopub.execute_input": "2022-10-26T03:10:32.251320Z",
     "iopub.status.busy": "2022-10-26T03:10:32.250928Z",
     "iopub.status.idle": "2022-10-26T03:10:32.266755Z",
     "shell.execute_reply": "2022-10-26T03:10:32.265638Z"
    },
    "papermill": {
     "duration": 0.036979,
     "end_time": "2022-10-26T03:10:32.269505",
     "exception": false,
     "start_time": "2022-10-26T03:10:32.232526",
     "status": "completed"
    },
    "tags": []
   },
   "outputs": [],
   "source": [
    "#Prediction\n",
    "final = pd.DataFrame()\n",
    "final.index = test_df.index\n",
    "final['Transported'] = prediction\n",
    "final['Transported'].replace(0, False, inplace=True)\n",
    "final['Transported'].replace(1, True, inplace=True)\n",
    "final.to_csv('submission.csv')"
   ]
  },
  {
   "cell_type": "markdown",
   "id": "d0546925",
   "metadata": {
    "papermill": {
     "duration": 0.016146,
     "end_time": "2022-10-26T03:10:32.301933",
     "exception": false,
     "start_time": "2022-10-26T03:10:32.285787",
     "status": "completed"
    },
    "tags": []
   },
   "source": [
    "<h3 style=\"text-align: center;\">Final score so far: 0.81669 -- in progress</h3>"
   ]
  }
 ],
 "metadata": {
  "kernelspec": {
   "display_name": "Python 3 (ipykernel)",
   "language": "python",
   "name": "python3"
  },
  "language_info": {
   "codemirror_mode": {
    "name": "ipython",
    "version": 3
   },
   "file_extension": ".py",
   "mimetype": "text/x-python",
   "name": "python",
   "nbconvert_exporter": "python",
   "pygments_lexer": "ipython3",
   "version": "3.9.7"
  },
  "papermill": {
   "default_parameters": {},
   "duration": 88.451383,
   "end_time": "2022-10-26T03:10:33.242244",
   "environment_variables": {},
   "exception": null,
   "input_path": "__notebook__.ipynb",
   "output_path": "__notebook__.ipynb",
   "parameters": {},
   "start_time": "2022-10-26T03:09:04.790861",
   "version": "2.3.4"
  }
 },
 "nbformat": 4,
 "nbformat_minor": 5
}
