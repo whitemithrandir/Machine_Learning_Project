{
 "cells": [
  {
   "cell_type": "code",
   "execution_count": 1,
   "metadata": {
    "_cell_guid": "b1076dfc-b9ad-4769-8c92-a6c4dae69d19",
    "_uuid": "8f2839f25d086af736a60e9eeb907d3b93b6e0e5",
    "execution": {
     "iopub.execute_input": "2022-11-11T09:24:59.689122Z",
     "iopub.status.busy": "2022-11-11T09:24:59.688663Z",
     "iopub.status.idle": "2022-11-11T09:24:59.699311Z",
     "shell.execute_reply": "2022-11-11T09:24:59.697631Z",
     "shell.execute_reply.started": "2022-11-11T09:24:59.689087Z"
    }
   },
   "outputs": [],
   "source": [
    "# This Python 3 environment comes with many helpful analytics libraries installed\n",
    "# It is defined by the kaggle/python Docker image: https://github.com/kaggle/docker-python\n",
    "# For example, here's several helpful packages to load\n",
    "\n",
    "import numpy as np # linear algebra\n",
    "import pandas as pd # data processing, CSV file I/O (e.g. pd.read_csv)\n",
    "\n",
    "# Input data files are available in the read-only \"../input/\" directory\n",
    "# For example, running this (by clicking run or pressing Shift+Enter) will list all files under the input directory\n",
    "\n",
    "\n",
    "\n",
    "# You can write up to 20GB to the current directory (/kaggle/working/) that gets preserved as output when you create a version using \"Save & Run All\" \n",
    "# You can also write temporary files to /kaggle/temp/, but they won't be saved outside of the current session"
   ]
  },
  {
   "cell_type": "markdown",
   "metadata": {},
   "source": [
    "**Loading and Understanding the Data**"
   ]
  },
  {
   "cell_type": "code",
   "execution_count": 3,
   "metadata": {
    "execution": {
     "iopub.execute_input": "2022-11-11T09:25:01.630214Z",
     "iopub.status.busy": "2022-11-11T09:25:01.629167Z",
     "iopub.status.idle": "2022-11-11T09:25:01.735947Z",
     "shell.execute_reply": "2022-11-11T09:25:01.733880Z",
     "shell.execute_reply.started": "2022-11-11T09:25:01.630145Z"
    }
   },
   "outputs": [],
   "source": [
    "train_df = pd.read_csv('train.csv')\n",
    "test_df = pd.read_csv('test.csv')"
   ]
  },
  {
   "cell_type": "code",
   "execution_count": 4,
   "metadata": {
    "execution": {
     "iopub.execute_input": "2022-11-11T09:25:04.419090Z",
     "iopub.status.busy": "2022-11-11T09:25:04.418541Z",
     "iopub.status.idle": "2022-11-11T09:25:04.425947Z",
     "shell.execute_reply": "2022-11-11T09:25:04.424388Z",
     "shell.execute_reply.started": "2022-11-11T09:25:04.419042Z"
    }
   },
   "outputs": [
    {
     "name": "stdout",
     "output_type": "stream",
     "text": [
      "Train data shape: (8693, 14)\n",
      "Test data shape: (4277, 13)\n"
     ]
    }
   ],
   "source": [
    "print(\"Train data shape:\", train_data.shape)\n",
    "print(\"Test data shape:\", test_data.shape)"
   ]
  },
  {
   "cell_type": "code",
   "execution_count": 5,
   "metadata": {
    "execution": {
     "iopub.execute_input": "2022-11-11T09:25:05.846863Z",
     "iopub.status.busy": "2022-11-11T09:25:05.846329Z",
     "iopub.status.idle": "2022-11-11T09:25:05.888275Z",
     "shell.execute_reply": "2022-11-11T09:25:05.887005Z",
     "shell.execute_reply.started": "2022-11-11T09:25:05.846819Z"
    }
   },
   "outputs": [
    {
     "data": {
      "text/html": [
       "<div>\n",
       "<style scoped>\n",
       "    .dataframe tbody tr th:only-of-type {\n",
       "        vertical-align: middle;\n",
       "    }\n",
       "\n",
       "    .dataframe tbody tr th {\n",
       "        vertical-align: top;\n",
       "    }\n",
       "\n",
       "    .dataframe thead th {\n",
       "        text-align: right;\n",
       "    }\n",
       "</style>\n",
       "<table border=\"1\" class=\"dataframe\">\n",
       "  <thead>\n",
       "    <tr style=\"text-align: right;\">\n",
       "      <th></th>\n",
       "      <th>PassengerId</th>\n",
       "      <th>HomePlanet</th>\n",
       "      <th>CryoSleep</th>\n",
       "      <th>Cabin</th>\n",
       "      <th>Destination</th>\n",
       "      <th>Age</th>\n",
       "      <th>VIP</th>\n",
       "      <th>RoomService</th>\n",
       "      <th>FoodCourt</th>\n",
       "      <th>ShoppingMall</th>\n",
       "      <th>Spa</th>\n",
       "      <th>VRDeck</th>\n",
       "      <th>Name</th>\n",
       "      <th>Transported</th>\n",
       "    </tr>\n",
       "  </thead>\n",
       "  <tbody>\n",
       "    <tr>\n",
       "      <th>0</th>\n",
       "      <td>0001_01</td>\n",
       "      <td>Europa</td>\n",
       "      <td>False</td>\n",
       "      <td>B/0/P</td>\n",
       "      <td>TRAPPIST-1e</td>\n",
       "      <td>39.0</td>\n",
       "      <td>False</td>\n",
       "      <td>0.0</td>\n",
       "      <td>0.0</td>\n",
       "      <td>0.0</td>\n",
       "      <td>0.0</td>\n",
       "      <td>0.0</td>\n",
       "      <td>Maham Ofracculy</td>\n",
       "      <td>False</td>\n",
       "    </tr>\n",
       "    <tr>\n",
       "      <th>1</th>\n",
       "      <td>0002_01</td>\n",
       "      <td>Earth</td>\n",
       "      <td>False</td>\n",
       "      <td>F/0/S</td>\n",
       "      <td>TRAPPIST-1e</td>\n",
       "      <td>24.0</td>\n",
       "      <td>False</td>\n",
       "      <td>109.0</td>\n",
       "      <td>9.0</td>\n",
       "      <td>25.0</td>\n",
       "      <td>549.0</td>\n",
       "      <td>44.0</td>\n",
       "      <td>Juanna Vines</td>\n",
       "      <td>True</td>\n",
       "    </tr>\n",
       "    <tr>\n",
       "      <th>2</th>\n",
       "      <td>0003_01</td>\n",
       "      <td>Europa</td>\n",
       "      <td>False</td>\n",
       "      <td>A/0/S</td>\n",
       "      <td>TRAPPIST-1e</td>\n",
       "      <td>58.0</td>\n",
       "      <td>True</td>\n",
       "      <td>43.0</td>\n",
       "      <td>3576.0</td>\n",
       "      <td>0.0</td>\n",
       "      <td>6715.0</td>\n",
       "      <td>49.0</td>\n",
       "      <td>Altark Susent</td>\n",
       "      <td>False</td>\n",
       "    </tr>\n",
       "    <tr>\n",
       "      <th>3</th>\n",
       "      <td>0003_02</td>\n",
       "      <td>Europa</td>\n",
       "      <td>False</td>\n",
       "      <td>A/0/S</td>\n",
       "      <td>TRAPPIST-1e</td>\n",
       "      <td>33.0</td>\n",
       "      <td>False</td>\n",
       "      <td>0.0</td>\n",
       "      <td>1283.0</td>\n",
       "      <td>371.0</td>\n",
       "      <td>3329.0</td>\n",
       "      <td>193.0</td>\n",
       "      <td>Solam Susent</td>\n",
       "      <td>False</td>\n",
       "    </tr>\n",
       "    <tr>\n",
       "      <th>4</th>\n",
       "      <td>0004_01</td>\n",
       "      <td>Earth</td>\n",
       "      <td>False</td>\n",
       "      <td>F/1/S</td>\n",
       "      <td>TRAPPIST-1e</td>\n",
       "      <td>16.0</td>\n",
       "      <td>False</td>\n",
       "      <td>303.0</td>\n",
       "      <td>70.0</td>\n",
       "      <td>151.0</td>\n",
       "      <td>565.0</td>\n",
       "      <td>2.0</td>\n",
       "      <td>Willy Santantines</td>\n",
       "      <td>True</td>\n",
       "    </tr>\n",
       "  </tbody>\n",
       "</table>\n",
       "</div>"
      ],
      "text/plain": [
       "  PassengerId HomePlanet CryoSleep  Cabin  Destination   Age    VIP  \\\n",
       "0     0001_01     Europa     False  B/0/P  TRAPPIST-1e  39.0  False   \n",
       "1     0002_01      Earth     False  F/0/S  TRAPPIST-1e  24.0  False   \n",
       "2     0003_01     Europa     False  A/0/S  TRAPPIST-1e  58.0   True   \n",
       "3     0003_02     Europa     False  A/0/S  TRAPPIST-1e  33.0  False   \n",
       "4     0004_01      Earth     False  F/1/S  TRAPPIST-1e  16.0  False   \n",
       "\n",
       "   RoomService  FoodCourt  ShoppingMall     Spa  VRDeck               Name  \\\n",
       "0          0.0        0.0           0.0     0.0     0.0    Maham Ofracculy   \n",
       "1        109.0        9.0          25.0   549.0    44.0       Juanna Vines   \n",
       "2         43.0     3576.0           0.0  6715.0    49.0      Altark Susent   \n",
       "3          0.0     1283.0         371.0  3329.0   193.0       Solam Susent   \n",
       "4        303.0       70.0         151.0   565.0     2.0  Willy Santantines   \n",
       "\n",
       "   Transported  \n",
       "0        False  \n",
       "1         True  \n",
       "2        False  \n",
       "3        False  \n",
       "4         True  "
      ]
     },
     "execution_count": 5,
     "metadata": {},
     "output_type": "execute_result"
    }
   ],
   "source": [
    "# First 5 rows in train dataset\n",
    "train_data.head()"
   ]
  },
  {
   "cell_type": "code",
   "execution_count": 19,
   "metadata": {
    "execution": {
     "iopub.execute_input": "2022-11-11T08:10:45.243076Z",
     "iopub.status.busy": "2022-11-11T08:10:45.242668Z",
     "iopub.status.idle": "2022-11-11T08:10:45.284219Z",
     "shell.execute_reply": "2022-11-11T08:10:45.282880Z",
     "shell.execute_reply.started": "2022-11-11T08:10:45.243045Z"
    }
   },
   "outputs": [
    {
     "data": {
      "text/html": [
       "<div>\n",
       "<style scoped>\n",
       "    .dataframe tbody tr th:only-of-type {\n",
       "        vertical-align: middle;\n",
       "    }\n",
       "\n",
       "    .dataframe tbody tr th {\n",
       "        vertical-align: top;\n",
       "    }\n",
       "\n",
       "    .dataframe thead th {\n",
       "        text-align: right;\n",
       "    }\n",
       "</style>\n",
       "<table border=\"1\" class=\"dataframe\">\n",
       "  <thead>\n",
       "    <tr style=\"text-align: right;\">\n",
       "      <th></th>\n",
       "      <th>count</th>\n",
       "      <th>mean</th>\n",
       "      <th>std</th>\n",
       "      <th>min</th>\n",
       "      <th>25%</th>\n",
       "      <th>50%</th>\n",
       "      <th>75%</th>\n",
       "      <th>max</th>\n",
       "    </tr>\n",
       "  </thead>\n",
       "  <tbody>\n",
       "    <tr>\n",
       "      <th>Age</th>\n",
       "      <td>8514.0</td>\n",
       "      <td>28.827930</td>\n",
       "      <td>14.489021</td>\n",
       "      <td>0.0</td>\n",
       "      <td>19.0</td>\n",
       "      <td>27.0</td>\n",
       "      <td>38.0</td>\n",
       "      <td>79.0</td>\n",
       "    </tr>\n",
       "    <tr>\n",
       "      <th>RoomService</th>\n",
       "      <td>8512.0</td>\n",
       "      <td>224.687617</td>\n",
       "      <td>666.717663</td>\n",
       "      <td>0.0</td>\n",
       "      <td>0.0</td>\n",
       "      <td>0.0</td>\n",
       "      <td>47.0</td>\n",
       "      <td>14327.0</td>\n",
       "    </tr>\n",
       "    <tr>\n",
       "      <th>FoodCourt</th>\n",
       "      <td>8510.0</td>\n",
       "      <td>458.077203</td>\n",
       "      <td>1611.489240</td>\n",
       "      <td>0.0</td>\n",
       "      <td>0.0</td>\n",
       "      <td>0.0</td>\n",
       "      <td>76.0</td>\n",
       "      <td>29813.0</td>\n",
       "    </tr>\n",
       "    <tr>\n",
       "      <th>ShoppingMall</th>\n",
       "      <td>8485.0</td>\n",
       "      <td>173.729169</td>\n",
       "      <td>604.696458</td>\n",
       "      <td>0.0</td>\n",
       "      <td>0.0</td>\n",
       "      <td>0.0</td>\n",
       "      <td>27.0</td>\n",
       "      <td>23492.0</td>\n",
       "    </tr>\n",
       "    <tr>\n",
       "      <th>Spa</th>\n",
       "      <td>8510.0</td>\n",
       "      <td>311.138778</td>\n",
       "      <td>1136.705535</td>\n",
       "      <td>0.0</td>\n",
       "      <td>0.0</td>\n",
       "      <td>0.0</td>\n",
       "      <td>59.0</td>\n",
       "      <td>22408.0</td>\n",
       "    </tr>\n",
       "    <tr>\n",
       "      <th>VRDeck</th>\n",
       "      <td>8505.0</td>\n",
       "      <td>304.854791</td>\n",
       "      <td>1145.717189</td>\n",
       "      <td>0.0</td>\n",
       "      <td>0.0</td>\n",
       "      <td>0.0</td>\n",
       "      <td>46.0</td>\n",
       "      <td>24133.0</td>\n",
       "    </tr>\n",
       "  </tbody>\n",
       "</table>\n",
       "</div>"
      ],
      "text/plain": [
       "               count        mean          std  min   25%   50%   75%      max\n",
       "Age           8514.0   28.827930    14.489021  0.0  19.0  27.0  38.0     79.0\n",
       "RoomService   8512.0  224.687617   666.717663  0.0   0.0   0.0  47.0  14327.0\n",
       "FoodCourt     8510.0  458.077203  1611.489240  0.0   0.0   0.0  76.0  29813.0\n",
       "ShoppingMall  8485.0  173.729169   604.696458  0.0   0.0   0.0  27.0  23492.0\n",
       "Spa           8510.0  311.138778  1136.705535  0.0   0.0   0.0  59.0  22408.0\n",
       "VRDeck        8505.0  304.854791  1145.717189  0.0   0.0   0.0  46.0  24133.0"
      ]
     },
     "execution_count": 19,
     "metadata": {},
     "output_type": "execute_result"
    }
   ],
   "source": [
    "train_data.describe().T"
   ]
  },
  {
   "cell_type": "code",
   "execution_count": 20,
   "metadata": {
    "execution": {
     "iopub.execute_input": "2022-11-11T08:10:49.321790Z",
     "iopub.status.busy": "2022-11-11T08:10:49.321402Z",
     "iopub.status.idle": "2022-11-11T08:10:49.339476Z",
     "shell.execute_reply": "2022-11-11T08:10:49.338457Z",
     "shell.execute_reply.started": "2022-11-11T08:10:49.321760Z"
    }
   },
   "outputs": [
    {
     "name": "stdout",
     "output_type": "stream",
     "text": [
      "<class 'pandas.core.frame.DataFrame'>\n",
      "RangeIndex: 8693 entries, 0 to 8692\n",
      "Data columns (total 14 columns):\n",
      " #   Column        Non-Null Count  Dtype  \n",
      "---  ------        --------------  -----  \n",
      " 0   PassengerId   8693 non-null   object \n",
      " 1   HomePlanet    8492 non-null   object \n",
      " 2   CryoSleep     8476 non-null   object \n",
      " 3   Cabin         8494 non-null   object \n",
      " 4   Destination   8511 non-null   object \n",
      " 5   Age           8514 non-null   float64\n",
      " 6   VIP           8490 non-null   object \n",
      " 7   RoomService   8512 non-null   float64\n",
      " 8   FoodCourt     8510 non-null   float64\n",
      " 9   ShoppingMall  8485 non-null   float64\n",
      " 10  Spa           8510 non-null   float64\n",
      " 11  VRDeck        8505 non-null   float64\n",
      " 12  Name          8493 non-null   object \n",
      " 13  Transported   8693 non-null   bool   \n",
      "dtypes: bool(1), float64(6), object(7)\n",
      "memory usage: 891.5+ KB\n"
     ]
    }
   ],
   "source": [
    "train_data.info()"
   ]
  },
  {
   "cell_type": "code",
   "execution_count": 7,
   "metadata": {
    "execution": {
     "iopub.execute_input": "2022-11-11T08:05:30.632615Z",
     "iopub.status.busy": "2022-11-11T08:05:30.632211Z",
     "iopub.status.idle": "2022-11-11T08:05:30.656986Z",
     "shell.execute_reply": "2022-11-11T08:05:30.655644Z",
     "shell.execute_reply.started": "2022-11-11T08:05:30.632568Z"
    }
   },
   "outputs": [
    {
     "data": {
      "text/plain": [
       "0"
      ]
     },
     "execution_count": 7,
     "metadata": {},
     "output_type": "execute_result"
    }
   ],
   "source": [
    "# How many duplicated rows our data set?\n",
    "#train_data.duplicated().sum()"
   ]
  },
  {
   "cell_type": "code",
   "execution_count": 6,
   "metadata": {
    "execution": {
     "iopub.execute_input": "2022-11-11T09:25:14.868530Z",
     "iopub.status.busy": "2022-11-11T09:25:14.867893Z",
     "iopub.status.idle": "2022-11-11T09:25:14.892600Z",
     "shell.execute_reply": "2022-11-11T09:25:14.891119Z",
     "shell.execute_reply.started": "2022-11-11T09:25:14.868470Z"
    }
   },
   "outputs": [],
   "source": [
    "# PassengerId column should not be in dataset as a column, but index\n",
    "train_data.set_index(\"PassengerId\", inplace=True)\n",
    "\n",
    "# Drop Name column which we don't need\n",
    "train_data.drop(\"Name\", axis=1, inplace=True)"
   ]
  },
  {
   "cell_type": "code",
   "execution_count": 7,
   "metadata": {
    "execution": {
     "iopub.execute_input": "2022-11-11T09:25:17.508545Z",
     "iopub.status.busy": "2022-11-11T09:25:17.508050Z",
     "iopub.status.idle": "2022-11-11T09:25:17.533978Z",
     "shell.execute_reply": "2022-11-11T09:25:17.532090Z",
     "shell.execute_reply.started": "2022-11-11T09:25:17.508503Z"
    }
   },
   "outputs": [
    {
     "name": "stdout",
     "output_type": "stream",
     "text": [
      "Boolean to integer process starting ...\n",
      "Process for VIP column finished.\n",
      "Process for CryoSleep column finished.\n",
      "Process for Transported column finished.\n",
      "All process completed.\n"
     ]
    }
   ],
   "source": [
    "# VIP, CryoSleep and Transported columns are boolean.\n",
    "# Lets convert boolean to integer.\n",
    "def convert_bool_to_int(data, columns):\n",
    "    print(\"Boolean to integer process starting ...\")\n",
    "    for col in columns:\n",
    "        data[col] = [0 if x == False else 1 for x in data[col]]\n",
    "        \n",
    "        print(f\"Process for {col} column finished.\")\n",
    "    print(\"All process completed.\")\n",
    "    return data\n",
    "train_data = convert_bool_to_int(train_data, [\"VIP\", \"CryoSleep\", \"Transported\"])"
   ]
  },
  {
   "cell_type": "code",
   "execution_count": null,
   "metadata": {},
   "outputs": [],
   "source": []
  },
  {
   "cell_type": "code",
   "execution_count": 8,
   "metadata": {
    "execution": {
     "iopub.execute_input": "2022-11-11T09:25:19.708190Z",
     "iopub.status.busy": "2022-11-11T09:25:19.707492Z",
     "iopub.status.idle": "2022-11-11T09:25:19.740649Z",
     "shell.execute_reply": "2022-11-11T09:25:19.739272Z",
     "shell.execute_reply.started": "2022-11-11T09:25:19.708141Z"
    }
   },
   "outputs": [
    {
     "name": "stdout",
     "output_type": "stream",
     "text": [
      "Deck, Number and Side columns created from Cabin column.\n",
      "Cabin column dropped.\n"
     ]
    }
   ],
   "source": [
    "# Cabin column have 3 values each rows: deck, number, side. \n",
    "# We now split the values\n",
    "def split_cabin_col(data):\n",
    "    cabin_split = data['Cabin'].str.split(pat = \"/\", expand = True)\n",
    "    data[[\"Deck\", \"Number\", \"Side\"]] = cabin_split\n",
    "    print(\"Deck, Number and Side columns created from Cabin column.\")\n",
    "    data.drop(\"Cabin\", axis=1, inplace=True)\n",
    "    print(\"Cabin column dropped.\")\n",
    "    return data\n",
    "\n",
    "train_data = split_cabin_col(train_data)"
   ]
  },
  {
   "cell_type": "code",
   "execution_count": 9,
   "metadata": {
    "execution": {
     "iopub.execute_input": "2022-11-11T09:25:36.363017Z",
     "iopub.status.busy": "2022-11-11T09:25:36.362560Z",
     "iopub.status.idle": "2022-11-11T09:25:36.385565Z",
     "shell.execute_reply": "2022-11-11T09:25:36.384242Z",
     "shell.execute_reply.started": "2022-11-11T09:25:36.362981Z"
    }
   },
   "outputs": [
    {
     "data": {
      "text/html": [
       "<div>\n",
       "<style scoped>\n",
       "    .dataframe tbody tr th:only-of-type {\n",
       "        vertical-align: middle;\n",
       "    }\n",
       "\n",
       "    .dataframe tbody tr th {\n",
       "        vertical-align: top;\n",
       "    }\n",
       "\n",
       "    .dataframe thead th {\n",
       "        text-align: right;\n",
       "    }\n",
       "</style>\n",
       "<table border=\"1\" class=\"dataframe\">\n",
       "  <thead>\n",
       "    <tr style=\"text-align: right;\">\n",
       "      <th></th>\n",
       "      <th>HomePlanet</th>\n",
       "      <th>CryoSleep</th>\n",
       "      <th>Destination</th>\n",
       "      <th>Age</th>\n",
       "      <th>VIP</th>\n",
       "      <th>RoomService</th>\n",
       "      <th>FoodCourt</th>\n",
       "      <th>ShoppingMall</th>\n",
       "      <th>Spa</th>\n",
       "      <th>VRDeck</th>\n",
       "      <th>Transported</th>\n",
       "      <th>Deck</th>\n",
       "      <th>Number</th>\n",
       "      <th>Side</th>\n",
       "    </tr>\n",
       "    <tr>\n",
       "      <th>PassengerId</th>\n",
       "      <th></th>\n",
       "      <th></th>\n",
       "      <th></th>\n",
       "      <th></th>\n",
       "      <th></th>\n",
       "      <th></th>\n",
       "      <th></th>\n",
       "      <th></th>\n",
       "      <th></th>\n",
       "      <th></th>\n",
       "      <th></th>\n",
       "      <th></th>\n",
       "      <th></th>\n",
       "      <th></th>\n",
       "    </tr>\n",
       "  </thead>\n",
       "  <tbody>\n",
       "    <tr>\n",
       "      <th>0001_01</th>\n",
       "      <td>Europa</td>\n",
       "      <td>0</td>\n",
       "      <td>TRAPPIST-1e</td>\n",
       "      <td>39.0</td>\n",
       "      <td>0</td>\n",
       "      <td>0.0</td>\n",
       "      <td>0.0</td>\n",
       "      <td>0.0</td>\n",
       "      <td>0.0</td>\n",
       "      <td>0.0</td>\n",
       "      <td>0</td>\n",
       "      <td>B</td>\n",
       "      <td>0</td>\n",
       "      <td>P</td>\n",
       "    </tr>\n",
       "    <tr>\n",
       "      <th>0002_01</th>\n",
       "      <td>Earth</td>\n",
       "      <td>0</td>\n",
       "      <td>TRAPPIST-1e</td>\n",
       "      <td>24.0</td>\n",
       "      <td>0</td>\n",
       "      <td>109.0</td>\n",
       "      <td>9.0</td>\n",
       "      <td>25.0</td>\n",
       "      <td>549.0</td>\n",
       "      <td>44.0</td>\n",
       "      <td>1</td>\n",
       "      <td>F</td>\n",
       "      <td>0</td>\n",
       "      <td>S</td>\n",
       "    </tr>\n",
       "    <tr>\n",
       "      <th>0003_01</th>\n",
       "      <td>Europa</td>\n",
       "      <td>0</td>\n",
       "      <td>TRAPPIST-1e</td>\n",
       "      <td>58.0</td>\n",
       "      <td>1</td>\n",
       "      <td>43.0</td>\n",
       "      <td>3576.0</td>\n",
       "      <td>0.0</td>\n",
       "      <td>6715.0</td>\n",
       "      <td>49.0</td>\n",
       "      <td>0</td>\n",
       "      <td>A</td>\n",
       "      <td>0</td>\n",
       "      <td>S</td>\n",
       "    </tr>\n",
       "    <tr>\n",
       "      <th>0003_02</th>\n",
       "      <td>Europa</td>\n",
       "      <td>0</td>\n",
       "      <td>TRAPPIST-1e</td>\n",
       "      <td>33.0</td>\n",
       "      <td>0</td>\n",
       "      <td>0.0</td>\n",
       "      <td>1283.0</td>\n",
       "      <td>371.0</td>\n",
       "      <td>3329.0</td>\n",
       "      <td>193.0</td>\n",
       "      <td>0</td>\n",
       "      <td>A</td>\n",
       "      <td>0</td>\n",
       "      <td>S</td>\n",
       "    </tr>\n",
       "    <tr>\n",
       "      <th>0004_01</th>\n",
       "      <td>Earth</td>\n",
       "      <td>0</td>\n",
       "      <td>TRAPPIST-1e</td>\n",
       "      <td>16.0</td>\n",
       "      <td>0</td>\n",
       "      <td>303.0</td>\n",
       "      <td>70.0</td>\n",
       "      <td>151.0</td>\n",
       "      <td>565.0</td>\n",
       "      <td>2.0</td>\n",
       "      <td>1</td>\n",
       "      <td>F</td>\n",
       "      <td>1</td>\n",
       "      <td>S</td>\n",
       "    </tr>\n",
       "  </tbody>\n",
       "</table>\n",
       "</div>"
      ],
      "text/plain": [
       "            HomePlanet  CryoSleep  Destination   Age  VIP  RoomService  \\\n",
       "PassengerId                                                              \n",
       "0001_01         Europa          0  TRAPPIST-1e  39.0    0          0.0   \n",
       "0002_01          Earth          0  TRAPPIST-1e  24.0    0        109.0   \n",
       "0003_01         Europa          0  TRAPPIST-1e  58.0    1         43.0   \n",
       "0003_02         Europa          0  TRAPPIST-1e  33.0    0          0.0   \n",
       "0004_01          Earth          0  TRAPPIST-1e  16.0    0        303.0   \n",
       "\n",
       "             FoodCourt  ShoppingMall     Spa  VRDeck  Transported Deck Number  \\\n",
       "PassengerId                                                                     \n",
       "0001_01            0.0           0.0     0.0     0.0            0    B      0   \n",
       "0002_01            9.0          25.0   549.0    44.0            1    F      0   \n",
       "0003_01         3576.0           0.0  6715.0    49.0            0    A      0   \n",
       "0003_02         1283.0         371.0  3329.0   193.0            0    A      0   \n",
       "0004_01           70.0         151.0   565.0     2.0            1    F      1   \n",
       "\n",
       "            Side  \n",
       "PassengerId       \n",
       "0001_01        P  \n",
       "0002_01        S  \n",
       "0003_01        S  \n",
       "0003_02        S  \n",
       "0004_01        S  "
      ]
     },
     "execution_count": 9,
     "metadata": {},
     "output_type": "execute_result"
    }
   ],
   "source": [
    "# See now how our dataset is\n",
    "train_data.head()"
   ]
  },
  {
   "cell_type": "code",
   "execution_count": 10,
   "metadata": {
    "execution": {
     "iopub.execute_input": "2022-11-11T09:26:07.089507Z",
     "iopub.status.busy": "2022-11-11T09:26:07.089113Z",
     "iopub.status.idle": "2022-11-11T09:26:08.567510Z",
     "shell.execute_reply": "2022-11-11T09:26:08.565549Z",
     "shell.execute_reply.started": "2022-11-11T09:26:07.089477Z"
    }
   },
   "outputs": [
    {
     "data": {
      "image/png": "[encoded data removed]",
      "text/plain": [
       "<Figure size 1800x720 with 2 Axes>"
      ]
     },
     "metadata": {
      "needs_background": "light"
     },
     "output_type": "display_data"
    }
   ],
   "source": [
    "# Lets see missing value in matrix format\n",
    "import missingno as msgn\n",
    "\n",
    "msgn.matrix(train_data);"
   ]
  },
  {
   "cell_type": "code",
   "execution_count": 11,
   "metadata": {
    "execution": {
     "iopub.execute_input": "2022-11-11T09:26:23.881871Z",
     "iopub.status.busy": "2022-11-11T09:26:23.881373Z",
     "iopub.status.idle": "2022-11-11T09:26:23.920582Z",
     "shell.execute_reply": "2022-11-11T09:26:23.919246Z",
     "shell.execute_reply.started": "2022-11-11T09:26:23.881836Z"
    }
   },
   "outputs": [
    {
     "data": {
      "text/html": [
       "<div>\n",
       "<style scoped>\n",
       "    .dataframe tbody tr th:only-of-type {\n",
       "        vertical-align: middle;\n",
       "    }\n",
       "\n",
       "    .dataframe tbody tr th {\n",
       "        vertical-align: top;\n",
       "    }\n",
       "\n",
       "    .dataframe thead th {\n",
       "        text-align: right;\n",
       "    }\n",
       "</style>\n",
       "<table border=\"1\" class=\"dataframe\">\n",
       "  <thead>\n",
       "    <tr style=\"text-align: right;\">\n",
       "      <th></th>\n",
       "      <th>HomePlanet</th>\n",
       "      <th>CryoSleep</th>\n",
       "      <th>Destination</th>\n",
       "      <th>Age</th>\n",
       "      <th>VIP</th>\n",
       "      <th>RoomService</th>\n",
       "      <th>FoodCourt</th>\n",
       "      <th>ShoppingMall</th>\n",
       "      <th>Spa</th>\n",
       "      <th>VRDeck</th>\n",
       "      <th>Transported</th>\n",
       "      <th>Deck</th>\n",
       "      <th>Number</th>\n",
       "      <th>Side</th>\n",
       "    </tr>\n",
       "    <tr>\n",
       "      <th>PassengerId</th>\n",
       "      <th></th>\n",
       "      <th></th>\n",
       "      <th></th>\n",
       "      <th></th>\n",
       "      <th></th>\n",
       "      <th></th>\n",
       "      <th></th>\n",
       "      <th></th>\n",
       "      <th></th>\n",
       "      <th></th>\n",
       "      <th></th>\n",
       "      <th></th>\n",
       "      <th></th>\n",
       "      <th></th>\n",
       "    </tr>\n",
       "  </thead>\n",
       "  <tbody>\n",
       "    <tr>\n",
       "      <th>0064_02</th>\n",
       "      <td>NaN</td>\n",
       "      <td>1</td>\n",
       "      <td>TRAPPIST-1e</td>\n",
       "      <td>33.0</td>\n",
       "      <td>0</td>\n",
       "      <td>0.0</td>\n",
       "      <td>0.0</td>\n",
       "      <td>NaN</td>\n",
       "      <td>0.0</td>\n",
       "      <td>0.0</td>\n",
       "      <td>1</td>\n",
       "      <td>E</td>\n",
       "      <td>3</td>\n",
       "      <td>S</td>\n",
       "    </tr>\n",
       "    <tr>\n",
       "      <th>0119_01</th>\n",
       "      <td>NaN</td>\n",
       "      <td>0</td>\n",
       "      <td>TRAPPIST-1e</td>\n",
       "      <td>39.0</td>\n",
       "      <td>0</td>\n",
       "      <td>0.0</td>\n",
       "      <td>2344.0</td>\n",
       "      <td>0.0</td>\n",
       "      <td>65.0</td>\n",
       "      <td>6898.0</td>\n",
       "      <td>0</td>\n",
       "      <td>A</td>\n",
       "      <td>0</td>\n",
       "      <td>P</td>\n",
       "    </tr>\n",
       "    <tr>\n",
       "      <th>0210_01</th>\n",
       "      <td>NaN</td>\n",
       "      <td>1</td>\n",
       "      <td>55 Cancri e</td>\n",
       "      <td>24.0</td>\n",
       "      <td>0</td>\n",
       "      <td>0.0</td>\n",
       "      <td>0.0</td>\n",
       "      <td>NaN</td>\n",
       "      <td>0.0</td>\n",
       "      <td>0.0</td>\n",
       "      <td>1</td>\n",
       "      <td>D</td>\n",
       "      <td>6</td>\n",
       "      <td>P</td>\n",
       "    </tr>\n",
       "    <tr>\n",
       "      <th>0242_01</th>\n",
       "      <td>NaN</td>\n",
       "      <td>0</td>\n",
       "      <td>TRAPPIST-1e</td>\n",
       "      <td>18.0</td>\n",
       "      <td>0</td>\n",
       "      <td>313.0</td>\n",
       "      <td>1.0</td>\n",
       "      <td>691.0</td>\n",
       "      <td>283.0</td>\n",
       "      <td>0.0</td>\n",
       "      <td>0</td>\n",
       "      <td>F</td>\n",
       "      <td>46</td>\n",
       "      <td>S</td>\n",
       "    </tr>\n",
       "    <tr>\n",
       "      <th>0251_01</th>\n",
       "      <td>NaN</td>\n",
       "      <td>1</td>\n",
       "      <td>55 Cancri e</td>\n",
       "      <td>54.0</td>\n",
       "      <td>0</td>\n",
       "      <td>0.0</td>\n",
       "      <td>0.0</td>\n",
       "      <td>0.0</td>\n",
       "      <td>0.0</td>\n",
       "      <td>0.0</td>\n",
       "      <td>1</td>\n",
       "      <td>C</td>\n",
       "      <td>11</td>\n",
       "      <td>S</td>\n",
       "    </tr>\n",
       "    <tr>\n",
       "      <th>...</th>\n",
       "      <td>...</td>\n",
       "      <td>...</td>\n",
       "      <td>...</td>\n",
       "      <td>...</td>\n",
       "      <td>...</td>\n",
       "      <td>...</td>\n",
       "      <td>...</td>\n",
       "      <td>...</td>\n",
       "      <td>...</td>\n",
       "      <td>...</td>\n",
       "      <td>...</td>\n",
       "      <td>...</td>\n",
       "      <td>...</td>\n",
       "      <td>...</td>\n",
       "    </tr>\n",
       "    <tr>\n",
       "      <th>9084_01</th>\n",
       "      <td>NaN</td>\n",
       "      <td>0</td>\n",
       "      <td>TRAPPIST-1e</td>\n",
       "      <td>25.0</td>\n",
       "      <td>0</td>\n",
       "      <td>1258.0</td>\n",
       "      <td>0.0</td>\n",
       "      <td>22.0</td>\n",
       "      <td>19.0</td>\n",
       "      <td>0.0</td>\n",
       "      <td>0</td>\n",
       "      <td>E</td>\n",
       "      <td>582</td>\n",
       "      <td>P</td>\n",
       "    </tr>\n",
       "    <tr>\n",
       "      <th>9194_01</th>\n",
       "      <td>NaN</td>\n",
       "      <td>0</td>\n",
       "      <td>55 Cancri e</td>\n",
       "      <td>53.0</td>\n",
       "      <td>0</td>\n",
       "      <td>0.0</td>\n",
       "      <td>4017.0</td>\n",
       "      <td>0.0</td>\n",
       "      <td>13.0</td>\n",
       "      <td>3147.0</td>\n",
       "      <td>0</td>\n",
       "      <td>E</td>\n",
       "      <td>603</td>\n",
       "      <td>S</td>\n",
       "    </tr>\n",
       "    <tr>\n",
       "      <th>9248_01</th>\n",
       "      <td>NaN</td>\n",
       "      <td>0</td>\n",
       "      <td>55 Cancri e</td>\n",
       "      <td>38.0</td>\n",
       "      <td>1</td>\n",
       "      <td>28.0</td>\n",
       "      <td>1208.0</td>\n",
       "      <td>973.0</td>\n",
       "      <td>207.0</td>\n",
       "      <td>0.0</td>\n",
       "      <td>1</td>\n",
       "      <td>F</td>\n",
       "      <td>1792</td>\n",
       "      <td>S</td>\n",
       "    </tr>\n",
       "    <tr>\n",
       "      <th>9257_01</th>\n",
       "      <td>NaN</td>\n",
       "      <td>0</td>\n",
       "      <td>TRAPPIST-1e</td>\n",
       "      <td>13.0</td>\n",
       "      <td>0</td>\n",
       "      <td>39.0</td>\n",
       "      <td>0.0</td>\n",
       "      <td>1085.0</td>\n",
       "      <td>24.0</td>\n",
       "      <td>0.0</td>\n",
       "      <td>0</td>\n",
       "      <td>F</td>\n",
       "      <td>1892</td>\n",
       "      <td>P</td>\n",
       "    </tr>\n",
       "    <tr>\n",
       "      <th>9274_01</th>\n",
       "      <td>NaN</td>\n",
       "      <td>1</td>\n",
       "      <td>TRAPPIST-1e</td>\n",
       "      <td>23.0</td>\n",
       "      <td>0</td>\n",
       "      <td>0.0</td>\n",
       "      <td>0.0</td>\n",
       "      <td>0.0</td>\n",
       "      <td>0.0</td>\n",
       "      <td>0.0</td>\n",
       "      <td>1</td>\n",
       "      <td>G</td>\n",
       "      <td>1508</td>\n",
       "      <td>P</td>\n",
       "    </tr>\n",
       "  </tbody>\n",
       "</table>\n",
       "<p>201 rows × 14 columns</p>\n",
       "</div>"
      ],
      "text/plain": [
       "            HomePlanet  CryoSleep  Destination   Age  VIP  RoomService  \\\n",
       "PassengerId                                                              \n",
       "0064_02            NaN          1  TRAPPIST-1e  33.0    0          0.0   \n",
       "0119_01            NaN          0  TRAPPIST-1e  39.0    0          0.0   \n",
       "0210_01            NaN          1  55 Cancri e  24.0    0          0.0   \n",
       "0242_01            NaN          0  TRAPPIST-1e  18.0    0        313.0   \n",
       "0251_01            NaN          1  55 Cancri e  54.0    0          0.0   \n",
       "...                ...        ...          ...   ...  ...          ...   \n",
       "9084_01            NaN          0  TRAPPIST-1e  25.0    0       1258.0   \n",
       "9194_01            NaN          0  55 Cancri e  53.0    0          0.0   \n",
       "9248_01            NaN          0  55 Cancri e  38.0    1         28.0   \n",
       "9257_01            NaN          0  TRAPPIST-1e  13.0    0         39.0   \n",
       "9274_01            NaN          1  TRAPPIST-1e  23.0    0          0.0   \n",
       "\n",
       "             FoodCourt  ShoppingMall    Spa  VRDeck  Transported Deck Number  \\\n",
       "PassengerId                                                                    \n",
       "0064_02            0.0           NaN    0.0     0.0            1    E      3   \n",
       "0119_01         2344.0           0.0   65.0  6898.0            0    A      0   \n",
       "0210_01            0.0           NaN    0.0     0.0            1    D      6   \n",
       "0242_01            1.0         691.0  283.0     0.0            0    F     46   \n",
       "0251_01            0.0           0.0    0.0     0.0            1    C     11   \n",
       "...                ...           ...    ...     ...          ...  ...    ...   \n",
       "9084_01            0.0          22.0   19.0     0.0            0    E    582   \n",
       "9194_01         4017.0           0.0   13.0  3147.0            0    E    603   \n",
       "9248_01         1208.0         973.0  207.0     0.0            1    F   1792   \n",
       "9257_01            0.0        1085.0   24.0     0.0            0    F   1892   \n",
       "9274_01            0.0           0.0    0.0     0.0            1    G   1508   \n",
       "\n",
       "            Side  \n",
       "PassengerId       \n",
       "0064_02        S  \n",
       "0119_01        P  \n",
       "0210_01        P  \n",
       "0242_01        S  \n",
       "0251_01        S  \n",
       "...          ...  \n",
       "9084_01        P  \n",
       "9194_01        S  \n",
       "9248_01        S  \n",
       "9257_01        P  \n",
       "9274_01        P  \n",
       "\n",
       "[201 rows x 14 columns]"
      ]
     },
     "execution_count": 11,
     "metadata": {},
     "output_type": "execute_result"
    }
   ],
   "source": [
    "train_data[train_data[\"HomePlanet\"].isnull()]"
   ]
  },
  {
   "cell_type": "code",
   "execution_count": 12,
   "metadata": {
    "execution": {
     "iopub.execute_input": "2022-11-11T09:26:53.401824Z",
     "iopub.status.busy": "2022-11-11T09:26:53.401290Z",
     "iopub.status.idle": "2022-11-11T09:26:53.422837Z",
     "shell.execute_reply": "2022-11-11T09:26:53.421248Z",
     "shell.execute_reply.started": "2022-11-11T09:26:53.401781Z"
    }
   },
   "outputs": [
    {
     "name": "stdout",
     "output_type": "stream",
     "text": [
      "for VIP=0:\n",
      "193\n",
      "\n",
      "for VIP=1:\n",
      "8\n"
     ]
    },
    {
     "name": "stderr",
     "output_type": "stream",
     "text": [
      "/opt/conda/lib/python3.7/site-packages/ipykernel_launcher.py:2: UserWarning: Boolean Series key will be reindexed to match DataFrame index.\n",
      "  \n",
      "/opt/conda/lib/python3.7/site-packages/ipykernel_launcher.py:4: UserWarning: Boolean Series key will be reindexed to match DataFrame index.\n",
      "  after removing the cwd from sys.path.\n"
     ]
    }
   ],
   "source": [
    "print(\"for VIP=0:\")\n",
    "print(train_data[train_data[\"HomePlanet\"].isnull()][train_data[\"VIP\"]==0].shape[0])\n",
    "print(\"\\nfor VIP=1:\")\n",
    "print(train_data[train_data[\"HomePlanet\"].isnull()][train_data[\"VIP\"]==1].shape[0])"
   ]
  },
  {
   "cell_type": "code",
   "execution_count": 14,
   "metadata": {
    "execution": {
     "iopub.execute_input": "2022-11-11T09:27:25.331502Z",
     "iopub.status.busy": "2022-11-11T09:27:25.330965Z",
     "iopub.status.idle": "2022-11-11T09:27:25.341179Z",
     "shell.execute_reply": "2022-11-11T09:27:25.339270Z",
     "shell.execute_reply.started": "2022-11-11T09:27:25.331458Z"
    }
   },
   "outputs": [],
   "source": [
    "train_data[\"HomePlanet\"].fillna(\"Earth\", axis=0, inplace=True)"
   ]
  },
  {
   "cell_type": "code",
   "execution_count": 15,
   "metadata": {
    "execution": {
     "iopub.execute_input": "2022-11-11T09:27:44.801314Z",
     "iopub.status.busy": "2022-11-11T09:27:44.800890Z",
     "iopub.status.idle": "2022-11-11T09:27:44.850312Z",
     "shell.execute_reply": "2022-11-11T09:27:44.848567Z",
     "shell.execute_reply.started": "2022-11-11T09:27:44.801281Z"
    }
   },
   "outputs": [
    {
     "data": {
      "text/html": [
       "<div>\n",
       "<style scoped>\n",
       "    .dataframe tbody tr th:only-of-type {\n",
       "        vertical-align: middle;\n",
       "    }\n",
       "\n",
       "    .dataframe tbody tr th {\n",
       "        vertical-align: top;\n",
       "    }\n",
       "\n",
       "    .dataframe thead th {\n",
       "        text-align: right;\n",
       "    }\n",
       "</style>\n",
       "<table border=\"1\" class=\"dataframe\">\n",
       "  <thead>\n",
       "    <tr style=\"text-align: right;\">\n",
       "      <th></th>\n",
       "      <th>HomePlanet</th>\n",
       "      <th>CryoSleep</th>\n",
       "      <th>Destination</th>\n",
       "      <th>Age</th>\n",
       "      <th>VIP</th>\n",
       "      <th>RoomService</th>\n",
       "      <th>FoodCourt</th>\n",
       "      <th>ShoppingMall</th>\n",
       "      <th>Spa</th>\n",
       "      <th>VRDeck</th>\n",
       "      <th>Transported</th>\n",
       "      <th>Deck</th>\n",
       "      <th>Number</th>\n",
       "      <th>Side</th>\n",
       "    </tr>\n",
       "    <tr>\n",
       "      <th>PassengerId</th>\n",
       "      <th></th>\n",
       "      <th></th>\n",
       "      <th></th>\n",
       "      <th></th>\n",
       "      <th></th>\n",
       "      <th></th>\n",
       "      <th></th>\n",
       "      <th></th>\n",
       "      <th></th>\n",
       "      <th></th>\n",
       "      <th></th>\n",
       "      <th></th>\n",
       "      <th></th>\n",
       "      <th></th>\n",
       "    </tr>\n",
       "  </thead>\n",
       "  <tbody>\n",
       "    <tr>\n",
       "      <th>0045_02</th>\n",
       "      <td>Mars</td>\n",
       "      <td>1</td>\n",
       "      <td>NaN</td>\n",
       "      <td>19.0</td>\n",
       "      <td>0</td>\n",
       "      <td>0.0</td>\n",
       "      <td>0.0</td>\n",
       "      <td>0.0</td>\n",
       "      <td>0.0</td>\n",
       "      <td>0.0</td>\n",
       "      <td>1</td>\n",
       "      <td>F</td>\n",
       "      <td>10</td>\n",
       "      <td>P</td>\n",
       "    </tr>\n",
       "    <tr>\n",
       "      <th>0138_02</th>\n",
       "      <td>Earth</td>\n",
       "      <td>0</td>\n",
       "      <td>NaN</td>\n",
       "      <td>34.0</td>\n",
       "      <td>0</td>\n",
       "      <td>0.0</td>\n",
       "      <td>22.0</td>\n",
       "      <td>0.0</td>\n",
       "      <td>564.0</td>\n",
       "      <td>207.0</td>\n",
       "      <td>0</td>\n",
       "      <td>E</td>\n",
       "      <td>5</td>\n",
       "      <td>P</td>\n",
       "    </tr>\n",
       "    <tr>\n",
       "      <th>0152_01</th>\n",
       "      <td>Earth</td>\n",
       "      <td>0</td>\n",
       "      <td>NaN</td>\n",
       "      <td>41.0</td>\n",
       "      <td>0</td>\n",
       "      <td>0.0</td>\n",
       "      <td>0.0</td>\n",
       "      <td>0.0</td>\n",
       "      <td>0.0</td>\n",
       "      <td>607.0</td>\n",
       "      <td>0</td>\n",
       "      <td>F</td>\n",
       "      <td>32</td>\n",
       "      <td>P</td>\n",
       "    </tr>\n",
       "    <tr>\n",
       "      <th>0382_01</th>\n",
       "      <td>Earth</td>\n",
       "      <td>0</td>\n",
       "      <td>NaN</td>\n",
       "      <td>23.0</td>\n",
       "      <td>0</td>\n",
       "      <td>348.0</td>\n",
       "      <td>0.0</td>\n",
       "      <td>0.0</td>\n",
       "      <td>4.0</td>\n",
       "      <td>368.0</td>\n",
       "      <td>0</td>\n",
       "      <td>G</td>\n",
       "      <td>64</td>\n",
       "      <td>P</td>\n",
       "    </tr>\n",
       "    <tr>\n",
       "      <th>0462_01</th>\n",
       "      <td>Earth</td>\n",
       "      <td>1</td>\n",
       "      <td>NaN</td>\n",
       "      <td>50.0</td>\n",
       "      <td>0</td>\n",
       "      <td>0.0</td>\n",
       "      <td>0.0</td>\n",
       "      <td>0.0</td>\n",
       "      <td>0.0</td>\n",
       "      <td>0.0</td>\n",
       "      <td>0</td>\n",
       "      <td>G</td>\n",
       "      <td>67</td>\n",
       "      <td>S</td>\n",
       "    </tr>\n",
       "    <tr>\n",
       "      <th>...</th>\n",
       "      <td>...</td>\n",
       "      <td>...</td>\n",
       "      <td>...</td>\n",
       "      <td>...</td>\n",
       "      <td>...</td>\n",
       "      <td>...</td>\n",
       "      <td>...</td>\n",
       "      <td>...</td>\n",
       "      <td>...</td>\n",
       "      <td>...</td>\n",
       "      <td>...</td>\n",
       "      <td>...</td>\n",
       "      <td>...</td>\n",
       "      <td>...</td>\n",
       "    </tr>\n",
       "    <tr>\n",
       "      <th>8956_02</th>\n",
       "      <td>Earth</td>\n",
       "      <td>1</td>\n",
       "      <td>NaN</td>\n",
       "      <td>20.0</td>\n",
       "      <td>0</td>\n",
       "      <td>0.0</td>\n",
       "      <td>0.0</td>\n",
       "      <td>0.0</td>\n",
       "      <td>0.0</td>\n",
       "      <td>0.0</td>\n",
       "      <td>1</td>\n",
       "      <td>G</td>\n",
       "      <td>1453</td>\n",
       "      <td>P</td>\n",
       "    </tr>\n",
       "    <tr>\n",
       "      <th>9130_01</th>\n",
       "      <td>Mars</td>\n",
       "      <td>1</td>\n",
       "      <td>NaN</td>\n",
       "      <td>41.0</td>\n",
       "      <td>0</td>\n",
       "      <td>0.0</td>\n",
       "      <td>0.0</td>\n",
       "      <td>0.0</td>\n",
       "      <td>0.0</td>\n",
       "      <td>0.0</td>\n",
       "      <td>1</td>\n",
       "      <td>F</td>\n",
       "      <td>1765</td>\n",
       "      <td>S</td>\n",
       "    </tr>\n",
       "    <tr>\n",
       "      <th>9195_02</th>\n",
       "      <td>Mars</td>\n",
       "      <td>1</td>\n",
       "      <td>NaN</td>\n",
       "      <td>33.0</td>\n",
       "      <td>0</td>\n",
       "      <td>0.0</td>\n",
       "      <td>0.0</td>\n",
       "      <td>0.0</td>\n",
       "      <td>0.0</td>\n",
       "      <td>0.0</td>\n",
       "      <td>1</td>\n",
       "      <td>F</td>\n",
       "      <td>1779</td>\n",
       "      <td>S</td>\n",
       "    </tr>\n",
       "    <tr>\n",
       "      <th>9197_02</th>\n",
       "      <td>Europa</td>\n",
       "      <td>0</td>\n",
       "      <td>NaN</td>\n",
       "      <td>41.0</td>\n",
       "      <td>1</td>\n",
       "      <td>0.0</td>\n",
       "      <td>7964.0</td>\n",
       "      <td>0.0</td>\n",
       "      <td>3238.0</td>\n",
       "      <td>5839.0</td>\n",
       "      <td>0</td>\n",
       "      <td>C</td>\n",
       "      <td>308</td>\n",
       "      <td>P</td>\n",
       "    </tr>\n",
       "    <tr>\n",
       "      <th>9226_01</th>\n",
       "      <td>Earth</td>\n",
       "      <td>0</td>\n",
       "      <td>NaN</td>\n",
       "      <td>22.0</td>\n",
       "      <td>0</td>\n",
       "      <td>676.0</td>\n",
       "      <td>0.0</td>\n",
       "      <td>13.0</td>\n",
       "      <td>0.0</td>\n",
       "      <td>12.0</td>\n",
       "      <td>0</td>\n",
       "      <td>F</td>\n",
       "      <td>1788</td>\n",
       "      <td>S</td>\n",
       "    </tr>\n",
       "  </tbody>\n",
       "</table>\n",
       "<p>182 rows × 14 columns</p>\n",
       "</div>"
      ],
      "text/plain": [
       "            HomePlanet  CryoSleep Destination   Age  VIP  RoomService  \\\n",
       "PassengerId                                                             \n",
       "0045_02           Mars          1         NaN  19.0    0          0.0   \n",
       "0138_02          Earth          0         NaN  34.0    0          0.0   \n",
       "0152_01          Earth          0         NaN  41.0    0          0.0   \n",
       "0382_01          Earth          0         NaN  23.0    0        348.0   \n",
       "0462_01          Earth          1         NaN  50.0    0          0.0   \n",
       "...                ...        ...         ...   ...  ...          ...   \n",
       "8956_02          Earth          1         NaN  20.0    0          0.0   \n",
       "9130_01           Mars          1         NaN  41.0    0          0.0   \n",
       "9195_02           Mars          1         NaN  33.0    0          0.0   \n",
       "9197_02         Europa          0         NaN  41.0    1          0.0   \n",
       "9226_01          Earth          0         NaN  22.0    0        676.0   \n",
       "\n",
       "             FoodCourt  ShoppingMall     Spa  VRDeck  Transported Deck Number  \\\n",
       "PassengerId                                                                     \n",
       "0045_02            0.0           0.0     0.0     0.0            1    F     10   \n",
       "0138_02           22.0           0.0   564.0   207.0            0    E      5   \n",
       "0152_01            0.0           0.0     0.0   607.0            0    F     32   \n",
       "0382_01            0.0           0.0     4.0   368.0            0    G     64   \n",
       "0462_01            0.0           0.0     0.0     0.0            0    G     67   \n",
       "...                ...           ...     ...     ...          ...  ...    ...   \n",
       "8956_02            0.0           0.0     0.0     0.0            1    G   1453   \n",
       "9130_01            0.0           0.0     0.0     0.0            1    F   1765   \n",
       "9195_02            0.0           0.0     0.0     0.0            1    F   1779   \n",
       "9197_02         7964.0           0.0  3238.0  5839.0            0    C    308   \n",
       "9226_01            0.0          13.0     0.0    12.0            0    F   1788   \n",
       "\n",
       "            Side  \n",
       "PassengerId       \n",
       "0045_02        P  \n",
       "0138_02        P  \n",
       "0152_01        P  \n",
       "0382_01        P  \n",
       "0462_01        S  \n",
       "...          ...  \n",
       "8956_02        P  \n",
       "9130_01        S  \n",
       "9195_02        S  \n",
       "9197_02        P  \n",
       "9226_01        S  \n",
       "\n",
       "[182 rows x 14 columns]"
      ]
     },
     "execution_count": 15,
     "metadata": {},
     "output_type": "execute_result"
    }
   ],
   "source": [
    "train_data[train_data[\"Destination\"].isnull()]"
   ]
  },
  {
   "cell_type": "code",
   "execution_count": 16,
   "metadata": {
    "execution": {
     "iopub.execute_input": "2022-11-11T09:28:16.562788Z",
     "iopub.status.busy": "2022-11-11T09:28:16.561810Z",
     "iopub.status.idle": "2022-11-11T09:28:16.581392Z",
     "shell.execute_reply": "2022-11-11T09:28:16.579973Z",
     "shell.execute_reply.started": "2022-11-11T09:28:16.562708Z"
    }
   },
   "outputs": [
    {
     "data": {
      "text/plain": [
       "TRAPPIST-1e      2259\n",
       "55 Cancri e       470\n",
       "PSO J318.5-22     337\n",
       "Name: Destination, dtype: int64"
      ]
     },
     "execution_count": 16,
     "metadata": {},
     "output_type": "execute_result"
    }
   ],
   "source": [
    "train_data[\"Destination\"][(train_data[\"CryoSleep\"]==0) & (train_data[\"VIP\"]==0) & (train_data[\"HomePlanet\"]==\"Earth\")].value_counts()"
   ]
  },
  {
   "cell_type": "code",
   "execution_count": 17,
   "metadata": {
    "execution": {
     "iopub.execute_input": "2022-11-11T09:28:30.556410Z",
     "iopub.status.busy": "2022-11-11T09:28:30.555872Z",
     "iopub.status.idle": "2022-11-11T09:28:30.565085Z",
     "shell.execute_reply": "2022-11-11T09:28:30.563260Z",
     "shell.execute_reply.started": "2022-11-11T09:28:30.556369Z"
    }
   },
   "outputs": [],
   "source": [
    "train_data[\"Destination\"].fillna(\"TRAPPIST-1e\", axis=0, inplace=True)"
   ]
  },
  {
   "cell_type": "code",
   "execution_count": 18,
   "metadata": {
    "execution": {
     "iopub.execute_input": "2022-11-11T09:29:11.474923Z",
     "iopub.status.busy": "2022-11-11T09:29:11.474392Z",
     "iopub.status.idle": "2022-11-11T09:29:11.492910Z",
     "shell.execute_reply": "2022-11-11T09:29:11.490645Z",
     "shell.execute_reply.started": "2022-11-11T09:29:11.474879Z"
    }
   },
   "outputs": [
    {
     "data": {
      "text/plain": [
       "TRAPPIST-1e      41\n",
       "PSO J318.5-22     4\n",
       "55 Cancri e       2\n",
       "Name: Destination, dtype: int64"
      ]
     },
     "execution_count": 18,
     "metadata": {},
     "output_type": "execute_result"
    }
   ],
   "source": [
    "train_data[\"Destination\"][(train_data[\"CryoSleep\"]==0) & (train_data[\"VIP\"]==0) & (train_data[\"HomePlanet\"]==\"Earth\") & (train_data[\"Age\"].isnull())].value_counts()"
   ]
  },
  {
   "cell_type": "code",
   "execution_count": 19,
   "metadata": {
    "execution": {
     "iopub.execute_input": "2022-11-11T09:29:32.514698Z",
     "iopub.status.busy": "2022-11-11T09:29:32.514263Z",
     "iopub.status.idle": "2022-11-11T09:29:32.528847Z",
     "shell.execute_reply": "2022-11-11T09:29:32.526884Z",
     "shell.execute_reply.started": "2022-11-11T09:29:32.514665Z"
    }
   },
   "outputs": [
    {
     "name": "stdout",
     "output_type": "stream",
     "text": [
      "Mean age: 27.75217013888889\n"
     ]
    }
   ],
   "source": [
    "mean_age_of_nan = train_data[\"Age\"][(train_data[\"CryoSleep\"]==0) & (train_data[\"VIP\"]==0) & (train_data[\"HomePlanet\"]==\"Earth\") & (train_data[\"Destination\"]==\"TRAPPIST-1e\")].mean()\n",
    "print(\"Mean age:\", mean_age_of_nan)"
   ]
  },
  {
   "cell_type": "code",
   "execution_count": 20,
   "metadata": {
    "execution": {
     "iopub.execute_input": "2022-11-11T09:29:49.045282Z",
     "iopub.status.busy": "2022-11-11T09:29:49.044808Z",
     "iopub.status.idle": "2022-11-11T09:29:49.052961Z",
     "shell.execute_reply": "2022-11-11T09:29:49.051578Z",
     "shell.execute_reply.started": "2022-11-11T09:29:49.045245Z"
    }
   },
   "outputs": [],
   "source": [
    "train_data[\"Age\"].fillna(int(mean_age_of_nan), axis=0, inplace=True)"
   ]
  },
  {
   "cell_type": "code",
   "execution_count": 22,
   "metadata": {
    "execution": {
     "iopub.execute_input": "2022-11-11T09:30:10.507021Z",
     "iopub.status.busy": "2022-11-11T09:30:10.506498Z",
     "iopub.status.idle": "2022-11-11T09:30:10.518293Z",
     "shell.execute_reply": "2022-11-11T09:30:10.516988Z",
     "shell.execute_reply.started": "2022-11-11T09:30:10.506982Z"
    }
   },
   "outputs": [],
   "source": [
    "# Fill missing value with average of some columns values\n",
    "fill_as_mean_cols = [\"RoomService\", \"FoodCourt\", \"ShoppingMall\", \"Spa\", \"VRDeck\"]\n",
    "\n",
    "def fillna_mean(data, columns):\n",
    "    for col in columns:\n",
    "        data[col].fillna(data[col].mean(), axis=0, inplace=True)\n",
    "    return data\n",
    "\n",
    "train_data = fillna_mean(train_data, fill_as_mean_cols)"
   ]
  },
  {
   "cell_type": "code",
   "execution_count": 23,
   "metadata": {
    "execution": {
     "iopub.execute_input": "2022-11-11T09:30:24.105036Z",
     "iopub.status.busy": "2022-11-11T09:30:24.104594Z",
     "iopub.status.idle": "2022-11-11T09:30:24.118525Z",
     "shell.execute_reply": "2022-11-11T09:30:24.116989Z",
     "shell.execute_reply.started": "2022-11-11T09:30:24.105002Z"
    }
   },
   "outputs": [],
   "source": [
    "#Remove others\n",
    "train_data.dropna(axis=0, inplace=True)"
   ]
  },
  {
   "cell_type": "code",
   "execution_count": 24,
   "metadata": {
    "execution": {
     "iopub.execute_input": "2022-11-11T09:30:33.922495Z",
     "iopub.status.busy": "2022-11-11T09:30:33.921993Z",
     "iopub.status.idle": "2022-11-11T09:30:33.938217Z",
     "shell.execute_reply": "2022-11-11T09:30:33.936832Z",
     "shell.execute_reply.started": "2022-11-11T09:30:33.922456Z"
    }
   },
   "outputs": [
    {
     "data": {
      "text/plain": [
       "HomePlanet      0\n",
       "CryoSleep       0\n",
       "Destination     0\n",
       "Age             0\n",
       "VIP             0\n",
       "RoomService     0\n",
       "FoodCourt       0\n",
       "ShoppingMall    0\n",
       "Spa             0\n",
       "VRDeck          0\n",
       "Transported     0\n",
       "Deck            0\n",
       "Number          0\n",
       "Side            0\n",
       "dtype: int64"
      ]
     },
     "execution_count": 24,
     "metadata": {},
     "output_type": "execute_result"
    }
   ],
   "source": [
    "train_data.isnull().sum()"
   ]
  },
  {
   "cell_type": "markdown",
   "metadata": {},
   "source": [
    "# ****One Hot Encoder****"
   ]
  },
  {
   "cell_type": "code",
   "execution_count": 25,
   "metadata": {
    "execution": {
     "iopub.execute_input": "2022-11-11T09:31:35.603054Z",
     "iopub.status.busy": "2022-11-11T09:31:35.602575Z",
     "iopub.status.idle": "2022-11-11T09:31:35.629473Z",
     "shell.execute_reply": "2022-11-11T09:31:35.628062Z",
     "shell.execute_reply.started": "2022-11-11T09:31:35.603016Z"
    }
   },
   "outputs": [],
   "source": [
    "cols_for_dummies = [\"HomePlanet\", \"Destination\", \"Deck\", \"Side\"]\n",
    "def data_dummies(data, columns):\n",
    "    data_dummied = pd.get_dummies(data, columns=columns)\n",
    "    return data_dummied\n",
    "\n",
    "train_data = data_dummies(train_data, cols_for_dummies)\n",
    "train_data = train_data.astype(\"float64\")"
   ]
  },
  {
   "cell_type": "markdown",
   "metadata": {},
   "source": [
    "# Outlier Process"
   ]
  },
  {
   "cell_type": "code",
   "execution_count": 28,
   "metadata": {
    "execution": {
     "iopub.execute_input": "2022-11-11T09:33:16.132713Z",
     "iopub.status.busy": "2022-11-11T09:33:16.132180Z",
     "iopub.status.idle": "2022-11-11T09:33:16.148668Z",
     "shell.execute_reply": "2022-11-11T09:33:16.147146Z",
     "shell.execute_reply.started": "2022-11-11T09:33:16.132664Z"
    }
   },
   "outputs": [],
   "source": [
    "columns_for_outlier = train_data.columns\n",
    "import matplotlib.pyplot as plt\n",
    "import seaborn as sns\n",
    "def outlier_process(data, feature, type=\"reporting\"):\n",
    "    Q1 = data[feature].quantile(0.25)\n",
    "    Q3 = data[feature].quantile(0.75)\n",
    "    IQR = Q3 - Q1\n",
    "    \n",
    "    low_outlier_gate = Q1 - IQR*1.5\n",
    "    upp_outlier_gate = Q3 + IQR*1.5\n",
    "    outlier_number = len(data[feature][data[feature] < low_outlier_gate]) + len(data[feature][data[feature] > upp_outlier_gate])\n",
    "\n",
    "    if type == \"visualizing\": # Visualize outlier values with boxplot\n",
    "        sns.boxplot(data=data, x=feature)\n",
    "        plt.title(feature.upper())\n",
    "        plt.show() \n",
    "\n",
    "        print(\"As we can see in the figure above;\")\n",
    "        print(f\"Outlier number of '{feature.upper()}' feature:\", outlier_number)\n",
    "        print(f\"-\"*32)\n",
    "\n",
    "    elif type == \"reporting\": # Give report about outlier in dataset\n",
    "\n",
    "        if outlier_number == 0:\n",
    "            print(f\"'{feature.upper()}' feature has no any outlier\")\n",
    "        else:\n",
    "            print(f\"'{feature.upper()}' feature has some outliers:\", outlier_number)\n",
    "\n",
    "    elif type == \"pressing\": # Press outlier values\n",
    "\n",
    "        data[feature] = [low_outlier_gate if i < low_outlier_gate else upp_outlier_gate if i > upp_outlier_gate else i for i in data[feature]]\n",
    "\n",
    "    return data"
   ]
  },
  {
   "cell_type": "code",
   "execution_count": 29,
   "metadata": {
    "execution": {
     "iopub.execute_input": "2022-11-11T09:33:19.035519Z",
     "iopub.status.busy": "2022-11-11T09:33:19.035123Z",
     "iopub.status.idle": "2022-11-11T09:33:23.578855Z",
     "shell.execute_reply": "2022-11-11T09:33:23.577795Z",
     "shell.execute_reply.started": "2022-11-11T09:33:19.035487Z"
    }
   },
   "outputs": [
    {
     "data": {
      "image/png": "[encoded data removed]",
      "text/plain": [
       "<Figure size 432x288 with 1 Axes>"
      ]
     },
     "metadata": {
      "needs_background": "light"
     },
     "output_type": "display_data"
    },
    {
     "name": "stdout",
     "output_type": "stream",
     "text": [
      "As we can see in the figure above;\n",
      "Outlier number of 'CRYOSLEEP' feature: 0\n",
      "--------------------------------\n"
     ]
    },
    {
     "data": {
      "image/png": "[encoded data removed]",
      "text/plain": [
       "<Figure size 432x288 with 1 Axes>"
      ]
     },
     "metadata": {
      "needs_background": "light"
     },
     "output_type": "display_data"
    },
    {
     "name": "stdout",
     "output_type": "stream",
     "text": [
      "As we can see in the figure above;\n",
      "Outlier number of 'AGE' feature: 156\n",
      "--------------------------------\n"
     ]
    },
    {
     "data": {
      "image/png": "[encoded data removed]",
      "text/plain": [
       "<Figure size 432x288 with 1 Axes>"
      ]
     },
     "metadata": {
      "needs_background": "light"
     },
     "output_type": "display_data"
    },
    {
     "name": "stdout",
     "output_type": "stream",
     "text": [
      "As we can see in the figure above;\n",
      "Outlier number of 'VIP' feature: 390\n",
      "--------------------------------\n"
     ]
    },
    {
     "data": {
      "image/png": "[encoded data removed]",
      "text/plain": [
       "<Figure size 432x288 with 1 Axes>"
      ]
     },
     "metadata": {
      "needs_background": "light"
     },
     "output_type": "display_data"
    },
    {
     "name": "stdout",
     "output_type": "stream",
     "text": [
      "As we can see in the figure above;\n",
      "Outlier number of 'ROOMSERVICE' feature: 1789\n",
      "--------------------------------\n"
     ]
    },
    {
     "data": {
      "image/png": "[encoded data removed]",
      "text/plain": [
       "<Figure size 432x288 with 1 Axes>"
      ]
     },
     "metadata": {
      "needs_background": "light"
     },
     "output_type": "display_data"
    },
    {
     "name": "stdout",
     "output_type": "stream",
     "text": [
      "As we can see in the figure above;\n",
      "Outlier number of 'FOODCOURT' feature: 1777\n",
      "--------------------------------\n"
     ]
    },
    {
     "data": {
      "image/png": "[encoded data removed]",
      "text/plain": [
       "<Figure size 432x288 with 1 Axes>"
      ]
     },
     "metadata": {
      "needs_background": "light"
     },
     "output_type": "display_data"
    },
    {
     "name": "stdout",
     "output_type": "stream",
     "text": [
      "As we can see in the figure above;\n",
      "Outlier number of 'SHOPPINGMALL' feature: 1820\n",
      "--------------------------------\n"
     ]
    },
    {
     "data": {
      "image/png": "[encoded data removed]",
      "text/plain": [
       "<Figure size 432x288 with 1 Axes>"
      ]
     },
     "metadata": {
      "needs_background": "light"
     },
     "output_type": "display_data"
    },
    {
     "name": "stdout",
     "output_type": "stream",
     "text": [
      "As we can see in the figure above;\n",
      "Outlier number of 'SPA' feature: 1744\n",
      "--------------------------------\n"
     ]
    },
    {
     "data": {
      "image/png": "[encoded data removed]",
      "text/plain": [
       "<Figure size 432x288 with 1 Axes>"
      ]
     },
     "metadata": {
      "needs_background": "light"
     },
     "output_type": "display_data"
    },
    {
     "name": "stdout",
     "output_type": "stream",
     "text": [
      "As we can see in the figure above;\n",
      "Outlier number of 'VRDECK' feature: 1796\n",
      "--------------------------------\n"
     ]
    },
    {
     "data": {
      "image/png": "[encoded data removed]",
      "text/plain": [
       "<Figure size 432x288 with 1 Axes>"
      ]
     },
     "metadata": {
      "needs_background": "light"
     },
     "output_type": "display_data"
    },
    {
     "name": "stdout",
     "output_type": "stream",
     "text": [
      "As we can see in the figure above;\n",
      "Outlier number of 'TRANSPORTED' feature: 0\n",
      "--------------------------------\n"
     ]
    },
    {
     "data": {
      "image/png": "[encoded data removed]",
      "text/plain": [
       "<Figure size 432x288 with 1 Axes>"
      ]
     },
     "metadata": {
      "needs_background": "light"
     },
     "output_type": "display_data"
    },
    {
     "name": "stdout",
     "output_type": "stream",
     "text": [
      "As we can see in the figure above;\n",
      "Outlier number of 'NUMBER' feature: 0\n",
      "--------------------------------\n"
     ]
    },
    {
     "data": {
      "image/png": "[encoded data removed]",
      "text/plain": [
       "<Figure size 432x288 with 1 Axes>"
      ]
     },
     "metadata": {
      "needs_background": "light"
     },
     "output_type": "display_data"
    },
    {
     "name": "stdout",
     "output_type": "stream",
     "text": [
      "As we can see in the figure above;\n",
      "Outlier number of 'HOMEPLANET_EARTH' feature: 0\n",
      "--------------------------------\n"
     ]
    },
    {
     "data": {
      "image/png": "[encoded data removed]",
      "text/plain": [
       "<Figure size 432x288 with 1 Axes>"
      ]
     },
     "metadata": {
      "needs_background": "light"
     },
     "output_type": "display_data"
    },
    {
     "name": "stdout",
     "output_type": "stream",
     "text": [
      "As we can see in the figure above;\n",
      "Outlier number of 'HOMEPLANET_EUROPA' feature: 2070\n",
      "--------------------------------\n"
     ]
    },
    {
     "data": {
      "image/png": "[encoded data removed]",
      "text/plain": [
       "<Figure size 432x288 with 1 Axes>"
      ]
     },
     "metadata": {
      "needs_background": "light"
     },
     "output_type": "display_data"
    },
    {
     "name": "stdout",
     "output_type": "stream",
     "text": [
      "As we can see in the figure above;\n",
      "Outlier number of 'HOMEPLANET_MARS' feature: 1722\n",
      "--------------------------------\n"
     ]
    },
    {
     "data": {
      "image/png": "[encoded data removed]",
      "text/plain": [
       "<Figure size 432x288 with 1 Axes>"
      ]
     },
     "metadata": {
      "needs_background": "light"
     },
     "output_type": "display_data"
    },
    {
     "name": "stdout",
     "output_type": "stream",
     "text": [
      "As we can see in the figure above;\n",
      "Outlier number of 'DESTINATION_55 CANCRI E' feature: 1750\n",
      "--------------------------------\n"
     ]
    },
    {
     "data": {
      "image/png": "[encoded data removed]",
      "text/plain": [
       "<Figure size 432x288 with 1 Axes>"
      ]
     },
     "metadata": {
      "needs_background": "light"
     },
     "output_type": "display_data"
    },
    {
     "name": "stdout",
     "output_type": "stream",
     "text": [
      "As we can see in the figure above;\n",
      "Outlier number of 'DESTINATION_PSO J318.5-22' feature: 778\n",
      "--------------------------------\n"
     ]
    },
    {
     "data": {
      "image/png": "[encoded data removed]",
      "text/plain": [
       "<Figure size 432x288 with 1 Axes>"
      ]
     },
     "metadata": {
      "needs_background": "light"
     },
     "output_type": "display_data"
    },
    {
     "name": "stdout",
     "output_type": "stream",
     "text": [
      "As we can see in the figure above;\n",
      "Outlier number of 'DESTINATION_TRAPPIST-1E' feature: 0\n",
      "--------------------------------\n"
     ]
    },
    {
     "data": {
      "image/png": "[encoded data removed]",
      "text/plain": [
       "<Figure size 432x288 with 1 Axes>"
      ]
     },
     "metadata": {
      "needs_background": "light"
     },
     "output_type": "display_data"
    },
    {
     "name": "stdout",
     "output_type": "stream",
     "text": [
      "As we can see in the figure above;\n",
      "Outlier number of 'DECK_A' feature: 256\n",
      "--------------------------------\n"
     ]
    },
    {
     "data": {
      "image/png": "[encoded data removed]",
      "text/plain": [
       "<Figure size 432x288 with 1 Axes>"
      ]
     },
     "metadata": {
      "needs_background": "light"
     },
     "output_type": "display_data"
    },
    {
     "name": "stdout",
     "output_type": "stream",
     "text": [
      "As we can see in the figure above;\n",
      "Outlier number of 'DECK_B' feature: 779\n",
      "--------------------------------\n"
     ]
    },
    {
     "data": {
      "image/png": "[encoded data removed]",
      "text/plain": [
       "<Figure size 432x288 with 1 Axes>"
      ]
     },
     "metadata": {
      "needs_background": "light"
     },
     "output_type": "display_data"
    },
    {
     "name": "stdout",
     "output_type": "stream",
     "text": [
      "As we can see in the figure above;\n",
      "Outlier number of 'DECK_C' feature: 747\n",
      "--------------------------------\n"
     ]
    },
    {
     "data": {
      "image/png": "[encoded data removed]",
      "text/plain": [
       "<Figure size 432x288 with 1 Axes>"
      ]
     },
     "metadata": {
      "needs_background": "light"
     },
     "output_type": "display_data"
    },
    {
     "name": "stdout",
     "output_type": "stream",
     "text": [
      "As we can see in the figure above;\n",
      "Outlier number of 'DECK_D' feature: 478\n",
      "--------------------------------\n"
     ]
    },
    {
     "data": {
      "image/png": "[encoded data removed]",
      "text/plain": [
       "<Figure size 432x288 with 1 Axes>"
      ]
     },
     "metadata": {
      "needs_background": "light"
     },
     "output_type": "display_data"
    },
    {
     "name": "stdout",
     "output_type": "stream",
     "text": [
      "As we can see in the figure above;\n",
      "Outlier number of 'DECK_E' feature: 876\n",
      "--------------------------------\n"
     ]
    },
    {
     "data": {
      "image/png": "[encoded data removed]",
      "text/plain": [
       "<Figure size 432x288 with 1 Axes>"
      ]
     },
     "metadata": {
      "needs_background": "light"
     },
     "output_type": "display_data"
    },
    {
     "name": "stdout",
     "output_type": "stream",
     "text": [
      "As we can see in the figure above;\n",
      "Outlier number of 'DECK_F' feature: 0\n",
      "--------------------------------\n"
     ]
    },
    {
     "data": {
      "image/png": "[encoded data removed]",
      "text/plain": [
       "<Figure size 432x288 with 1 Axes>"
      ]
     },
     "metadata": {
      "needs_background": "light"
     },
     "output_type": "display_data"
    },
    {
     "name": "stdout",
     "output_type": "stream",
     "text": [
      "As we can see in the figure above;\n",
      "Outlier number of 'DECK_G' feature: 0\n",
      "--------------------------------\n"
     ]
    },
    {
     "data": {
      "image/png": "[encoded data removed]",
      "text/plain": [
       "<Figure size 432x288 with 1 Axes>"
      ]
     },
     "metadata": {
      "needs_background": "light"
     },
     "output_type": "display_data"
    },
    {
     "name": "stdout",
     "output_type": "stream",
     "text": [
      "As we can see in the figure above;\n",
      "Outlier number of 'DECK_T' feature: 5\n",
      "--------------------------------\n"
     ]
    },
    {
     "data": {
      "image/png": "[encoded data removed]",
      "text/plain": [
       "<Figure size 432x288 with 1 Axes>"
      ]
     },
     "metadata": {
      "needs_background": "light"
     },
     "output_type": "display_data"
    },
    {
     "name": "stdout",
     "output_type": "stream",
     "text": [
      "As we can see in the figure above;\n",
      "Outlier number of 'SIDE_P' feature: 0\n",
      "--------------------------------\n"
     ]
    },
    {
     "data": {
      "image/png": "[encoded data removed]",
      "text/plain": [
       "<Figure size 432x288 with 1 Axes>"
      ]
     },
     "metadata": {
      "needs_background": "light"
     },
     "output_type": "display_data"
    },
    {
     "name": "stdout",
     "output_type": "stream",
     "text": [
      "As we can see in the figure above;\n",
      "Outlier number of 'SIDE_S' feature: 0\n",
      "--------------------------------\n"
     ]
    }
   ],
   "source": [
    "#Visualize outlier with boxplot\n",
    "for feature in columns_for_outlier:\n",
    "    outlier_process(train_data, feature, \"visualizing\")"
   ]
  },
  {
   "cell_type": "code",
   "execution_count": 30,
   "metadata": {
    "execution": {
     "iopub.execute_input": "2022-11-11T09:33:45.755591Z",
     "iopub.status.busy": "2022-11-11T09:33:45.755199Z",
     "iopub.status.idle": "2022-11-11T09:33:45.929875Z",
     "shell.execute_reply": "2022-11-11T09:33:45.928761Z",
     "shell.execute_reply.started": "2022-11-11T09:33:45.755561Z"
    }
   },
   "outputs": [],
   "source": [
    "# Pressing outlier values\n",
    "for feature in columns_for_outlier:\n",
    "    train_data = outlier_process(train_data, feature, \"pressing\")"
   ]
  },
  {
   "cell_type": "code",
   "execution_count": 31,
   "metadata": {
    "execution": {
     "iopub.execute_input": "2022-11-11T09:33:58.306882Z",
     "iopub.status.busy": "2022-11-11T09:33:58.306370Z",
     "iopub.status.idle": "2022-11-11T09:33:58.384088Z",
     "shell.execute_reply": "2022-11-11T09:33:58.382381Z",
     "shell.execute_reply.started": "2022-11-11T09:33:58.306843Z"
    }
   },
   "outputs": [
    {
     "name": "stdout",
     "output_type": "stream",
     "text": [
      "'CRYOSLEEP' feature has no any outlier\n",
      "'AGE' feature has no any outlier\n",
      "'VIP' feature has no any outlier\n",
      "'ROOMSERVICE' feature has no any outlier\n",
      "'FOODCOURT' feature has no any outlier\n",
      "'SHOPPINGMALL' feature has no any outlier\n",
      "'SPA' feature has no any outlier\n",
      "'VRDECK' feature has no any outlier\n",
      "'TRANSPORTED' feature has no any outlier\n",
      "'NUMBER' feature has no any outlier\n",
      "'HOMEPLANET_EARTH' feature has no any outlier\n",
      "'HOMEPLANET_EUROPA' feature has no any outlier\n",
      "'HOMEPLANET_MARS' feature has no any outlier\n",
      "'DESTINATION_55 CANCRI E' feature has no any outlier\n",
      "'DESTINATION_PSO J318.5-22' feature has no any outlier\n",
      "'DESTINATION_TRAPPIST-1E' feature has no any outlier\n",
      "'DECK_A' feature has no any outlier\n",
      "'DECK_B' feature has no any outlier\n",
      "'DECK_C' feature has no any outlier\n",
      "'DECK_D' feature has no any outlier\n",
      "'DECK_E' feature has no any outlier\n",
      "'DECK_F' feature has no any outlier\n",
      "'DECK_G' feature has no any outlier\n",
      "'DECK_T' feature has no any outlier\n",
      "'SIDE_P' feature has no any outlier\n",
      "'SIDE_S' feature has no any outlier\n"
     ]
    }
   ],
   "source": [
    "# Report last situation\n",
    "for feature in columns_for_outlier:\n",
    "    outlier_process(train_data, feature, \"reporting\")"
   ]
  },
  {
   "cell_type": "code",
   "execution_count": 32,
   "metadata": {
    "execution": {
     "iopub.execute_input": "2022-11-11T09:34:11.237204Z",
     "iopub.status.busy": "2022-11-11T09:34:11.236809Z",
     "iopub.status.idle": "2022-11-11T09:34:11.248568Z",
     "shell.execute_reply": "2022-11-11T09:34:11.247013Z",
     "shell.execute_reply.started": "2022-11-11T09:34:11.237172Z"
    }
   },
   "outputs": [],
   "source": [
    "# Time to split train dataset into X_data including data and y_data including targets\n",
    "X_data = train_data.drop(\"Transported\", axis=1).values\n",
    "y_data = train_data[\"Transported\"].values.reshape(-1,1)"
   ]
  },
  {
   "cell_type": "code",
   "execution_count": 33,
   "metadata": {
    "execution": {
     "iopub.execute_input": "2022-11-11T09:34:20.548113Z",
     "iopub.status.busy": "2022-11-11T09:34:20.547650Z",
     "iopub.status.idle": "2022-11-11T09:34:20.677485Z",
     "shell.execute_reply": "2022-11-11T09:34:20.676299Z",
     "shell.execute_reply.started": "2022-11-11T09:34:20.548078Z"
    }
   },
   "outputs": [
    {
     "name": "stdout",
     "output_type": "stream",
     "text": [
      "for train dataset:\n",
      "X_train shape: (6795, 25)\n",
      "y_train shape: (6795, 1)\n",
      "\n",
      "for validation dataset:\n",
      "X_val shape: (1699, 25)\n",
      "y_val shape: (1699, 1)\n"
     ]
    }
   ],
   "source": [
    "# Split train dataset into train dataset which model will be trained,\n",
    "# and validation dataset which model performance will be validated\n",
    "\n",
    "from sklearn.model_selection import train_test_split\n",
    "X_train, X_val, y_train, y_val = train_test_split(X_data, y_data,\n",
    "                                                 test_size=0.2,\n",
    "                                                 random_state=42)\n",
    "print(\"for train dataset:\")\n",
    "print(\"X_train shape:\", X_train.shape)\n",
    "print(\"y_train shape:\", y_train.shape)\n",
    "print(\"\\nfor validation dataset:\")\n",
    "print(\"X_val shape:\", X_val.shape)\n",
    "print(\"y_val shape:\", y_val.shape)"
   ]
  },
  {
   "cell_type": "code",
   "execution_count": 34,
   "metadata": {
    "execution": {
     "iopub.execute_input": "2022-11-11T09:34:34.377927Z",
     "iopub.status.busy": "2022-11-11T09:34:34.377517Z",
     "iopub.status.idle": "2022-11-11T09:34:34.526578Z",
     "shell.execute_reply": "2022-11-11T09:34:34.525297Z",
     "shell.execute_reply.started": "2022-11-11T09:34:34.377893Z"
    }
   },
   "outputs": [],
   "source": [
    "# We will set Pipeline to use several libraries together. \n",
    "from sklearn.preprocessing import MinMaxScaler\n",
    "from sklearn.impute import SimpleImputer\n",
    "from sklearn.pipeline import Pipeline\n",
    "pipeline = Pipeline([\n",
    "    (\"imputer\", SimpleImputer(strategy=\"mean\")),\n",
    "    (\"min_max\", MinMaxScaler(feature_range=(0,1)))\n",
    "])\n",
    "X_train = pipeline.fit_transform(X_train)\n",
    "X_val = pipeline.transform(X_val)"
   ]
  },
  {
   "cell_type": "markdown",
   "metadata": {},
   "source": [
    "# Modelling"
   ]
  },
  {
   "cell_type": "code",
   "execution_count": 35,
   "metadata": {
    "execution": {
     "iopub.execute_input": "2022-11-11T09:35:18.171999Z",
     "iopub.status.busy": "2022-11-11T09:35:18.171386Z",
     "iopub.status.idle": "2022-11-11T09:35:18.179241Z",
     "shell.execute_reply": "2022-11-11T09:35:18.177640Z",
     "shell.execute_reply.started": "2022-11-11T09:35:18.171955Z"
    }
   },
   "outputs": [],
   "source": [
    "# Setting some parameters\n",
    "input_shape = X_train.shape[1]\n",
    "saved_model_dir=\"best_weights.h5\"\n",
    "batch_size=64\n",
    "epoch=150\n",
    "verbose=1"
   ]
  },
  {
   "cell_type": "code",
   "execution_count": 36,
   "metadata": {
    "execution": {
     "iopub.execute_input": "2022-11-11T09:35:42.851939Z",
     "iopub.status.busy": "2022-11-11T09:35:42.851445Z",
     "iopub.status.idle": "2022-11-11T09:35:51.071892Z",
     "shell.execute_reply": "2022-11-11T09:35:51.070249Z",
     "shell.execute_reply.started": "2022-11-11T09:35:42.851903Z"
    }
   },
   "outputs": [
    {
     "name": "stderr",
     "output_type": "stream",
     "text": [
      "2022-11-11 09:35:50.865583: I tensorflow/core/common_runtime/process_util.cc:146] Creating new thread pool with default inter op setting: 2. Tune using inter_op_parallelism_threads for best performance.\n"
     ]
    }
   ],
   "source": [
    "# Building DNN model\n",
    "from tensorflow.keras import models as m, layers as l, optimizers as opt, callbacks as cb\n",
    "\n",
    "def create_model(input_shape):\n",
    "    model = m.Sequential([\n",
    "                        l.Flatten(input_shape=[input_shape]),\n",
    "                        l.BatchNormalization(),\n",
    "                        \n",
    "                        l.Dense(128, kernel_initializer=\"he_normal\"),\n",
    "                        l.BatchNormalization(),\n",
    "                        l.Activation(\"relu\"),\n",
    "                        l.Dropout(0.3),\n",
    "\n",
    "                        l.Dense(64, kernel_initializer=\"he_normal\"),\n",
    "                        l.BatchNormalization(),\n",
    "                        l.Activation(\"relu\"),\n",
    "                        l.Dropout(0.3),\n",
    "        \n",
    "                        l.Dense(32, kernel_initializer=\"he_normal\"),\n",
    "                        l.BatchNormalization(),\n",
    "                        l.Activation(\"relu\"),\n",
    "                        l.Dropout(0.3),\n",
    "\n",
    "                        l.Dense(1, activation=\"sigmoid\")    \n",
    "                        ])\n",
    "\n",
    "    model.compile(loss=\"binary_crossentropy\",\n",
    "                 optimizer=opt.Adam(0.0008),\n",
    "                 metrics=[\"accuracy\"])\n",
    "    return model\n",
    "\n",
    "model = create_model(input_shape)"
   ]
  },
  {
   "cell_type": "code",
   "execution_count": 37,
   "metadata": {
    "execution": {
     "iopub.execute_input": "2022-11-11T09:36:15.258908Z",
     "iopub.status.busy": "2022-11-11T09:36:15.258415Z",
     "iopub.status.idle": "2022-11-11T09:36:15.266139Z",
     "shell.execute_reply": "2022-11-11T09:36:15.264044Z",
     "shell.execute_reply.started": "2022-11-11T09:36:15.258866Z"
    }
   },
   "outputs": [],
   "source": [
    "# Best weights will be loaded to model after model trains\n",
    "checkpoint = cb.ModelCheckpoint(saved_model_dir,\n",
    "                               save_best_only = True)"
   ]
  },
  {
   "cell_type": "code",
   "execution_count": 38,
   "metadata": {
    "execution": {
     "iopub.execute_input": "2022-11-11T09:36:27.274256Z",
     "iopub.status.busy": "2022-11-11T09:36:27.273787Z",
     "iopub.status.idle": "2022-11-11T09:38:51.253998Z",
     "shell.execute_reply": "2022-11-11T09:38:51.252176Z",
     "shell.execute_reply.started": "2022-11-11T09:36:27.274220Z"
    }
   },
   "outputs": [
    {
     "name": "stderr",
     "output_type": "stream",
     "text": [
      "2022-11-11 09:36:27.402906: I tensorflow/compiler/mlir/mlir_graph_optimization_pass.cc:185] None of the MLIR Optimization Passes are enabled (registered 2)\n"
     ]
    },
    {
     "name": "stdout",
     "output_type": "stream",
     "text": [
      "Epoch 1/150\n",
      "107/107 [==============================] - 3s 9ms/step - loss: 0.6316 - accuracy: 0.6530 - val_loss: 0.5110 - val_accuracy: 0.7640\n",
      "Epoch 2/150\n",
      "107/107 [==============================] - 1s 5ms/step - loss: 0.5496 - accuracy: 0.7249 - val_loss: 0.4787 - val_accuracy: 0.7781\n",
      "Epoch 3/150\n",
      "107/107 [==============================] - 1s 6ms/step - loss: 0.5341 - accuracy: 0.7373 - val_loss: 0.4708 - val_accuracy: 0.7793\n",
      "Epoch 4/150\n",
      "107/107 [==============================] - 1s 6ms/step - loss: 0.5201 - accuracy: 0.7453 - val_loss: 0.4690 - val_accuracy: 0.7869\n",
      "Epoch 5/150\n",
      "107/107 [==============================] - 1s 8ms/step - loss: 0.5169 - accuracy: 0.7486 - val_loss: 0.4654 - val_accuracy: 0.7816\n",
      "Epoch 6/150\n",
      "107/107 [==============================] - 1s 6ms/step - loss: 0.5080 - accuracy: 0.7554 - val_loss: 0.4630 - val_accuracy: 0.7816\n",
      "Epoch 7/150\n",
      "107/107 [==============================] - 1s 6ms/step - loss: 0.5116 - accuracy: 0.7561 - val_loss: 0.4623 - val_accuracy: 0.7799\n",
      "Epoch 8/150\n",
      "107/107 [==============================] - 1s 6ms/step - loss: 0.5086 - accuracy: 0.7619 - val_loss: 0.4639 - val_accuracy: 0.7816\n",
      "Epoch 9/150\n",
      "107/107 [==============================] - 1s 6ms/step - loss: 0.5028 - accuracy: 0.7606 - val_loss: 0.4625 - val_accuracy: 0.7858\n",
      "Epoch 10/150\n",
      "107/107 [==============================] - 1s 5ms/step - loss: 0.5026 - accuracy: 0.7594 - val_loss: 0.4619 - val_accuracy: 0.7846\n",
      "Epoch 11/150\n",
      "107/107 [==============================] - 1s 6ms/step - loss: 0.5002 - accuracy: 0.7622 - val_loss: 0.4597 - val_accuracy: 0.7893\n",
      "Epoch 12/150\n",
      "107/107 [==============================] - 1s 6ms/step - loss: 0.4955 - accuracy: 0.7616 - val_loss: 0.4606 - val_accuracy: 0.7887\n",
      "Epoch 13/150\n",
      "107/107 [==============================] - 1s 6ms/step - loss: 0.5008 - accuracy: 0.7626 - val_loss: 0.4604 - val_accuracy: 0.7828\n",
      "Epoch 14/150\n",
      "107/107 [==============================] - 1s 6ms/step - loss: 0.4969 - accuracy: 0.7604 - val_loss: 0.4604 - val_accuracy: 0.7869\n",
      "Epoch 15/150\n",
      "107/107 [==============================] - 1s 6ms/step - loss: 0.4987 - accuracy: 0.7614 - val_loss: 0.4597 - val_accuracy: 0.7887\n",
      "Epoch 16/150\n",
      "107/107 [==============================] - 1s 6ms/step - loss: 0.4914 - accuracy: 0.7597 - val_loss: 0.4583 - val_accuracy: 0.7875\n",
      "Epoch 17/150\n",
      "107/107 [==============================] - 1s 6ms/step - loss: 0.4954 - accuracy: 0.7623 - val_loss: 0.4581 - val_accuracy: 0.7916\n",
      "Epoch 18/150\n",
      "107/107 [==============================] - 1s 6ms/step - loss: 0.4947 - accuracy: 0.7647 - val_loss: 0.4576 - val_accuracy: 0.7911\n",
      "Epoch 19/150\n",
      "107/107 [==============================] - 1s 6ms/step - loss: 0.4884 - accuracy: 0.7644 - val_loss: 0.4568 - val_accuracy: 0.7893\n",
      "Epoch 20/150\n",
      "107/107 [==============================] - 1s 6ms/step - loss: 0.4936 - accuracy: 0.7632 - val_loss: 0.4562 - val_accuracy: 0.7905\n",
      "Epoch 21/150\n",
      "107/107 [==============================] - 1s 5ms/step - loss: 0.4913 - accuracy: 0.7664 - val_loss: 0.4560 - val_accuracy: 0.7881\n",
      "Epoch 22/150\n",
      "107/107 [==============================] - 1s 5ms/step - loss: 0.4878 - accuracy: 0.7625 - val_loss: 0.4541 - val_accuracy: 0.7887\n",
      "Epoch 23/150\n",
      "107/107 [==============================] - 1s 5ms/step - loss: 0.4862 - accuracy: 0.7698 - val_loss: 0.4530 - val_accuracy: 0.7899\n",
      "Epoch 24/150\n",
      "107/107 [==============================] - 1s 5ms/step - loss: 0.4892 - accuracy: 0.7678 - val_loss: 0.4542 - val_accuracy: 0.7869\n",
      "Epoch 25/150\n",
      "107/107 [==============================] - 1s 6ms/step - loss: 0.4871 - accuracy: 0.7706 - val_loss: 0.4549 - val_accuracy: 0.7893\n",
      "Epoch 26/150\n",
      "107/107 [==============================] - 1s 6ms/step - loss: 0.4887 - accuracy: 0.7638 - val_loss: 0.4533 - val_accuracy: 0.7905\n",
      "Epoch 27/150\n",
      "107/107 [==============================] - 1s 5ms/step - loss: 0.4847 - accuracy: 0.7692 - val_loss: 0.4527 - val_accuracy: 0.7881\n",
      "Epoch 28/150\n",
      "107/107 [==============================] - 1s 5ms/step - loss: 0.4864 - accuracy: 0.7645 - val_loss: 0.4539 - val_accuracy: 0.7881\n",
      "Epoch 29/150\n",
      "107/107 [==============================] - 1s 6ms/step - loss: 0.4832 - accuracy: 0.7663 - val_loss: 0.4535 - val_accuracy: 0.7881\n",
      "Epoch 30/150\n",
      "107/107 [==============================] - 1s 6ms/step - loss: 0.4832 - accuracy: 0.7685 - val_loss: 0.4526 - val_accuracy: 0.7887\n",
      "Epoch 31/150\n",
      "107/107 [==============================] - 1s 6ms/step - loss: 0.4849 - accuracy: 0.7703 - val_loss: 0.4515 - val_accuracy: 0.7893\n",
      "Epoch 32/150\n",
      "107/107 [==============================] - 1s 6ms/step - loss: 0.4822 - accuracy: 0.7679 - val_loss: 0.4529 - val_accuracy: 0.7887\n",
      "Epoch 33/150\n",
      "107/107 [==============================] - 1s 6ms/step - loss: 0.4798 - accuracy: 0.7679 - val_loss: 0.4521 - val_accuracy: 0.7893\n",
      "Epoch 34/150\n",
      "107/107 [==============================] - 1s 6ms/step - loss: 0.4813 - accuracy: 0.7698 - val_loss: 0.4521 - val_accuracy: 0.7899\n",
      "Epoch 35/150\n",
      "107/107 [==============================] - 1s 5ms/step - loss: 0.4801 - accuracy: 0.7681 - val_loss: 0.4514 - val_accuracy: 0.7893\n",
      "Epoch 36/150\n",
      "107/107 [==============================] - 1s 6ms/step - loss: 0.4831 - accuracy: 0.7678 - val_loss: 0.4507 - val_accuracy: 0.7905\n",
      "Epoch 37/150\n",
      "107/107 [==============================] - 1s 7ms/step - loss: 0.4814 - accuracy: 0.7707 - val_loss: 0.4504 - val_accuracy: 0.7893\n",
      "Epoch 38/150\n",
      "107/107 [==============================] - 1s 7ms/step - loss: 0.4797 - accuracy: 0.7725 - val_loss: 0.4504 - val_accuracy: 0.7869\n",
      "Epoch 39/150\n",
      "107/107 [==============================] - 1s 6ms/step - loss: 0.4828 - accuracy: 0.7689 - val_loss: 0.4493 - val_accuracy: 0.7881\n",
      "Epoch 40/150\n",
      "107/107 [==============================] - 1s 5ms/step - loss: 0.4774 - accuracy: 0.7659 - val_loss: 0.4486 - val_accuracy: 0.7881\n",
      "Epoch 41/150\n",
      "107/107 [==============================] - 1s 5ms/step - loss: 0.4772 - accuracy: 0.7700 - val_loss: 0.4486 - val_accuracy: 0.7869\n",
      "Epoch 42/150\n",
      "107/107 [==============================] - 1s 6ms/step - loss: 0.4740 - accuracy: 0.7725 - val_loss: 0.4481 - val_accuracy: 0.7863\n",
      "Epoch 43/150\n",
      "107/107 [==============================] - 1s 6ms/step - loss: 0.4776 - accuracy: 0.7738 - val_loss: 0.4490 - val_accuracy: 0.7887\n",
      "Epoch 44/150\n",
      "107/107 [==============================] - 1s 5ms/step - loss: 0.4715 - accuracy: 0.7769 - val_loss: 0.4472 - val_accuracy: 0.7869\n",
      "Epoch 45/150\n",
      "107/107 [==============================] - 1s 6ms/step - loss: 0.4769 - accuracy: 0.7692 - val_loss: 0.4476 - val_accuracy: 0.7852\n",
      "Epoch 46/150\n",
      "107/107 [==============================] - 1s 6ms/step - loss: 0.4747 - accuracy: 0.7737 - val_loss: 0.4488 - val_accuracy: 0.7834\n",
      "Epoch 47/150\n",
      "107/107 [==============================] - 1s 5ms/step - loss: 0.4732 - accuracy: 0.7709 - val_loss: 0.4475 - val_accuracy: 0.7846\n",
      "Epoch 48/150\n",
      "107/107 [==============================] - 1s 5ms/step - loss: 0.4776 - accuracy: 0.7703 - val_loss: 0.4465 - val_accuracy: 0.7905\n",
      "Epoch 49/150\n",
      "107/107 [==============================] - 1s 6ms/step - loss: 0.4749 - accuracy: 0.7735 - val_loss: 0.4463 - val_accuracy: 0.7858\n",
      "Epoch 50/150\n",
      "107/107 [==============================] - 1s 6ms/step - loss: 0.4748 - accuracy: 0.7729 - val_loss: 0.4474 - val_accuracy: 0.7846\n",
      "Epoch 51/150\n",
      "107/107 [==============================] - 1s 6ms/step - loss: 0.4762 - accuracy: 0.7728 - val_loss: 0.4465 - val_accuracy: 0.7869\n",
      "Epoch 52/150\n",
      "107/107 [==============================] - 1s 6ms/step - loss: 0.4720 - accuracy: 0.7687 - val_loss: 0.4458 - val_accuracy: 0.7858\n",
      "Epoch 53/150\n",
      "107/107 [==============================] - 1s 10ms/step - loss: 0.4724 - accuracy: 0.7754 - val_loss: 0.4445 - val_accuracy: 0.7846\n",
      "Epoch 54/150\n",
      "107/107 [==============================] - 1s 7ms/step - loss: 0.4686 - accuracy: 0.7740 - val_loss: 0.4435 - val_accuracy: 0.7922\n",
      "Epoch 55/150\n",
      "107/107 [==============================] - 1s 6ms/step - loss: 0.4767 - accuracy: 0.7682 - val_loss: 0.4452 - val_accuracy: 0.7887\n",
      "Epoch 56/150\n",
      "107/107 [==============================] - 1s 6ms/step - loss: 0.4676 - accuracy: 0.7707 - val_loss: 0.4442 - val_accuracy: 0.7852\n",
      "Epoch 57/150\n",
      "107/107 [==============================] - 1s 6ms/step - loss: 0.4667 - accuracy: 0.7723 - val_loss: 0.4436 - val_accuracy: 0.7887\n",
      "Epoch 58/150\n",
      "107/107 [==============================] - 1s 6ms/step - loss: 0.4733 - accuracy: 0.7754 - val_loss: 0.4457 - val_accuracy: 0.7899\n",
      "Epoch 59/150\n",
      "107/107 [==============================] - 1s 6ms/step - loss: 0.4753 - accuracy: 0.7676 - val_loss: 0.4458 - val_accuracy: 0.7875\n",
      "Epoch 60/150\n",
      "107/107 [==============================] - 1s 6ms/step - loss: 0.4744 - accuracy: 0.7703 - val_loss: 0.4451 - val_accuracy: 0.7852\n",
      "Epoch 61/150\n",
      "107/107 [==============================] - 1s 6ms/step - loss: 0.4730 - accuracy: 0.7729 - val_loss: 0.4445 - val_accuracy: 0.7822\n",
      "Epoch 62/150\n",
      "107/107 [==============================] - 1s 6ms/step - loss: 0.4752 - accuracy: 0.7691 - val_loss: 0.4433 - val_accuracy: 0.7858\n",
      "Epoch 63/150\n",
      "107/107 [==============================] - 1s 6ms/step - loss: 0.4721 - accuracy: 0.7723 - val_loss: 0.4431 - val_accuracy: 0.7899\n",
      "Epoch 64/150\n",
      "107/107 [==============================] - 1s 6ms/step - loss: 0.4681 - accuracy: 0.7748 - val_loss: 0.4437 - val_accuracy: 0.7869\n",
      "Epoch 65/150\n",
      "107/107 [==============================] - 1s 5ms/step - loss: 0.4669 - accuracy: 0.7700 - val_loss: 0.4432 - val_accuracy: 0.7881\n",
      "Epoch 66/150\n",
      "107/107 [==============================] - 1s 5ms/step - loss: 0.4712 - accuracy: 0.7717 - val_loss: 0.4429 - val_accuracy: 0.7828\n",
      "Epoch 67/150\n",
      "107/107 [==============================] - 1s 6ms/step - loss: 0.4675 - accuracy: 0.7759 - val_loss: 0.4406 - val_accuracy: 0.7916\n",
      "Epoch 68/150\n",
      "107/107 [==============================] - 1s 5ms/step - loss: 0.4629 - accuracy: 0.7741 - val_loss: 0.4413 - val_accuracy: 0.7905\n",
      "Epoch 69/150\n",
      "107/107 [==============================] - 1s 6ms/step - loss: 0.4671 - accuracy: 0.7717 - val_loss: 0.4406 - val_accuracy: 0.7911\n",
      "Epoch 70/150\n",
      "107/107 [==============================] - 1s 6ms/step - loss: 0.4648 - accuracy: 0.7738 - val_loss: 0.4416 - val_accuracy: 0.7934\n",
      "Epoch 71/150\n",
      "107/107 [==============================] - 1s 5ms/step - loss: 0.4631 - accuracy: 0.7744 - val_loss: 0.4405 - val_accuracy: 0.7922\n",
      "Epoch 72/150\n",
      "107/107 [==============================] - 1s 5ms/step - loss: 0.4656 - accuracy: 0.7751 - val_loss: 0.4405 - val_accuracy: 0.7911\n",
      "Epoch 73/150\n",
      "107/107 [==============================] - 1s 6ms/step - loss: 0.4615 - accuracy: 0.7788 - val_loss: 0.4407 - val_accuracy: 0.7934\n",
      "Epoch 74/150\n",
      "107/107 [==============================] - 1s 6ms/step - loss: 0.4650 - accuracy: 0.7748 - val_loss: 0.4402 - val_accuracy: 0.7887\n",
      "Epoch 75/150\n",
      "107/107 [==============================] - 1s 6ms/step - loss: 0.4652 - accuracy: 0.7760 - val_loss: 0.4398 - val_accuracy: 0.7899\n",
      "Epoch 76/150\n",
      "107/107 [==============================] - 1s 7ms/step - loss: 0.4622 - accuracy: 0.7787 - val_loss: 0.4404 - val_accuracy: 0.7875\n",
      "Epoch 77/150\n",
      "107/107 [==============================] - 1s 6ms/step - loss: 0.4689 - accuracy: 0.7729 - val_loss: 0.4398 - val_accuracy: 0.7869\n",
      "Epoch 78/150\n",
      "107/107 [==============================] - 1s 6ms/step - loss: 0.4650 - accuracy: 0.7728 - val_loss: 0.4402 - val_accuracy: 0.7922\n",
      "Epoch 79/150\n",
      "107/107 [==============================] - 1s 7ms/step - loss: 0.4594 - accuracy: 0.7773 - val_loss: 0.4407 - val_accuracy: 0.7916\n",
      "Epoch 80/150\n",
      "107/107 [==============================] - 1s 7ms/step - loss: 0.4615 - accuracy: 0.7731 - val_loss: 0.4399 - val_accuracy: 0.7928\n",
      "Epoch 81/150\n",
      "107/107 [==============================] - 1s 6ms/step - loss: 0.4566 - accuracy: 0.7757 - val_loss: 0.4385 - val_accuracy: 0.7893\n",
      "Epoch 82/150\n",
      "107/107 [==============================] - 1s 5ms/step - loss: 0.4688 - accuracy: 0.7716 - val_loss: 0.4393 - val_accuracy: 0.7905\n",
      "Epoch 83/150\n",
      "107/107 [==============================] - 1s 6ms/step - loss: 0.4620 - accuracy: 0.7791 - val_loss: 0.4386 - val_accuracy: 0.7858\n",
      "Epoch 84/150\n",
      "107/107 [==============================] - 1s 7ms/step - loss: 0.4641 - accuracy: 0.7700 - val_loss: 0.4396 - val_accuracy: 0.7858\n",
      "Epoch 85/150\n",
      "107/107 [==============================] - 1s 5ms/step - loss: 0.4589 - accuracy: 0.7766 - val_loss: 0.4400 - val_accuracy: 0.7922\n",
      "Epoch 86/150\n",
      "107/107 [==============================] - 1s 5ms/step - loss: 0.4583 - accuracy: 0.7776 - val_loss: 0.4391 - val_accuracy: 0.7905\n",
      "Epoch 87/150\n",
      "107/107 [==============================] - 1s 5ms/step - loss: 0.4634 - accuracy: 0.7742 - val_loss: 0.4398 - val_accuracy: 0.7852\n",
      "Epoch 88/150\n",
      "107/107 [==============================] - 1s 5ms/step - loss: 0.4592 - accuracy: 0.7773 - val_loss: 0.4392 - val_accuracy: 0.7852\n",
      "Epoch 89/150\n",
      "107/107 [==============================] - 1s 5ms/step - loss: 0.4598 - accuracy: 0.7756 - val_loss: 0.4387 - val_accuracy: 0.7893\n",
      "Epoch 90/150\n",
      "107/107 [==============================] - 1s 5ms/step - loss: 0.4622 - accuracy: 0.7766 - val_loss: 0.4385 - val_accuracy: 0.7893\n",
      "Epoch 91/150\n",
      "107/107 [==============================] - 1s 5ms/step - loss: 0.4608 - accuracy: 0.7766 - val_loss: 0.4380 - val_accuracy: 0.7893\n",
      "Epoch 92/150\n",
      "107/107 [==============================] - 1s 5ms/step - loss: 0.4624 - accuracy: 0.7734 - val_loss: 0.4373 - val_accuracy: 0.7899\n",
      "Epoch 93/150\n",
      "107/107 [==============================] - 1s 5ms/step - loss: 0.4545 - accuracy: 0.7781 - val_loss: 0.4377 - val_accuracy: 0.7869\n",
      "Epoch 94/150\n",
      "107/107 [==============================] - 1s 6ms/step - loss: 0.4645 - accuracy: 0.7748 - val_loss: 0.4370 - val_accuracy: 0.7922\n",
      "Epoch 95/150\n",
      "107/107 [==============================] - 1s 5ms/step - loss: 0.4599 - accuracy: 0.7815 - val_loss: 0.4367 - val_accuracy: 0.7905\n",
      "Epoch 96/150\n",
      "107/107 [==============================] - 1s 5ms/step - loss: 0.4558 - accuracy: 0.7801 - val_loss: 0.4356 - val_accuracy: 0.7928\n",
      "Epoch 97/150\n",
      "107/107 [==============================] - 1s 5ms/step - loss: 0.4563 - accuracy: 0.7760 - val_loss: 0.4365 - val_accuracy: 0.7928\n",
      "Epoch 98/150\n",
      "107/107 [==============================] - 1s 5ms/step - loss: 0.4548 - accuracy: 0.7781 - val_loss: 0.4371 - val_accuracy: 0.7911\n",
      "Epoch 99/150\n",
      "107/107 [==============================] - 1s 5ms/step - loss: 0.4582 - accuracy: 0.7757 - val_loss: 0.4363 - val_accuracy: 0.7893\n",
      "Epoch 100/150\n",
      "107/107 [==============================] - 1s 5ms/step - loss: 0.4589 - accuracy: 0.7815 - val_loss: 0.4367 - val_accuracy: 0.7911\n",
      "Epoch 101/150\n",
      "107/107 [==============================] - 1s 5ms/step - loss: 0.4569 - accuracy: 0.7781 - val_loss: 0.4373 - val_accuracy: 0.7893\n",
      "Epoch 102/150\n",
      "107/107 [==============================] - 1s 5ms/step - loss: 0.4586 - accuracy: 0.7797 - val_loss: 0.4353 - val_accuracy: 0.7887\n",
      "Epoch 103/150\n",
      "107/107 [==============================] - 1s 8ms/step - loss: 0.4577 - accuracy: 0.7759 - val_loss: 0.4350 - val_accuracy: 0.7905\n",
      "Epoch 104/150\n",
      "107/107 [==============================] - 1s 6ms/step - loss: 0.4508 - accuracy: 0.7813 - val_loss: 0.4342 - val_accuracy: 0.7905\n",
      "Epoch 105/150\n",
      "107/107 [==============================] - 1s 5ms/step - loss: 0.4558 - accuracy: 0.7818 - val_loss: 0.4352 - val_accuracy: 0.7940\n",
      "Epoch 106/150\n",
      "107/107 [==============================] - 1s 5ms/step - loss: 0.4559 - accuracy: 0.7807 - val_loss: 0.4363 - val_accuracy: 0.7928\n",
      "Epoch 107/150\n",
      "107/107 [==============================] - 1s 5ms/step - loss: 0.4566 - accuracy: 0.7765 - val_loss: 0.4364 - val_accuracy: 0.7946\n",
      "Epoch 108/150\n",
      "107/107 [==============================] - 1s 5ms/step - loss: 0.4571 - accuracy: 0.7801 - val_loss: 0.4348 - val_accuracy: 0.7916\n",
      "Epoch 109/150\n",
      "107/107 [==============================] - 1s 5ms/step - loss: 0.4618 - accuracy: 0.7762 - val_loss: 0.4358 - val_accuracy: 0.7863\n",
      "Epoch 110/150\n",
      "107/107 [==============================] - 1s 5ms/step - loss: 0.4566 - accuracy: 0.7818 - val_loss: 0.4363 - val_accuracy: 0.7958\n",
      "Epoch 111/150\n",
      "107/107 [==============================] - 1s 5ms/step - loss: 0.4552 - accuracy: 0.7782 - val_loss: 0.4361 - val_accuracy: 0.7911\n",
      "Epoch 112/150\n",
      "107/107 [==============================] - 1s 5ms/step - loss: 0.4534 - accuracy: 0.7787 - val_loss: 0.4358 - val_accuracy: 0.7905\n",
      "Epoch 113/150\n",
      "107/107 [==============================] - 1s 5ms/step - loss: 0.4535 - accuracy: 0.7794 - val_loss: 0.4352 - val_accuracy: 0.7911\n",
      "Epoch 114/150\n",
      "107/107 [==============================] - 1s 5ms/step - loss: 0.4495 - accuracy: 0.7779 - val_loss: 0.4341 - val_accuracy: 0.7875\n",
      "Epoch 115/150\n",
      "107/107 [==============================] - 1s 5ms/step - loss: 0.4507 - accuracy: 0.7784 - val_loss: 0.4348 - val_accuracy: 0.7911\n",
      "Epoch 116/150\n",
      "107/107 [==============================] - 1s 5ms/step - loss: 0.4534 - accuracy: 0.7773 - val_loss: 0.4350 - val_accuracy: 0.7899\n",
      "Epoch 117/150\n",
      "107/107 [==============================] - 1s 5ms/step - loss: 0.4549 - accuracy: 0.7800 - val_loss: 0.4341 - val_accuracy: 0.7916\n",
      "Epoch 118/150\n",
      "107/107 [==============================] - 1s 5ms/step - loss: 0.4513 - accuracy: 0.7791 - val_loss: 0.4333 - val_accuracy: 0.7893\n",
      "Epoch 119/150\n",
      "107/107 [==============================] - 1s 5ms/step - loss: 0.4526 - accuracy: 0.7831 - val_loss: 0.4326 - val_accuracy: 0.7905\n",
      "Epoch 120/150\n",
      "107/107 [==============================] - 1s 5ms/step - loss: 0.4495 - accuracy: 0.7819 - val_loss: 0.4328 - val_accuracy: 0.7863\n",
      "Epoch 121/150\n",
      "107/107 [==============================] - 1s 6ms/step - loss: 0.4501 - accuracy: 0.7797 - val_loss: 0.4330 - val_accuracy: 0.7893\n",
      "Epoch 122/150\n",
      "107/107 [==============================] - 1s 5ms/step - loss: 0.4532 - accuracy: 0.7754 - val_loss: 0.4335 - val_accuracy: 0.7881\n",
      "Epoch 123/150\n",
      "107/107 [==============================] - 1s 5ms/step - loss: 0.4484 - accuracy: 0.7807 - val_loss: 0.4342 - val_accuracy: 0.7881\n",
      "Epoch 124/150\n",
      "107/107 [==============================] - 1s 5ms/step - loss: 0.4481 - accuracy: 0.7822 - val_loss: 0.4339 - val_accuracy: 0.7893\n",
      "Epoch 125/150\n",
      "107/107 [==============================] - 1s 6ms/step - loss: 0.4539 - accuracy: 0.7807 - val_loss: 0.4348 - val_accuracy: 0.7911\n",
      "Epoch 126/150\n",
      "107/107 [==============================] - 1s 6ms/step - loss: 0.4464 - accuracy: 0.7868 - val_loss: 0.4351 - val_accuracy: 0.7946\n",
      "Epoch 127/150\n",
      "107/107 [==============================] - 1s 5ms/step - loss: 0.4542 - accuracy: 0.7798 - val_loss: 0.4348 - val_accuracy: 0.7922\n",
      "Epoch 128/150\n",
      "107/107 [==============================] - 1s 5ms/step - loss: 0.4499 - accuracy: 0.7756 - val_loss: 0.4347 - val_accuracy: 0.7911\n",
      "Epoch 129/150\n",
      "107/107 [==============================] - 1s 5ms/step - loss: 0.4542 - accuracy: 0.7763 - val_loss: 0.4356 - val_accuracy: 0.7916\n",
      "Epoch 130/150\n",
      "107/107 [==============================] - 1s 5ms/step - loss: 0.4529 - accuracy: 0.7797 - val_loss: 0.4344 - val_accuracy: 0.7916\n",
      "Epoch 131/150\n",
      "107/107 [==============================] - 1s 5ms/step - loss: 0.4520 - accuracy: 0.7795 - val_loss: 0.4349 - val_accuracy: 0.7905\n",
      "Epoch 132/150\n",
      "107/107 [==============================] - 1s 5ms/step - loss: 0.4520 - accuracy: 0.7788 - val_loss: 0.4336 - val_accuracy: 0.7952\n",
      "Epoch 133/150\n",
      "107/107 [==============================] - 1s 5ms/step - loss: 0.4492 - accuracy: 0.7801 - val_loss: 0.4334 - val_accuracy: 0.7969\n",
      "Epoch 134/150\n",
      "107/107 [==============================] - 1s 5ms/step - loss: 0.4437 - accuracy: 0.7803 - val_loss: 0.4340 - val_accuracy: 0.7911\n",
      "Epoch 135/150\n",
      "107/107 [==============================] - 1s 5ms/step - loss: 0.4549 - accuracy: 0.7742 - val_loss: 0.4322 - val_accuracy: 0.7922\n",
      "Epoch 136/150\n",
      "107/107 [==============================] - 1s 5ms/step - loss: 0.4527 - accuracy: 0.7792 - val_loss: 0.4330 - val_accuracy: 0.7905\n",
      "Epoch 137/150\n",
      "107/107 [==============================] - 1s 5ms/step - loss: 0.4523 - accuracy: 0.7823 - val_loss: 0.4321 - val_accuracy: 0.7899\n",
      "Epoch 138/150\n",
      "107/107 [==============================] - 1s 5ms/step - loss: 0.4498 - accuracy: 0.7840 - val_loss: 0.4327 - val_accuracy: 0.7911\n",
      "Epoch 139/150\n",
      "107/107 [==============================] - 1s 5ms/step - loss: 0.4485 - accuracy: 0.7825 - val_loss: 0.4325 - val_accuracy: 0.7922\n",
      "Epoch 140/150\n",
      "107/107 [==============================] - 1s 6ms/step - loss: 0.4470 - accuracy: 0.7825 - val_loss: 0.4330 - val_accuracy: 0.7875\n",
      "Epoch 141/150\n",
      "107/107 [==============================] - 1s 5ms/step - loss: 0.4496 - accuracy: 0.7795 - val_loss: 0.4327 - val_accuracy: 0.7940\n",
      "Epoch 142/150\n",
      "107/107 [==============================] - 1s 5ms/step - loss: 0.4467 - accuracy: 0.7800 - val_loss: 0.4328 - val_accuracy: 0.7899\n",
      "Epoch 143/150\n",
      "107/107 [==============================] - 1s 5ms/step - loss: 0.4460 - accuracy: 0.7918 - val_loss: 0.4314 - val_accuracy: 0.7911\n",
      "Epoch 144/150\n",
      "107/107 [==============================] - 1s 5ms/step - loss: 0.4474 - accuracy: 0.7801 - val_loss: 0.4305 - val_accuracy: 0.7922\n",
      "Epoch 145/150\n",
      "107/107 [==============================] - 1s 5ms/step - loss: 0.4503 - accuracy: 0.7813 - val_loss: 0.4309 - val_accuracy: 0.7940\n",
      "Epoch 146/150\n",
      "107/107 [==============================] - 1s 5ms/step - loss: 0.4476 - accuracy: 0.7844 - val_loss: 0.4322 - val_accuracy: 0.7934\n",
      "Epoch 147/150\n",
      "107/107 [==============================] - 1s 6ms/step - loss: 0.4460 - accuracy: 0.7807 - val_loss: 0.4311 - val_accuracy: 0.7893\n",
      "Epoch 148/150\n",
      "107/107 [==============================] - 1s 6ms/step - loss: 0.4493 - accuracy: 0.7788 - val_loss: 0.4319 - val_accuracy: 0.7899\n",
      "Epoch 149/150\n",
      "107/107 [==============================] - 1s 6ms/step - loss: 0.4530 - accuracy: 0.7804 - val_loss: 0.4317 - val_accuracy: 0.7922\n",
      "Epoch 150/150\n",
      "107/107 [==============================] - 1s 6ms/step - loss: 0.4473 - accuracy: 0.7812 - val_loss: 0.4324 - val_accuracy: 0.7899\n",
      "Best weights loading ...\n",
      "Completed.\n"
     ]
    }
   ],
   "source": [
    "# Model training\n",
    "hist = model.fit(X_train, y_train, batch_size=batch_size,\n",
    "                 epochs=epoch,\n",
    "                 verbose=verbose,\n",
    "                 validation_data=(X_val, y_val),\n",
    "                 callbacks=[checkpoint])\n",
    "\n",
    "print(\"Best weights loading ...\")\n",
    "model.load_weights(saved_model_dir)\n",
    "print(\"Completed.\")"
   ]
  },
  {
   "cell_type": "code",
   "execution_count": 41,
   "metadata": {
    "execution": {
     "iopub.execute_input": "2022-11-11T09:38:52.539015Z",
     "iopub.status.busy": "2022-11-11T09:38:52.537889Z",
     "iopub.status.idle": "2022-11-11T09:38:52.997837Z",
     "shell.execute_reply": "2022-11-11T09:38:52.996713Z",
     "shell.execute_reply.started": "2022-11-11T09:38:52.538963Z"
    }
   },
   "outputs": [
    {
     "data": {
      "image/png": "[encoded data removed]",
      "text/plain": [
       "<Figure size 720x360 with 2 Axes>"
      ]
     },
     "metadata": {
      "needs_background": "light"
     },
     "output_type": "display_data"
    }
   ],
   "source": [
    "# Plot the results\n",
    "def plot_result(metrics):\n",
    "    plt.plot(hist.history[metrics], \"r\", label=f\"Train {metrics.title()}\")\n",
    "    plt.plot(hist.history[f\"val_{metrics}\"], \"b\", label=f\"Validation {metrics.title()}\")\n",
    "    plt.legend()\n",
    "    plt.xlabel(\"Epoch\")\n",
    "    plt.ylabel(metrics.title())\n",
    "    plt.grid(True)\n",
    "\n",
    "plt.figure(figsize=(10,5))\n",
    "plt.subplot(1,2,1)\n",
    "plot_result(\"accuracy\")\n",
    "plt.subplot(1,2,2)\n",
    "plot_result(\"loss\") "
   ]
  },
  {
   "cell_type": "code",
   "execution_count": 44,
   "metadata": {
    "execution": {
     "iopub.execute_input": "2022-11-11T09:40:22.509867Z",
     "iopub.status.busy": "2022-11-11T09:40:22.509399Z",
     "iopub.status.idle": "2022-11-11T09:40:22.665919Z",
     "shell.execute_reply": "2022-11-11T09:40:22.664785Z",
     "shell.execute_reply.started": "2022-11-11T09:40:22.509823Z"
    }
   },
   "outputs": [
    {
     "name": "stdout",
     "output_type": "stream",
     "text": [
      "Boolean to integer process starting ...\n",
      "Process for VIP column finished.\n",
      "Process for CryoSleep column finished.\n",
      "All process completed.\n",
      "Deck, Number and Side columns created from Cabin column.\n",
      "Cabin column dropped.\n"
     ]
    },
    {
     "name": "stderr",
     "output_type": "stream",
     "text": [
      "/opt/conda/lib/python3.7/site-packages/sklearn/base.py:444: UserWarning: X has feature names, but SimpleImputer was fitted without feature names\n",
      "  f\"X has feature names, but {self.__class__.__name__} was fitted without\"\n"
     ]
    }
   ],
   "source": [
    "# It is time to touch to test dataset\n",
    "# Lets make preprocess on the test dataset\n",
    "test_data_model = test_data.copy()\n",
    "test_data_model.set_index(\"PassengerId\", inplace=True)\n",
    "test_data_model.drop(\"Name\", axis=1, inplace=True)\n",
    "test_data_model = convert_bool_to_int(test_data_model, [\"VIP\", \"CryoSleep\"])\n",
    "test_data_model = split_cabin_col(test_data_model)\n",
    "test_data_model = data_dummies(test_data_model, cols_for_dummies)\n",
    "test_data_model = test_data_model.astype(\"float64\")\n",
    "for feature in test_data_model.columns:\n",
    "    test_data_model = outlier_process(test_data_model, feature, \"pressing\")\n",
    "X_test = pipeline.transform(test_data_model)"
   ]
  },
  {
   "cell_type": "code",
   "execution_count": 45,
   "metadata": {
    "execution": {
     "iopub.execute_input": "2022-11-11T09:40:36.004533Z",
     "iopub.status.busy": "2022-11-11T09:40:36.003712Z",
     "iopub.status.idle": "2022-11-11T09:40:36.607985Z",
     "shell.execute_reply": "2022-11-11T09:40:36.606267Z",
     "shell.execute_reply.started": "2022-11-11T09:40:36.004494Z"
    }
   },
   "outputs": [
    {
     "name": "stdout",
     "output_type": "stream",
     "text": [
      "Submitted!\n"
     ]
    }
   ],
   "source": [
    "# Prediction test data and submit the results\n",
    "pred = model.predict(X_test)\n",
    "y_pred = np.round(pred)\n",
    "submission_data = pd.DataFrame(columns=[\"PassengerId\", \"Transported\"])\n",
    "submission_data[\"PassengerId\"]=test_data_model.index\n",
    "submission_data[\"Transported\"]= [True if x==1. else False for x in y_pred]\n",
    "\n",
    "submission_data.to_csv('submission.csv', index=False)\n",
    "print('Submitted!')"
   ]
  },
  {
   "cell_type": "code",
   "execution_count": null,
   "metadata": {},
   "outputs": [],
   "source": [
    "submission_data"
   ]
  }
 ],
 "metadata": {
  "kernelspec": {
   "display_name": "Python 3 (ipykernel)",
   "language": "python",
   "name": "python3"
  },
  "language_info": {
   "codemirror_mode": {
    "name": "ipython",
    "version": 3
   },
   "file_extension": ".py",
   "mimetype": "text/x-python",
   "name": "python",
   "nbconvert_exporter": "python",
   "pygments_lexer": "ipython3",
   "version": "3.9.7"
  }
 },
 "nbformat": 4,
 "nbformat_minor": 4
}
