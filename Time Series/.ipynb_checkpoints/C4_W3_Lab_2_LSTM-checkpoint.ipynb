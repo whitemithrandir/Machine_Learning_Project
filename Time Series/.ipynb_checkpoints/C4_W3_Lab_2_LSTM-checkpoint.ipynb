{
 "cells": [
  {
   "cell_type": "markdown",
   "metadata": {
    "id": "XndtoL5BG3zx"
   },
   "source": [
    "<a href=\"https://colab.research.google.com/github/https-deeplearning-ai/tensorflow-1-public/blob/main/C4/W3/ungraded_labs/C4_W3_Lab_2_LSTM.ipynb\" target=\"_parent\"><img src=\"https://colab.research.google.com/assets/colab-badge.svg\" alt=\"Open In Colab\"/></a>"
   ]
  },
  {
   "cell_type": "markdown",
   "metadata": {
    "id": "sV_nvXSQGJPK"
   },
   "source": [
    "# Ungraded Lab: Using a multi-layer LSTM for forecasting\n",
    "\n",
    "In this lab, you will use the same RNN architecure in the first lab but will instead stack [LSTM](https://www.tensorflow.org/api_docs/python/tf/keras/layers/LSTM) layers instead of `SimpleRNN`."
   ]
  },
  {
   "cell_type": "markdown",
   "metadata": {
    "id": "3IMbAWETGOWD"
   },
   "source": [
    "## Imports"
   ]
  },
  {
   "cell_type": "code",
   "execution_count": 1,
   "metadata": {
    "id": "BOjujz601HcS"
   },
   "outputs": [],
   "source": [
    "import tensorflow as tf\n",
    "import numpy as np\n",
    "import matplotlib.pyplot as plt"
   ]
  },
  {
   "cell_type": "markdown",
   "metadata": {
    "id": "kD7RQQ0xGQVH"
   },
   "source": [
    "## Utilities"
   ]
  },
  {
   "cell_type": "code",
   "execution_count": 2,
   "metadata": {
    "id": "Zswl7jRtGzkk"
   },
   "outputs": [],
   "source": [
    "def plot_series(time, series, format=\"-\", start=0, end=None):\n",
    "    \"\"\"\n",
    "    Visualizes time series data\n",
    "\n",
    "    Args:\n",
    "      time (array of int) - contains the time steps\n",
    "      series (array of int) - contains the measurements for each time step\n",
    "      format - line style when plotting the graph\n",
    "      start - first time step to plot\n",
    "      end - last time step to plot\n",
    "    \"\"\"\n",
    "\n",
    "    # Setup dimensions of the graph figure\n",
    "    plt.figure(figsize=(10, 6))\n",
    "    \n",
    "    if type(series) is tuple:\n",
    "\n",
    "      for series_num in series:\n",
    "        # Plot the time series data\n",
    "        plt.plot(time[start:end], series_num[start:end], format)\n",
    "\n",
    "    else:\n",
    "      # Plot the time series data\n",
    "      plt.plot(time[start:end], series[start:end], format)\n",
    "\n",
    "    # Label the x-axis\n",
    "    plt.xlabel(\"Time\")\n",
    "\n",
    "    # Label the y-axis\n",
    "    plt.ylabel(\"Value\")\n",
    "\n",
    "    # Overlay a grid on the graph\n",
    "    plt.grid(True)\n",
    "\n",
    "    # Draw the graph on screen\n",
    "    plt.show()\n",
    "\n",
    "def trend(time, slope=0):\n",
    "    \"\"\"\n",
    "    Generates synthetic data that follows a straight line given a slope value.\n",
    "\n",
    "    Args:\n",
    "      time (array of int) - contains the time steps\n",
    "      slope (float) - determines the direction and steepness of the line\n",
    "\n",
    "    Returns:\n",
    "      series (array of float) - measurements that follow a straight line\n",
    "    \"\"\"\n",
    "\n",
    "    # Compute the linear series given the slope\n",
    "    series = slope * time\n",
    "\n",
    "    return series\n",
    "\n",
    "def seasonal_pattern(season_time):\n",
    "    \"\"\"\n",
    "    Just an arbitrary pattern, you can change it if you wish\n",
    "    \n",
    "    Args:\n",
    "      season_time (array of float) - contains the measurements per time step\n",
    "\n",
    "    Returns:\n",
    "      data_pattern (array of float) -  contains revised measurement values according \n",
    "                                  to the defined pattern\n",
    "    \"\"\"\n",
    "\n",
    "    # Generate the values using an arbitrary pattern\n",
    "    data_pattern = np.where(season_time < 0.4,\n",
    "                    np.cos(season_time * 2 * np.pi),\n",
    "                    1 / np.exp(3 * season_time))\n",
    "    \n",
    "    return data_pattern\n",
    "\n",
    "def seasonality(time, period, amplitude=1, phase=0):\n",
    "    \"\"\"\n",
    "    Repeats the same pattern at each period\n",
    "\n",
    "    Args:\n",
    "      time (array of int) - contains the time steps\n",
    "      period (int) - number of time steps before the pattern repeats\n",
    "      amplitude (int) - peak measured value in a period\n",
    "      phase (int) - number of time steps to shift the measured values\n",
    "\n",
    "    Returns:\n",
    "      data_pattern (array of float) - seasonal data scaled by the defined amplitude\n",
    "    \"\"\"\n",
    "    \n",
    "    # Define the measured values per period\n",
    "    season_time = ((time + phase) % period) / period\n",
    "\n",
    "    # Generates the seasonal data scaled by the defined amplitude\n",
    "    data_pattern = amplitude * seasonal_pattern(season_time)\n",
    "\n",
    "    return data_pattern\n",
    "\n",
    "def noise(time, noise_level=1, seed=None):\n",
    "    \"\"\"Generates a normally distributed noisy signal\n",
    "\n",
    "    Args:\n",
    "      time (array of int) - contains the time steps\n",
    "      noise_level (float) - scaling factor for the generated signal\n",
    "      seed (int) - number generator seed for repeatability\n",
    "\n",
    "    Returns:\n",
    "      noise (array of float) - the noisy signal\n",
    "    \"\"\"\n",
    "\n",
    "    # Initialize the random number generator\n",
    "    rnd = np.random.RandomState(seed)\n",
    "\n",
    "    # Generate a random number for each time step and scale by the noise level\n",
    "    noise = rnd.randn(len(time)) * noise_level\n",
    "    \n",
    "    return noise"
   ]
  },
  {
   "cell_type": "markdown",
   "metadata": {
    "id": "yxNyeFWjGSdj"
   },
   "source": [
    "## Generate the Synthetic Data"
   ]
  },
  {
   "cell_type": "code",
   "execution_count": 3,
   "metadata": {
    "id": "KYEUfDbdpHPm"
   },
   "outputs": [
    {
     "data": {
      "image/png": "[encoded data removed]",
      "text/plain": [
       "<Figure size 1000x600 with 1 Axes>"
      ]
     },
     "metadata": {},
     "output_type": "display_data"
    }
   ],
   "source": [
    "# Parameters\n",
    "time = np.arange(4 * 365 + 1, dtype=\"float32\")\n",
    "baseline = 10\n",
    "amplitude = 40\n",
    "slope = 0.05\n",
    "noise_level = 5\n",
    "\n",
    "# Create the series\n",
    "series = baseline + trend(time, slope) + seasonality(time, period=365, amplitude=amplitude)\n",
    "\n",
    "# Update with noise\n",
    "series += noise(time, noise_level, seed=42)\n",
    "\n",
    "# Plot the results\n",
    "plot_series(time, series)"
   ]
  },
  {
   "cell_type": "markdown",
   "metadata": {
    "id": "MYKCvv-eGWRc"
   },
   "source": [
    "## Split the Dataset"
   ]
  },
  {
   "cell_type": "code",
   "execution_count": 4,
   "metadata": {
    "id": "hpp0slenpKVD"
   },
   "outputs": [],
   "source": [
    "# Define the split time\n",
    "split_time = 1000\n",
    "\n",
    "# Get the train set \n",
    "time_train = time[:split_time]\n",
    "x_train = series[:split_time]\n",
    "\n",
    "# Get the validation set\n",
    "time_valid = time[split_time:]\n",
    "x_valid = series[split_time:]"
   ]
  },
  {
   "cell_type": "markdown",
   "metadata": {
    "id": "cktHz9aOGYtV"
   },
   "source": [
    "## Prepare Features and Labels"
   ]
  },
  {
   "cell_type": "code",
   "execution_count": 5,
   "metadata": {
    "id": "G_j_2_Mqwn7-"
   },
   "outputs": [],
   "source": [
    "# Parameters\n",
    "window_size = 20\n",
    "batch_size = 32\n",
    "shuffle_buffer_size = 1000"
   ]
  },
  {
   "cell_type": "code",
   "execution_count": 6,
   "metadata": {
    "id": "4sTTIOCbyShY"
   },
   "outputs": [],
   "source": [
    "def windowed_dataset(series, window_size, batch_size, shuffle_buffer):\n",
    "    \"\"\"Generates dataset windows\n",
    "\n",
    "    Args:\n",
    "      series (array of float) - contains the values of the time series\n",
    "      window_size (int) - the number of time steps to include in the feature\n",
    "      batch_size (int) - the batch size\n",
    "      shuffle_buffer(int) - buffer size to use for the shuffle method\n",
    "\n",
    "    Returns:\n",
    "      dataset (TF Dataset) - TF Dataset containing time windows\n",
    "    \"\"\"\n",
    "  \n",
    "    # Generate a TF Dataset from the series values\n",
    "    dataset = tf.data.Dataset.from_tensor_slices(series)\n",
    "    \n",
    "    # Window the data but only take those with the specified size\n",
    "    dataset = dataset.window(window_size + 1, shift=1, drop_remainder=True)\n",
    "    \n",
    "    # Flatten the windows by putting its elements in a single batch\n",
    "    dataset = dataset.flat_map(lambda window: window.batch(window_size + 1))\n",
    "\n",
    "    # Create tuples with features and labels \n",
    "    dataset = dataset.map(lambda window: (window[:-1], window[-1]))\n",
    "\n",
    "    # Shuffle the windows\n",
    "    dataset = dataset.shuffle(shuffle_buffer)\n",
    "    \n",
    "    # Create batches of windows\n",
    "    dataset = dataset.batch(batch_size).prefetch(1)\n",
    "    \n",
    "    return dataset"
   ]
  },
  {
   "cell_type": "code",
   "execution_count": 7,
   "metadata": {
    "id": "vGj5-InSwtQQ"
   },
   "outputs": [],
   "source": [
    "# Generate the dataset windows\n",
    "dataset = windowed_dataset(x_train, window_size, batch_size, shuffle_buffer_size)"
   ]
  },
  {
   "cell_type": "markdown",
   "metadata": {
    "id": "p9-Ke8ZaGcjd"
   },
   "source": [
    "## Build the Model\n",
    "\n",
    "As mentioned, you will swap `SimpleRNN` for `LSTM` in this lab. It is also set as bidirectional below but feel free to revise later and see what results you get. LSTMs are much more complex in their internal architecture than simpleRNNs. It implements a cell state that allows it to remember sequences better than simple implementations. This added complexity results in a bigger set of parameters to train and you'll see that when you print the model summary below."
   ]
  },
  {
   "cell_type": "code",
   "execution_count": 8,
   "metadata": {
    "id": "A1Hl39rklkLm"
   },
   "outputs": [
    {
     "name": "stdout",
     "output_type": "stream",
     "text": [
      "Model: \"sequential\"\n",
      "_________________________________________________________________\n",
      " Layer (type)                Output Shape              Param #   \n",
      "=================================================================\n",
      " lambda (Lambda)             (None, 20, 1)             0         \n",
      "                                                                 \n",
      " bidirectional (Bidirectiona  (None, 20, 64)           8704      \n",
      " l)                                                              \n",
      "                                                                 \n",
      " bidirectional_1 (Bidirectio  (None, 64)               24832     \n",
      " nal)                                                            \n",
      "                                                                 \n",
      " dense (Dense)               (None, 1)                 65        \n",
      "                                                                 \n",
      " lambda_1 (Lambda)           (None, 1)                 0         \n",
      "                                                                 \n",
      "=================================================================\n",
      "Total params: 33,601\n",
      "Trainable params: 33,601\n",
      "Non-trainable params: 0\n",
      "_________________________________________________________________\n"
     ]
    }
   ],
   "source": [
    "# Build the Model\n",
    "model_tune = tf.keras.models.Sequential([\n",
    "  tf.keras.layers.Lambda(lambda x: tf.expand_dims(x, axis=-1),\n",
    "                      input_shape=[window_size]),\n",
    "    tf.keras.layers.Bidirectional(tf.keras.layers.LSTM(32, return_sequences=True)),\n",
    "  tf.keras.layers.Bidirectional(tf.keras.layers.LSTM(32)),\n",
    "  tf.keras.layers.Dense(1),\n",
    "  tf.keras.layers.Lambda(lambda x: x * 100.0)\n",
    "])\n",
    "\n",
    "# Print the model summary\n",
    "model_tune.summary()"
   ]
  },
  {
   "cell_type": "markdown",
   "metadata": {
    "id": "FHaFblbwq0GV"
   },
   "source": [
    "## Tune the Learning Rate\n",
    "\n",
    "As usual, you will pick a learning rate by running the tuning code below."
   ]
  },
  {
   "cell_type": "code",
   "execution_count": 9,
   "metadata": {
    "id": "qE7al18qw48G"
   },
   "outputs": [
    {
     "name": "stdout",
     "output_type": "stream",
     "text": [
      "Epoch 1/100\n",
      "31/31 [==============================] - 8s 59ms/step - loss: 20.8625 - lr: 1.0000e-08\n",
      "Epoch 2/100\n",
      "31/31 [==============================] - 1s 21ms/step - loss: 20.7431 - lr: 1.1220e-08\n",
      "Epoch 3/100\n",
      "31/31 [==============================] - 1s 20ms/step - loss: 20.5984 - lr: 1.2589e-08\n",
      "Epoch 4/100\n",
      "31/31 [==============================] - 1s 20ms/step - loss: 20.4385 - lr: 1.4125e-08\n",
      "Epoch 5/100\n",
      "31/31 [==============================] - 1s 20ms/step - loss: 20.2645 - lr: 1.5849e-08\n",
      "Epoch 6/100\n",
      "31/31 [==============================] - 1s 20ms/step - loss: 20.0762 - lr: 1.7783e-08\n",
      "Epoch 7/100\n",
      "31/31 [==============================] - 1s 20ms/step - loss: 19.8715 - lr: 1.9953e-08\n",
      "Epoch 8/100\n",
      "31/31 [==============================] - 1s 20ms/step - loss: 19.6469 - lr: 2.2387e-08\n",
      "Epoch 9/100\n",
      "31/31 [==============================] - 1s 20ms/step - loss: 19.4069 - lr: 2.5119e-08\n",
      "Epoch 10/100\n",
      "31/31 [==============================] - 1s 20ms/step - loss: 19.1458 - lr: 2.8184e-08\n",
      "Epoch 11/100\n",
      "31/31 [==============================] - 1s 20ms/step - loss: 18.8780 - lr: 3.1623e-08\n",
      "Epoch 12/100\n",
      "31/31 [==============================] - 1s 20ms/step - loss: 18.5912 - lr: 3.5481e-08\n",
      "Epoch 13/100\n",
      "31/31 [==============================] - 1s 19ms/step - loss: 18.3005 - lr: 3.9811e-08\n",
      "Epoch 14/100\n",
      "31/31 [==============================] - 1s 20ms/step - loss: 18.0017 - lr: 4.4668e-08\n",
      "Epoch 15/100\n",
      "31/31 [==============================] - 1s 20ms/step - loss: 17.7045 - lr: 5.0119e-08\n",
      "Epoch 16/100\n",
      "31/31 [==============================] - 1s 19ms/step - loss: 17.4230 - lr: 5.6234e-08\n",
      "Epoch 17/100\n",
      "31/31 [==============================] - 1s 20ms/step - loss: 17.1462 - lr: 6.3096e-08\n",
      "Epoch 18/100\n",
      "31/31 [==============================] - 1s 19ms/step - loss: 16.8735 - lr: 7.0795e-08\n",
      "Epoch 19/100\n",
      "31/31 [==============================] - 1s 20ms/step - loss: 16.5896 - lr: 7.9433e-08\n",
      "Epoch 20/100\n",
      "31/31 [==============================] - 1s 19ms/step - loss: 16.2969 - lr: 8.9125e-08\n",
      "Epoch 21/100\n",
      "31/31 [==============================] - 1s 20ms/step - loss: 15.9932 - lr: 1.0000e-07\n",
      "Epoch 22/100\n",
      "31/31 [==============================] - 1s 20ms/step - loss: 15.6663 - lr: 1.1220e-07\n",
      "Epoch 23/100\n",
      "31/31 [==============================] - 1s 20ms/step - loss: 15.3028 - lr: 1.2589e-07\n",
      "Epoch 24/100\n",
      "31/31 [==============================] - 1s 20ms/step - loss: 14.8953 - lr: 1.4125e-07\n",
      "Epoch 25/100\n",
      "31/31 [==============================] - 1s 20ms/step - loss: 14.4528 - lr: 1.5849e-07\n",
      "Epoch 26/100\n",
      "31/31 [==============================] - 1s 19ms/step - loss: 13.9276 - lr: 1.7783e-07\n",
      "Epoch 27/100\n",
      "31/31 [==============================] - 1s 20ms/step - loss: 13.3483 - lr: 1.9953e-07\n",
      "Epoch 28/100\n",
      "31/31 [==============================] - 1s 19ms/step - loss: 12.7168 - lr: 2.2387e-07\n",
      "Epoch 29/100\n",
      "31/31 [==============================] - 1s 20ms/step - loss: 12.0126 - lr: 2.5119e-07\n",
      "Epoch 30/100\n",
      "31/31 [==============================] - 1s 19ms/step - loss: 11.2575 - lr: 2.8184e-07\n",
      "Epoch 31/100\n",
      "31/31 [==============================] - 1s 19ms/step - loss: 10.4324 - lr: 3.1623e-07\n",
      "Epoch 32/100\n",
      "31/31 [==============================] - 1s 20ms/step - loss: 9.6074 - lr: 3.5481e-07\n",
      "Epoch 33/100\n",
      "31/31 [==============================] - 1s 20ms/step - loss: 8.9255 - lr: 3.9811e-07\n",
      "Epoch 34/100\n",
      "31/31 [==============================] - 1s 20ms/step - loss: 8.3835 - lr: 4.4668e-07\n",
      "Epoch 35/100\n",
      "31/31 [==============================] - 1s 20ms/step - loss: 7.9959 - lr: 5.0119e-07\n",
      "Epoch 36/100\n",
      "31/31 [==============================] - 1s 20ms/step - loss: 7.7464 - lr: 5.6234e-07\n",
      "Epoch 37/100\n",
      "31/31 [==============================] - 1s 20ms/step - loss: 7.5855 - lr: 6.3096e-07\n",
      "Epoch 38/100\n",
      "31/31 [==============================] - 1s 20ms/step - loss: 7.4794 - lr: 7.0795e-07\n",
      "Epoch 39/100\n",
      "31/31 [==============================] - 1s 20ms/step - loss: 7.3787 - lr: 7.9433e-07\n",
      "Epoch 40/100\n",
      "31/31 [==============================] - 1s 20ms/step - loss: 7.2601 - lr: 8.9125e-07\n",
      "Epoch 41/100\n",
      "31/31 [==============================] - 1s 20ms/step - loss: 7.1786 - lr: 1.0000e-06\n",
      "Epoch 42/100\n",
      "31/31 [==============================] - 1s 19ms/step - loss: 7.0776 - lr: 1.1220e-06\n",
      "Epoch 43/100\n",
      "31/31 [==============================] - 1s 20ms/step - loss: 6.9926 - lr: 1.2589e-06\n",
      "Epoch 44/100\n",
      "31/31 [==============================] - 1s 20ms/step - loss: 6.8943 - lr: 1.4125e-06\n",
      "Epoch 45/100\n",
      "31/31 [==============================] - 1s 21ms/step - loss: 6.8269 - lr: 1.5849e-06\n",
      "Epoch 46/100\n",
      "31/31 [==============================] - 1s 22ms/step - loss: 6.7342 - lr: 1.7783e-06\n",
      "Epoch 47/100\n",
      "31/31 [==============================] - 1s 20ms/step - loss: 6.6197 - lr: 1.9953e-06\n",
      "Epoch 48/100\n",
      "31/31 [==============================] - 1s 20ms/step - loss: 6.6116 - lr: 2.2387e-06\n",
      "Epoch 49/100\n",
      "31/31 [==============================] - 1s 20ms/step - loss: 6.4710 - lr: 2.5119e-06\n",
      "Epoch 50/100\n",
      "31/31 [==============================] - 1s 20ms/step - loss: 6.3803 - lr: 2.8184e-06\n",
      "Epoch 51/100\n",
      "31/31 [==============================] - 1s 20ms/step - loss: 6.1956 - lr: 3.1623e-06\n",
      "Epoch 52/100\n",
      "31/31 [==============================] - 1s 19ms/step - loss: 6.1294 - lr: 3.5481e-06\n",
      "Epoch 53/100\n",
      "31/31 [==============================] - 1s 20ms/step - loss: 5.9875 - lr: 3.9811e-06\n",
      "Epoch 54/100\n",
      "31/31 [==============================] - 1s 21ms/step - loss: 5.7686 - lr: 4.4668e-06\n",
      "Epoch 55/100\n",
      "31/31 [==============================] - 1s 19ms/step - loss: 5.6970 - lr: 5.0119e-06\n",
      "Epoch 56/100\n",
      "31/31 [==============================] - 1s 20ms/step - loss: 5.4719 - lr: 5.6234e-06\n",
      "Epoch 57/100\n",
      "31/31 [==============================] - 1s 19ms/step - loss: 5.4847 - lr: 6.3096e-06\n",
      "Epoch 58/100\n",
      "31/31 [==============================] - 1s 20ms/step - loss: 5.3558 - lr: 7.0795e-06\n",
      "Epoch 59/100\n",
      "31/31 [==============================] - 1s 20ms/step - loss: 5.3391 - lr: 7.9433e-06\n",
      "Epoch 60/100\n",
      "31/31 [==============================] - 1s 20ms/step - loss: 5.2084 - lr: 8.9125e-06\n",
      "Epoch 61/100\n",
      "31/31 [==============================] - 1s 20ms/step - loss: 5.2022 - lr: 1.0000e-05\n",
      "Epoch 62/100\n",
      "31/31 [==============================] - 1s 20ms/step - loss: 5.2287 - lr: 1.1220e-05\n",
      "Epoch 63/100\n",
      "31/31 [==============================] - 1s 20ms/step - loss: 5.1778 - lr: 1.2589e-05\n",
      "Epoch 64/100\n",
      "31/31 [==============================] - 1s 20ms/step - loss: 5.1673 - lr: 1.4125e-05\n",
      "Epoch 65/100\n",
      "31/31 [==============================] - 1s 20ms/step - loss: 5.0261 - lr: 1.5849e-05\n",
      "Epoch 66/100\n",
      "31/31 [==============================] - 1s 19ms/step - loss: 5.6904 - lr: 1.7783e-05\n",
      "Epoch 67/100\n",
      "31/31 [==============================] - 1s 20ms/step - loss: 5.5145 - lr: 1.9953e-05\n",
      "Epoch 68/100\n",
      "31/31 [==============================] - 1s 20ms/step - loss: 6.0230 - lr: 2.2387e-05\n",
      "Epoch 69/100\n",
      "31/31 [==============================] - 1s 20ms/step - loss: 5.1088 - lr: 2.5119e-05\n",
      "Epoch 70/100\n",
      "31/31 [==============================] - 1s 20ms/step - loss: 4.9110 - lr: 2.8184e-05\n",
      "Epoch 71/100\n",
      "31/31 [==============================] - 1s 20ms/step - loss: 5.4788 - lr: 3.1623e-05\n",
      "Epoch 72/100\n",
      "31/31 [==============================] - 1s 21ms/step - loss: 5.0472 - lr: 3.5481e-05\n",
      "Epoch 73/100\n",
      "31/31 [==============================] - 1s 20ms/step - loss: 4.9574 - lr: 3.9811e-05\n",
      "Epoch 74/100\n",
      "31/31 [==============================] - 1s 20ms/step - loss: 5.5139 - lr: 4.4668e-05\n",
      "Epoch 75/100\n",
      "31/31 [==============================] - 1s 20ms/step - loss: 5.0303 - lr: 5.0119e-05\n",
      "Epoch 76/100\n",
      "31/31 [==============================] - 1s 20ms/step - loss: 5.1535 - lr: 5.6234e-05\n",
      "Epoch 77/100\n",
      "31/31 [==============================] - 1s 20ms/step - loss: 5.9858 - lr: 6.3096e-05\n",
      "Epoch 78/100\n",
      "31/31 [==============================] - 1s 20ms/step - loss: 6.6972 - lr: 7.0795e-05\n",
      "Epoch 79/100\n",
      "31/31 [==============================] - 1s 20ms/step - loss: 7.6430 - lr: 7.9433e-05\n",
      "Epoch 80/100\n",
      "31/31 [==============================] - 1s 20ms/step - loss: 8.3971 - lr: 8.9125e-05\n",
      "Epoch 81/100\n",
      "31/31 [==============================] - 1s 20ms/step - loss: 5.5445 - lr: 1.0000e-04\n",
      "Epoch 82/100\n",
      "31/31 [==============================] - 1s 20ms/step - loss: 6.9413 - lr: 1.1220e-04\n",
      "Epoch 83/100\n"
     ]
    },
    {
     "name": "stdout",
     "output_type": "stream",
     "text": [
      "31/31 [==============================] - 1s 20ms/step - loss: 7.6722 - lr: 1.2589e-04\n",
      "Epoch 84/100\n",
      "31/31 [==============================] - 1s 20ms/step - loss: 5.4274 - lr: 1.4125e-04\n",
      "Epoch 85/100\n",
      "31/31 [==============================] - 1s 20ms/step - loss: 6.9350 - lr: 1.5849e-04\n",
      "Epoch 86/100\n",
      "31/31 [==============================] - 1s 20ms/step - loss: 8.9317 - lr: 1.7783e-04\n",
      "Epoch 87/100\n",
      "31/31 [==============================] - 1s 20ms/step - loss: 6.4949 - lr: 1.9953e-04\n",
      "Epoch 88/100\n",
      "31/31 [==============================] - 1s 20ms/step - loss: 7.1310 - lr: 2.2387e-04\n",
      "Epoch 89/100\n",
      "31/31 [==============================] - 1s 20ms/step - loss: 7.3957 - lr: 2.5119e-04\n",
      "Epoch 90/100\n",
      "31/31 [==============================] - 1s 20ms/step - loss: 5.9142 - lr: 2.8184e-04\n",
      "Epoch 91/100\n",
      "31/31 [==============================] - 1s 20ms/step - loss: 7.6830 - lr: 3.1623e-04\n",
      "Epoch 92/100\n",
      "31/31 [==============================] - 1s 20ms/step - loss: 5.9945 - lr: 3.5481e-04\n",
      "Epoch 93/100\n",
      "31/31 [==============================] - 1s 20ms/step - loss: 8.7523 - lr: 3.9811e-04\n",
      "Epoch 94/100\n",
      "31/31 [==============================] - 1s 19ms/step - loss: 8.9742 - lr: 4.4668e-04\n",
      "Epoch 95/100\n",
      "31/31 [==============================] - 1s 20ms/step - loss: 8.2328 - lr: 5.0119e-04\n",
      "Epoch 96/100\n",
      "31/31 [==============================] - 1s 20ms/step - loss: 7.5107 - lr: 5.6234e-04\n",
      "Epoch 97/100\n",
      "31/31 [==============================] - 1s 20ms/step - loss: 7.9534 - lr: 6.3096e-04\n",
      "Epoch 98/100\n",
      "31/31 [==============================] - 1s 20ms/step - loss: 10.1750 - lr: 7.0795e-04\n",
      "Epoch 99/100\n",
      "31/31 [==============================] - 1s 20ms/step - loss: 11.4822 - lr: 7.9433e-04\n",
      "Epoch 100/100\n",
      "31/31 [==============================] - 1s 20ms/step - loss: 13.2848 - lr: 8.9125e-04\n"
     ]
    }
   ],
   "source": [
    "# Set the learning rate scheduler\n",
    "lr_schedule = tf.keras.callbacks.LearningRateScheduler(\n",
    "    lambda epoch: 1e-8 * 10**(epoch / 20))\n",
    "\n",
    "# Initialize the optimizer\n",
    "optimizer = tf.keras.optimizers.SGD(momentum=0.9)\n",
    "\n",
    "# Set the training parameters\n",
    "model_tune.compile(loss=tf.keras.losses.Huber(), optimizer=optimizer)\n",
    "\n",
    "# Train the model\n",
    "history = model_tune.fit(dataset, epochs=100, callbacks=[lr_schedule])"
   ]
  },
  {
   "cell_type": "code",
   "execution_count": 10,
   "metadata": {
    "id": "AkBsrsXMzoWR"
   },
   "outputs": [
    {
     "data": {
      "text/plain": [
       "(1e-08, 0.001, 0.0, 30.0)"
      ]
     },
     "execution_count": 10,
     "metadata": {},
     "output_type": "execute_result"
    },
    {
     "data": {
      "image/png": "[encoded data removed]",
      "text/plain": [
       "<Figure size 1000x600 with 1 Axes>"
      ]
     },
     "metadata": {},
     "output_type": "display_data"
    }
   ],
   "source": [
    "# Define the learning rate array\n",
    "lrs = 1e-8 * (10 ** (np.arange(100) / 20))\n",
    "\n",
    "# Set the figure size\n",
    "plt.figure(figsize=(10, 6))\n",
    "\n",
    "# Set the grid\n",
    "plt.grid(True)\n",
    "\n",
    "# Plot the loss in log scale\n",
    "plt.semilogx(lrs, history.history[\"loss\"])\n",
    "\n",
    "# Increase the tickmarks size\n",
    "plt.tick_params('both', length=10, width=1, which='both')\n",
    "\n",
    "# Set the plot boundaries\n",
    "plt.axis([1e-8, 1e-3, 0, 30])"
   ]
  },
  {
   "cell_type": "markdown",
   "metadata": {
    "id": "i-lKNp4pq_w8"
   },
   "source": [
    "## Train the Model\n",
    "\n",
    "You can then proceed to train the model with your chosen learning rate. \n",
    "\n",
    "*Tip: When experimenting and you find yourself running different iterations of a model, you may want to use the [`clear_session()`](https://www.tensorflow.org/api_docs/python/tf/keras/backend/clear_session) method to declutter memory used by Keras. This is added in the first line below.*\n"
   ]
  },
  {
   "cell_type": "code",
   "execution_count": 24,
   "metadata": {
    "id": "4uh-97bpLZCA"
   },
   "outputs": [
    {
     "name": "stdout",
     "output_type": "stream",
     "text": [
      "Epoch 1/100\n",
      "31/31 [==============================] - 10s 39ms/step - loss: 16.5182 - mae: 17.0107\n",
      "Epoch 2/100\n",
      "31/31 [==============================] - 1s 42ms/step - loss: 6.9868 - mae: 7.4681\n",
      "Epoch 3/100\n",
      "31/31 [==============================] - 1s 42ms/step - loss: 5.9522 - mae: 6.4328\n",
      "Epoch 4/100\n",
      "31/31 [==============================] - 1s 41ms/step - loss: 5.4073 - mae: 5.8788\n",
      "Epoch 5/100\n",
      "31/31 [==============================] - 1s 40ms/step - loss: 5.8989 - mae: 6.3824\n",
      "Epoch 6/100\n",
      "31/31 [==============================] - 1s 40ms/step - loss: 5.1517 - mae: 5.6304\n",
      "Epoch 7/100\n",
      "31/31 [==============================] - 1s 41ms/step - loss: 5.3374 - mae: 5.8170\n",
      "Epoch 8/100\n",
      "31/31 [==============================] - 1s 41ms/step - loss: 5.2818 - mae: 5.7588\n",
      "Epoch 9/100\n",
      "31/31 [==============================] - 1s 41ms/step - loss: 4.8722 - mae: 5.3486\n",
      "Epoch 10/100\n",
      "31/31 [==============================] - 1s 41ms/step - loss: 5.2802 - mae: 5.7601\n",
      "Epoch 11/100\n",
      "31/31 [==============================] - 1s 40ms/step - loss: 5.2777 - mae: 5.7592\n",
      "Epoch 12/100\n",
      "31/31 [==============================] - 1s 41ms/step - loss: 5.1905 - mae: 5.6712\n",
      "Epoch 13/100\n",
      "31/31 [==============================] - 1s 39ms/step - loss: 5.7274 - mae: 6.2055\n",
      "Epoch 14/100\n",
      "31/31 [==============================] - 1s 40ms/step - loss: 4.8816 - mae: 5.3640\n",
      "Epoch 15/100\n",
      "31/31 [==============================] - 1s 40ms/step - loss: 5.8964 - mae: 6.3795\n",
      "Epoch 16/100\n",
      "31/31 [==============================] - 1s 40ms/step - loss: 4.7798 - mae: 5.2610\n",
      "Epoch 17/100\n",
      "31/31 [==============================] - 1s 40ms/step - loss: 5.2580 - mae: 5.7382\n",
      "Epoch 18/100\n",
      "31/31 [==============================] - 1s 40ms/step - loss: 4.8211 - mae: 5.2996\n",
      "Epoch 19/100\n",
      "31/31 [==============================] - 1s 41ms/step - loss: 4.6729 - mae: 5.1511\n",
      "Epoch 20/100\n",
      "31/31 [==============================] - 1s 40ms/step - loss: 4.8941 - mae: 5.3761\n",
      "Epoch 21/100\n",
      "31/31 [==============================] - 1s 40ms/step - loss: 4.9820 - mae: 5.4609\n",
      "Epoch 22/100\n",
      "31/31 [==============================] - 1s 41ms/step - loss: 5.1103 - mae: 5.5905\n",
      "Epoch 23/100\n",
      "31/31 [==============================] - 1s 40ms/step - loss: 4.6173 - mae: 5.0928\n",
      "Epoch 24/100\n",
      "31/31 [==============================] - 1s 40ms/step - loss: 4.8586 - mae: 5.3362\n",
      "Epoch 25/100\n",
      "31/31 [==============================] - 1s 39ms/step - loss: 4.6989 - mae: 5.1755\n",
      "Epoch 26/100\n",
      "31/31 [==============================] - 1s 40ms/step - loss: 4.7664 - mae: 5.2442\n",
      "Epoch 27/100\n",
      "31/31 [==============================] - 1s 40ms/step - loss: 5.0312 - mae: 5.5114\n",
      "Epoch 28/100\n",
      "31/31 [==============================] - 1s 40ms/step - loss: 4.9489 - mae: 5.4282\n",
      "Epoch 29/100\n",
      "31/31 [==============================] - 1s 41ms/step - loss: 4.7341 - mae: 5.2096\n",
      "Epoch 30/100\n",
      "31/31 [==============================] - 1s 40ms/step - loss: 4.6252 - mae: 5.1055\n",
      "Epoch 31/100\n",
      "31/31 [==============================] - 1s 40ms/step - loss: 4.8288 - mae: 5.3058\n",
      "Epoch 32/100\n",
      "31/31 [==============================] - 1s 40ms/step - loss: 4.7839 - mae: 5.2539\n",
      "Epoch 33/100\n",
      "31/31 [==============================] - 1s 41ms/step - loss: 4.6327 - mae: 5.1149\n",
      "Epoch 34/100\n",
      "31/31 [==============================] - 1s 39ms/step - loss: 4.4794 - mae: 4.9524\n",
      "Epoch 35/100\n",
      "31/31 [==============================] - 1s 40ms/step - loss: 4.9559 - mae: 5.4357\n",
      "Epoch 36/100\n",
      "31/31 [==============================] - 1s 40ms/step - loss: 4.9045 - mae: 5.3857\n",
      "Epoch 37/100\n",
      "31/31 [==============================] - 1s 41ms/step - loss: 4.6336 - mae: 5.1155\n",
      "Epoch 38/100\n",
      "31/31 [==============================] - 1s 40ms/step - loss: 5.0913 - mae: 5.5702\n",
      "Epoch 39/100\n",
      "31/31 [==============================] - 1s 40ms/step - loss: 4.5914 - mae: 5.0672\n",
      "Epoch 40/100\n",
      "31/31 [==============================] - 1s 41ms/step - loss: 4.5425 - mae: 5.0227\n",
      "Epoch 41/100\n",
      "31/31 [==============================] - 1s 40ms/step - loss: 4.5693 - mae: 5.0483\n",
      "Epoch 42/100\n",
      "31/31 [==============================] - 1s 40ms/step - loss: 4.5661 - mae: 5.0397\n",
      "Epoch 43/100\n",
      "31/31 [==============================] - 1s 40ms/step - loss: 5.0682 - mae: 5.5459\n",
      "Epoch 44/100\n",
      "31/31 [==============================] - 1s 40ms/step - loss: 4.7689 - mae: 5.2466\n",
      "Epoch 45/100\n",
      "31/31 [==============================] - 1s 39ms/step - loss: 4.5636 - mae: 5.0383\n",
      "Epoch 46/100\n",
      "31/31 [==============================] - 1s 40ms/step - loss: 4.3912 - mae: 4.8650\n",
      "Epoch 47/100\n",
      "31/31 [==============================] - 1s 40ms/step - loss: 4.4424 - mae: 4.9177\n",
      "Epoch 48/100\n",
      "31/31 [==============================] - 1s 40ms/step - loss: 4.5469 - mae: 5.0272\n",
      "Epoch 49/100\n",
      "31/31 [==============================] - 1s 40ms/step - loss: 4.5010 - mae: 4.9786\n",
      "Epoch 50/100\n",
      "31/31 [==============================] - 1s 40ms/step - loss: 4.4236 - mae: 4.8977\n",
      "Epoch 51/100\n",
      "31/31 [==============================] - 1s 40ms/step - loss: 4.4928 - mae: 4.9695\n",
      "Epoch 52/100\n",
      "31/31 [==============================] - 1s 39ms/step - loss: 4.8048 - mae: 5.2846\n",
      "Epoch 53/100\n",
      "31/31 [==============================] - 1s 40ms/step - loss: 4.8004 - mae: 5.2775\n",
      "Epoch 54/100\n",
      "31/31 [==============================] - 1s 40ms/step - loss: 4.5346 - mae: 5.0134\n",
      "Epoch 55/100\n",
      "31/31 [==============================] - 1s 40ms/step - loss: 4.8362 - mae: 5.3153\n",
      "Epoch 56/100\n",
      "31/31 [==============================] - 1s 40ms/step - loss: 4.8751 - mae: 5.3505\n",
      "Epoch 57/100\n",
      "31/31 [==============================] - 1s 39ms/step - loss: 4.7285 - mae: 5.2085\n",
      "Epoch 58/100\n",
      "31/31 [==============================] - 1s 41ms/step - loss: 4.5702 - mae: 5.0503\n",
      "Epoch 59/100\n",
      "31/31 [==============================] - 1s 39ms/step - loss: 4.5559 - mae: 5.0375\n",
      "Epoch 60/100\n",
      "31/31 [==============================] - 1s 40ms/step - loss: 4.6235 - mae: 5.1011\n",
      "Epoch 61/100\n",
      "31/31 [==============================] - 1s 40ms/step - loss: 4.3920 - mae: 4.8673\n",
      "Epoch 62/100\n",
      "31/31 [==============================] - 1s 40ms/step - loss: 4.4874 - mae: 4.9643\n",
      "Epoch 63/100\n",
      "31/31 [==============================] - 1s 40ms/step - loss: 4.8264 - mae: 5.3071\n",
      "Epoch 64/100\n",
      "31/31 [==============================] - 1s 40ms/step - loss: 4.4866 - mae: 4.9629\n",
      "Epoch 65/100\n",
      "31/31 [==============================] - 1s 42ms/step - loss: 4.4755 - mae: 4.9486\n",
      "Epoch 66/100\n",
      "31/31 [==============================] - 1s 41ms/step - loss: 4.4158 - mae: 4.8946\n",
      "Epoch 67/100\n",
      "31/31 [==============================] - 1s 40ms/step - loss: 4.5531 - mae: 5.0293\n",
      "Epoch 68/100\n",
      "31/31 [==============================] - 1s 42ms/step - loss: 4.5929 - mae: 5.0676\n",
      "Epoch 69/100\n",
      "31/31 [==============================] - 1s 41ms/step - loss: 4.4050 - mae: 4.8800\n",
      "Epoch 70/100\n",
      "31/31 [==============================] - 1s 41ms/step - loss: 4.4662 - mae: 4.9400\n",
      "Epoch 71/100\n",
      "31/31 [==============================] - 1s 40ms/step - loss: 4.4174 - mae: 4.8947\n",
      "Epoch 72/100\n",
      "31/31 [==============================] - 1s 41ms/step - loss: 4.5052 - mae: 4.9779\n",
      "Epoch 73/100\n",
      "31/31 [==============================] - 1s 39ms/step - loss: 4.6782 - mae: 5.1593\n",
      "Epoch 74/100\n",
      "31/31 [==============================] - 1s 41ms/step - loss: 4.6780 - mae: 5.1524\n",
      "Epoch 75/100\n",
      "31/31 [==============================] - 1s 41ms/step - loss: 4.4177 - mae: 4.8991\n",
      "Epoch 76/100\n",
      "31/31 [==============================] - 1s 40ms/step - loss: 4.4973 - mae: 4.9711\n",
      "Epoch 77/100\n",
      "31/31 [==============================] - 1s 40ms/step - loss: 4.4520 - mae: 4.9298\n",
      "Epoch 78/100\n",
      "31/31 [==============================] - 1s 42ms/step - loss: 4.6557 - mae: 5.1350\n",
      "Epoch 79/100\n",
      "31/31 [==============================] - 1s 41ms/step - loss: 4.4951 - mae: 4.9689\n",
      "Epoch 80/100\n",
      "31/31 [==============================] - 1s 40ms/step - loss: 4.9055 - mae: 5.3829\n",
      "Epoch 81/100\n",
      "31/31 [==============================] - 1s 40ms/step - loss: 4.3797 - mae: 4.8589\n",
      "Epoch 82/100\n",
      "31/31 [==============================] - 1s 40ms/step - loss: 4.3782 - mae: 4.8522\n",
      "Epoch 83/100\n",
      "31/31 [==============================] - 1s 40ms/step - loss: 4.6815 - mae: 5.1626\n",
      "Epoch 84/100\n",
      "31/31 [==============================] - 1s 40ms/step - loss: 4.3326 - mae: 4.8072\n",
      "Epoch 85/100\n",
      "31/31 [==============================] - 1s 40ms/step - loss: 4.4347 - mae: 4.9081\n",
      "Epoch 86/100\n"
     ]
    },
    {
     "name": "stdout",
     "output_type": "stream",
     "text": [
      "31/31 [==============================] - 1s 42ms/step - loss: 4.3189 - mae: 4.7926\n",
      "Epoch 87/100\n",
      "31/31 [==============================] - 1s 40ms/step - loss: 4.6426 - mae: 5.1163\n",
      "Epoch 88/100\n",
      "31/31 [==============================] - 1s 40ms/step - loss: 4.6143 - mae: 5.0971\n",
      "Epoch 89/100\n",
      "31/31 [==============================] - 1s 40ms/step - loss: 4.3816 - mae: 4.8595\n",
      "Epoch 90/100\n",
      "31/31 [==============================] - 1s 40ms/step - loss: 4.5684 - mae: 5.0480\n",
      "Epoch 91/100\n",
      "31/31 [==============================] - 1s 40ms/step - loss: 4.4492 - mae: 4.9275\n",
      "Epoch 92/100\n",
      "31/31 [==============================] - 1s 40ms/step - loss: 4.3894 - mae: 4.8655\n",
      "Epoch 93/100\n",
      "31/31 [==============================] - 1s 41ms/step - loss: 4.3788 - mae: 4.8547\n",
      "Epoch 94/100\n",
      "31/31 [==============================] - 1s 40ms/step - loss: 4.4057 - mae: 4.8796\n",
      "Epoch 95/100\n",
      "31/31 [==============================] - 1s 40ms/step - loss: 4.3767 - mae: 4.8506\n",
      "Epoch 96/100\n",
      "31/31 [==============================] - 1s 40ms/step - loss: 4.5508 - mae: 5.0271\n",
      "Epoch 97/100\n",
      "31/31 [==============================] - 1s 40ms/step - loss: 4.5401 - mae: 5.0136\n",
      "Epoch 98/100\n",
      "31/31 [==============================] - 1s 40ms/step - loss: 4.3441 - mae: 4.8181\n",
      "Epoch 99/100\n",
      "31/31 [==============================] - 1s 40ms/step - loss: 4.4502 - mae: 4.9246\n",
      "Epoch 100/100\n",
      "31/31 [==============================] - 1s 40ms/step - loss: 4.4901 - mae: 4.9678\n"
     ]
    }
   ],
   "source": [
    "# Reset states generated by Keras\n",
    "tf.keras.backend.clear_session()\n",
    "\n",
    "# Build the model\n",
    "model = tf.keras.models.Sequential([\n",
    "    tf.keras.layers.Lambda(lambda x: tf.expand_dims(x, axis=-1),input_shape=[None]),\n",
    "    tf.keras.layers.Bidirectional(tf.keras.layers.LSTM(64, return_sequences=True)),\n",
    "    tf.keras.layers.Bidirectional(tf.keras.layers.LSTM(64, return_sequences=True)),\n",
    "    tf.keras.layers.Bidirectional(tf.keras.layers.LSTM(32)),\n",
    "    tf.keras.layers.Dense(1),\n",
    "    tf.keras.layers.Lambda(lambda x: x * 100.0)\n",
    "])\n",
    "\n",
    "# Set the learning rate\n",
    "learning_rate = 2e-5\n",
    "\n",
    "# Set the optimizer \n",
    "optimizer = tf.keras.optimizers.SGD(learning_rate=learning_rate, momentum=0.9)\n",
    "\n",
    "# Set the training parameters\n",
    "model.compile(loss=tf.keras.losses.Huber(),\n",
    "              optimizer=optimizer,\n",
    "              metrics=[\"mae\"])\n",
    "\n",
    "# Train the model\n",
    "history = model.fit(dataset,epochs=100)\n"
   ]
  },
  {
   "cell_type": "markdown",
   "metadata": {
    "id": "RjP4kbGiI7cw"
   },
   "source": [
    "## Model Prediction\n",
    "\n",
    "You will then generate batches of windows to generate predictions that align with the validation set."
   ]
  },
  {
   "cell_type": "code",
   "execution_count": 25,
   "metadata": {
    "id": "QO8cfKwKBBG6"
   },
   "outputs": [],
   "source": [
    "def model_forecast(model, series, window_size, batch_size):\n",
    "    \"\"\"Uses an input model to generate predictions on data windows\n",
    "\n",
    "    Args:\n",
    "      model (TF Keras Model) - model that accepts data windows\n",
    "      series (array of float) - contains the values of the time series\n",
    "      window_size (int) - the number of time steps to include in the window\n",
    "      batch_size (int) - the batch size\n",
    "\n",
    "    Returns:\n",
    "      forecast (numpy array) - array containing predictions\n",
    "    \"\"\"\n",
    "\n",
    "    # Generate a TF Dataset from the series values\n",
    "    dataset = tf.data.Dataset.from_tensor_slices(series)\n",
    "\n",
    "    # Window the data but only take those with the specified size\n",
    "    dataset = dataset.window(window_size, shift=1, drop_remainder=True)\n",
    "\n",
    "    # Flatten the windows by putting its elements in a single batch\n",
    "    dataset = dataset.flat_map(lambda w: w.batch(window_size))\n",
    "    \n",
    "    # Create batches of windows\n",
    "    dataset = dataset.batch(batch_size).prefetch(1)\n",
    "    \n",
    "    # Get predictions on the entire dataset\n",
    "    forecast = model.predict(dataset)\n",
    "    \n",
    "    return forecast"
   ]
  },
  {
   "cell_type": "code",
   "execution_count": 26,
   "metadata": {
    "id": "_plB3UseBD8o"
   },
   "outputs": [
    {
     "name": "stdout",
     "output_type": "stream",
     "text": [
      "15/15 [==============================] - 2s 24ms/step\n"
     ]
    },
    {
     "data": {
      "image/png": "[encoded data removed]",
      "text/plain": [
       "<Figure size 1000x600 with 1 Axes>"
      ]
     },
     "metadata": {},
     "output_type": "display_data"
    }
   ],
   "source": [
    "# Reduce the original series\n",
    "forecast_series = series[split_time-window_size:-1]\n",
    "\n",
    "# Use helper function to generate predictions\n",
    "forecast = model_forecast(model, forecast_series, window_size, batch_size)\n",
    "\n",
    "# Drop single dimensional axis\n",
    "results = forecast.squeeze()\n",
    "\n",
    "# Plot the results\n",
    "plot_series(time_valid, (x_valid, results))"
   ]
  },
  {
   "cell_type": "markdown",
   "metadata": {
    "id": "Nn8iSQkZtaRC"
   },
   "source": [
    "You can then generate the metrics to evaluate the model's performance."
   ]
  },
  {
   "cell_type": "code",
   "execution_count": 27,
   "metadata": {
    "id": "-IKhueZaBGID"
   },
   "outputs": [
    {
     "name": "stdout",
     "output_type": "stream",
     "text": [
      "63.007095\n",
      "5.7268066\n"
     ]
    }
   ],
   "source": [
    "# Compute the MSE and MAE\n",
    "print(tf.keras.metrics.mean_squared_error(x_valid, results).numpy())\n",
    "print(tf.keras.metrics.mean_absolute_error(x_valid, results).numpy())"
   ]
  },
  {
   "cell_type": "markdown",
   "metadata": {
    "id": "bzPIqeMWvbPy"
   },
   "source": [
    "## Wrap Up\n",
    "\n",
    "This concludes this short exercise on using LSTMs for time series forecasting. Next week, you will build upon this and add convolutions. Then, you will start to move away from synthetic data and use real-world datasets. See you there!"
   ]
  },
  {
   "cell_type": "markdown",
   "metadata": {
    "id": "U5PqTePGHeMH"
   },
   "source": [
    "## Optional: Including a Validation Set while Training\n",
    "\n",
    "Back in the first course of this specialization, you saw how you can also monitor the performance of your model against a validation set while training. You can also do that for this lab. \n",
    "\n",
    "First, you need to generate a `val_set` which are data windows and labels that your model can accept. You can simply reuse the `windowed_dataset` function for that and you can pass in the `x_valid` points to generate the windows."
   ]
  },
  {
   "cell_type": "code",
   "execution_count": 15,
   "metadata": {
    "id": "kvFVwL3PC4iX"
   },
   "outputs": [],
   "source": [
    "# Generate data windows of the validation set\n",
    "val_set = windowed_dataset(x_valid, window_size, batch_size, shuffle_buffer_size)"
   ]
  },
  {
   "cell_type": "markdown",
   "metadata": {
    "id": "p68j6XxEvP9K"
   },
   "source": [
    "You can then do the same training as before but pass in the `val_set` to the `validation_data` parameter of the `fit()` method."
   ]
  },
  {
   "cell_type": "code",
   "execution_count": 16,
   "metadata": {
    "id": "wujKz6tXDSn0"
   },
   "outputs": [
    {
     "name": "stdout",
     "output_type": "stream",
     "text": [
      "Epoch 1/100\n",
      "31/31 [==============================] - 8s 70ms/step - loss: 24.4204 - mae: 24.9143 - val_loss: 22.8683 - val_mae: 23.3682\n",
      "Epoch 2/100\n",
      "31/31 [==============================] - 1s 25ms/step - loss: 14.3967 - mae: 14.8912 - val_loss: 19.6388 - val_mae: 20.1361\n",
      "Epoch 3/100\n",
      "31/31 [==============================] - 1s 25ms/step - loss: 10.1833 - mae: 10.6704 - val_loss: 16.8788 - val_mae: 17.3755\n",
      "Epoch 4/100\n",
      "31/31 [==============================] - 1s 25ms/step - loss: 7.8888 - mae: 8.3710 - val_loss: 13.1184 - val_mae: 13.6145\n",
      "Epoch 5/100\n",
      "31/31 [==============================] - 1s 26ms/step - loss: 7.0363 - mae: 7.5170 - val_loss: 11.8080 - val_mae: 12.3005\n",
      "Epoch 6/100\n",
      "31/31 [==============================] - 1s 28ms/step - loss: 6.6946 - mae: 7.1784 - val_loss: 10.9108 - val_mae: 11.4032\n",
      "Epoch 7/100\n",
      "31/31 [==============================] - 1s 27ms/step - loss: 6.5349 - mae: 7.0150 - val_loss: 10.7632 - val_mae: 11.2582\n",
      "Epoch 8/100\n",
      "31/31 [==============================] - 1s 27ms/step - loss: 6.3445 - mae: 6.8260 - val_loss: 9.7886 - val_mae: 10.2768\n",
      "Epoch 9/100\n",
      "31/31 [==============================] - 1s 26ms/step - loss: 6.2571 - mae: 6.7403 - val_loss: 9.0418 - val_mae: 9.5276\n",
      "Epoch 10/100\n",
      "31/31 [==============================] - 1s 27ms/step - loss: 6.1606 - mae: 6.6434 - val_loss: 9.7417 - val_mae: 10.2299\n",
      "Epoch 11/100\n",
      "31/31 [==============================] - 1s 27ms/step - loss: 5.9583 - mae: 6.4387 - val_loss: 8.9938 - val_mae: 9.4796\n",
      "Epoch 12/100\n",
      "31/31 [==============================] - 1s 27ms/step - loss: 5.8275 - mae: 6.3104 - val_loss: 9.2645 - val_mae: 9.7506\n",
      "Epoch 13/100\n",
      "31/31 [==============================] - 1s 26ms/step - loss: 5.7366 - mae: 6.2130 - val_loss: 10.1262 - val_mae: 10.6185\n",
      "Epoch 14/100\n",
      "31/31 [==============================] - 1s 27ms/step - loss: 5.7087 - mae: 6.1872 - val_loss: 8.2139 - val_mae: 8.7020\n",
      "Epoch 15/100\n",
      "31/31 [==============================] - 1s 28ms/step - loss: 5.5745 - mae: 6.0530 - val_loss: 9.9281 - val_mae: 10.4200\n",
      "Epoch 16/100\n",
      "31/31 [==============================] - 1s 27ms/step - loss: 5.5378 - mae: 6.0171 - val_loss: 9.3071 - val_mae: 9.7989\n",
      "Epoch 17/100\n",
      "31/31 [==============================] - 1s 27ms/step - loss: 5.4174 - mae: 5.8987 - val_loss: 7.7455 - val_mae: 8.2329\n",
      "Epoch 18/100\n",
      "31/31 [==============================] - 1s 26ms/step - loss: 5.3611 - mae: 5.8415 - val_loss: 8.4458 - val_mae: 8.9308\n",
      "Epoch 19/100\n",
      "31/31 [==============================] - 1s 27ms/step - loss: 5.2824 - mae: 5.7638 - val_loss: 8.6773 - val_mae: 9.1648\n",
      "Epoch 20/100\n",
      "31/31 [==============================] - 1s 26ms/step - loss: 5.2202 - mae: 5.6960 - val_loss: 8.3859 - val_mae: 8.8723\n",
      "Epoch 21/100\n",
      "31/31 [==============================] - 1s 27ms/step - loss: 5.1851 - mae: 5.6626 - val_loss: 8.1586 - val_mae: 8.6452\n",
      "Epoch 22/100\n",
      "31/31 [==============================] - 1s 26ms/step - loss: 5.2248 - mae: 5.7020 - val_loss: 8.7482 - val_mae: 9.2383\n",
      "Epoch 23/100\n",
      "31/31 [==============================] - 1s 26ms/step - loss: 5.2167 - mae: 5.6929 - val_loss: 8.2712 - val_mae: 8.7589\n",
      "Epoch 24/100\n",
      "31/31 [==============================] - 1s 26ms/step - loss: 5.0655 - mae: 5.5406 - val_loss: 7.2786 - val_mae: 7.7623\n",
      "Epoch 25/100\n",
      "31/31 [==============================] - 1s 27ms/step - loss: 5.2168 - mae: 5.6955 - val_loss: 8.0435 - val_mae: 8.5299\n",
      "Epoch 26/100\n",
      "31/31 [==============================] - 1s 26ms/step - loss: 5.0807 - mae: 5.5579 - val_loss: 7.5203 - val_mae: 8.0042\n",
      "Epoch 27/100\n",
      "31/31 [==============================] - 1s 27ms/step - loss: 4.9716 - mae: 5.4499 - val_loss: 6.9020 - val_mae: 7.3865\n",
      "Epoch 28/100\n",
      "31/31 [==============================] - 1s 28ms/step - loss: 4.9993 - mae: 5.4785 - val_loss: 7.6722 - val_mae: 8.1572\n",
      "Epoch 29/100\n",
      "31/31 [==============================] - 1s 27ms/step - loss: 5.0417 - mae: 5.5234 - val_loss: 9.4960 - val_mae: 9.9872\n",
      "Epoch 30/100\n",
      "31/31 [==============================] - 1s 28ms/step - loss: 4.9785 - mae: 5.4585 - val_loss: 7.6445 - val_mae: 8.1291\n",
      "Epoch 31/100\n",
      "31/31 [==============================] - 1s 27ms/step - loss: 4.8524 - mae: 5.3317 - val_loss: 7.5640 - val_mae: 8.0480\n",
      "Epoch 32/100\n",
      "31/31 [==============================] - 1s 25ms/step - loss: 4.8262 - mae: 5.3066 - val_loss: 6.4955 - val_mae: 6.9772\n",
      "Epoch 33/100\n",
      "31/31 [==============================] - 1s 27ms/step - loss: 4.8483 - mae: 5.3264 - val_loss: 8.2581 - val_mae: 8.7453\n",
      "Epoch 34/100\n",
      "31/31 [==============================] - 1s 27ms/step - loss: 4.8645 - mae: 5.3403 - val_loss: 6.8979 - val_mae: 7.3792\n",
      "Epoch 35/100\n",
      "31/31 [==============================] - 1s 26ms/step - loss: 4.8147 - mae: 5.2954 - val_loss: 6.2419 - val_mae: 6.7257\n",
      "Epoch 36/100\n",
      "31/31 [==============================] - 1s 28ms/step - loss: 4.8363 - mae: 5.3176 - val_loss: 7.3681 - val_mae: 7.8506\n",
      "Epoch 37/100\n",
      "31/31 [==============================] - 1s 26ms/step - loss: 4.7860 - mae: 5.2649 - val_loss: 7.0903 - val_mae: 7.5734\n",
      "Epoch 38/100\n",
      "31/31 [==============================] - 1s 27ms/step - loss: 4.7178 - mae: 5.1978 - val_loss: 6.8836 - val_mae: 7.3664\n",
      "Epoch 39/100\n",
      "31/31 [==============================] - 1s 26ms/step - loss: 4.7330 - mae: 5.2095 - val_loss: 7.9659 - val_mae: 8.4538\n",
      "Epoch 40/100\n",
      "31/31 [==============================] - 1s 27ms/step - loss: 4.7405 - mae: 5.2160 - val_loss: 7.5850 - val_mae: 8.0727\n",
      "Epoch 41/100\n",
      "31/31 [==============================] - 1s 27ms/step - loss: 4.6933 - mae: 5.1688 - val_loss: 7.7589 - val_mae: 8.2472\n",
      "Epoch 42/100\n",
      "31/31 [==============================] - 1s 26ms/step - loss: 4.8237 - mae: 5.3021 - val_loss: 6.1426 - val_mae: 6.6225\n",
      "Epoch 43/100\n",
      "31/31 [==============================] - 1s 28ms/step - loss: 4.7323 - mae: 5.2085 - val_loss: 6.4467 - val_mae: 6.9270\n",
      "Epoch 44/100\n",
      "31/31 [==============================] - 1s 27ms/step - loss: 4.7322 - mae: 5.2084 - val_loss: 6.4104 - val_mae: 6.8904\n",
      "Epoch 45/100\n",
      "31/31 [==============================] - 1s 27ms/step - loss: 4.7245 - mae: 5.1975 - val_loss: 6.1585 - val_mae: 6.6404\n",
      "Epoch 46/100\n",
      "31/31 [==============================] - 1s 27ms/step - loss: 4.6942 - mae: 5.1708 - val_loss: 5.9665 - val_mae: 6.4497\n",
      "Epoch 47/100\n",
      "31/31 [==============================] - 1s 26ms/step - loss: 4.6361 - mae: 5.1119 - val_loss: 7.0174 - val_mae: 7.4959\n",
      "Epoch 48/100\n",
      "31/31 [==============================] - 1s 26ms/step - loss: 4.6306 - mae: 5.1042 - val_loss: 7.6505 - val_mae: 8.1414\n",
      "Epoch 49/100\n",
      "31/31 [==============================] - 1s 28ms/step - loss: 4.5833 - mae: 5.0622 - val_loss: 6.7161 - val_mae: 7.1975\n",
      "Epoch 50/100\n",
      "31/31 [==============================] - 1s 28ms/step - loss: 4.6504 - mae: 5.1281 - val_loss: 6.7365 - val_mae: 7.2160\n",
      "Epoch 51/100\n",
      "31/31 [==============================] - 1s 26ms/step - loss: 4.7890 - mae: 5.2662 - val_loss: 6.2821 - val_mae: 6.7619\n",
      "Epoch 52/100\n",
      "31/31 [==============================] - 1s 27ms/step - loss: 4.6826 - mae: 5.1579 - val_loss: 6.1861 - val_mae: 6.6655\n",
      "Epoch 53/100\n",
      "31/31 [==============================] - 1s 27ms/step - loss: 4.6263 - mae: 5.1028 - val_loss: 5.7073 - val_mae: 6.1907\n",
      "Epoch 54/100\n",
      "31/31 [==============================] - 1s 28ms/step - loss: 4.6761 - mae: 5.1533 - val_loss: 6.4214 - val_mae: 6.9044\n",
      "Epoch 55/100\n",
      "31/31 [==============================] - 1s 27ms/step - loss: 4.7095 - mae: 5.1847 - val_loss: 5.8390 - val_mae: 6.3233\n",
      "Epoch 56/100\n",
      "31/31 [==============================] - 1s 27ms/step - loss: 4.6934 - mae: 5.1638 - val_loss: 6.1487 - val_mae: 6.6279\n",
      "Epoch 57/100\n",
      "31/31 [==============================] - 1s 27ms/step - loss: 4.5648 - mae: 5.0431 - val_loss: 5.9720 - val_mae: 6.4532\n",
      "Epoch 58/100\n",
      "31/31 [==============================] - 1s 27ms/step - loss: 4.5665 - mae: 5.0437 - val_loss: 6.3476 - val_mae: 6.8285\n",
      "Epoch 59/100\n",
      "31/31 [==============================] - 1s 25ms/step - loss: 4.6512 - mae: 5.1290 - val_loss: 6.8915 - val_mae: 7.3704\n",
      "Epoch 60/100\n",
      "31/31 [==============================] - 1s 28ms/step - loss: 4.5956 - mae: 5.0672 - val_loss: 6.8524 - val_mae: 7.3306\n",
      "Epoch 61/100\n",
      "31/31 [==============================] - 1s 26ms/step - loss: 4.5772 - mae: 5.0550 - val_loss: 7.4682 - val_mae: 7.9593\n",
      "Epoch 62/100\n"
     ]
    },
    {
     "name": "stdout",
     "output_type": "stream",
     "text": [
      "31/31 [==============================] - 1s 27ms/step - loss: 4.6405 - mae: 5.1175 - val_loss: 6.7544 - val_mae: 7.2322\n",
      "Epoch 63/100\n",
      "31/31 [==============================] - 1s 26ms/step - loss: 4.5925 - mae: 5.0666 - val_loss: 5.4902 - val_mae: 5.9735\n",
      "Epoch 64/100\n",
      "31/31 [==============================] - 1s 27ms/step - loss: 4.7375 - mae: 5.2127 - val_loss: 7.6448 - val_mae: 8.1360\n",
      "Epoch 65/100\n",
      "31/31 [==============================] - 1s 27ms/step - loss: 4.5634 - mae: 5.0399 - val_loss: 6.4724 - val_mae: 6.9514\n",
      "Epoch 66/100\n",
      "31/31 [==============================] - 1s 27ms/step - loss: 4.5710 - mae: 5.0492 - val_loss: 6.4958 - val_mae: 6.9743\n",
      "Epoch 67/100\n",
      "31/31 [==============================] - 1s 28ms/step - loss: 4.5766 - mae: 5.0542 - val_loss: 6.0403 - val_mae: 6.5192\n",
      "Epoch 68/100\n",
      "31/31 [==============================] - 1s 27ms/step - loss: 4.5210 - mae: 4.9959 - val_loss: 6.1748 - val_mae: 6.6544\n",
      "Epoch 69/100\n",
      "31/31 [==============================] - 1s 26ms/step - loss: 4.5175 - mae: 4.9928 - val_loss: 5.7518 - val_mae: 6.2356\n",
      "Epoch 70/100\n",
      "31/31 [==============================] - 1s 27ms/step - loss: 4.5217 - mae: 4.9939 - val_loss: 5.5703 - val_mae: 6.0538\n",
      "Epoch 71/100\n",
      "31/31 [==============================] - 1s 27ms/step - loss: 4.6230 - mae: 5.0955 - val_loss: 5.6774 - val_mae: 6.1635\n",
      "Epoch 72/100\n",
      "31/31 [==============================] - 1s 27ms/step - loss: 4.5439 - mae: 5.0183 - val_loss: 5.8768 - val_mae: 6.3584\n",
      "Epoch 73/100\n",
      "31/31 [==============================] - 1s 26ms/step - loss: 4.5231 - mae: 5.0001 - val_loss: 7.2124 - val_mae: 7.7010\n",
      "Epoch 74/100\n",
      "31/31 [==============================] - 1s 26ms/step - loss: 4.6729 - mae: 5.1507 - val_loss: 5.6163 - val_mae: 6.1025\n",
      "Epoch 75/100\n",
      "31/31 [==============================] - 1s 27ms/step - loss: 4.6288 - mae: 5.1068 - val_loss: 6.1842 - val_mae: 6.6629\n",
      "Epoch 76/100\n",
      "31/31 [==============================] - 1s 26ms/step - loss: 4.5682 - mae: 5.0471 - val_loss: 5.3930 - val_mae: 5.8758\n",
      "Epoch 77/100\n",
      "31/31 [==============================] - 1s 26ms/step - loss: 4.5756 - mae: 5.0533 - val_loss: 5.7786 - val_mae: 6.2632\n",
      "Epoch 78/100\n",
      "31/31 [==============================] - 1s 28ms/step - loss: 4.5742 - mae: 5.0510 - val_loss: 5.5630 - val_mae: 6.0490\n",
      "Epoch 79/100\n",
      "31/31 [==============================] - 1s 27ms/step - loss: 4.6244 - mae: 5.0964 - val_loss: 5.9271 - val_mae: 6.4034\n",
      "Epoch 80/100\n",
      "31/31 [==============================] - 1s 27ms/step - loss: 4.5270 - mae: 5.0011 - val_loss: 5.6680 - val_mae: 6.1539\n",
      "Epoch 81/100\n",
      "31/31 [==============================] - 1s 26ms/step - loss: 4.4394 - mae: 4.9153 - val_loss: 5.5442 - val_mae: 6.0301\n",
      "Epoch 82/100\n",
      "31/31 [==============================] - 1s 26ms/step - loss: 4.6670 - mae: 5.1431 - val_loss: 5.3697 - val_mae: 5.8522\n",
      "Epoch 83/100\n",
      "31/31 [==============================] - 1s 27ms/step - loss: 4.7167 - mae: 5.1939 - val_loss: 5.3966 - val_mae: 5.8787\n",
      "Epoch 84/100\n",
      "31/31 [==============================] - 1s 26ms/step - loss: 4.6381 - mae: 5.1155 - val_loss: 5.9164 - val_mae: 6.3929\n",
      "Epoch 85/100\n",
      "31/31 [==============================] - 1s 27ms/step - loss: 4.6001 - mae: 5.0772 - val_loss: 5.6700 - val_mae: 6.1567\n",
      "Epoch 86/100\n",
      "31/31 [==============================] - 1s 26ms/step - loss: 4.4844 - mae: 4.9603 - val_loss: 5.6898 - val_mae: 6.1762\n",
      "Epoch 87/100\n",
      "31/31 [==============================] - 1s 27ms/step - loss: 4.4520 - mae: 4.9288 - val_loss: 6.0444 - val_mae: 6.5196\n",
      "Epoch 88/100\n",
      "31/31 [==============================] - 1s 27ms/step - loss: 4.4769 - mae: 4.9536 - val_loss: 5.8140 - val_mae: 6.2933\n",
      "Epoch 89/100\n",
      "31/31 [==============================] - 1s 28ms/step - loss: 4.4586 - mae: 4.9347 - val_loss: 5.8994 - val_mae: 6.3735\n",
      "Epoch 90/100\n",
      "31/31 [==============================] - 1s 27ms/step - loss: 4.4558 - mae: 4.9322 - val_loss: 6.3027 - val_mae: 6.7812\n",
      "Epoch 91/100\n",
      "31/31 [==============================] - 1s 26ms/step - loss: 4.4470 - mae: 4.9194 - val_loss: 5.4435 - val_mae: 5.9258\n",
      "Epoch 92/100\n",
      "31/31 [==============================] - 1s 27ms/step - loss: 4.4865 - mae: 4.9658 - val_loss: 6.0971 - val_mae: 6.5747\n",
      "Epoch 93/100\n",
      "31/31 [==============================] - 1s 27ms/step - loss: 4.4616 - mae: 4.9345 - val_loss: 5.4188 - val_mae: 5.9008\n",
      "Epoch 94/100\n",
      "31/31 [==============================] - 1s 27ms/step - loss: 4.5530 - mae: 5.0312 - val_loss: 5.5519 - val_mae: 6.0406\n",
      "Epoch 95/100\n",
      "31/31 [==============================] - 1s 27ms/step - loss: 4.5377 - mae: 5.0116 - val_loss: 5.2184 - val_mae: 5.6957\n",
      "Epoch 96/100\n",
      "31/31 [==============================] - 1s 27ms/step - loss: 4.5701 - mae: 5.0457 - val_loss: 5.3868 - val_mae: 5.8672\n",
      "Epoch 97/100\n",
      "31/31 [==============================] - 1s 26ms/step - loss: 4.5469 - mae: 5.0245 - val_loss: 5.8004 - val_mae: 6.2766\n",
      "Epoch 98/100\n",
      "31/31 [==============================] - 1s 27ms/step - loss: 4.4978 - mae: 4.9747 - val_loss: 6.1879 - val_mae: 6.6660\n",
      "Epoch 99/100\n",
      "31/31 [==============================] - 1s 27ms/step - loss: 4.4688 - mae: 4.9463 - val_loss: 5.4761 - val_mae: 5.9643\n",
      "Epoch 100/100\n",
      "31/31 [==============================] - 1s 27ms/step - loss: 4.4336 - mae: 4.9082 - val_loss: 5.5023 - val_mae: 5.9902\n"
     ]
    }
   ],
   "source": [
    "# Reset states generated by Keras\n",
    "tf.keras.backend.clear_session()\n",
    "\n",
    "# Build the model\n",
    "model = tf.keras.models.Sequential([\n",
    "  tf.keras.layers.Lambda(lambda x: tf.expand_dims(x, axis=-1),\n",
    "                      input_shape=[None]),\n",
    "   tf.keras.layers.Bidirectional(tf.keras.layers.LSTM(32, return_sequences=True)),\n",
    "  tf.keras.layers.Bidirectional(tf.keras.layers.LSTM(32)),\n",
    "  tf.keras.layers.Dense(1),\n",
    "  tf.keras.layers.Lambda(lambda x: x * 100.0)\n",
    "])\n",
    "\n",
    "# Set the learning rate\n",
    "learning_rate = 2e-6\n",
    "\n",
    "# Set the optimizer \n",
    "optimizer = tf.keras.optimizers.SGD(learning_rate=learning_rate, momentum=0.9)\n",
    "\n",
    "# Set the training parameters\n",
    "model.compile(loss=tf.keras.losses.Huber(),\n",
    "              optimizer=optimizer,\n",
    "              metrics=[\"mae\"])\n",
    "\n",
    "# Train the model\n",
    "history = model.fit(dataset,epochs=100, validation_data=val_set)"
   ]
  }
 ],
 "metadata": {
  "accelerator": "GPU",
  "colab": {
   "name": "C4_W3_Lab_2_LSTM.ipynb",
   "private_outputs": true,
   "provenance": []
  },
  "kernelspec": {
   "display_name": "Python 3 (ipykernel)",
   "language": "python",
   "name": "python3"
  },
  "language_info": {
   "codemirror_mode": {
    "name": "ipython",
    "version": 3
   },
   "file_extension": ".py",
   "mimetype": "text/x-python",
   "name": "python",
   "nbconvert_exporter": "python",
   "pygments_lexer": "ipython3",
   "version": "3.10.9"
  }
 },
 "nbformat": 4,
 "nbformat_minor": 1
}
